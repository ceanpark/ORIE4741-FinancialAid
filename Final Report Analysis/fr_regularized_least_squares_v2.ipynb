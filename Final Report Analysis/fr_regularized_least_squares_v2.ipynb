{
 "cells": [
  {
   "cell_type": "code",
   "execution_count": 1,
   "metadata": {
    "collapsed": false
   },
   "outputs": [
    {
     "name": "stderr",
     "output_type": "stream",
     "text": [
      "WARNING: Method definition ==(Base.Nullable{S}, Base.Nullable{T}) in module Base at nullable.jl:238 overwritten in module NullableArrays at /Users/tiffanyshih/.julia/v0.6/NullableArrays/src/operators.jl:99.\n"
     ]
    }
   ],
   "source": [
    "using DataFrames, CSV\n",
    "using ScikitLearn"
   ]
  },
  {
   "cell_type": "code",
   "execution_count": 2,
   "metadata": {
    "collapsed": false
   },
   "outputs": [
    {
     "data": {
      "text/plain": [
       "prox_l1 (generic function with 4 methods)"
      ]
     },
     "execution_count": 2,
     "metadata": {},
     "output_type": "execute_result"
    }
   ],
   "source": [
    "function prox_l1(x::Number, alpha=1)\n",
    "    if x > alpha\n",
    "        return x-alpha\n",
    "    elseif x < -alpha\n",
    "        return x + alpha\n",
    "    else\n",
    "        return 0\n",
    "    end\n",
    "end\n",
    "function prox_l1(x::AbstractArray, alpha=1)\n",
    "    return reshape(Float64[prox_l1(xi, alpha) for xi in x], size(x))\n",
    "end"
   ]
  },
  {
   "cell_type": "code",
   "execution_count": 3,
   "metadata": {
    "collapsed": false
   },
   "outputs": [
    {
     "data": {
      "text/plain": [
       "proxgrad_quad_l1 (generic function with 1 method)"
      ]
     },
     "execution_count": 3,
     "metadata": {},
     "output_type": "execute_result"
    }
   ],
   "source": [
    "# proximal gradient method for quadratic loss and l1 regularizer\n",
    "function proxgrad_quad_l1(X, y; maxiters = 10, stepsize = 1/(2*norm(X))^2, λ = 1, w = zeros(size(X,2)))\n",
    "    objval = Float64[]\n",
    "    for i=1:maxiters\n",
    "        # gradient step\n",
    "        g = 2X'*(X*w-y) # compute quadratic gradient\n",
    "        w = w - stepsize*g\n",
    "        # prox step\n",
    "        w = prox_l1(w, stepsize*λ)\n",
    "        # record objective value\n",
    "        push!(objval, norm(X*w-y)^2 + norm(w,1))\n",
    "    end\n",
    "    return w, objval\n",
    "end"
   ]
  },
  {
   "cell_type": "code",
   "execution_count": 33,
   "metadata": {
    "collapsed": false
   },
   "outputs": [
    {
     "data": {
      "text/plain": [
       "stoch_proxgrad_quad_l1 (generic function with 1 method)"
      ]
     },
     "execution_count": 33,
     "metadata": {},
     "output_type": "execute_result"
    }
   ],
   "source": [
    "function stoch_proxgrad_quad_l1(X, y; maxiters = 50, stepsize = 1/(2*norm(X))^2, λ = 1, w = zeros(size(X,2)))\n",
    "    objval = Float64[]\n",
    "    n = size(X,1)\n",
    "    for i=1:maxiters\n",
    "        # pick random example r\n",
    "        r = rand(1:n)\n",
    "        x_r = X[r,:]\n",
    "        # stochastic gradient step\n",
    "        g = n*(y[r] - dot(w,x_r))*x_r\n",
    "        w = w + stepsize*g\n",
    "        # prox step\n",
    "        w = prox_l1(w, stepsize*λ)\n",
    "        # record objective value\n",
    "        push!(objval, norm(X*w-y)^2 + norm(w,1))\n",
    "    end\n",
    "    return w, objval\n",
    "end"
   ]
  },
  {
   "cell_type": "code",
   "execution_count": 103,
   "metadata": {
    "collapsed": false
   },
   "outputs": [],
   "source": [
    "tap_train_2003 = readtable(\"TAP_train_2003.csv\");"
   ]
  },
  {
   "cell_type": "code",
   "execution_count": 6,
   "metadata": {
    "collapsed": false
   },
   "outputs": [
    {
     "data": {
      "text/plain": [
       "(11472, 43)"
      ]
     },
     "execution_count": 6,
     "metadata": {},
     "output_type": "execute_result"
    }
   ],
   "source": [
    "size(tap_train_2003)"
   ]
  },
  {
   "cell_type": "code",
   "execution_count": 68,
   "metadata": {
    "collapsed": false,
    "scrolled": true
   },
   "outputs": [
    {
     "data": {
      "text/plain": [
       "proxgrad_const (generic function with 1 method)"
      ]
     },
     "execution_count": 68,
     "metadata": {},
     "output_type": "execute_result"
    }
   ],
   "source": [
    "include(\"proxgrad.jl\")"
   ]
  },
  {
   "cell_type": "code",
   "execution_count": 24,
   "metadata": {
    "collapsed": true
   },
   "outputs": [],
   "source": [
    "X_train_2003 = convert(Array,tap_train_2003[:,1:42]);\n",
    "y_train_2003 = convert(Array,tap_train_2003[:,43]);"
   ]
  },
  {
   "cell_type": "code",
   "execution_count": 34,
   "metadata": {
    "collapsed": false
   },
   "outputs": [
    {
     "data": {
      "text/plain": [
       "([0.0297965, 1.47415e-5, 9.16169e-6, 4.6069e-6, 1.48759e-5, 7.74754e-6, 6.11552e-6, 8.784e-7, 1.34464e-7, 0.0  …  0.0, 0.0, 4.60257e-7, 3.93528e-7, 6.24842e-7, 0.0, 6.8665e-8, 6.57987e-8, 0.032389, 1.48759e-5], [7.12259e10, 7.10987e10, 6.91522e10, 6.69155e10, 6.64525e10, 6.58401e10, 6.69533e10, 7.23357e10, 6.58551e10, 6.60293e10  …  6.56055e10, 6.66775e10, 6.528e10, 6.50904e10, 6.51506e10, 6.49111e10, 6.47758e10, 6.47712e10, 6.5428e10, 6.53167e10])"
      ]
     },
     "execution_count": 34,
     "metadata": {},
     "output_type": "execute_result"
    }
   ],
   "source": [
    "w_2003, obj_2003 = stoch_proxgrad_quad_l1(X_train_2003,y_train_2003; maxiters = 50, stepsize = 1/(2*norm(X_train_2003))^2, λ = 0.01)"
   ]
  },
  {
   "cell_type": "code",
   "execution_count": 35,
   "metadata": {
    "collapsed": false
   },
   "outputs": [
    {
     "data": {
      "text/plain": [
       "([0.0245134, 1.24118e-5, 6.87991e-6, 3.18859e-6, 1.22383e-5, 5.93685e-6, 5.46484e-6, 1.01013e-6, -1.73471e-7, 0.0  …  0.0, 0.0, 5.043e-7, 1.52171e-6, 6.83699e-7, 0.0, -1.73471e-7, 0.0, 0.0240212, 1.22383e-5], [6.97061e10, 6.65976e10, 6.62738e10, 6.6271e10, 6.64176e10, 6.82753e10, 6.93988e10, 7.58668e10, 7.92181e10, 8.09342e10  …  6.5074e10, 6.50088e10, 7.07768e10, 6.91705e10, 6.73775e10, 6.70092e10, 6.49834e10, 6.54514e10, 6.81345e10, 6.4864e10])"
      ]
     },
     "execution_count": 35,
     "metadata": {},
     "output_type": "execute_result"
    }
   ],
   "source": [
    "w_2003, obj_2003 = stoch_proxgrad_quad_l1(X_train_2003,y_train_2003; maxiters = 50, stepsize = 1/(2*norm(X_train_2003))^2, λ = 0.001)"
   ]
  },
  {
   "cell_type": "code",
   "execution_count": 36,
   "metadata": {
    "collapsed": false
   },
   "outputs": [
    {
     "data": {
      "text/plain": [
       "([0.0242578, 1.20486e-5, 8.31809e-6, 3.8976e-6, 1.21108e-5, 3.78681e-6, 5.61412e-6, 2.64763e-6, 6.21891e-8, 0.0  …  0.0, 0.0, 4.95518e-7, 0.0, 9.41174e-7, 0.0, 6.07928e-8, 1.39579e-9, 0.0231332, 1.21108e-5], [7.54908e10, 6.92059e10, 6.92007e10, 6.75197e10, 7.02518e10, 7.10666e10, 7.01742e10, 6.75017e10, 6.62158e10, 7.42147e10  …  6.9901e10, 6.59763e10, 6.8138e10, 6.634e10, 6.62657e10, 6.52961e10, 6.52921e10, 6.52644e10, 6.67388e10, 6.49147e10])"
      ]
     },
     "execution_count": 36,
     "metadata": {},
     "output_type": "execute_result"
    }
   ],
   "source": [
    "w_2003, obj_2003 = stoch_proxgrad_quad_l1(X_train_2003,y_train_2003; maxiters = 50, stepsize = 1/(2*norm(X_train_2003))^2, λ = 1)"
   ]
  },
  {
   "cell_type": "code",
   "execution_count": 37,
   "metadata": {
    "collapsed": false
   },
   "outputs": [
    {
     "data": {
      "text/plain": [
       "([0.0618806, 3.10811e-5, 1.69061e-5, 1.07516e-5, 3.0894e-5, 1.3894e-5, 1.02212e-5, 6.91355e-6, -1.8718e-7, 5.23658e-8  …  0.0, 0.0, 1.44248e-7, 6.43545e-7, 8.14932e-7, 0.0, -1.73371e-7, -1.3809e-8, 0.0212742, 3.0894e-5], [7.35051e10, 7.14422e10, 7.09595e10, 6.80842e10, 7.16974e10, 6.6989e10, 6.68629e10, 6.83453e10, 6.82116e10, 6.64373e10  …  6.61441e10, 6.64963e10, 6.65205e10, 6.63016e10, 6.26018e10, 6.25605e10, 6.2882e10, 6.36647e10, 6.33469e10, 6.25659e10])"
      ]
     },
     "execution_count": 37,
     "metadata": {},
     "output_type": "execute_result"
    }
   ],
   "source": [
    "w_2003, obj_2003 = stoch_proxgrad_quad_l1(X_train_2003,y_train_2003; maxiters = 100, stepsize = 1/(2*norm(X_train_2003))^2, λ = 1)"
   ]
  },
  {
   "cell_type": "code",
   "execution_count": 38,
   "metadata": {
    "collapsed": false,
    "scrolled": true
   },
   "outputs": [
    {
     "data": {
      "text/plain": [
       "([0.114385, 5.72045e-5, 3.26279e-5, 1.94647e-5, 5.7086e-5, 2.94289e-5, 2.1683e-5, 6.07298e-6, -9.77223e-8, 1.9671e-8  …  2.15718e-9, 1.24522e-8, 1.18683e-6, 8.38553e-7, 5.4722e-6, 3.63719e-9, -1.4036e-7, 4.26371e-8, 0.021078, 5.71068e-5], [6.86066e10, 6.67769e10, 6.62632e10, 6.60786e10, 6.59763e10, 6.58947e10, 6.58183e10, 6.57433e10, 6.56687e10, 6.55943e10  …  5.99015e10, 5.98351e10, 5.97688e10, 5.97027e10, 5.96366e10, 5.95706e10, 5.95047e10, 5.94389e10, 5.93732e10, 5.93076e10])"
      ]
     },
     "execution_count": 38,
     "metadata": {},
     "output_type": "execute_result"
    }
   ],
   "source": [
    "w_2003, obj_2003 = proxgrad_quad_l1(X_train_2003,y_train_2003; maxiters = 100, stepsize = 1/(2*norm(X_train_2003))^2, λ = 1)"
   ]
  },
  {
   "cell_type": "code",
   "execution_count": 39,
   "metadata": {
    "collapsed": true
   },
   "outputs": [],
   "source": [
    "tap_test_2003 = readtable(\"TAP_test_2003.csv\");"
   ]
  },
  {
   "cell_type": "code",
   "execution_count": 40,
   "metadata": {
    "collapsed": false
   },
   "outputs": [
    {
     "data": {
      "text/plain": [
       "(2868, 43)"
      ]
     },
     "execution_count": 40,
     "metadata": {},
     "output_type": "execute_result"
    }
   ],
   "source": [
    "size(tap_test_2003)"
   ]
  },
  {
   "cell_type": "code",
   "execution_count": 41,
   "metadata": {
    "collapsed": true
   },
   "outputs": [],
   "source": [
    "X_test_2003 = convert(Array,tap_test_2003[:,1:42]);\n",
    "y_test_2003 = convert(Array,tap_test_2003[:,43]);"
   ]
  },
  {
   "cell_type": "code",
   "execution_count": 42,
   "metadata": {
    "collapsed": false
   },
   "outputs": [
    {
     "data": {
      "text/plain": [
       "mean_abs_err (generic function with 1 method)"
      ]
     },
     "execution_count": 42,
     "metadata": {},
     "output_type": "execute_result"
    }
   ],
   "source": [
    "function mean_abs_err(X,y,w)\n",
    "    n = size(X,1)\n",
    "    sum = 0\n",
    "    for i=1:n\n",
    "        sum += abs(y[i] - X[i,:]'*w)\n",
    "    end\n",
    "    return (sum+0.0)/n\n",
    "end"
   ]
  },
  {
   "cell_type": "code",
   "execution_count": 43,
   "metadata": {
    "collapsed": false
   },
   "outputs": [
    {
     "data": {
      "text/plain": [
       "mean_abs_percent (generic function with 1 method)"
      ]
     },
     "execution_count": 43,
     "metadata": {},
     "output_type": "execute_result"
    }
   ],
   "source": [
    "function mean_abs_percent(X,y,w)\n",
    "    n = size(X,1)\n",
    "    sum = 0\n",
    "    for i=1:n\n",
    "        sum += abs((y[i] - X[i,:]'*w)/y[i])\n",
    "    end\n",
    "    return 100*(sum+0.0)/n\n",
    "end"
   ]
  },
  {
   "cell_type": "code",
   "execution_count": 44,
   "metadata": {
    "collapsed": false
   },
   "outputs": [
    {
     "data": {
      "text/plain": [
       "1860.1030663101305"
      ]
     },
     "execution_count": 44,
     "metadata": {},
     "output_type": "execute_result"
    }
   ],
   "source": [
    "MAE_train_2003 = mean_abs_err(X_train_2003, y_train_2003, w_2003)"
   ]
  },
  {
   "cell_type": "code",
   "execution_count": 45,
   "metadata": {
    "collapsed": false
   },
   "outputs": [
    {
     "data": {
      "text/plain": [
       "1861.2317889695496"
      ]
     },
     "execution_count": 45,
     "metadata": {},
     "output_type": "execute_result"
    }
   ],
   "source": [
    "MAE_test_2003 = mean_abs_err(X_test_2003, y_test_2003, w_2003)"
   ]
  },
  {
   "cell_type": "code",
   "execution_count": 46,
   "metadata": {
    "collapsed": false
   },
   "outputs": [
    {
     "data": {
      "text/plain": [
       "116.10863382872678"
      ]
     },
     "execution_count": 46,
     "metadata": {},
     "output_type": "execute_result"
    }
   ],
   "source": [
    "MAPD_train_2003 = mean_abs_percent(X_train_2003, y_train_2003, w_2003)"
   ]
  },
  {
   "cell_type": "code",
   "execution_count": 47,
   "metadata": {
    "collapsed": false
   },
   "outputs": [
    {
     "data": {
      "text/plain": [
       "114.70814402690868"
      ]
     },
     "execution_count": 47,
     "metadata": {},
     "output_type": "execute_result"
    }
   ],
   "source": [
    "MAPD_test_2003 = mean_abs_percent(X_test_2003, y_test_2003, w_2003)"
   ]
  },
  {
   "cell_type": "code",
   "execution_count": 48,
   "metadata": {
    "collapsed": false
   },
   "outputs": [
    {
     "data": {
      "text/plain": [
       "15-element Array{Float64,1}:\n",
       "  0.114385  \n",
       "  5.72045e-5\n",
       "  3.26279e-5\n",
       "  1.94647e-5\n",
       "  5.7086e-5 \n",
       "  2.94289e-5\n",
       "  2.1683e-5 \n",
       "  6.07298e-6\n",
       " -9.77223e-8\n",
       "  1.9671e-8 \n",
       "  8.72725e-6\n",
       "  2.16412e-6\n",
       "  1.04802e-5\n",
       "  3.10743e-6\n",
       "  1.34571e-5"
      ]
     },
     "execution_count": 48,
     "metadata": {},
     "output_type": "execute_result"
    }
   ],
   "source": [
    "w_2003[1:15]"
   ]
  },
  {
   "cell_type": "code",
   "execution_count": 49,
   "metadata": {
    "collapsed": false
   },
   "outputs": [
    {
     "data": {
      "text/plain": [
       "15-element Array{Float64,1}:\n",
       " 1.29624e-5\n",
       " 3.27458e-6\n",
       " 2.93374e-6\n",
       " 0.0       \n",
       " 1.49123e-5\n",
       " 1.62251e-5\n",
       " 9.18323e-6\n",
       " 5.09334e-6\n",
       " 1.16929e-5\n",
       " 4.9563e-5 \n",
       " 7.54386e-6\n",
       " 0.0       \n",
       " 5.71386e-6\n",
       " 0.0       \n",
       " 1.65769e-5"
      ]
     },
     "execution_count": 49,
     "metadata": {},
     "output_type": "execute_result"
    }
   ],
   "source": [
    "w_2003[16:30]"
   ]
  },
  {
   "cell_type": "code",
   "execution_count": 50,
   "metadata": {
    "collapsed": false
   },
   "outputs": [
    {
     "data": {
      "text/plain": [
       "12-element Array{Float64,1}:\n",
       "  2.73954e-5\n",
       "  2.52613e-9\n",
       "  2.15718e-9\n",
       "  1.24522e-8\n",
       "  1.18683e-6\n",
       "  8.38553e-7\n",
       "  5.4722e-6 \n",
       "  3.63719e-9\n",
       " -1.4036e-7 \n",
       "  4.26371e-8\n",
       "  0.021078  \n",
       "  5.71068e-5"
      ]
     },
     "execution_count": 50,
     "metadata": {},
     "output_type": "execute_result"
    }
   ],
   "source": [
    "w_2003[31:42]"
   ]
  },
  {
   "cell_type": "code",
   "execution_count": 71,
   "metadata": {
    "collapsed": true
   },
   "outputs": [],
   "source": [
    "X_train_2003 = convert(Array{Float64},tap_train_2003[:,2:42]);\n",
    "y_train_2003 = convert(Array,tap_train_2003[:,43]);"
   ]
  },
  {
   "cell_type": "code",
   "execution_count": 54,
   "metadata": {
    "collapsed": false
   },
   "outputs": [
    {
     "data": {
      "text/plain": [
       "([5.92729e-5, 3.37007e-5, 2.01475e-5, 5.93153e-5, 3.05409e-5, 2.24254e-5, 6.28092e-6, 6.85507e-8, 2.56907e-8, 9.09856e-6  …  2.58536e-9, 1.61327e-8, 1.26641e-6, 8.87762e-7, 5.75569e-6, 4.47863e-9, -1.31866e-8, 8.1738e-8, 0.0260636, 5.93414e-5], [6.87378e10, 6.69974e10, 6.65622e10, 6.64535e10, 6.64263e10, 6.64195e10, 6.64178e10, 6.64173e10, 6.64172e10, 6.64172e10  …  6.64172e10, 6.64172e10, 6.64172e10, 6.64172e10, 6.64172e10, 6.64172e10, 6.64172e10, 6.64172e10, 6.64172e10, 6.64172e10])"
      ]
     },
     "execution_count": 54,
     "metadata": {},
     "output_type": "execute_result"
    }
   ],
   "source": [
    "w_2003, obj_2003 = proxgrad_quad_l1(X_train_2003,y_train_2003; maxiters = 100, stepsize = 1/(2*norm(X_train_2003))^2, λ = 1)"
   ]
  },
  {
   "cell_type": "code",
   "execution_count": 55,
   "metadata": {
    "collapsed": false
   },
   "outputs": [
    {
     "data": {
      "text/plain": [
       "15-element Array{Float64,1}:\n",
       " 5.92729e-5\n",
       " 3.37007e-5\n",
       " 2.01475e-5\n",
       " 5.93153e-5\n",
       " 3.05409e-5\n",
       " 2.24254e-5\n",
       " 6.28092e-6\n",
       " 6.85507e-8\n",
       " 2.56907e-8\n",
       " 9.09856e-6\n",
       " 2.31688e-6\n",
       " 1.09113e-5\n",
       " 3.31399e-6\n",
       " 1.39247e-5\n",
       " 1.33722e-5"
      ]
     },
     "execution_count": 55,
     "metadata": {},
     "output_type": "execute_result"
    }
   ],
   "source": [
    "w_2003[1:15]"
   ]
  },
  {
   "cell_type": "code",
   "execution_count": 56,
   "metadata": {
    "collapsed": false
   },
   "outputs": [
    {
     "data": {
      "text/plain": [
       "15-element Array{Float64,1}:\n",
       " 3.37296e-6\n",
       " 3.03086e-6\n",
       " 0.0       \n",
       " 1.54663e-5\n",
       " 1.68994e-5\n",
       " 9.5809e-6 \n",
       " 5.29609e-6\n",
       " 1.20987e-5\n",
       " 5.13454e-5\n",
       " 7.99609e-6\n",
       " 0.0       \n",
       " 5.97795e-6\n",
       " 0.0       \n",
       " 1.71873e-5\n",
       " 2.81717e-5"
      ]
     },
     "execution_count": 56,
     "metadata": {},
     "output_type": "execute_result"
    }
   ],
   "source": [
    "w_2003[16:30]"
   ]
  },
  {
   "cell_type": "code",
   "execution_count": 58,
   "metadata": {
    "collapsed": false
   },
   "outputs": [
    {
     "data": {
      "text/plain": [
       "11-element Array{Float64,1}:\n",
       "  2.95504e-9\n",
       "  2.58536e-9\n",
       "  1.61327e-8\n",
       "  1.26641e-6\n",
       "  8.87762e-7\n",
       "  5.75569e-6\n",
       "  4.47863e-9\n",
       " -1.31866e-8\n",
       "  8.1738e-8 \n",
       "  0.0260636 \n",
       "  5.93414e-5"
      ]
     },
     "execution_count": 58,
     "metadata": {},
     "output_type": "execute_result"
    }
   ],
   "source": [
    "w_2003[31:41]"
   ]
  },
  {
   "cell_type": "code",
   "execution_count": 59,
   "metadata": {
    "collapsed": true
   },
   "outputs": [],
   "source": [
    "X_test_2003 = convert(Array,tap_test_2003[:,2:42]);\n",
    "y_test_2003 = convert(Array,tap_test_2003[:,43]);"
   ]
  },
  {
   "cell_type": "code",
   "execution_count": 60,
   "metadata": {
    "collapsed": false
   },
   "outputs": [
    {
     "data": {
      "text/plain": [
       "1974.3491170697926"
      ]
     },
     "execution_count": 60,
     "metadata": {},
     "output_type": "execute_result"
    }
   ],
   "source": [
    "MAE_train_2003 = mean_abs_err(X_train_2003, y_train_2003, w_2003)"
   ]
  },
  {
   "cell_type": "code",
   "execution_count": 61,
   "metadata": {
    "collapsed": false
   },
   "outputs": [
    {
     "data": {
      "text/plain": [
       "1974.449639926477"
      ]
     },
     "execution_count": 61,
     "metadata": {},
     "output_type": "execute_result"
    }
   ],
   "source": [
    "MAE_test_2003 = mean_abs_err(X_test_2003, y_test_2003, w_2003)"
   ]
  },
  {
   "cell_type": "code",
   "execution_count": 62,
   "metadata": {
    "collapsed": false
   },
   "outputs": [
    {
     "data": {
      "text/plain": [
       "118.15248553414207"
      ]
     },
     "execution_count": 62,
     "metadata": {},
     "output_type": "execute_result"
    }
   ],
   "source": [
    "MAPD_train_2003 = mean_abs_percent(X_train_2003, y_train_2003, w_2003)"
   ]
  },
  {
   "cell_type": "code",
   "execution_count": 63,
   "metadata": {
    "collapsed": false
   },
   "outputs": [
    {
     "data": {
      "text/plain": [
       "116.71704321687065"
      ]
     },
     "execution_count": 63,
     "metadata": {},
     "output_type": "execute_result"
    }
   ],
   "source": [
    "MAPD_test_2003 = mean_abs_percent(X_test_2003, y_test_2003, w_2003)"
   ]
  },
  {
   "cell_type": "code",
   "execution_count": 107,
   "metadata": {
    "collapsed": false,
    "scrolled": false
   },
   "outputs": [
    {
     "data": {
      "text/plain": [
       "41-element Array{Float64,1}:\n",
       "  0.00126258 \n",
       "  0.000719136\n",
       "  0.000426993\n",
       "  0.00126335 \n",
       "  0.000650938\n",
       "  0.000476557\n",
       "  0.000134607\n",
       "  1.33022e-6 \n",
       "  4.79239e-7 \n",
       "  0.000193954\n",
       "  4.90608e-5 \n",
       "  0.000231986\n",
       "  6.97743e-5 \n",
       "  ⋮          \n",
       "  0.000598967\n",
       "  6.35687e-8 \n",
       "  5.56211e-8 \n",
       "  3.44347e-7 \n",
       "  2.71972e-5 \n",
       "  1.90714e-5 \n",
       "  0.000123627\n",
       "  9.62653e-8 \n",
       " -4.17982e-7 \n",
       "  1.7482e-6  \n",
       "  0.0260634  \n",
       "  0.00126391 "
      ]
     },
     "execution_count": 107,
     "metadata": {},
     "output_type": "execute_result"
    }
   ],
   "source": [
    "n = length(y_train_2003)\n",
    "w_quad = proxgrad(1/n*QuadLoss(), ZeroReg(), X_train_2003, y_train_2003, maxiters=1000)"
   ]
  },
  {
   "cell_type": "code",
   "execution_count": 105,
   "metadata": {
    "collapsed": false,
    "scrolled": true
   },
   "outputs": [
    {
     "data": {
      "text/plain": [
       "1974.3458897390344"
      ]
     },
     "execution_count": 105,
     "metadata": {},
     "output_type": "execute_result"
    }
   ],
   "source": [
    "MAE_train_2003 = mean_abs_err(X_train_2003, y_train_2003, w_quad)"
   ]
  },
  {
   "cell_type": "code",
   "execution_count": 106,
   "metadata": {
    "collapsed": false
   },
   "outputs": [
    {
     "data": {
      "text/plain": [
       "1974.4464205560043"
      ]
     },
     "execution_count": 106,
     "metadata": {},
     "output_type": "execute_result"
    }
   ],
   "source": [
    "MAE_test_2003 = mean_abs_err(X_test_2003, y_test_2003, w_quad)"
   ]
  },
  {
   "cell_type": "code",
   "execution_count": 99,
   "metadata": {
    "collapsed": false
   },
   "outputs": [
    {
     "data": {
      "text/plain": [
       "118.15235240955128"
      ]
     },
     "execution_count": 99,
     "metadata": {},
     "output_type": "execute_result"
    }
   ],
   "source": [
    "MAPD_train_2003 = mean_abs_percent(X_train_2003, y_train_2003, w_quad)"
   ]
  },
  {
   "cell_type": "code",
   "execution_count": 100,
   "metadata": {
    "collapsed": false
   },
   "outputs": [
    {
     "data": {
      "text/plain": [
       "116.71690944016731"
      ]
     },
     "execution_count": 100,
     "metadata": {},
     "output_type": "execute_result"
    }
   ],
   "source": [
    "MAPD_test_2003 = mean_abs_percent(X_test_2003, y_test_2003, w_quad)"
   ]
  },
  {
   "cell_type": "code",
   "execution_count": 101,
   "metadata": {
    "collapsed": false
   },
   "outputs": [
    {
     "data": {
      "text/plain": [
       "41-element Array{Float64,1}:\n",
       " 2.0446e-6  \n",
       " 1.05945e-6 \n",
       " 6.8471e-7  \n",
       " 2.07964e-6 \n",
       " 1.07418e-6 \n",
       " 7.6965e-7  \n",
       " 1.94689e-7 \n",
       " 3.86293e-8 \n",
       " 6.07411e-9 \n",
       " 3.32943e-7 \n",
       " 1.2958e-7  \n",
       " 3.87728e-7 \n",
       " 1.73527e-7 \n",
       " ⋮          \n",
       " 8.58792e-7 \n",
       " 3.24767e-10\n",
       " 3.24767e-10\n",
       " 2.28112e-9 \n",
       " 6.43039e-8 \n",
       " 3.8972e-8  \n",
       " 2.28961e-7 \n",
       " 6.49534e-10\n",
       " 1.77676e-8 \n",
       " 2.08617e-8 \n",
       " 0.0107526  \n",
       " 2.08323e-6 "
      ]
     },
     "execution_count": 101,
     "metadata": {},
     "output_type": "execute_result"
    }
   ],
   "source": [
    "w_l1 = proxgrad(1/n*L1Loss(), ZeroReg(), X_train_2003, y_train_2003, maxiters=1000)"
   ]
  },
  {
   "cell_type": "code",
   "execution_count": 102,
   "metadata": {
    "collapsed": false
   },
   "outputs": [
    {
     "data": {
      "text/plain": [
       "1876.158519559397"
      ]
     },
     "execution_count": 102,
     "metadata": {},
     "output_type": "execute_result"
    }
   ],
   "source": [
    "MAE_train_2003 = mean_abs_err(X_train_2003, y_train_2003, w_l1)"
   ]
  },
  {
   "cell_type": "code",
   "execution_count": 88,
   "metadata": {
    "collapsed": false
   },
   "outputs": [
    {
     "data": {
      "text/plain": [
       "41-element Array{Float64,1}:\n",
       " 2.02811e-6 \n",
       " 1.05146e-6 \n",
       " 6.79758e-7 \n",
       " 2.06311e-6 \n",
       " 1.06512e-6 \n",
       " 7.63873e-7 \n",
       " 1.93064e-7 \n",
       " 3.85578e-8 \n",
       " 6.04775e-9 \n",
       " 3.30189e-7 \n",
       " 1.28265e-7 \n",
       " 3.84883e-7 \n",
       " 1.71872e-7 \n",
       " ⋮          \n",
       " 8.52521e-7 \n",
       " 3.22131e-10\n",
       " 3.22131e-10\n",
       " 2.26531e-9 \n",
       " 6.3782e-8  \n",
       " 3.86557e-8 \n",
       " 2.27102e-7 \n",
       " 6.44262e-10\n",
       " 1.79518e-8 \n",
       " 2.0606e-8  \n",
       " 0.010742   \n",
       " 2.06666e-6 "
      ]
     },
     "execution_count": 88,
     "metadata": {},
     "output_type": "execute_result"
    }
   ],
   "source": [
    "w_huber = proxgrad(1/n*HuberLoss(), ZeroReg(), X_train_2003, y_train_2003, maxiters=1000)"
   ]
  },
  {
   "cell_type": "code",
   "execution_count": 90,
   "metadata": {
    "collapsed": false
   },
   "outputs": [
    {
     "data": {
      "text/plain": [
       "1876.1597579847496"
      ]
     },
     "execution_count": 90,
     "metadata": {},
     "output_type": "execute_result"
    }
   ],
   "source": [
    "MAE_train_2003 = mean_abs_err(X_train_2003, y_train_2003, w_huber)"
   ]
  },
  {
   "cell_type": "code",
   "execution_count": 108,
   "metadata": {
    "collapsed": false
   },
   "outputs": [
    {
     "data": {
      "text/plain": [
       "ECOS.ECOSSolver(Any[(:verbose, 0)])"
      ]
     },
     "execution_count": 108,
     "metadata": {},
     "output_type": "execute_result"
    }
   ],
   "source": [
    "using Convex\n",
    "using PyPlot\n",
    "using ECOS\n",
    "set_default_solver(ECOSSolver(verbose=0))"
   ]
  },
  {
   "cell_type": "code",
   "execution_count": 109,
   "metadata": {
    "collapsed": false
   },
   "outputs": [
    {
     "data": {
      "text/plain": [
       "ridge_regression (generic function with 1 method)"
      ]
     },
     "execution_count": 109,
     "metadata": {},
     "output_type": "execute_result"
    }
   ],
   "source": [
    "function ridge_regression(X,y; λ=1)\n",
    "    d = size(X,2)\n",
    "    w = Variable(d)\n",
    "    p = minimize(sumsquares(X*w - y) + λ*sumsquares(w))\n",
    "    solve!(p)\n",
    "    return w.value\n",
    "end"
   ]
  },
  {
   "cell_type": "code",
   "execution_count": 110,
   "metadata": {
    "collapsed": false
   },
   "outputs": [
    {
     "data": {
      "text/plain": [
       "lasso (generic function with 1 method)"
      ]
     },
     "execution_count": 110,
     "metadata": {},
     "output_type": "execute_result"
    }
   ],
   "source": [
    "function lasso(X,y; λ=1)\n",
    "    d = size(X,2)\n",
    "    w = Variable(d)\n",
    "    p = minimize(sumsquares(X*w - y) + λ*norm(w,1))\n",
    "    solve!(p)\n",
    "    return w.value\n",
    "end"
   ]
  },
  {
   "cell_type": "code",
   "execution_count": 139,
   "metadata": {
    "collapsed": false,
    "scrolled": true
   },
   "outputs": [
    {
     "name": "stderr",
     "output_type": "stream",
     "text": [
      "\u001b[1m\u001b[33mWARNING: \u001b[39m\u001b[22m\u001b[33mArray{T}(::Type{T}, m::Int) is deprecated, use Array{T}(m) instead.\u001b[39m\n",
      "Stacktrace:\n",
      " [1] \u001b[1mdepwarn\u001b[22m\u001b[22m\u001b[1m(\u001b[22m\u001b[22m::String, ::Symbol\u001b[1m)\u001b[22m\u001b[22m at \u001b[1m./deprecated.jl:70\u001b[22m\u001b[22m\n",
      " [2] \u001b[1mArray\u001b[22m\u001b[22m\u001b[1m(\u001b[22m\u001b[22m::Type{Convex.ConicConstr}, ::Int64\u001b[1m)\u001b[22m\u001b[22m at \u001b[1m./deprecated.jl:57\u001b[22m\u001b[22m\n",
      " [3] \u001b[1mconic_form!\u001b[22m\u001b[22m\u001b[1m(\u001b[22m\u001b[22m::Convex.SOCElemConstraint, ::Convex.UniqueConicForms\u001b[1m)\u001b[22m\u001b[22m at \u001b[1m/Users/tiffanyshih/.julia/v0.6/Convex/src/constraints/soc_constraints.jl:50\u001b[22m\u001b[22m\n",
      " [4] \u001b[1mconic_form!\u001b[22m\u001b[22m\u001b[1m(\u001b[22m\u001b[22m::Convex.QolElemAtom, ::Convex.UniqueConicForms\u001b[1m)\u001b[22m\u001b[22m at \u001b[1m/Users/tiffanyshih/.julia/v0.6/Convex/src/atoms/second_order_cone/qol_elementwise.jl:41\u001b[22m\u001b[22m\n",
      " [5] \u001b[1mconic_form!\u001b[22m\u001b[22m\u001b[1m(\u001b[22m\u001b[22m::Convex.AdditionAtom, ::Convex.UniqueConicForms\u001b[1m)\u001b[22m\u001b[22m at \u001b[1m/Users/tiffanyshih/.julia/v0.6/Convex/src/atoms/affine/add_subtract.jl:108\u001b[22m\u001b[22m\n",
      " [6] \u001b[1mconic_form!\u001b[22m\u001b[22m\u001b[1m(\u001b[22m\u001b[22m::Convex.EqConstraint, ::Convex.UniqueConicForms\u001b[1m)\u001b[22m\u001b[22m at \u001b[1m/Users/tiffanyshih/.julia/v0.6/Convex/src/constraints/constraints.jl:43\u001b[22m\u001b[22m\n",
      " [7] \u001b[1mconic_form!\u001b[22m\u001b[22m\u001b[1m(\u001b[22m\u001b[22m::Convex.Problem, ::Convex.UniqueConicForms\u001b[1m)\u001b[22m\u001b[22m at \u001b[1m/Users/tiffanyshih/.julia/v0.6/Convex/src/problems.jl:99\u001b[22m\u001b[22m\n",
      " [8] \u001b[1mconic_problem\u001b[22m\u001b[22m\u001b[1m(\u001b[22m\u001b[22m::Convex.Problem\u001b[1m)\u001b[22m\u001b[22m at \u001b[1m/Users/tiffanyshih/.julia/v0.6/Convex/src/problems.jl:124\u001b[22m\u001b[22m\n",
      " [9] \u001b[1m#solve!#25\u001b[22m\u001b[22m\u001b[1m(\u001b[22m\u001b[22m::Bool, ::Bool, ::Bool, ::Function, ::Convex.Problem\u001b[1m)\u001b[22m\u001b[22m at \u001b[1m/Users/tiffanyshih/.julia/v0.6/Convex/src/solution.jl:25\u001b[22m\u001b[22m\n",
      " [10] \u001b[1m#ridge_regression#29\u001b[22m\u001b[22m\u001b[1m(\u001b[22m\u001b[22m::Int64, ::Function, ::Array{Float64,2}, ::Array{Float64,1}\u001b[1m)\u001b[22m\u001b[22m at \u001b[1m./In[109]:5\u001b[22m\u001b[22m\n",
      " [11] \u001b[1m(::#kw##ridge_regression)\u001b[22m\u001b[22m\u001b[1m(\u001b[22m\u001b[22m::Array{Any,1}, ::#ridge_regression, ::Array{Float64,2}, ::Array{Float64,1}\u001b[1m)\u001b[22m\u001b[22m at \u001b[1m./<missing>:0\u001b[22m\u001b[22m\n",
      " [12] \u001b[1minclude_string\u001b[22m\u001b[22m\u001b[1m(\u001b[22m\u001b[22m::String, ::String\u001b[1m)\u001b[22m\u001b[22m at \u001b[1m./loading.jl:515\u001b[22m\u001b[22m\n",
      " [13] \u001b[1minclude_string\u001b[22m\u001b[22m\u001b[1m(\u001b[22m\u001b[22m::Module, ::String, ::String\u001b[1m)\u001b[22m\u001b[22m at \u001b[1m/Users/tiffanyshih/.julia/v0.6/Compat/src/Compat.jl:478\u001b[22m\u001b[22m\n",
      " [14] \u001b[1mexecute_request\u001b[22m\u001b[22m\u001b[1m(\u001b[22m\u001b[22m::ZMQ.Socket, ::IJulia.Msg\u001b[1m)\u001b[22m\u001b[22m at \u001b[1m/Users/tiffanyshih/.julia/v0.6/IJulia/src/execute_request.jl:154\u001b[22m\u001b[22m\n",
      " [15] \u001b[1meventloop\u001b[22m\u001b[22m\u001b[1m(\u001b[22m\u001b[22m::ZMQ.Socket\u001b[1m)\u001b[22m\u001b[22m at \u001b[1m/Users/tiffanyshih/.julia/v0.6/IJulia/src/eventloop.jl:8\u001b[22m\u001b[22m\n",
      " [16] \u001b[1m(::IJulia.##14#17)\u001b[22m\u001b[22m\u001b[1m(\u001b[22m\u001b[22m\u001b[1m)\u001b[22m\u001b[22m at \u001b[1m./task.jl:335\u001b[22m\u001b[22m\n",
      "while loading In[139], in expression starting on line 1\n",
      "\u001b[1m\u001b[33mWARNING: \u001b[39m\u001b[22m\u001b[33mArray{T}(::Type{T}, m::Int) is deprecated, use Array{T}(m) instead.\u001b[39m\n",
      "Stacktrace:\n",
      " [1] \u001b[1mdepwarn\u001b[22m\u001b[22m\u001b[1m(\u001b[22m\u001b[22m::String, ::Symbol\u001b[1m)\u001b[22m\u001b[22m at \u001b[1m./deprecated.jl:70\u001b[22m\u001b[22m\n",
      " [2] \u001b[1mArray\u001b[22m\u001b[22m\u001b[1m(\u001b[22m\u001b[22m::Type{DataStructures.OrderedDict{UInt64,Tuple{Union{AbstractArray, Number},Union{AbstractArray, Number}}}}, ::Int64\u001b[1m)\u001b[22m\u001b[22m at \u001b[1m./deprecated.jl:57\u001b[22m\u001b[22m\n",
      " [3] \u001b[1mconic_form!\u001b[22m\u001b[22m\u001b[1m(\u001b[22m\u001b[22m::Convex.SOCElemConstraint, ::Convex.UniqueConicForms\u001b[1m)\u001b[22m\u001b[22m at \u001b[1m/Users/tiffanyshih/.julia/v0.6/Convex/src/constraints/soc_constraints.jl:51\u001b[22m\u001b[22m\n",
      " [4] \u001b[1mconic_form!\u001b[22m\u001b[22m\u001b[1m(\u001b[22m\u001b[22m::Convex.QolElemAtom, ::Convex.UniqueConicForms\u001b[1m)\u001b[22m\u001b[22m at \u001b[1m/Users/tiffanyshih/.julia/v0.6/Convex/src/atoms/second_order_cone/qol_elementwise.jl:41\u001b[22m\u001b[22m\n",
      " [5] \u001b[1mconic_form!\u001b[22m\u001b[22m\u001b[1m(\u001b[22m\u001b[22m::Convex.AdditionAtom, ::Convex.UniqueConicForms\u001b[1m)\u001b[22m\u001b[22m at \u001b[1m/Users/tiffanyshih/.julia/v0.6/Convex/src/atoms/affine/add_subtract.jl:108\u001b[22m\u001b[22m\n",
      " [6] \u001b[1mconic_form!\u001b[22m\u001b[22m\u001b[1m(\u001b[22m\u001b[22m::Convex.EqConstraint, ::Convex.UniqueConicForms\u001b[1m)\u001b[22m\u001b[22m at \u001b[1m/Users/tiffanyshih/.julia/v0.6/Convex/src/constraints/constraints.jl:43\u001b[22m\u001b[22m\n",
      " [7] \u001b[1mconic_form!\u001b[22m\u001b[22m\u001b[1m(\u001b[22m\u001b[22m::Convex.Problem, ::Convex.UniqueConicForms\u001b[1m)\u001b[22m\u001b[22m at \u001b[1m/Users/tiffanyshih/.julia/v0.6/Convex/src/problems.jl:99\u001b[22m\u001b[22m\n",
      " [8] \u001b[1mconic_problem\u001b[22m\u001b[22m\u001b[1m(\u001b[22m\u001b[22m::Convex.Problem\u001b[1m)\u001b[22m\u001b[22m at \u001b[1m/Users/tiffanyshih/.julia/v0.6/Convex/src/problems.jl:124\u001b[22m\u001b[22m\n",
      " [9] \u001b[1m#solve!#25\u001b[22m\u001b[22m\u001b[1m(\u001b[22m\u001b[22m::Bool, ::Bool, ::Bool, ::Function, ::Convex.Problem\u001b[1m)\u001b[22m\u001b[22m at \u001b[1m/Users/tiffanyshih/.julia/v0.6/Convex/src/solution.jl:25\u001b[22m\u001b[22m\n",
      " [10] \u001b[1m#ridge_regression#29\u001b[22m\u001b[22m\u001b[1m(\u001b[22m\u001b[22m::Int64, ::Function, ::Array{Float64,2}, ::Array{Float64,1}\u001b[1m)\u001b[22m\u001b[22m at \u001b[1m./In[109]:5\u001b[22m\u001b[22m\n",
      " [11] \u001b[1m(::#kw##ridge_regression)\u001b[22m\u001b[22m\u001b[1m(\u001b[22m\u001b[22m::Array{Any,1}, ::#ridge_regression, ::Array{Float64,2}, ::Array{Float64,1}\u001b[1m)\u001b[22m\u001b[22m at \u001b[1m./<missing>:0\u001b[22m\u001b[22m\n",
      " [12] \u001b[1minclude_string\u001b[22m\u001b[22m\u001b[1m(\u001b[22m\u001b[22m::String, ::String\u001b[1m)\u001b[22m\u001b[22m at \u001b[1m./loading.jl:515\u001b[22m\u001b[22m\n",
      " [13] \u001b[1minclude_string\u001b[22m\u001b[22m\u001b[1m(\u001b[22m\u001b[22m::Module, ::String, ::String\u001b[1m)\u001b[22m\u001b[22m at \u001b[1m/Users/tiffanyshih/.julia/v0.6/Compat/src/Compat.jl:478\u001b[22m\u001b[22m\n",
      " [14] \u001b[1mexecute_request\u001b[22m\u001b[22m\u001b[1m(\u001b[22m\u001b[22m::ZMQ.Socket, ::IJulia.Msg\u001b[1m)\u001b[22m\u001b[22m at \u001b[1m/Users/tiffanyshih/.julia/v0.6/IJulia/src/execute_request.jl:154\u001b[22m\u001b[22m\n",
      " [15] \u001b[1meventloop\u001b[22m\u001b[22m\u001b[1m(\u001b[22m\u001b[22m::ZMQ.Socket\u001b[1m)\u001b[22m\u001b[22m at \u001b[1m/Users/tiffanyshih/.julia/v0.6/IJulia/src/eventloop.jl:8\u001b[22m\u001b[22m\n",
      " [16] \u001b[1m(::IJulia.##14#17)\u001b[22m\u001b[22m\u001b[1m(\u001b[22m\u001b[22m\u001b[1m)\u001b[22m\u001b[22m at \u001b[1m./task.jl:335\u001b[22m\u001b[22m\n",
      "while loading In[139], in expression starting on line 1\n",
      "\u001b[1m\u001b[33mWARNING: \u001b[39m\u001b[22m\u001b[33mArray{T}(::Type{T}, m::Int) is deprecated, use Array{T}(m) instead.\u001b[39m\n",
      "Stacktrace:\n",
      " [1] \u001b[1mdepwarn\u001b[22m\u001b[22m\u001b[1m(\u001b[22m\u001b[22m::String, ::Symbol\u001b[1m)\u001b[22m\u001b[22m at \u001b[1m./deprecated.jl:70\u001b[22m\u001b[22m\n",
      " [2] \u001b[1mArray\u001b[22m\u001b[22m\u001b[1m(\u001b[22m\u001b[22m::Type{DataStructures.OrderedDict{UInt64,Tuple{Union{AbstractArray, Number},Union{AbstractArray, Number}}}}, ::Int64\u001b[1m)\u001b[22m\u001b[22m at \u001b[1m./deprecated.jl:57\u001b[22m\u001b[22m\n",
      " [3] \u001b[1mconic_form!\u001b[22m\u001b[22m\u001b[1m(\u001b[22m\u001b[22m::Convex.SOCConstraint, ::Convex.UniqueConicForms\u001b[1m)\u001b[22m\u001b[22m at \u001b[1m/Users/tiffanyshih/.julia/v0.6/Convex/src/constraints/soc_constraints.jl:21\u001b[22m\u001b[22m\n",
      " [4] \u001b[1mconic_form!\u001b[22m\u001b[22m\u001b[1m(\u001b[22m\u001b[22m::Convex.EucNormAtom, ::Convex.UniqueConicForms\u001b[1m)\u001b[22m\u001b[22m at \u001b[1m/Users/tiffanyshih/.julia/v0.6/Convex/src/atoms/second_order_cone/norm2.jl:47\u001b[22m\u001b[22m\n",
      " [5] \u001b[1mconic_form!\u001b[22m\u001b[22m\u001b[1m(\u001b[22m\u001b[22m::Convex.MultiplyAtom, ::Convex.UniqueConicForms\u001b[1m)\u001b[22m\u001b[22m at \u001b[1m/Users/tiffanyshih/.julia/v0.6/Convex/src/atoms/affine/multiply_divide.jl:71\u001b[22m\u001b[22m\n",
      " [6] \u001b[1mconic_form!\u001b[22m\u001b[22m\u001b[1m(\u001b[22m\u001b[22m::Convex.SOCElemConstraint, ::Convex.UniqueConicForms\u001b[1m)\u001b[22m\u001b[22m at \u001b[1m/Users/tiffanyshih/.julia/v0.6/Convex/src/constraints/soc_constraints.jl:53\u001b[22m\u001b[22m\n",
      " [7] \u001b[1mconic_form!\u001b[22m\u001b[22m\u001b[1m(\u001b[22m\u001b[22m::Convex.QolElemAtom, ::Convex.UniqueConicForms\u001b[1m)\u001b[22m\u001b[22m at \u001b[1m/Users/tiffanyshih/.julia/v0.6/Convex/src/atoms/second_order_cone/qol_elementwise.jl:41\u001b[22m\u001b[22m\n",
      " [8] \u001b[1mconic_form!\u001b[22m\u001b[22m\u001b[1m(\u001b[22m\u001b[22m::Convex.AdditionAtom, ::Convex.UniqueConicForms\u001b[1m)\u001b[22m\u001b[22m at \u001b[1m/Users/tiffanyshih/.julia/v0.6/Convex/src/atoms/affine/add_subtract.jl:108\u001b[22m\u001b[22m\n",
      " [9] \u001b[1mconic_form!\u001b[22m\u001b[22m\u001b[1m(\u001b[22m\u001b[22m::Convex.EqConstraint, ::Convex.UniqueConicForms\u001b[1m)\u001b[22m\u001b[22m at \u001b[1m/Users/tiffanyshih/.julia/v0.6/Convex/src/constraints/constraints.jl:43\u001b[22m\u001b[22m\n",
      " [10] \u001b[1mconic_form!\u001b[22m\u001b[22m\u001b[1m(\u001b[22m\u001b[22m::Convex.Problem, ::Convex.UniqueConicForms\u001b[1m)\u001b[22m\u001b[22m at \u001b[1m/Users/tiffanyshih/.julia/v0.6/Convex/src/problems.jl:99\u001b[22m\u001b[22m\n",
      " [11] \u001b[1mconic_problem\u001b[22m\u001b[22m\u001b[1m(\u001b[22m\u001b[22m::Convex.Problem\u001b[1m)\u001b[22m\u001b[22m at \u001b[1m/Users/tiffanyshih/.julia/v0.6/Convex/src/problems.jl:124\u001b[22m\u001b[22m\n",
      " [12] \u001b[1m#solve!#25\u001b[22m\u001b[22m\u001b[1m(\u001b[22m\u001b[22m::Bool, ::Bool, ::Bool, ::Function, ::Convex.Problem\u001b[1m)\u001b[22m\u001b[22m at \u001b[1m/Users/tiffanyshih/.julia/v0.6/Convex/src/solution.jl:25\u001b[22m\u001b[22m\n",
      " [13] \u001b[1m#ridge_regression#29\u001b[22m\u001b[22m\u001b[1m(\u001b[22m\u001b[22m::Int64, ::Function, ::Array{Float64,2}, ::Array{Float64,1}\u001b[1m)\u001b[22m\u001b[22m at \u001b[1m./In[109]:5\u001b[22m\u001b[22m\n",
      " [14] \u001b[1m(::#kw##ridge_regression)\u001b[22m\u001b[22m\u001b[1m(\u001b[22m\u001b[22m::Array{Any,1}, ::#ridge_regression, ::Array{Float64,2}, ::Array{Float64,1}\u001b[1m)\u001b[22m\u001b[22m at \u001b[1m./<missing>:0\u001b[22m\u001b[22m\n",
      " [15] \u001b[1minclude_string\u001b[22m\u001b[22m\u001b[1m(\u001b[22m\u001b[22m::String, ::String\u001b[1m)\u001b[22m\u001b[22m at \u001b[1m./loading.jl:515\u001b[22m\u001b[22m\n",
      " [16] \u001b[1minclude_string\u001b[22m\u001b[22m\u001b[1m(\u001b[22m\u001b[22m::Module, ::String, ::String\u001b[1m)\u001b[22m\u001b[22m at \u001b[1m/Users/tiffanyshih/.julia/v0.6/Compat/src/Compat.jl:478\u001b[22m\u001b[22m\n",
      " [17] \u001b[1mexecute_request\u001b[22m\u001b[22m\u001b[1m(\u001b[22m\u001b[22m::ZMQ.Socket, ::IJulia.Msg\u001b[1m)\u001b[22m\u001b[22m at \u001b[1m/Users/tiffanyshih/.julia/v0.6/IJulia/src/execute_request.jl:154\u001b[22m\u001b[22m\n",
      " [18] \u001b[1meventloop\u001b[22m\u001b[22m\u001b[1m(\u001b[22m\u001b[22m::ZMQ.Socket\u001b[1m)\u001b[22m\u001b[22m at \u001b[1m/Users/tiffanyshih/.julia/v0.6/IJulia/src/eventloop.jl:8\u001b[22m\u001b[22m\n",
      " [19] \u001b[1m(::IJulia.##14#17)\u001b[22m\u001b[22m\u001b[1m(\u001b[22m\u001b[22m\u001b[1m)\u001b[22m\u001b[22m at \u001b[1m./task.jl:335\u001b[22m\u001b[22m\n",
      "while loading In[139], in expression starting on line 1\n",
      "\u001b[1m\u001b[33mWARNING: \u001b[39m\u001b[22m\u001b[33misnan{T <: Number}(x::AbstractArray{T}) is deprecated, use isnan.(x) instead.\u001b[39m\n",
      "Stacktrace:\n",
      " [1] \u001b[1mdepwarn\u001b[22m\u001b[22m\u001b[1m(\u001b[22m\u001b[22m::String, ::Symbol\u001b[1m)\u001b[22m\u001b[22m at \u001b[1m./deprecated.jl:70\u001b[22m\u001b[22m\n",
      " [2] \u001b[1misnan\u001b[22m\u001b[22m\u001b[1m(\u001b[22m\u001b[22m::Array{Float64,1}\u001b[1m)\u001b[22m\u001b[22m at \u001b[1m./deprecated.jl:57\u001b[22m\u001b[22m\n",
      " [3] \u001b[1mpopulate_solution!\u001b[22m\u001b[22m\u001b[1m(\u001b[22m\u001b[22m::ECOS.ECOSMathProgModel, ::Convex.Problem, ::Dict{UInt64,Tuple{Int64,Int64}}, ::Array{Convex.ConicConstr,1}\u001b[1m)\u001b[22m\u001b[22m at \u001b[1m/Users/tiffanyshih/.julia/v0.6/Convex/src/solution.jl:118\u001b[22m\u001b[22m\n",
      " [4] \u001b[1m#solve!#25\u001b[22m\u001b[22m\u001b[1m(\u001b[22m\u001b[22m::Bool, ::Bool, ::Bool, ::Function, ::Convex.Problem\u001b[1m)\u001b[22m\u001b[22m at \u001b[1m/Users/tiffanyshih/.julia/v0.6/Convex/src/solution.jl:38\u001b[22m\u001b[22m\n",
      " [5] \u001b[1m#ridge_regression#29\u001b[22m\u001b[22m\u001b[1m(\u001b[22m\u001b[22m::Int64, ::Function, ::Array{Float64,2}, ::Array{Float64,1}\u001b[1m)\u001b[22m\u001b[22m at \u001b[1m./In[109]:5\u001b[22m\u001b[22m\n",
      " [6] \u001b[1m(::#kw##ridge_regression)\u001b[22m\u001b[22m\u001b[1m(\u001b[22m\u001b[22m::Array{Any,1}, ::#ridge_regression, ::Array{Float64,2}, ::Array{Float64,1}\u001b[1m)\u001b[22m\u001b[22m at \u001b[1m./<missing>:0\u001b[22m\u001b[22m\n",
      " [7] \u001b[1minclude_string\u001b[22m\u001b[22m\u001b[1m(\u001b[22m\u001b[22m::String, ::String\u001b[1m)\u001b[22m\u001b[22m at \u001b[1m./loading.jl:515\u001b[22m\u001b[22m\n",
      " [8] \u001b[1minclude_string\u001b[22m\u001b[22m\u001b[1m(\u001b[22m\u001b[22m::Module, ::String, ::String\u001b[1m)\u001b[22m\u001b[22m at \u001b[1m/Users/tiffanyshih/.julia/v0.6/Compat/src/Compat.jl:478\u001b[22m\u001b[22m\n",
      " [9] \u001b[1mexecute_request\u001b[22m\u001b[22m\u001b[1m(\u001b[22m\u001b[22m::ZMQ.Socket, ::IJulia.Msg\u001b[1m)\u001b[22m\u001b[22m at \u001b[1m/Users/tiffanyshih/.julia/v0.6/IJulia/src/execute_request.jl:154\u001b[22m\u001b[22m\n",
      " [10] \u001b[1meventloop\u001b[22m\u001b[22m\u001b[1m(\u001b[22m\u001b[22m::ZMQ.Socket\u001b[1m)\u001b[22m\u001b[22m at \u001b[1m/Users/tiffanyshih/.julia/v0.6/IJulia/src/eventloop.jl:8\u001b[22m\u001b[22m\n",
      " [11] \u001b[1m(::IJulia.##14#17)\u001b[22m\u001b[22m\u001b[1m(\u001b[22m\u001b[22m\u001b[1m)\u001b[22m\u001b[22m at \u001b[1m./task.jl:335\u001b[22m\u001b[22m\n",
      "while loading In[139], in expression starting on line 1\n",
      "\u001b[1m\u001b[33mWARNING: \u001b[39m\u001b[22m\u001b[33mProblem status Error; solution may be inaccurate.\u001b[39m\n"
     ]
    },
    {
     "data": {
      "text/plain": [
       "41×1 Array{Float64,2}:\n",
       " 843.635    \n",
       " 470.759    \n",
       " 270.3      \n",
       " 816.88     \n",
       " 410.668    \n",
       " 337.248    \n",
       "  96.5195   \n",
       " -27.3873   \n",
       "  -0.800477 \n",
       " 130.972    \n",
       "  17.7011   \n",
       " 164.412    \n",
       "  32.4042   \n",
       "   ⋮        \n",
       " 433.361    \n",
       "  -0.0327313\n",
       "  -0.0443998\n",
       "  -0.497599 \n",
       "  11.8508   \n",
       "   9.92814  \n",
       "  71.661    \n",
       "  -0.0577383\n",
       " -23.5504   \n",
       "  -3.83681  \n",
       "  -0.0746932\n",
       " 816.258    "
      ]
     },
     "execution_count": 139,
     "metadata": {},
     "output_type": "execute_result"
    }
   ],
   "source": [
    "w = ridge_regression(X_train_2003,y_train_2003; λ=1)"
   ]
  },
  {
   "cell_type": "code",
   "execution_count": 140,
   "metadata": {
    "collapsed": false
   },
   "outputs": [
    {
     "name": "stderr",
     "output_type": "stream",
     "text": [
      "\u001b[1m\u001b[33mWARNING: \u001b[39m\u001b[22m\u001b[33mabs{T <: Number}(x::AbstractArray{T}) is deprecated, use abs.(x) instead.\u001b[39m\n",
      "Stacktrace:\n",
      " [1] \u001b[1mdepwarn\u001b[22m\u001b[22m\u001b[1m(\u001b[22m\u001b[22m::String, ::Symbol\u001b[1m)\u001b[22m\u001b[22m at \u001b[1m./deprecated.jl:70\u001b[22m\u001b[22m\n",
      " [2] \u001b[1mabs\u001b[22m\u001b[22m\u001b[1m(\u001b[22m\u001b[22m::RowVector{Float64,Array{Float64,1}}\u001b[1m)\u001b[22m\u001b[22m at \u001b[1m./deprecated.jl:57\u001b[22m\u001b[22m\n",
      " [3] \u001b[1mmean_abs_err\u001b[22m\u001b[22m\u001b[1m(\u001b[22m\u001b[22m::Array{Float64,2}, ::Array{Float64,1}, ::Array{Float64,2}\u001b[1m)\u001b[22m\u001b[22m at \u001b[1m./In[42]:5\u001b[22m\u001b[22m\n",
      " [4] \u001b[1minclude_string\u001b[22m\u001b[22m\u001b[1m(\u001b[22m\u001b[22m::String, ::String\u001b[1m)\u001b[22m\u001b[22m at \u001b[1m./loading.jl:515\u001b[22m\u001b[22m\n",
      " [5] \u001b[1minclude_string\u001b[22m\u001b[22m\u001b[1m(\u001b[22m\u001b[22m::Module, ::String, ::String\u001b[1m)\u001b[22m\u001b[22m at \u001b[1m/Users/tiffanyshih/.julia/v0.6/Compat/src/Compat.jl:478\u001b[22m\u001b[22m\n",
      " [6] \u001b[1mexecute_request\u001b[22m\u001b[22m\u001b[1m(\u001b[22m\u001b[22m::ZMQ.Socket, ::IJulia.Msg\u001b[1m)\u001b[22m\u001b[22m at \u001b[1m/Users/tiffanyshih/.julia/v0.6/IJulia/src/execute_request.jl:154\u001b[22m\u001b[22m\n",
      " [7] \u001b[1meventloop\u001b[22m\u001b[22m\u001b[1m(\u001b[22m\u001b[22m::ZMQ.Socket\u001b[1m)\u001b[22m\u001b[22m at \u001b[1m/Users/tiffanyshih/.julia/v0.6/IJulia/src/eventloop.jl:8\u001b[22m\u001b[22m\n",
      " [8] \u001b[1m(::IJulia.##14#17)\u001b[22m\u001b[22m\u001b[1m(\u001b[22m\u001b[22m\u001b[1m)\u001b[22m\u001b[22m at \u001b[1m./task.jl:335\u001b[22m\u001b[22m\n",
      "while loading In[140], in expression starting on line 1\n"
     ]
    },
    {
     "data": {
      "text/plain": [
       "1×1 RowVector{Float64,Array{Float64,1}}:\n",
       " 698.886"
      ]
     },
     "execution_count": 140,
     "metadata": {},
     "output_type": "execute_result"
    }
   ],
   "source": [
    "MAE_train_2003 = mean_abs_err(X_train_2003, y_train_2003, w)"
   ]
  },
  {
   "cell_type": "code",
   "execution_count": 141,
   "metadata": {
    "collapsed": false,
    "scrolled": true
   },
   "outputs": [
    {
     "name": "stderr",
     "output_type": "stream",
     "text": [
      "\u001b[1m\u001b[33mWARNING: \u001b[39m\u001b[22m\u001b[33mabs{T <: Number}(x::AbstractArray{T}) is deprecated, use abs.(x) instead.\u001b[39m\n",
      "Stacktrace:\n",
      " [1] \u001b[1mdepwarn\u001b[22m\u001b[22m\u001b[1m(\u001b[22m\u001b[22m::String, ::Symbol\u001b[1m)\u001b[22m\u001b[22m at \u001b[1m./deprecated.jl:70\u001b[22m\u001b[22m\n",
      " [2] \u001b[1mabs\u001b[22m\u001b[22m\u001b[1m(\u001b[22m\u001b[22m::RowVector{Float64,Array{Float64,1}}\u001b[1m)\u001b[22m\u001b[22m at \u001b[1m./deprecated.jl:57\u001b[22m\u001b[22m\n",
      " [3] \u001b[1mmean_abs_err\u001b[22m\u001b[22m\u001b[1m(\u001b[22m\u001b[22m::Array{Real,2}, ::Array{Float64,1}, ::Array{Float64,2}\u001b[1m)\u001b[22m\u001b[22m at \u001b[1m./In[42]:5\u001b[22m\u001b[22m\n",
      " [4] \u001b[1minclude_string\u001b[22m\u001b[22m\u001b[1m(\u001b[22m\u001b[22m::String, ::String\u001b[1m)\u001b[22m\u001b[22m at \u001b[1m./loading.jl:515\u001b[22m\u001b[22m\n",
      " [5] \u001b[1minclude_string\u001b[22m\u001b[22m\u001b[1m(\u001b[22m\u001b[22m::Module, ::String, ::String\u001b[1m)\u001b[22m\u001b[22m at \u001b[1m/Users/tiffanyshih/.julia/v0.6/Compat/src/Compat.jl:478\u001b[22m\u001b[22m\n",
      " [6] \u001b[1mexecute_request\u001b[22m\u001b[22m\u001b[1m(\u001b[22m\u001b[22m::ZMQ.Socket, ::IJulia.Msg\u001b[1m)\u001b[22m\u001b[22m at \u001b[1m/Users/tiffanyshih/.julia/v0.6/IJulia/src/execute_request.jl:154\u001b[22m\u001b[22m\n",
      " [7] \u001b[1meventloop\u001b[22m\u001b[22m\u001b[1m(\u001b[22m\u001b[22m::ZMQ.Socket\u001b[1m)\u001b[22m\u001b[22m at \u001b[1m/Users/tiffanyshih/.julia/v0.6/IJulia/src/eventloop.jl:8\u001b[22m\u001b[22m\n",
      " [8] \u001b[1m(::IJulia.##14#17)\u001b[22m\u001b[22m\u001b[1m(\u001b[22m\u001b[22m\u001b[1m)\u001b[22m\u001b[22m at \u001b[1m./task.jl:335\u001b[22m\u001b[22m\n",
      "while loading In[141], in expression starting on line 1\n"
     ]
    },
    {
     "data": {
      "text/plain": [
       "1×1 RowVector{Float64,Array{Float64,1}}:\n",
       " 703.211"
      ]
     },
     "execution_count": 141,
     "metadata": {},
     "output_type": "execute_result"
    }
   ],
   "source": [
    "MAE_test_2003 = mean_abs_err(X_test_2003, y_test_2003, w)"
   ]
  },
  {
   "cell_type": "code",
   "execution_count": 144,
   "metadata": {
    "collapsed": false
   },
   "outputs": [
    {
     "name": "stderr",
     "output_type": "stream",
     "text": [
      "\u001b[1m\u001b[33mWARNING: \u001b[39m\u001b[22m\u001b[33mabs{T <: Number}(x::AbstractArray{T}) is deprecated, use abs.(x) instead.\u001b[39m\n",
      "Stacktrace:\n",
      " [1] \u001b[1mdepwarn\u001b[22m\u001b[22m\u001b[1m(\u001b[22m\u001b[22m::String, ::Symbol\u001b[1m)\u001b[22m\u001b[22m at \u001b[1m./deprecated.jl:70\u001b[22m\u001b[22m\n",
      " [2] \u001b[1mabs\u001b[22m\u001b[22m\u001b[1m(\u001b[22m\u001b[22m::RowVector{Float64,Array{Float64,1}}\u001b[1m)\u001b[22m\u001b[22m at \u001b[1m./deprecated.jl:57\u001b[22m\u001b[22m\n",
      " [3] \u001b[1mmean_abs_percent\u001b[22m\u001b[22m\u001b[1m(\u001b[22m\u001b[22m::Array{Float64,2}, ::Array{Float64,1}, ::Array{Float64,2}\u001b[1m)\u001b[22m\u001b[22m at \u001b[1m./In[43]:5\u001b[22m\u001b[22m\n",
      " [4] \u001b[1minclude_string\u001b[22m\u001b[22m\u001b[1m(\u001b[22m\u001b[22m::String, ::String\u001b[1m)\u001b[22m\u001b[22m at \u001b[1m./loading.jl:515\u001b[22m\u001b[22m\n",
      " [5] \u001b[1minclude_string\u001b[22m\u001b[22m\u001b[1m(\u001b[22m\u001b[22m::Module, ::String, ::String\u001b[1m)\u001b[22m\u001b[22m at \u001b[1m/Users/tiffanyshih/.julia/v0.6/Compat/src/Compat.jl:478\u001b[22m\u001b[22m\n",
      " [6] \u001b[1mexecute_request\u001b[22m\u001b[22m\u001b[1m(\u001b[22m\u001b[22m::ZMQ.Socket, ::IJulia.Msg\u001b[1m)\u001b[22m\u001b[22m at \u001b[1m/Users/tiffanyshih/.julia/v0.6/IJulia/src/execute_request.jl:154\u001b[22m\u001b[22m\n",
      " [7] \u001b[1meventloop\u001b[22m\u001b[22m\u001b[1m(\u001b[22m\u001b[22m::ZMQ.Socket\u001b[1m)\u001b[22m\u001b[22m at \u001b[1m/Users/tiffanyshih/.julia/v0.6/IJulia/src/eventloop.jl:8\u001b[22m\u001b[22m\n",
      " [8] \u001b[1m(::IJulia.##14#17)\u001b[22m\u001b[22m\u001b[1m(\u001b[22m\u001b[22m\u001b[1m)\u001b[22m\u001b[22m at \u001b[1m./task.jl:335\u001b[22m\u001b[22m\n",
      "while loading In[144], in expression starting on line 1\n"
     ]
    },
    {
     "data": {
      "text/plain": [
       "1×1 RowVector{Float64,Array{Float64,1}}:\n",
       " 133.449"
      ]
     },
     "execution_count": 144,
     "metadata": {},
     "output_type": "execute_result"
    }
   ],
   "source": [
    "MAPD_train_2003 = mean_abs_percent(X_train_2003, y_train_2003, w)"
   ]
  },
  {
   "cell_type": "code",
   "execution_count": 113,
   "metadata": {
    "collapsed": false,
    "scrolled": false
   },
   "outputs": [
    {
     "name": "stderr",
     "output_type": "stream",
     "text": [
      "\u001b[1m\u001b[33mWARNING: \u001b[39m\u001b[22m\u001b[33mArray{T}(::Type{T}, m::Int) is deprecated, use Array{T}(m) instead.\u001b[39m\n",
      "Stacktrace:\n",
      " [1] \u001b[1mdepwarn\u001b[22m\u001b[22m\u001b[1m(\u001b[22m\u001b[22m::String, ::Symbol\u001b[1m)\u001b[22m\u001b[22m at \u001b[1m./deprecated.jl:70\u001b[22m\u001b[22m\n",
      " [2] \u001b[1mArray\u001b[22m\u001b[22m\u001b[1m(\u001b[22m\u001b[22m::Type{Convex.ConicConstr}, ::Int64\u001b[1m)\u001b[22m\u001b[22m at \u001b[1m./deprecated.jl:57\u001b[22m\u001b[22m\n",
      " [3] \u001b[1mconic_form!\u001b[22m\u001b[22m\u001b[1m(\u001b[22m\u001b[22m::Convex.SOCElemConstraint, ::Convex.UniqueConicForms\u001b[1m)\u001b[22m\u001b[22m at \u001b[1m/Users/tiffanyshih/.julia/v0.6/Convex/src/constraints/soc_constraints.jl:50\u001b[22m\u001b[22m\n",
      " [4] \u001b[1mconic_form!\u001b[22m\u001b[22m\u001b[1m(\u001b[22m\u001b[22m::Convex.QolElemAtom, ::Convex.UniqueConicForms\u001b[1m)\u001b[22m\u001b[22m at \u001b[1m/Users/tiffanyshih/.julia/v0.6/Convex/src/atoms/second_order_cone/qol_elementwise.jl:41\u001b[22m\u001b[22m\n",
      " [5] \u001b[1mconic_form!\u001b[22m\u001b[22m\u001b[1m(\u001b[22m\u001b[22m::Convex.AdditionAtom, ::Convex.UniqueConicForms\u001b[1m)\u001b[22m\u001b[22m at \u001b[1m/Users/tiffanyshih/.julia/v0.6/Convex/src/atoms/affine/add_subtract.jl:108\u001b[22m\u001b[22m\n",
      " [6] \u001b[1mconic_form!\u001b[22m\u001b[22m\u001b[1m(\u001b[22m\u001b[22m::Convex.EqConstraint, ::Convex.UniqueConicForms\u001b[1m)\u001b[22m\u001b[22m at \u001b[1m/Users/tiffanyshih/.julia/v0.6/Convex/src/constraints/constraints.jl:43\u001b[22m\u001b[22m\n",
      " [7] \u001b[1mconic_form!\u001b[22m\u001b[22m\u001b[1m(\u001b[22m\u001b[22m::Convex.Problem, ::Convex.UniqueConicForms\u001b[1m)\u001b[22m\u001b[22m at \u001b[1m/Users/tiffanyshih/.julia/v0.6/Convex/src/problems.jl:99\u001b[22m\u001b[22m\n",
      " [8] \u001b[1mconic_problem\u001b[22m\u001b[22m\u001b[1m(\u001b[22m\u001b[22m::Convex.Problem\u001b[1m)\u001b[22m\u001b[22m at \u001b[1m/Users/tiffanyshih/.julia/v0.6/Convex/src/problems.jl:124\u001b[22m\u001b[22m\n",
      " [9] \u001b[1m#solve!#25\u001b[22m\u001b[22m\u001b[1m(\u001b[22m\u001b[22m::Bool, ::Bool, ::Bool, ::Function, ::Convex.Problem\u001b[1m)\u001b[22m\u001b[22m at \u001b[1m/Users/tiffanyshih/.julia/v0.6/Convex/src/solution.jl:25\u001b[22m\u001b[22m\n",
      " [10] \u001b[1m#lasso#30\u001b[22m\u001b[22m\u001b[1m(\u001b[22m\u001b[22m::Int64, ::Function, ::Array{Float64,2}, ::Array{Float64,1}\u001b[1m)\u001b[22m\u001b[22m at \u001b[1m./In[110]:5\u001b[22m\u001b[22m\n",
      " [11] \u001b[1mlasso\u001b[22m\u001b[22m\u001b[1m(\u001b[22m\u001b[22m::Array{Float64,2}, ::Array{Float64,1}\u001b[1m)\u001b[22m\u001b[22m at \u001b[1m./In[110]:2\u001b[22m\u001b[22m\n",
      " [12] \u001b[1minclude_string\u001b[22m\u001b[22m\u001b[1m(\u001b[22m\u001b[22m::String, ::String\u001b[1m)\u001b[22m\u001b[22m at \u001b[1m./loading.jl:515\u001b[22m\u001b[22m\n",
      " [13] \u001b[1minclude_string\u001b[22m\u001b[22m\u001b[1m(\u001b[22m\u001b[22m::Module, ::String, ::String\u001b[1m)\u001b[22m\u001b[22m at \u001b[1m/Users/tiffanyshih/.julia/v0.6/Compat/src/Compat.jl:478\u001b[22m\u001b[22m\n",
      " [14] \u001b[1mexecute_request\u001b[22m\u001b[22m\u001b[1m(\u001b[22m\u001b[22m::ZMQ.Socket, ::IJulia.Msg\u001b[1m)\u001b[22m\u001b[22m at \u001b[1m/Users/tiffanyshih/.julia/v0.6/IJulia/src/execute_request.jl:154\u001b[22m\u001b[22m\n",
      " [15] \u001b[1meventloop\u001b[22m\u001b[22m\u001b[1m(\u001b[22m\u001b[22m::ZMQ.Socket\u001b[1m)\u001b[22m\u001b[22m at \u001b[1m/Users/tiffanyshih/.julia/v0.6/IJulia/src/eventloop.jl:8\u001b[22m\u001b[22m\n",
      " [16] \u001b[1m(::IJulia.##14#17)\u001b[22m\u001b[22m\u001b[1m(\u001b[22m\u001b[22m\u001b[1m)\u001b[22m\u001b[22m at \u001b[1m./task.jl:335\u001b[22m\u001b[22m\n",
      "while loading In[113], in expression starting on line 1\n",
      "\u001b[1m\u001b[33mWARNING: \u001b[39m\u001b[22m\u001b[33mArray{T}(::Type{T}, m::Int) is deprecated, use Array{T}(m) instead.\u001b[39m\n",
      "Stacktrace:\n",
      " [1] \u001b[1mdepwarn\u001b[22m\u001b[22m\u001b[1m(\u001b[22m\u001b[22m::String, ::Symbol\u001b[1m)\u001b[22m\u001b[22m at \u001b[1m./deprecated.jl:70\u001b[22m\u001b[22m\n",
      " [2] \u001b[1mArray\u001b[22m\u001b[22m\u001b[1m(\u001b[22m\u001b[22m::Type{DataStructures.OrderedDict{UInt64,Tuple{Union{AbstractArray, Number},Union{AbstractArray, Number}}}}, ::Int64\u001b[1m)\u001b[22m\u001b[22m at \u001b[1m./deprecated.jl:57\u001b[22m\u001b[22m\n",
      " [3] \u001b[1mconic_form!\u001b[22m\u001b[22m\u001b[1m(\u001b[22m\u001b[22m::Convex.SOCElemConstraint, ::Convex.UniqueConicForms\u001b[1m)\u001b[22m\u001b[22m at \u001b[1m/Users/tiffanyshih/.julia/v0.6/Convex/src/constraints/soc_constraints.jl:51\u001b[22m\u001b[22m\n",
      " [4] \u001b[1mconic_form!\u001b[22m\u001b[22m\u001b[1m(\u001b[22m\u001b[22m::Convex.QolElemAtom, ::Convex.UniqueConicForms\u001b[1m)\u001b[22m\u001b[22m at \u001b[1m/Users/tiffanyshih/.julia/v0.6/Convex/src/atoms/second_order_cone/qol_elementwise.jl:41\u001b[22m\u001b[22m\n",
      " [5] \u001b[1mconic_form!\u001b[22m\u001b[22m\u001b[1m(\u001b[22m\u001b[22m::Convex.AdditionAtom, ::Convex.UniqueConicForms\u001b[1m)\u001b[22m\u001b[22m at \u001b[1m/Users/tiffanyshih/.julia/v0.6/Convex/src/atoms/affine/add_subtract.jl:108\u001b[22m\u001b[22m\n",
      " [6] \u001b[1mconic_form!\u001b[22m\u001b[22m\u001b[1m(\u001b[22m\u001b[22m::Convex.EqConstraint, ::Convex.UniqueConicForms\u001b[1m)\u001b[22m\u001b[22m at \u001b[1m/Users/tiffanyshih/.julia/v0.6/Convex/src/constraints/constraints.jl:43\u001b[22m\u001b[22m\n",
      " [7] \u001b[1mconic_form!\u001b[22m\u001b[22m\u001b[1m(\u001b[22m\u001b[22m::Convex.Problem, ::Convex.UniqueConicForms\u001b[1m)\u001b[22m\u001b[22m at \u001b[1m/Users/tiffanyshih/.julia/v0.6/Convex/src/problems.jl:99\u001b[22m\u001b[22m\n",
      " [8] \u001b[1mconic_problem\u001b[22m\u001b[22m\u001b[1m(\u001b[22m\u001b[22m::Convex.Problem\u001b[1m)\u001b[22m\u001b[22m at \u001b[1m/Users/tiffanyshih/.julia/v0.6/Convex/src/problems.jl:124\u001b[22m\u001b[22m\n",
      " [9] \u001b[1m#solve!#25\u001b[22m\u001b[22m\u001b[1m(\u001b[22m\u001b[22m::Bool, ::Bool, ::Bool, ::Function, ::Convex.Problem\u001b[1m)\u001b[22m\u001b[22m at \u001b[1m/Users/tiffanyshih/.julia/v0.6/Convex/src/solution.jl:25\u001b[22m\u001b[22m\n",
      " [10] \u001b[1m#lasso#30\u001b[22m\u001b[22m\u001b[1m(\u001b[22m\u001b[22m::Int64, ::Function, ::Array{Float64,2}, ::Array{Float64,1}\u001b[1m)\u001b[22m\u001b[22m at \u001b[1m./In[110]:5\u001b[22m\u001b[22m\n",
      " [11] \u001b[1mlasso\u001b[22m\u001b[22m\u001b[1m(\u001b[22m\u001b[22m::Array{Float64,2}, ::Array{Float64,1}\u001b[1m)\u001b[22m\u001b[22m at \u001b[1m./In[110]:2\u001b[22m\u001b[22m\n",
      " [12] \u001b[1minclude_string\u001b[22m\u001b[22m\u001b[1m(\u001b[22m\u001b[22m::String, ::String\u001b[1m)\u001b[22m\u001b[22m at \u001b[1m./loading.jl:515\u001b[22m\u001b[22m\n",
      " [13] \u001b[1minclude_string\u001b[22m\u001b[22m\u001b[1m(\u001b[22m\u001b[22m::Module, ::String, ::String\u001b[1m)\u001b[22m\u001b[22m at \u001b[1m/Users/tiffanyshih/.julia/v0.6/Compat/src/Compat.jl:478\u001b[22m\u001b[22m\n",
      " [14] \u001b[1mexecute_request\u001b[22m\u001b[22m\u001b[1m(\u001b[22m\u001b[22m::ZMQ.Socket, ::IJulia.Msg\u001b[1m)\u001b[22m\u001b[22m at \u001b[1m/Users/tiffanyshih/.julia/v0.6/IJulia/src/execute_request.jl:154\u001b[22m\u001b[22m\n",
      " [15] \u001b[1meventloop\u001b[22m\u001b[22m\u001b[1m(\u001b[22m\u001b[22m::ZMQ.Socket\u001b[1m)\u001b[22m\u001b[22m at \u001b[1m/Users/tiffanyshih/.julia/v0.6/IJulia/src/eventloop.jl:8\u001b[22m\u001b[22m\n",
      " [16] \u001b[1m(::IJulia.##14#17)\u001b[22m\u001b[22m\u001b[1m(\u001b[22m\u001b[22m\u001b[1m)\u001b[22m\u001b[22m at \u001b[1m./task.jl:335\u001b[22m\u001b[22m\n",
      "while loading In[113], in expression starting on line 1\n",
      "\u001b[1m\u001b[33mWARNING: \u001b[39m\u001b[22m\u001b[33mArray{T}(::Type{T}, m::Int) is deprecated, use Array{T}(m) instead.\u001b[39m\n",
      "Stacktrace:\n",
      " [1] \u001b[1mdepwarn\u001b[22m\u001b[22m\u001b[1m(\u001b[22m\u001b[22m::String, ::Symbol\u001b[1m)\u001b[22m\u001b[22m at \u001b[1m./deprecated.jl:70\u001b[22m\u001b[22m\n",
      " [2] \u001b[1mArray\u001b[22m\u001b[22m\u001b[1m(\u001b[22m\u001b[22m::Type{DataStructures.OrderedDict{UInt64,Tuple{Union{AbstractArray, Number},Union{AbstractArray, Number}}}}, ::Int64\u001b[1m)\u001b[22m\u001b[22m at \u001b[1m./deprecated.jl:57\u001b[22m\u001b[22m\n",
      " [3] \u001b[1mconic_form!\u001b[22m\u001b[22m\u001b[1m(\u001b[22m\u001b[22m::Convex.SOCConstraint, ::Convex.UniqueConicForms\u001b[1m)\u001b[22m\u001b[22m at \u001b[1m/Users/tiffanyshih/.julia/v0.6/Convex/src/constraints/soc_constraints.jl:21\u001b[22m\u001b[22m\n",
      " [4] \u001b[1mconic_form!\u001b[22m\u001b[22m\u001b[1m(\u001b[22m\u001b[22m::Convex.EucNormAtom, ::Convex.UniqueConicForms\u001b[1m)\u001b[22m\u001b[22m at \u001b[1m/Users/tiffanyshih/.julia/v0.6/Convex/src/atoms/second_order_cone/norm2.jl:47\u001b[22m\u001b[22m\n",
      " [5] \u001b[1mconic_form!\u001b[22m\u001b[22m\u001b[1m(\u001b[22m\u001b[22m::Convex.MultiplyAtom, ::Convex.UniqueConicForms\u001b[1m)\u001b[22m\u001b[22m at \u001b[1m/Users/tiffanyshih/.julia/v0.6/Convex/src/atoms/affine/multiply_divide.jl:71\u001b[22m\u001b[22m\n",
      " [6] \u001b[1mconic_form!\u001b[22m\u001b[22m\u001b[1m(\u001b[22m\u001b[22m::Convex.SOCElemConstraint, ::Convex.UniqueConicForms\u001b[1m)\u001b[22m\u001b[22m at \u001b[1m/Users/tiffanyshih/.julia/v0.6/Convex/src/constraints/soc_constraints.jl:53\u001b[22m\u001b[22m\n",
      " [7] \u001b[1mconic_form!\u001b[22m\u001b[22m\u001b[1m(\u001b[22m\u001b[22m::Convex.QolElemAtom, ::Convex.UniqueConicForms\u001b[1m)\u001b[22m\u001b[22m at \u001b[1m/Users/tiffanyshih/.julia/v0.6/Convex/src/atoms/second_order_cone/qol_elementwise.jl:41\u001b[22m\u001b[22m\n",
      " [8] \u001b[1mconic_form!\u001b[22m\u001b[22m\u001b[1m(\u001b[22m\u001b[22m::Convex.AdditionAtom, ::Convex.UniqueConicForms\u001b[1m)\u001b[22m\u001b[22m at \u001b[1m/Users/tiffanyshih/.julia/v0.6/Convex/src/atoms/affine/add_subtract.jl:108\u001b[22m\u001b[22m\n",
      " [9] \u001b[1mconic_form!\u001b[22m\u001b[22m\u001b[1m(\u001b[22m\u001b[22m::Convex.EqConstraint, ::Convex.UniqueConicForms\u001b[1m)\u001b[22m\u001b[22m at \u001b[1m/Users/tiffanyshih/.julia/v0.6/Convex/src/constraints/constraints.jl:43\u001b[22m\u001b[22m\n",
      " [10] \u001b[1mconic_form!\u001b[22m\u001b[22m\u001b[1m(\u001b[22m\u001b[22m::Convex.Problem, ::Convex.UniqueConicForms\u001b[1m)\u001b[22m\u001b[22m at \u001b[1m/Users/tiffanyshih/.julia/v0.6/Convex/src/problems.jl:99\u001b[22m\u001b[22m\n",
      " [11] \u001b[1mconic_problem\u001b[22m\u001b[22m\u001b[1m(\u001b[22m\u001b[22m::Convex.Problem\u001b[1m)\u001b[22m\u001b[22m at \u001b[1m/Users/tiffanyshih/.julia/v0.6/Convex/src/problems.jl:124\u001b[22m\u001b[22m\n",
      " [12] \u001b[1m#solve!#25\u001b[22m\u001b[22m\u001b[1m(\u001b[22m\u001b[22m::Bool, ::Bool, ::Bool, ::Function, ::Convex.Problem\u001b[1m)\u001b[22m\u001b[22m at \u001b[1m/Users/tiffanyshih/.julia/v0.6/Convex/src/solution.jl:25\u001b[22m\u001b[22m\n",
      " [13] \u001b[1m#lasso#30\u001b[22m\u001b[22m\u001b[1m(\u001b[22m\u001b[22m::Int64, ::Function, ::Array{Float64,2}, ::Array{Float64,1}\u001b[1m)\u001b[22m\u001b[22m at \u001b[1m./In[110]:5\u001b[22m\u001b[22m\n",
      " [14] \u001b[1mlasso\u001b[22m\u001b[22m\u001b[1m(\u001b[22m\u001b[22m::Array{Float64,2}, ::Array{Float64,1}\u001b[1m)\u001b[22m\u001b[22m at \u001b[1m./In[110]:2\u001b[22m\u001b[22m\n",
      " [15] \u001b[1minclude_string\u001b[22m\u001b[22m\u001b[1m(\u001b[22m\u001b[22m::String, ::String\u001b[1m)\u001b[22m\u001b[22m at \u001b[1m./loading.jl:515\u001b[22m\u001b[22m\n",
      " [16] \u001b[1minclude_string\u001b[22m\u001b[22m\u001b[1m(\u001b[22m\u001b[22m::Module, ::String, ::String\u001b[1m)\u001b[22m\u001b[22m at \u001b[1m/Users/tiffanyshih/.julia/v0.6/Compat/src/Compat.jl:478\u001b[22m\u001b[22m\n",
      " [17] \u001b[1mexecute_request\u001b[22m\u001b[22m\u001b[1m(\u001b[22m\u001b[22m::ZMQ.Socket, ::IJulia.Msg\u001b[1m)\u001b[22m\u001b[22m at \u001b[1m/Users/tiffanyshih/.julia/v0.6/IJulia/src/execute_request.jl:154\u001b[22m\u001b[22m\n",
      " [18] \u001b[1meventloop\u001b[22m\u001b[22m\u001b[1m(\u001b[22m\u001b[22m::ZMQ.Socket\u001b[1m)\u001b[22m\u001b[22m at \u001b[1m/Users/tiffanyshih/.julia/v0.6/IJulia/src/eventloop.jl:8\u001b[22m\u001b[22m\n",
      " [19] \u001b[1m(::IJulia.##14#17)\u001b[22m\u001b[22m\u001b[1m(\u001b[22m\u001b[22m\u001b[1m)\u001b[22m\u001b[22m at \u001b[1m./task.jl:335\u001b[22m\u001b[22m\n",
      "while loading In[113], in expression starting on line 1\n",
      "\u001b[1m\u001b[33mWARNING: \u001b[39m\u001b[22m\u001b[33misnan{T <: Number}(x::AbstractArray{T}) is deprecated, use isnan.(x) instead.\u001b[39m\n",
      "Stacktrace:\n",
      " [1] \u001b[1mdepwarn\u001b[22m\u001b[22m\u001b[1m(\u001b[22m\u001b[22m::String, ::Symbol\u001b[1m)\u001b[22m\u001b[22m at \u001b[1m./deprecated.jl:70\u001b[22m\u001b[22m\n",
      " [2] \u001b[1misnan\u001b[22m\u001b[22m\u001b[1m(\u001b[22m\u001b[22m::Array{Float64,1}\u001b[1m)\u001b[22m\u001b[22m at \u001b[1m./deprecated.jl:57\u001b[22m\u001b[22m\n",
      " [3] \u001b[1mpopulate_solution!\u001b[22m\u001b[22m\u001b[1m(\u001b[22m\u001b[22m::ECOS.ECOSMathProgModel, ::Convex.Problem, ::Dict{UInt64,Tuple{Int64,Int64}}, ::Array{Convex.ConicConstr,1}\u001b[1m)\u001b[22m\u001b[22m at \u001b[1m/Users/tiffanyshih/.julia/v0.6/Convex/src/solution.jl:118\u001b[22m\u001b[22m\n",
      " [4] \u001b[1m#solve!#25\u001b[22m\u001b[22m\u001b[1m(\u001b[22m\u001b[22m::Bool, ::Bool, ::Bool, ::Function, ::Convex.Problem\u001b[1m)\u001b[22m\u001b[22m at \u001b[1m/Users/tiffanyshih/.julia/v0.6/Convex/src/solution.jl:38\u001b[22m\u001b[22m\n",
      " [5] \u001b[1m#lasso#30\u001b[22m\u001b[22m\u001b[1m(\u001b[22m\u001b[22m::Int64, ::Function, ::Array{Float64,2}, ::Array{Float64,1}\u001b[1m)\u001b[22m\u001b[22m at \u001b[1m./In[110]:5\u001b[22m\u001b[22m\n",
      " [6] \u001b[1mlasso\u001b[22m\u001b[22m\u001b[1m(\u001b[22m\u001b[22m::Array{Float64,2}, ::Array{Float64,1}\u001b[1m)\u001b[22m\u001b[22m at \u001b[1m./In[110]:2\u001b[22m\u001b[22m\n",
      " [7] \u001b[1minclude_string\u001b[22m\u001b[22m\u001b[1m(\u001b[22m\u001b[22m::String, ::String\u001b[1m)\u001b[22m\u001b[22m at \u001b[1m./loading.jl:515\u001b[22m\u001b[22m\n",
      " [8] \u001b[1minclude_string\u001b[22m\u001b[22m\u001b[1m(\u001b[22m\u001b[22m::Module, ::String, ::String\u001b[1m)\u001b[22m\u001b[22m at \u001b[1m/Users/tiffanyshih/.julia/v0.6/Compat/src/Compat.jl:478\u001b[22m\u001b[22m\n",
      " [9] \u001b[1mexecute_request\u001b[22m\u001b[22m\u001b[1m(\u001b[22m\u001b[22m::ZMQ.Socket, ::IJulia.Msg\u001b[1m)\u001b[22m\u001b[22m at \u001b[1m/Users/tiffanyshih/.julia/v0.6/IJulia/src/execute_request.jl:154\u001b[22m\u001b[22m\n",
      " [10] \u001b[1meventloop\u001b[22m\u001b[22m\u001b[1m(\u001b[22m\u001b[22m::ZMQ.Socket\u001b[1m)\u001b[22m\u001b[22m at \u001b[1m/Users/tiffanyshih/.julia/v0.6/IJulia/src/eventloop.jl:8\u001b[22m\u001b[22m\n",
      " [11] \u001b[1m(::IJulia.##14#17)\u001b[22m\u001b[22m\u001b[1m(\u001b[22m\u001b[22m\u001b[1m)\u001b[22m\u001b[22m at \u001b[1m./task.jl:335\u001b[22m\u001b[22m\n",
      "while loading In[113], in expression starting on line 1\n",
      "\u001b[1m\u001b[33mWARNING: \u001b[39m\u001b[22m\u001b[33mProblem status Infeasible; solution may be inaccurate.\u001b[39m\n"
     ]
    },
    {
     "data": {
      "text/plain": [
       "41×1 Array{Float64,2}:\n",
       " -67547.4      \n",
       "      1.08297e5\n",
       "    331.91     \n",
       "  93926.8      \n",
       "  86703.0      \n",
       "  86391.0      \n",
       "  86413.3      \n",
       "      2.79417e5\n",
       "  65143.4      \n",
       " 144339.0      \n",
       "      1.42022e5\n",
       "      1.4498e5 \n",
       "      1.43479e5\n",
       "      ⋮        \n",
       "      2.54671e5\n",
       "     -7.25844e5\n",
       "     -8.14462e5\n",
       "      3.9254e5 \n",
       "  85005.7      \n",
       "  86255.7      \n",
       "  87731.6      \n",
       "     -2.6975e5 \n",
       "  -9991.22     \n",
       "     -1.76498e5\n",
       "     -0.0653548\n",
       "     -2.0347e5 "
      ]
     },
     "execution_count": 113,
     "metadata": {},
     "output_type": "execute_result"
    }
   ],
   "source": [
    "w_lasso = lasso(X_train_2003,y_train_2003)"
   ]
  },
  {
   "cell_type": "code",
   "execution_count": 114,
   "metadata": {
    "collapsed": false
   },
   "outputs": [
    {
     "name": "stderr",
     "output_type": "stream",
     "text": [
      "\u001b[1m\u001b[33mWARNING: \u001b[39m\u001b[22m\u001b[33mabs{T <: Number}(x::AbstractArray{T}) is deprecated, use abs.(x) instead.\u001b[39m\n",
      "Stacktrace:\n",
      " [1] \u001b[1mdepwarn\u001b[22m\u001b[22m\u001b[1m(\u001b[22m\u001b[22m::String, ::Symbol\u001b[1m)\u001b[22m\u001b[22m at \u001b[1m./deprecated.jl:70\u001b[22m\u001b[22m\n",
      " [2] \u001b[1mabs\u001b[22m\u001b[22m\u001b[1m(\u001b[22m\u001b[22m::RowVector{Float64,Array{Float64,1}}\u001b[1m)\u001b[22m\u001b[22m at \u001b[1m./deprecated.jl:57\u001b[22m\u001b[22m\n",
      " [3] \u001b[1mmean_abs_err\u001b[22m\u001b[22m\u001b[1m(\u001b[22m\u001b[22m::Array{Float64,2}, ::Array{Float64,1}, ::Array{Float64,2}\u001b[1m)\u001b[22m\u001b[22m at \u001b[1m./In[42]:5\u001b[22m\u001b[22m\n",
      " [4] \u001b[1minclude_string\u001b[22m\u001b[22m\u001b[1m(\u001b[22m\u001b[22m::String, ::String\u001b[1m)\u001b[22m\u001b[22m at \u001b[1m./loading.jl:515\u001b[22m\u001b[22m\n",
      " [5] \u001b[1minclude_string\u001b[22m\u001b[22m\u001b[1m(\u001b[22m\u001b[22m::Module, ::String, ::String\u001b[1m)\u001b[22m\u001b[22m at \u001b[1m/Users/tiffanyshih/.julia/v0.6/Compat/src/Compat.jl:478\u001b[22m\u001b[22m\n",
      " [6] \u001b[1mexecute_request\u001b[22m\u001b[22m\u001b[1m(\u001b[22m\u001b[22m::ZMQ.Socket, ::IJulia.Msg\u001b[1m)\u001b[22m\u001b[22m at \u001b[1m/Users/tiffanyshih/.julia/v0.6/IJulia/src/execute_request.jl:154\u001b[22m\u001b[22m\n",
      " [7] \u001b[1meventloop\u001b[22m\u001b[22m\u001b[1m(\u001b[22m\u001b[22m::ZMQ.Socket\u001b[1m)\u001b[22m\u001b[22m at \u001b[1m/Users/tiffanyshih/.julia/v0.6/IJulia/src/eventloop.jl:8\u001b[22m\u001b[22m\n",
      " [8] \u001b[1m(::IJulia.##14#17)\u001b[22m\u001b[22m\u001b[1m(\u001b[22m\u001b[22m\u001b[1m)\u001b[22m\u001b[22m at \u001b[1m./task.jl:335\u001b[22m\u001b[22m\n",
      "while loading In[114], in expression starting on line 1\n"
     ]
    },
    {
     "data": {
      "text/plain": [
       "1×1 RowVector{Float64,Array{Float64,1}}:\n",
       " 1354.17"
      ]
     },
     "execution_count": 114,
     "metadata": {},
     "output_type": "execute_result"
    }
   ],
   "source": [
    "MAE_train_2003 = mean_abs_err(X_train_2003, y_train_2003, w_lasso)"
   ]
  },
  {
   "cell_type": "code",
   "execution_count": 115,
   "metadata": {
    "collapsed": false
   },
   "outputs": [
    {
     "data": {
      "text/plain": [
       "nnls (generic function with 1 method)"
      ]
     },
     "execution_count": 115,
     "metadata": {},
     "output_type": "execute_result"
    }
   ],
   "source": [
    "function nnls(X,y)\n",
    "    d = size(X,2)\n",
    "    w = Variable(d)\n",
    "    p = minimize(sumsquares(X*w - y), w>=0)\n",
    "    solve!(p)\n",
    "    return w.value\n",
    "end"
   ]
  },
  {
   "cell_type": "code",
   "execution_count": 116,
   "metadata": {
    "collapsed": false,
    "scrolled": false
   },
   "outputs": [
    {
     "name": "stderr",
     "output_type": "stream",
     "text": [
      "\u001b[1m\u001b[33mWARNING: \u001b[39m\u001b[22m\u001b[33mArray{T}(::Type{T}, m::Int) is deprecated, use Array{T}(m) instead.\u001b[39m\n",
      "Stacktrace:\n",
      " [1] \u001b[1mdepwarn\u001b[22m\u001b[22m\u001b[1m(\u001b[22m\u001b[22m::String, ::Symbol\u001b[1m)\u001b[22m\u001b[22m at \u001b[1m./deprecated.jl:70\u001b[22m\u001b[22m\n",
      " [2] \u001b[1mArray\u001b[22m\u001b[22m\u001b[1m(\u001b[22m\u001b[22m::Type{Convex.ConicConstr}, ::Int64\u001b[1m)\u001b[22m\u001b[22m at \u001b[1m./deprecated.jl:57\u001b[22m\u001b[22m\n",
      " [3] \u001b[1mconic_form!\u001b[22m\u001b[22m\u001b[1m(\u001b[22m\u001b[22m::Convex.SOCElemConstraint, ::Convex.UniqueConicForms\u001b[1m)\u001b[22m\u001b[22m at \u001b[1m/Users/tiffanyshih/.julia/v0.6/Convex/src/constraints/soc_constraints.jl:50\u001b[22m\u001b[22m\n",
      " [4] \u001b[1mconic_form!\u001b[22m\u001b[22m\u001b[1m(\u001b[22m\u001b[22m::Convex.QolElemAtom, ::Convex.UniqueConicForms\u001b[1m)\u001b[22m\u001b[22m at \u001b[1m/Users/tiffanyshih/.julia/v0.6/Convex/src/atoms/second_order_cone/qol_elementwise.jl:41\u001b[22m\u001b[22m\n",
      " [5] \u001b[1mconic_form!\u001b[22m\u001b[22m\u001b[1m(\u001b[22m\u001b[22m::Convex.AdditionAtom, ::Convex.UniqueConicForms\u001b[1m)\u001b[22m\u001b[22m at \u001b[1m/Users/tiffanyshih/.julia/v0.6/Convex/src/atoms/affine/add_subtract.jl:108\u001b[22m\u001b[22m\n",
      " [6] \u001b[1mconic_form!\u001b[22m\u001b[22m\u001b[1m(\u001b[22m\u001b[22m::Convex.EqConstraint, ::Convex.UniqueConicForms\u001b[1m)\u001b[22m\u001b[22m at \u001b[1m/Users/tiffanyshih/.julia/v0.6/Convex/src/constraints/constraints.jl:43\u001b[22m\u001b[22m\n",
      " [7] \u001b[1mconic_form!\u001b[22m\u001b[22m\u001b[1m(\u001b[22m\u001b[22m::Convex.Problem, ::Convex.UniqueConicForms\u001b[1m)\u001b[22m\u001b[22m at \u001b[1m/Users/tiffanyshih/.julia/v0.6/Convex/src/problems.jl:99\u001b[22m\u001b[22m\n",
      " [8] \u001b[1mconic_problem\u001b[22m\u001b[22m\u001b[1m(\u001b[22m\u001b[22m::Convex.Problem\u001b[1m)\u001b[22m\u001b[22m at \u001b[1m/Users/tiffanyshih/.julia/v0.6/Convex/src/problems.jl:124\u001b[22m\u001b[22m\n",
      " [9] \u001b[1m#solve!#25\u001b[22m\u001b[22m\u001b[1m(\u001b[22m\u001b[22m::Bool, ::Bool, ::Bool, ::Function, ::Convex.Problem\u001b[1m)\u001b[22m\u001b[22m at \u001b[1m/Users/tiffanyshih/.julia/v0.6/Convex/src/solution.jl:25\u001b[22m\u001b[22m\n",
      " [10] \u001b[1mnnls\u001b[22m\u001b[22m\u001b[1m(\u001b[22m\u001b[22m::Array{Float64,2}, ::Array{Float64,1}\u001b[1m)\u001b[22m\u001b[22m at \u001b[1m./In[115]:5\u001b[22m\u001b[22m\n",
      " [11] \u001b[1minclude_string\u001b[22m\u001b[22m\u001b[1m(\u001b[22m\u001b[22m::String, ::String\u001b[1m)\u001b[22m\u001b[22m at \u001b[1m./loading.jl:515\u001b[22m\u001b[22m\n",
      " [12] \u001b[1minclude_string\u001b[22m\u001b[22m\u001b[1m(\u001b[22m\u001b[22m::Module, ::String, ::String\u001b[1m)\u001b[22m\u001b[22m at \u001b[1m/Users/tiffanyshih/.julia/v0.6/Compat/src/Compat.jl:478\u001b[22m\u001b[22m\n",
      " [13] \u001b[1mexecute_request\u001b[22m\u001b[22m\u001b[1m(\u001b[22m\u001b[22m::ZMQ.Socket, ::IJulia.Msg\u001b[1m)\u001b[22m\u001b[22m at \u001b[1m/Users/tiffanyshih/.julia/v0.6/IJulia/src/execute_request.jl:154\u001b[22m\u001b[22m\n",
      " [14] \u001b[1meventloop\u001b[22m\u001b[22m\u001b[1m(\u001b[22m\u001b[22m::ZMQ.Socket\u001b[1m)\u001b[22m\u001b[22m at \u001b[1m/Users/tiffanyshih/.julia/v0.6/IJulia/src/eventloop.jl:8\u001b[22m\u001b[22m\n",
      " [15] \u001b[1m(::IJulia.##14#17)\u001b[22m\u001b[22m\u001b[1m(\u001b[22m\u001b[22m\u001b[1m)\u001b[22m\u001b[22m at \u001b[1m./task.jl:335\u001b[22m\u001b[22m\n",
      "while loading In[116], in expression starting on line 1\n",
      "\u001b[1m\u001b[33mWARNING: \u001b[39m\u001b[22m\u001b[33mArray{T}(::Type{T}, m::Int) is deprecated, use Array{T}(m) instead.\u001b[39m\n",
      "Stacktrace:\n",
      " [1] \u001b[1mdepwarn\u001b[22m\u001b[22m\u001b[1m(\u001b[22m\u001b[22m::String, ::Symbol\u001b[1m)\u001b[22m\u001b[22m at \u001b[1m./deprecated.jl:70\u001b[22m\u001b[22m\n",
      " [2] \u001b[1mArray\u001b[22m\u001b[22m\u001b[1m(\u001b[22m\u001b[22m::Type{DataStructures.OrderedDict{UInt64,Tuple{Union{AbstractArray, Number},Union{AbstractArray, Number}}}}, ::Int64\u001b[1m)\u001b[22m\u001b[22m at \u001b[1m./deprecated.jl:57\u001b[22m\u001b[22m\n",
      " [3] \u001b[1mconic_form!\u001b[22m\u001b[22m\u001b[1m(\u001b[22m\u001b[22m::Convex.SOCElemConstraint, ::Convex.UniqueConicForms\u001b[1m)\u001b[22m\u001b[22m at \u001b[1m/Users/tiffanyshih/.julia/v0.6/Convex/src/constraints/soc_constraints.jl:51\u001b[22m\u001b[22m\n",
      " [4] \u001b[1mconic_form!\u001b[22m\u001b[22m\u001b[1m(\u001b[22m\u001b[22m::Convex.QolElemAtom, ::Convex.UniqueConicForms\u001b[1m)\u001b[22m\u001b[22m at \u001b[1m/Users/tiffanyshih/.julia/v0.6/Convex/src/atoms/second_order_cone/qol_elementwise.jl:41\u001b[22m\u001b[22m\n",
      " [5] \u001b[1mconic_form!\u001b[22m\u001b[22m\u001b[1m(\u001b[22m\u001b[22m::Convex.AdditionAtom, ::Convex.UniqueConicForms\u001b[1m)\u001b[22m\u001b[22m at \u001b[1m/Users/tiffanyshih/.julia/v0.6/Convex/src/atoms/affine/add_subtract.jl:108\u001b[22m\u001b[22m\n",
      " [6] \u001b[1mconic_form!\u001b[22m\u001b[22m\u001b[1m(\u001b[22m\u001b[22m::Convex.EqConstraint, ::Convex.UniqueConicForms\u001b[1m)\u001b[22m\u001b[22m at \u001b[1m/Users/tiffanyshih/.julia/v0.6/Convex/src/constraints/constraints.jl:43\u001b[22m\u001b[22m\n",
      " [7] \u001b[1mconic_form!\u001b[22m\u001b[22m\u001b[1m(\u001b[22m\u001b[22m::Convex.Problem, ::Convex.UniqueConicForms\u001b[1m)\u001b[22m\u001b[22m at \u001b[1m/Users/tiffanyshih/.julia/v0.6/Convex/src/problems.jl:99\u001b[22m\u001b[22m\n",
      " [8] \u001b[1mconic_problem\u001b[22m\u001b[22m\u001b[1m(\u001b[22m\u001b[22m::Convex.Problem\u001b[1m)\u001b[22m\u001b[22m at \u001b[1m/Users/tiffanyshih/.julia/v0.6/Convex/src/problems.jl:124\u001b[22m\u001b[22m\n",
      " [9] \u001b[1m#solve!#25\u001b[22m\u001b[22m\u001b[1m(\u001b[22m\u001b[22m::Bool, ::Bool, ::Bool, ::Function, ::Convex.Problem\u001b[1m)\u001b[22m\u001b[22m at \u001b[1m/Users/tiffanyshih/.julia/v0.6/Convex/src/solution.jl:25\u001b[22m\u001b[22m\n",
      " [10] \u001b[1mnnls\u001b[22m\u001b[22m\u001b[1m(\u001b[22m\u001b[22m::Array{Float64,2}, ::Array{Float64,1}\u001b[1m)\u001b[22m\u001b[22m at \u001b[1m./In[115]:5\u001b[22m\u001b[22m\n",
      " [11] \u001b[1minclude_string\u001b[22m\u001b[22m\u001b[1m(\u001b[22m\u001b[22m::String, ::String\u001b[1m)\u001b[22m\u001b[22m at \u001b[1m./loading.jl:515\u001b[22m\u001b[22m\n",
      " [12] \u001b[1minclude_string\u001b[22m\u001b[22m\u001b[1m(\u001b[22m\u001b[22m::Module, ::String, ::String\u001b[1m)\u001b[22m\u001b[22m at \u001b[1m/Users/tiffanyshih/.julia/v0.6/Compat/src/Compat.jl:478\u001b[22m\u001b[22m\n",
      " [13] \u001b[1mexecute_request\u001b[22m\u001b[22m\u001b[1m(\u001b[22m\u001b[22m::ZMQ.Socket, ::IJulia.Msg\u001b[1m)\u001b[22m\u001b[22m at \u001b[1m/Users/tiffanyshih/.julia/v0.6/IJulia/src/execute_request.jl:154\u001b[22m\u001b[22m\n",
      " [14] \u001b[1meventloop\u001b[22m\u001b[22m\u001b[1m(\u001b[22m\u001b[22m::ZMQ.Socket\u001b[1m)\u001b[22m\u001b[22m at \u001b[1m/Users/tiffanyshih/.julia/v0.6/IJulia/src/eventloop.jl:8\u001b[22m\u001b[22m\n",
      " [15] \u001b[1m(::IJulia.##14#17)\u001b[22m\u001b[22m\u001b[1m(\u001b[22m\u001b[22m\u001b[1m)\u001b[22m\u001b[22m at \u001b[1m./task.jl:335\u001b[22m\u001b[22m\n",
      "while loading In[116], in expression starting on line 1\n",
      "\u001b[1m\u001b[33mWARNING: \u001b[39m\u001b[22m\u001b[33mArray{T}(::Type{T}, m::Int) is deprecated, use Array{T}(m) instead.\u001b[39m\n",
      "Stacktrace:\n",
      " [1] \u001b[1mdepwarn\u001b[22m\u001b[22m\u001b[1m(\u001b[22m\u001b[22m::String, ::Symbol\u001b[1m)\u001b[22m\u001b[22m at \u001b[1m./deprecated.jl:70\u001b[22m\u001b[22m\n",
      " [2] \u001b[1mArray\u001b[22m\u001b[22m\u001b[1m(\u001b[22m\u001b[22m::Type{DataStructures.OrderedDict{UInt64,Tuple{Union{AbstractArray, Number},Union{AbstractArray, Number}}}}, ::Int64\u001b[1m)\u001b[22m\u001b[22m at \u001b[1m./deprecated.jl:57\u001b[22m\u001b[22m\n",
      " [3] \u001b[1mconic_form!\u001b[22m\u001b[22m\u001b[1m(\u001b[22m\u001b[22m::Convex.SOCConstraint, ::Convex.UniqueConicForms\u001b[1m)\u001b[22m\u001b[22m at \u001b[1m/Users/tiffanyshih/.julia/v0.6/Convex/src/constraints/soc_constraints.jl:21\u001b[22m\u001b[22m\n",
      " [4] \u001b[1mconic_form!\u001b[22m\u001b[22m\u001b[1m(\u001b[22m\u001b[22m::Convex.EucNormAtom, ::Convex.UniqueConicForms\u001b[1m)\u001b[22m\u001b[22m at \u001b[1m/Users/tiffanyshih/.julia/v0.6/Convex/src/atoms/second_order_cone/norm2.jl:47\u001b[22m\u001b[22m\n",
      " [5] \u001b[1mconic_form!\u001b[22m\u001b[22m\u001b[1m(\u001b[22m\u001b[22m::Convex.MultiplyAtom, ::Convex.UniqueConicForms\u001b[1m)\u001b[22m\u001b[22m at \u001b[1m/Users/tiffanyshih/.julia/v0.6/Convex/src/atoms/affine/multiply_divide.jl:71\u001b[22m\u001b[22m\n",
      " [6] \u001b[1mconic_form!\u001b[22m\u001b[22m\u001b[1m(\u001b[22m\u001b[22m::Convex.SOCElemConstraint, ::Convex.UniqueConicForms\u001b[1m)\u001b[22m\u001b[22m at \u001b[1m/Users/tiffanyshih/.julia/v0.6/Convex/src/constraints/soc_constraints.jl:53\u001b[22m\u001b[22m\n",
      " [7] \u001b[1mconic_form!\u001b[22m\u001b[22m\u001b[1m(\u001b[22m\u001b[22m::Convex.QolElemAtom, ::Convex.UniqueConicForms\u001b[1m)\u001b[22m\u001b[22m at \u001b[1m/Users/tiffanyshih/.julia/v0.6/Convex/src/atoms/second_order_cone/qol_elementwise.jl:41\u001b[22m\u001b[22m\n",
      " [8] \u001b[1mconic_form!\u001b[22m\u001b[22m\u001b[1m(\u001b[22m\u001b[22m::Convex.AdditionAtom, ::Convex.UniqueConicForms\u001b[1m)\u001b[22m\u001b[22m at \u001b[1m/Users/tiffanyshih/.julia/v0.6/Convex/src/atoms/affine/add_subtract.jl:108\u001b[22m\u001b[22m\n",
      " [9] \u001b[1mconic_form!\u001b[22m\u001b[22m\u001b[1m(\u001b[22m\u001b[22m::Convex.EqConstraint, ::Convex.UniqueConicForms\u001b[1m)\u001b[22m\u001b[22m at \u001b[1m/Users/tiffanyshih/.julia/v0.6/Convex/src/constraints/constraints.jl:43\u001b[22m\u001b[22m\n",
      " [10] \u001b[1mconic_form!\u001b[22m\u001b[22m\u001b[1m(\u001b[22m\u001b[22m::Convex.Problem, ::Convex.UniqueConicForms\u001b[1m)\u001b[22m\u001b[22m at \u001b[1m/Users/tiffanyshih/.julia/v0.6/Convex/src/problems.jl:99\u001b[22m\u001b[22m\n",
      " [11] \u001b[1mconic_problem\u001b[22m\u001b[22m\u001b[1m(\u001b[22m\u001b[22m::Convex.Problem\u001b[1m)\u001b[22m\u001b[22m at \u001b[1m/Users/tiffanyshih/.julia/v0.6/Convex/src/problems.jl:124\u001b[22m\u001b[22m\n",
      " [12] \u001b[1m#solve!#25\u001b[22m\u001b[22m\u001b[1m(\u001b[22m\u001b[22m::Bool, ::Bool, ::Bool, ::Function, ::Convex.Problem\u001b[1m)\u001b[22m\u001b[22m at \u001b[1m/Users/tiffanyshih/.julia/v0.6/Convex/src/solution.jl:25\u001b[22m\u001b[22m\n",
      " [13] \u001b[1mnnls\u001b[22m\u001b[22m\u001b[1m(\u001b[22m\u001b[22m::Array{Float64,2}, ::Array{Float64,1}\u001b[1m)\u001b[22m\u001b[22m at \u001b[1m./In[115]:5\u001b[22m\u001b[22m\n",
      " [14] \u001b[1minclude_string\u001b[22m\u001b[22m\u001b[1m(\u001b[22m\u001b[22m::String, ::String\u001b[1m)\u001b[22m\u001b[22m at \u001b[1m./loading.jl:515\u001b[22m\u001b[22m\n",
      " [15] \u001b[1minclude_string\u001b[22m\u001b[22m\u001b[1m(\u001b[22m\u001b[22m::Module, ::String, ::String\u001b[1m)\u001b[22m\u001b[22m at \u001b[1m/Users/tiffanyshih/.julia/v0.6/Compat/src/Compat.jl:478\u001b[22m\u001b[22m\n",
      " [16] \u001b[1mexecute_request\u001b[22m\u001b[22m\u001b[1m(\u001b[22m\u001b[22m::ZMQ.Socket, ::IJulia.Msg\u001b[1m)\u001b[22m\u001b[22m at \u001b[1m/Users/tiffanyshih/.julia/v0.6/IJulia/src/execute_request.jl:154\u001b[22m\u001b[22m\n",
      " [17] \u001b[1meventloop\u001b[22m\u001b[22m\u001b[1m(\u001b[22m\u001b[22m::ZMQ.Socket\u001b[1m)\u001b[22m\u001b[22m at \u001b[1m/Users/tiffanyshih/.julia/v0.6/IJulia/src/eventloop.jl:8\u001b[22m\u001b[22m\n",
      " [18] \u001b[1m(::IJulia.##14#17)\u001b[22m\u001b[22m\u001b[1m(\u001b[22m\u001b[22m\u001b[1m)\u001b[22m\u001b[22m at \u001b[1m./task.jl:335\u001b[22m\u001b[22m\n",
      "while loading In[116], in expression starting on line 1\n",
      "\u001b[1m\u001b[33mWARNING: \u001b[39m\u001b[22m\u001b[33misnan{T <: Number}(x::AbstractArray{T}) is deprecated, use isnan.(x) instead.\u001b[39m\n",
      "Stacktrace:\n",
      " [1] \u001b[1mdepwarn\u001b[22m\u001b[22m\u001b[1m(\u001b[22m\u001b[22m::String, ::Symbol\u001b[1m)\u001b[22m\u001b[22m at \u001b[1m./deprecated.jl:70\u001b[22m\u001b[22m\n",
      " [2] \u001b[1misnan\u001b[22m\u001b[22m\u001b[1m(\u001b[22m\u001b[22m::Array{Float64,1}\u001b[1m)\u001b[22m\u001b[22m at \u001b[1m./deprecated.jl:57\u001b[22m\u001b[22m\n",
      " [3] \u001b[1mpopulate_solution!\u001b[22m\u001b[22m\u001b[1m(\u001b[22m\u001b[22m::ECOS.ECOSMathProgModel, ::Convex.Problem, ::Dict{UInt64,Tuple{Int64,Int64}}, ::Array{Convex.ConicConstr,1}\u001b[1m)\u001b[22m\u001b[22m at \u001b[1m/Users/tiffanyshih/.julia/v0.6/Convex/src/solution.jl:118\u001b[22m\u001b[22m\n",
      " [4] \u001b[1m#solve!#25\u001b[22m\u001b[22m\u001b[1m(\u001b[22m\u001b[22m::Bool, ::Bool, ::Bool, ::Function, ::Convex.Problem\u001b[1m)\u001b[22m\u001b[22m at \u001b[1m/Users/tiffanyshih/.julia/v0.6/Convex/src/solution.jl:38\u001b[22m\u001b[22m\n",
      " [5] \u001b[1mnnls\u001b[22m\u001b[22m\u001b[1m(\u001b[22m\u001b[22m::Array{Float64,2}, ::Array{Float64,1}\u001b[1m)\u001b[22m\u001b[22m at \u001b[1m./In[115]:5\u001b[22m\u001b[22m\n",
      " [6] \u001b[1minclude_string\u001b[22m\u001b[22m\u001b[1m(\u001b[22m\u001b[22m::String, ::String\u001b[1m)\u001b[22m\u001b[22m at \u001b[1m./loading.jl:515\u001b[22m\u001b[22m\n",
      " [7] \u001b[1minclude_string\u001b[22m\u001b[22m\u001b[1m(\u001b[22m\u001b[22m::Module, ::String, ::String\u001b[1m)\u001b[22m\u001b[22m at \u001b[1m/Users/tiffanyshih/.julia/v0.6/Compat/src/Compat.jl:478\u001b[22m\u001b[22m\n",
      " [8] \u001b[1mexecute_request\u001b[22m\u001b[22m\u001b[1m(\u001b[22m\u001b[22m::ZMQ.Socket, ::IJulia.Msg\u001b[1m)\u001b[22m\u001b[22m at \u001b[1m/Users/tiffanyshih/.julia/v0.6/IJulia/src/execute_request.jl:154\u001b[22m\u001b[22m\n",
      " [9] \u001b[1meventloop\u001b[22m\u001b[22m\u001b[1m(\u001b[22m\u001b[22m::ZMQ.Socket\u001b[1m)\u001b[22m\u001b[22m at \u001b[1m/Users/tiffanyshih/.julia/v0.6/IJulia/src/eventloop.jl:8\u001b[22m\u001b[22m\n",
      " [10] \u001b[1m(::IJulia.##14#17)\u001b[22m\u001b[22m\u001b[1m(\u001b[22m\u001b[22m\u001b[1m)\u001b[22m\u001b[22m at \u001b[1m./task.jl:335\u001b[22m\u001b[22m\n",
      "while loading In[116], in expression starting on line 1\n",
      "\u001b[1m\u001b[33mWARNING: \u001b[39m\u001b[22m\u001b[33mProblem status Infeasible; solution may be inaccurate.\u001b[39m\n"
     ]
    },
    {
     "data": {
      "text/plain": [
       "41×1 Array{Float64,2}:\n",
       "   125.613     \n",
       "   254.143     \n",
       "   214.896     \n",
       "   117.288     \n",
       "   237.508     \n",
       "   309.536     \n",
       "   977.399     \n",
       "   529.05      \n",
       "  4316.93      \n",
       "   612.235     \n",
       "   785.395     \n",
       "   490.927     \n",
       "   594.969     \n",
       "     ⋮         \n",
       "   359.701     \n",
       "     1.36421e5 \n",
       "     1.36636e5 \n",
       " 16127.4       \n",
       "  1622.98      \n",
       "  2592.45      \n",
       "   809.968     \n",
       " 75369.0       \n",
       "   737.48      \n",
       "  2114.72      \n",
       "    -0.00197232\n",
       "   116.809     "
      ]
     },
     "execution_count": 116,
     "metadata": {},
     "output_type": "execute_result"
    }
   ],
   "source": [
    "w_nnls = nnls(X_train_2003,y_train_2003)"
   ]
  },
  {
   "cell_type": "code",
   "execution_count": 117,
   "metadata": {
    "collapsed": false
   },
   "outputs": [
    {
     "name": "stderr",
     "output_type": "stream",
     "text": [
      "\u001b[1m\u001b[33mWARNING: \u001b[39m\u001b[22m\u001b[33mabs{T <: Number}(x::AbstractArray{T}) is deprecated, use abs.(x) instead.\u001b[39m\n",
      "Stacktrace:\n",
      " [1] \u001b[1mdepwarn\u001b[22m\u001b[22m\u001b[1m(\u001b[22m\u001b[22m::String, ::Symbol\u001b[1m)\u001b[22m\u001b[22m at \u001b[1m./deprecated.jl:70\u001b[22m\u001b[22m\n",
      " [2] \u001b[1mabs\u001b[22m\u001b[22m\u001b[1m(\u001b[22m\u001b[22m::RowVector{Float64,Array{Float64,1}}\u001b[1m)\u001b[22m\u001b[22m at \u001b[1m./deprecated.jl:57\u001b[22m\u001b[22m\n",
      " [3] \u001b[1mmean_abs_err\u001b[22m\u001b[22m\u001b[1m(\u001b[22m\u001b[22m::Array{Float64,2}, ::Array{Float64,1}, ::Array{Float64,2}\u001b[1m)\u001b[22m\u001b[22m at \u001b[1m./In[42]:5\u001b[22m\u001b[22m\n",
      " [4] \u001b[1minclude_string\u001b[22m\u001b[22m\u001b[1m(\u001b[22m\u001b[22m::String, ::String\u001b[1m)\u001b[22m\u001b[22m at \u001b[1m./loading.jl:515\u001b[22m\u001b[22m\n",
      " [5] \u001b[1minclude_string\u001b[22m\u001b[22m\u001b[1m(\u001b[22m\u001b[22m::Module, ::String, ::String\u001b[1m)\u001b[22m\u001b[22m at \u001b[1m/Users/tiffanyshih/.julia/v0.6/Compat/src/Compat.jl:478\u001b[22m\u001b[22m\n",
      " [6] \u001b[1mexecute_request\u001b[22m\u001b[22m\u001b[1m(\u001b[22m\u001b[22m::ZMQ.Socket, ::IJulia.Msg\u001b[1m)\u001b[22m\u001b[22m at \u001b[1m/Users/tiffanyshih/.julia/v0.6/IJulia/src/execute_request.jl:154\u001b[22m\u001b[22m\n",
      " [7] \u001b[1meventloop\u001b[22m\u001b[22m\u001b[1m(\u001b[22m\u001b[22m::ZMQ.Socket\u001b[1m)\u001b[22m\u001b[22m at \u001b[1m/Users/tiffanyshih/.julia/v0.6/IJulia/src/eventloop.jl:8\u001b[22m\u001b[22m\n",
      " [8] \u001b[1m(::IJulia.##14#17)\u001b[22m\u001b[22m\u001b[1m(\u001b[22m\u001b[22m\u001b[1m)\u001b[22m\u001b[22m at \u001b[1m./task.jl:335\u001b[22m\u001b[22m\n",
      "while loading In[117], in expression starting on line 1\n"
     ]
    },
    {
     "data": {
      "text/plain": [
       "1×1 RowVector{Float64,Array{Float64,1}}:\n",
       " 1462.94"
      ]
     },
     "execution_count": 117,
     "metadata": {},
     "output_type": "execute_result"
    }
   ],
   "source": [
    "MAE_train_2003 = mean_abs_err(X_train_2003, y_train_2003, w_nnls)"
   ]
  },
  {
   "cell_type": "code",
   "execution_count": 145,
   "metadata": {
    "collapsed": false,
    "scrolled": false
   },
   "outputs": [
    {
     "name": "stderr",
     "output_type": "stream",
     "text": [
      "\u001b[1m\u001b[33mWARNING: \u001b[39m\u001b[22m\u001b[33mArray{T}(::Type{T}, m::Int) is deprecated, use Array{T}(m) instead.\u001b[39m\n",
      "Stacktrace:\n",
      " [1] \u001b[1mdepwarn\u001b[22m\u001b[22m\u001b[1m(\u001b[22m\u001b[22m::String, ::Symbol\u001b[1m)\u001b[22m\u001b[22m at \u001b[1m./deprecated.jl:70\u001b[22m\u001b[22m\n",
      " [2] \u001b[1mArray\u001b[22m\u001b[22m\u001b[1m(\u001b[22m\u001b[22m::Type{Convex.ConicConstr}, ::Int64\u001b[1m)\u001b[22m\u001b[22m at \u001b[1m./deprecated.jl:57\u001b[22m\u001b[22m\n",
      " [3] \u001b[1mconic_form!\u001b[22m\u001b[22m\u001b[1m(\u001b[22m\u001b[22m::Convex.SOCElemConstraint, ::Convex.UniqueConicForms\u001b[1m)\u001b[22m\u001b[22m at \u001b[1m/Users/tiffanyshih/.julia/v0.6/Convex/src/constraints/soc_constraints.jl:50\u001b[22m\u001b[22m\n",
      " [4] \u001b[1mconic_form!\u001b[22m\u001b[22m\u001b[1m(\u001b[22m\u001b[22m::Convex.QolElemAtom, ::Convex.UniqueConicForms\u001b[1m)\u001b[22m\u001b[22m at \u001b[1m/Users/tiffanyshih/.julia/v0.6/Convex/src/atoms/second_order_cone/qol_elementwise.jl:41\u001b[22m\u001b[22m\n",
      " [5] \u001b[1mconic_form!\u001b[22m\u001b[22m\u001b[1m(\u001b[22m\u001b[22m::Convex.AdditionAtom, ::Convex.UniqueConicForms\u001b[1m)\u001b[22m\u001b[22m at \u001b[1m/Users/tiffanyshih/.julia/v0.6/Convex/src/atoms/affine/add_subtract.jl:108\u001b[22m\u001b[22m\n",
      " [6] \u001b[1mconic_form!\u001b[22m\u001b[22m\u001b[1m(\u001b[22m\u001b[22m::Convex.EqConstraint, ::Convex.UniqueConicForms\u001b[1m)\u001b[22m\u001b[22m at \u001b[1m/Users/tiffanyshih/.julia/v0.6/Convex/src/constraints/constraints.jl:43\u001b[22m\u001b[22m\n",
      " [7] \u001b[1mconic_form!\u001b[22m\u001b[22m\u001b[1m(\u001b[22m\u001b[22m::Convex.Problem, ::Convex.UniqueConicForms\u001b[1m)\u001b[22m\u001b[22m at \u001b[1m/Users/tiffanyshih/.julia/v0.6/Convex/src/problems.jl:99\u001b[22m\u001b[22m\n",
      " [8] \u001b[1mconic_problem\u001b[22m\u001b[22m\u001b[1m(\u001b[22m\u001b[22m::Convex.Problem\u001b[1m)\u001b[22m\u001b[22m at \u001b[1m/Users/tiffanyshih/.julia/v0.6/Convex/src/problems.jl:124\u001b[22m\u001b[22m\n",
      " [9] \u001b[1m#solve!#25\u001b[22m\u001b[22m\u001b[1m(\u001b[22m\u001b[22m::Bool, ::Bool, ::Bool, ::Function, ::Convex.Problem\u001b[1m)\u001b[22m\u001b[22m at \u001b[1m/Users/tiffanyshih/.julia/v0.6/Convex/src/solution.jl:25\u001b[22m\u001b[22m\n",
      " [10] \u001b[1m#ridge_regression#29\u001b[22m\u001b[22m\u001b[1m(\u001b[22m\u001b[22m::Float64, ::Function, ::Array{Float64,2}, ::Array{Float64,1}\u001b[1m)\u001b[22m\u001b[22m at \u001b[1m./In[109]:5\u001b[22m\u001b[22m\n",
      " [11] \u001b[1m(::#kw##ridge_regression)\u001b[22m\u001b[22m\u001b[1m(\u001b[22m\u001b[22m::Array{Any,1}, ::#ridge_regression, ::Array{Float64,2}, ::Array{Float64,1}\u001b[1m)\u001b[22m\u001b[22m at \u001b[1m./<missing>:0\u001b[22m\u001b[22m\n",
      " [12] \u001b[1mmacro expansion\u001b[22m\u001b[22m at \u001b[1m./In[145]:4\u001b[22m\u001b[22m [inlined]\n",
      " [13] \u001b[1manonymous\u001b[22m\u001b[22m at \u001b[1m./<missing>:?\u001b[22m\u001b[22m\n",
      " [14] \u001b[1minclude_string\u001b[22m\u001b[22m\u001b[1m(\u001b[22m\u001b[22m::String, ::String\u001b[1m)\u001b[22m\u001b[22m at \u001b[1m./loading.jl:515\u001b[22m\u001b[22m\n",
      " [15] \u001b[1minclude_string\u001b[22m\u001b[22m\u001b[1m(\u001b[22m\u001b[22m::Module, ::String, ::String\u001b[1m)\u001b[22m\u001b[22m at \u001b[1m/Users/tiffanyshih/.julia/v0.6/Compat/src/Compat.jl:478\u001b[22m\u001b[22m\n",
      " [16] \u001b[1mexecute_request\u001b[22m\u001b[22m\u001b[1m(\u001b[22m\u001b[22m::ZMQ.Socket, ::IJulia.Msg\u001b[1m)\u001b[22m\u001b[22m at \u001b[1m/Users/tiffanyshih/.julia/v0.6/IJulia/src/execute_request.jl:154\u001b[22m\u001b[22m\n",
      " [17] \u001b[1meventloop\u001b[22m\u001b[22m\u001b[1m(\u001b[22m\u001b[22m::ZMQ.Socket\u001b[1m)\u001b[22m\u001b[22m at \u001b[1m/Users/tiffanyshih/.julia/v0.6/IJulia/src/eventloop.jl:8\u001b[22m\u001b[22m\n",
      " [18] \u001b[1m(::IJulia.##14#17)\u001b[22m\u001b[22m\u001b[1m(\u001b[22m\u001b[22m\u001b[1m)\u001b[22m\u001b[22m at \u001b[1m./task.jl:335\u001b[22m\u001b[22m\n",
      "while loading In[145], in expression starting on line 3\n",
      "\u001b[1m\u001b[33mWARNING: \u001b[39m\u001b[22m\u001b[33mArray{T}(::Type{T}, m::Int) is deprecated, use Array{T}(m) instead.\u001b[39m\n",
      "Stacktrace:\n",
      " [1] \u001b[1mdepwarn\u001b[22m\u001b[22m\u001b[1m(\u001b[22m\u001b[22m::String, ::Symbol\u001b[1m)\u001b[22m\u001b[22m at \u001b[1m./deprecated.jl:70\u001b[22m\u001b[22m\n",
      " [2] \u001b[1mArray\u001b[22m\u001b[22m\u001b[1m(\u001b[22m\u001b[22m::Type{DataStructures.OrderedDict{UInt64,Tuple{Union{AbstractArray, Number},Union{AbstractArray, Number}}}}, ::Int64\u001b[1m)\u001b[22m\u001b[22m at \u001b[1m./deprecated.jl:57\u001b[22m\u001b[22m\n",
      " [3] \u001b[1mconic_form!\u001b[22m\u001b[22m\u001b[1m(\u001b[22m\u001b[22m::Convex.SOCElemConstraint, ::Convex.UniqueConicForms\u001b[1m)\u001b[22m\u001b[22m at \u001b[1m/Users/tiffanyshih/.julia/v0.6/Convex/src/constraints/soc_constraints.jl:51\u001b[22m\u001b[22m\n",
      " [4] \u001b[1mconic_form!\u001b[22m\u001b[22m\u001b[1m(\u001b[22m\u001b[22m::Convex.QolElemAtom, ::Convex.UniqueConicForms\u001b[1m)\u001b[22m\u001b[22m at \u001b[1m/Users/tiffanyshih/.julia/v0.6/Convex/src/atoms/second_order_cone/qol_elementwise.jl:41\u001b[22m\u001b[22m\n",
      " [5] \u001b[1mconic_form!\u001b[22m\u001b[22m\u001b[1m(\u001b[22m\u001b[22m::Convex.AdditionAtom, ::Convex.UniqueConicForms\u001b[1m)\u001b[22m\u001b[22m at \u001b[1m/Users/tiffanyshih/.julia/v0.6/Convex/src/atoms/affine/add_subtract.jl:108\u001b[22m\u001b[22m\n",
      " [6] \u001b[1mconic_form!\u001b[22m\u001b[22m\u001b[1m(\u001b[22m\u001b[22m::Convex.EqConstraint, ::Convex.UniqueConicForms\u001b[1m)\u001b[22m\u001b[22m at \u001b[1m/Users/tiffanyshih/.julia/v0.6/Convex/src/constraints/constraints.jl:43\u001b[22m\u001b[22m\n",
      " [7] \u001b[1mconic_form!\u001b[22m\u001b[22m\u001b[1m(\u001b[22m\u001b[22m::Convex.Problem, ::Convex.UniqueConicForms\u001b[1m)\u001b[22m\u001b[22m at \u001b[1m/Users/tiffanyshih/.julia/v0.6/Convex/src/problems.jl:99\u001b[22m\u001b[22m\n",
      " [8] \u001b[1mconic_problem\u001b[22m\u001b[22m\u001b[1m(\u001b[22m\u001b[22m::Convex.Problem\u001b[1m)\u001b[22m\u001b[22m at \u001b[1m/Users/tiffanyshih/.julia/v0.6/Convex/src/problems.jl:124\u001b[22m\u001b[22m\n",
      " [9] \u001b[1m#solve!#25\u001b[22m\u001b[22m\u001b[1m(\u001b[22m\u001b[22m::Bool, ::Bool, ::Bool, ::Function, ::Convex.Problem\u001b[1m)\u001b[22m\u001b[22m at \u001b[1m/Users/tiffanyshih/.julia/v0.6/Convex/src/solution.jl:25\u001b[22m\u001b[22m\n",
      " [10] \u001b[1m#ridge_regression#29\u001b[22m\u001b[22m\u001b[1m(\u001b[22m\u001b[22m::Float64, ::Function, ::Array{Float64,2}, ::Array{Float64,1}\u001b[1m)\u001b[22m\u001b[22m at \u001b[1m./In[109]:5\u001b[22m\u001b[22m\n",
      " [11] \u001b[1m(::#kw##ridge_regression)\u001b[22m\u001b[22m\u001b[1m(\u001b[22m\u001b[22m::Array{Any,1}, ::#ridge_regression, ::Array{Float64,2}, ::Array{Float64,1}\u001b[1m)\u001b[22m\u001b[22m at \u001b[1m./<missing>:0\u001b[22m\u001b[22m\n",
      " [12] \u001b[1mmacro expansion\u001b[22m\u001b[22m at \u001b[1m./In[145]:4\u001b[22m\u001b[22m [inlined]\n",
      " [13] \u001b[1manonymous\u001b[22m\u001b[22m at \u001b[1m./<missing>:?\u001b[22m\u001b[22m\n",
      " [14] \u001b[1minclude_string\u001b[22m\u001b[22m\u001b[1m(\u001b[22m\u001b[22m::String, ::String\u001b[1m)\u001b[22m\u001b[22m at \u001b[1m./loading.jl:515\u001b[22m\u001b[22m\n",
      " [15] \u001b[1minclude_string\u001b[22m\u001b[22m\u001b[1m(\u001b[22m\u001b[22m::Module, ::String, ::String\u001b[1m)\u001b[22m\u001b[22m at \u001b[1m/Users/tiffanyshih/.julia/v0.6/Compat/src/Compat.jl:478\u001b[22m\u001b[22m\n",
      " [16] \u001b[1mexecute_request\u001b[22m\u001b[22m\u001b[1m(\u001b[22m\u001b[22m::ZMQ.Socket, ::IJulia.Msg\u001b[1m)\u001b[22m\u001b[22m at \u001b[1m/Users/tiffanyshih/.julia/v0.6/IJulia/src/execute_request.jl:154\u001b[22m\u001b[22m\n",
      " [17] \u001b[1meventloop\u001b[22m\u001b[22m\u001b[1m(\u001b[22m\u001b[22m::ZMQ.Socket\u001b[1m)\u001b[22m\u001b[22m at \u001b[1m/Users/tiffanyshih/.julia/v0.6/IJulia/src/eventloop.jl:8\u001b[22m\u001b[22m\n",
      " [18] \u001b[1m(::IJulia.##14#17)\u001b[22m\u001b[22m\u001b[1m(\u001b[22m\u001b[22m\u001b[1m)\u001b[22m\u001b[22m at \u001b[1m./task.jl:335\u001b[22m\u001b[22m\n",
      "while loading In[145], in expression starting on line 3\n",
      "\u001b[1m\u001b[33mWARNING: \u001b[39m\u001b[22m\u001b[33mArray{T}(::Type{T}, m::Int) is deprecated, use Array{T}(m) instead.\u001b[39m\n",
      "Stacktrace:\n",
      " [1] \u001b[1mdepwarn\u001b[22m\u001b[22m\u001b[1m(\u001b[22m\u001b[22m::String, ::Symbol\u001b[1m)\u001b[22m\u001b[22m at \u001b[1m./deprecated.jl:70\u001b[22m\u001b[22m\n",
      " [2] \u001b[1mArray\u001b[22m\u001b[22m\u001b[1m(\u001b[22m\u001b[22m::Type{DataStructures.OrderedDict{UInt64,Tuple{Union{AbstractArray, Number},Union{AbstractArray, Number}}}}, ::Int64\u001b[1m)\u001b[22m\u001b[22m at \u001b[1m./deprecated.jl:57\u001b[22m\u001b[22m\n",
      " [3] \u001b[1mconic_form!\u001b[22m\u001b[22m\u001b[1m(\u001b[22m\u001b[22m::Convex.SOCConstraint, ::Convex.UniqueConicForms\u001b[1m)\u001b[22m\u001b[22m at \u001b[1m/Users/tiffanyshih/.julia/v0.6/Convex/src/constraints/soc_constraints.jl:21\u001b[22m\u001b[22m\n",
      " [4] \u001b[1mconic_form!\u001b[22m\u001b[22m\u001b[1m(\u001b[22m\u001b[22m::Convex.EucNormAtom, ::Convex.UniqueConicForms\u001b[1m)\u001b[22m\u001b[22m at \u001b[1m/Users/tiffanyshih/.julia/v0.6/Convex/src/atoms/second_order_cone/norm2.jl:47\u001b[22m\u001b[22m\n",
      " [5] \u001b[1mconic_form!\u001b[22m\u001b[22m\u001b[1m(\u001b[22m\u001b[22m::Convex.MultiplyAtom, ::Convex.UniqueConicForms\u001b[1m)\u001b[22m\u001b[22m at \u001b[1m/Users/tiffanyshih/.julia/v0.6/Convex/src/atoms/affine/multiply_divide.jl:71\u001b[22m\u001b[22m\n",
      " [6] \u001b[1mconic_form!\u001b[22m\u001b[22m\u001b[1m(\u001b[22m\u001b[22m::Convex.SOCElemConstraint, ::Convex.UniqueConicForms\u001b[1m)\u001b[22m\u001b[22m at \u001b[1m/Users/tiffanyshih/.julia/v0.6/Convex/src/constraints/soc_constraints.jl:53\u001b[22m\u001b[22m\n",
      " [7] \u001b[1mconic_form!\u001b[22m\u001b[22m\u001b[1m(\u001b[22m\u001b[22m::Convex.QolElemAtom, ::Convex.UniqueConicForms\u001b[1m)\u001b[22m\u001b[22m at \u001b[1m/Users/tiffanyshih/.julia/v0.6/Convex/src/atoms/second_order_cone/qol_elementwise.jl:41\u001b[22m\u001b[22m\n",
      " [8] \u001b[1mconic_form!\u001b[22m\u001b[22m\u001b[1m(\u001b[22m\u001b[22m::Convex.AdditionAtom, ::Convex.UniqueConicForms\u001b[1m)\u001b[22m\u001b[22m at \u001b[1m/Users/tiffanyshih/.julia/v0.6/Convex/src/atoms/affine/add_subtract.jl:108\u001b[22m\u001b[22m\n",
      " [9] \u001b[1mconic_form!\u001b[22m\u001b[22m\u001b[1m(\u001b[22m\u001b[22m::Convex.EqConstraint, ::Convex.UniqueConicForms\u001b[1m)\u001b[22m\u001b[22m at \u001b[1m/Users/tiffanyshih/.julia/v0.6/Convex/src/constraints/constraints.jl:43\u001b[22m\u001b[22m\n",
      " [10] \u001b[1mconic_form!\u001b[22m\u001b[22m\u001b[1m(\u001b[22m\u001b[22m::Convex.Problem, ::Convex.UniqueConicForms\u001b[1m)\u001b[22m\u001b[22m at \u001b[1m/Users/tiffanyshih/.julia/v0.6/Convex/src/problems.jl:99\u001b[22m\u001b[22m\n",
      " [11] \u001b[1mconic_problem\u001b[22m\u001b[22m\u001b[1m(\u001b[22m\u001b[22m::Convex.Problem\u001b[1m)\u001b[22m\u001b[22m at \u001b[1m/Users/tiffanyshih/.julia/v0.6/Convex/src/problems.jl:124\u001b[22m\u001b[22m\n",
      " [12] \u001b[1m#solve!#25\u001b[22m\u001b[22m\u001b[1m(\u001b[22m\u001b[22m::Bool, ::Bool, ::Bool, ::Function, ::Convex.Problem\u001b[1m)\u001b[22m\u001b[22m at \u001b[1m/Users/tiffanyshih/.julia/v0.6/Convex/src/solution.jl:25\u001b[22m\u001b[22m\n",
      " [13] \u001b[1m#ridge_regression#29\u001b[22m\u001b[22m\u001b[1m(\u001b[22m\u001b[22m::Float64, ::Function, ::Array{Float64,2}, ::Array{Float64,1}\u001b[1m)\u001b[22m\u001b[22m at \u001b[1m./In[109]:5\u001b[22m\u001b[22m\n",
      " [14] \u001b[1m(::#kw##ridge_regression)\u001b[22m\u001b[22m\u001b[1m(\u001b[22m\u001b[22m::Array{Any,1}, ::#ridge_regression, ::Array{Float64,2}, ::Array{Float64,1}\u001b[1m)\u001b[22m\u001b[22m at \u001b[1m./<missing>:0\u001b[22m\u001b[22m\n",
      " [15] \u001b[1mmacro expansion\u001b[22m\u001b[22m at \u001b[1m./In[145]:4\u001b[22m\u001b[22m [inlined]\n",
      " [16] \u001b[1manonymous\u001b[22m\u001b[22m at \u001b[1m./<missing>:?\u001b[22m\u001b[22m\n",
      " [17] \u001b[1minclude_string\u001b[22m\u001b[22m\u001b[1m(\u001b[22m\u001b[22m::String, ::String\u001b[1m)\u001b[22m\u001b[22m at \u001b[1m./loading.jl:515\u001b[22m\u001b[22m\n",
      " [18] \u001b[1minclude_string\u001b[22m\u001b[22m\u001b[1m(\u001b[22m\u001b[22m::Module, ::String, ::String\u001b[1m)\u001b[22m\u001b[22m at \u001b[1m/Users/tiffanyshih/.julia/v0.6/Compat/src/Compat.jl:478\u001b[22m\u001b[22m\n",
      " [19] \u001b[1mexecute_request\u001b[22m\u001b[22m\u001b[1m(\u001b[22m\u001b[22m::ZMQ.Socket, ::IJulia.Msg\u001b[1m)\u001b[22m\u001b[22m at \u001b[1m/Users/tiffanyshih/.julia/v0.6/IJulia/src/execute_request.jl:154\u001b[22m\u001b[22m\n",
      " [20] \u001b[1meventloop\u001b[22m\u001b[22m\u001b[1m(\u001b[22m\u001b[22m::ZMQ.Socket\u001b[1m)\u001b[22m\u001b[22m at \u001b[1m/Users/tiffanyshih/.julia/v0.6/IJulia/src/eventloop.jl:8\u001b[22m\u001b[22m\n",
      " [21] \u001b[1m(::IJulia.##14#17)\u001b[22m\u001b[22m\u001b[1m(\u001b[22m\u001b[22m\u001b[1m)\u001b[22m\u001b[22m at \u001b[1m./task.jl:335\u001b[22m\u001b[22m\n",
      "while loading In[145], in expression starting on line 3\n",
      "\u001b[1m\u001b[33mWARNING: \u001b[39m\u001b[22m\u001b[33misnan{T <: Number}(x::AbstractArray{T}) is deprecated, use isnan.(x) instead.\u001b[39m\n",
      "Stacktrace:\n",
      " [1] \u001b[1mdepwarn\u001b[22m\u001b[22m\u001b[1m(\u001b[22m\u001b[22m::String, ::Symbol\u001b[1m)\u001b[22m\u001b[22m at \u001b[1m./deprecated.jl:70\u001b[22m\u001b[22m\n",
      " [2] \u001b[1misnan\u001b[22m\u001b[22m\u001b[1m(\u001b[22m\u001b[22m::Array{Float64,1}\u001b[1m)\u001b[22m\u001b[22m at \u001b[1m./deprecated.jl:57\u001b[22m\u001b[22m\n",
      " [3] \u001b[1mpopulate_solution!\u001b[22m\u001b[22m\u001b[1m(\u001b[22m\u001b[22m::ECOS.ECOSMathProgModel, ::Convex.Problem, ::Dict{UInt64,Tuple{Int64,Int64}}, ::Array{Convex.ConicConstr,1}\u001b[1m)\u001b[22m\u001b[22m at \u001b[1m/Users/tiffanyshih/.julia/v0.6/Convex/src/solution.jl:118\u001b[22m\u001b[22m\n",
      " [4] \u001b[1m#solve!#25\u001b[22m\u001b[22m\u001b[1m(\u001b[22m\u001b[22m::Bool, ::Bool, ::Bool, ::Function, ::Convex.Problem\u001b[1m)\u001b[22m\u001b[22m at \u001b[1m/Users/tiffanyshih/.julia/v0.6/Convex/src/solution.jl:38\u001b[22m\u001b[22m\n",
      " [5] \u001b[1m#ridge_regression#29\u001b[22m\u001b[22m\u001b[1m(\u001b[22m\u001b[22m::Float64, ::Function, ::Array{Float64,2}, ::Array{Float64,1}\u001b[1m)\u001b[22m\u001b[22m at \u001b[1m./In[109]:5\u001b[22m\u001b[22m\n",
      " [6] \u001b[1m(::#kw##ridge_regression)\u001b[22m\u001b[22m\u001b[1m(\u001b[22m\u001b[22m::Array{Any,1}, ::#ridge_regression, ::Array{Float64,2}, ::Array{Float64,1}\u001b[1m)\u001b[22m\u001b[22m at \u001b[1m./<missing>:0\u001b[22m\u001b[22m\n",
      " [7] \u001b[1mmacro expansion\u001b[22m\u001b[22m at \u001b[1m./In[145]:4\u001b[22m\u001b[22m [inlined]\n",
      " [8] \u001b[1manonymous\u001b[22m\u001b[22m at \u001b[1m./<missing>:?\u001b[22m\u001b[22m\n",
      " [9] \u001b[1minclude_string\u001b[22m\u001b[22m\u001b[1m(\u001b[22m\u001b[22m::String, ::String\u001b[1m)\u001b[22m\u001b[22m at \u001b[1m./loading.jl:515\u001b[22m\u001b[22m\n",
      " [10] \u001b[1minclude_string\u001b[22m\u001b[22m\u001b[1m(\u001b[22m\u001b[22m::Module, ::String, ::String\u001b[1m)\u001b[22m\u001b[22m at \u001b[1m/Users/tiffanyshih/.julia/v0.6/Compat/src/Compat.jl:478\u001b[22m\u001b[22m\n",
      " [11] \u001b[1mexecute_request\u001b[22m\u001b[22m\u001b[1m(\u001b[22m\u001b[22m::ZMQ.Socket, ::IJulia.Msg\u001b[1m)\u001b[22m\u001b[22m at \u001b[1m/Users/tiffanyshih/.julia/v0.6/IJulia/src/execute_request.jl:154\u001b[22m\u001b[22m\n",
      " [12] \u001b[1meventloop\u001b[22m\u001b[22m\u001b[1m(\u001b[22m\u001b[22m::ZMQ.Socket\u001b[1m)\u001b[22m\u001b[22m at \u001b[1m/Users/tiffanyshih/.julia/v0.6/IJulia/src/eventloop.jl:8\u001b[22m\u001b[22m\n",
      " [13] \u001b[1m(::IJulia.##14#17)\u001b[22m\u001b[22m\u001b[1m(\u001b[22m\u001b[22m\u001b[1m)\u001b[22m\u001b[22m at \u001b[1m./task.jl:335\u001b[22m\u001b[22m\n",
      "while loading In[145], in expression starting on line 3\n",
      "\u001b[1m\u001b[33mWARNING: \u001b[39m\u001b[22m\u001b[33mProblem status Infeasible; solution may be inaccurate.\u001b[39m\n",
      "\u001b[1m\u001b[33mWARNING: \u001b[39m\u001b[22m\u001b[33mProblem status Error; solution may be inaccurate.\u001b[39m\n",
      "\u001b[1m\u001b[33mWARNING: \u001b[39m\u001b[22m\u001b[33mProblem status Error; solution may be inaccurate.\u001b[39m\n",
      "\u001b[1m\u001b[33mWARNING: \u001b[39m\u001b[22m\u001b[33mProblem status Error; solution may be inaccurate.\u001b[39m\n",
      "\u001b[1m\u001b[33mWARNING: \u001b[39m\u001b[22m\u001b[33mProblem status Error; solution may be inaccurate.\u001b[39m\n",
      "\u001b[1m\u001b[33mWARNING: \u001b[39m\u001b[22m\u001b[33mProblem status Error; solution may be inaccurate.\u001b[39m\n",
      "\u001b[1m\u001b[33mWARNING: \u001b[39m\u001b[22m\u001b[33mProblem status Error; solution may be inaccurate.\u001b[39m\n",
      "\u001b[1m\u001b[33mWARNING: \u001b[39m\u001b[22m\u001b[33mProblem status Error; solution may be inaccurate.\u001b[39m\n",
      "\u001b[1m\u001b[33mWARNING: \u001b[39m\u001b[22m\u001b[33mProblem status Error; solution may be inaccurate.\u001b[39m\n",
      "\u001b[1m\u001b[33mWARNING: \u001b[39m\u001b[22m\u001b[33mProblem status Error; solution may be inaccurate.\u001b[39m\n",
      "\u001b[1m\u001b[33mWARNING: \u001b[39m\u001b[22m\u001b[33mProblem status Error; solution may be inaccurate.\u001b[39m\n",
      "\u001b[1m\u001b[33mWARNING: \u001b[39m\u001b[22m\u001b[33mProblem status Error; solution may be inaccurate.\u001b[39m\n",
      "\u001b[1m\u001b[33mWARNING: \u001b[39m\u001b[22m\u001b[33mProblem status Error; solution may be inaccurate.\u001b[39m\n",
      "\u001b[1m\u001b[33mWARNING: \u001b[39m\u001b[22m\u001b[33mProblem status Error; solution may be inaccurate.\u001b[39m\n",
      "\u001b[1m\u001b[33mWARNING: \u001b[39m\u001b[22m\u001b[33mProblem status Error; solution may be inaccurate.\u001b[39m\n",
      "\u001b[1m\u001b[33mWARNING: \u001b[39m\u001b[22m\u001b[33mProblem status Error; solution may be inaccurate.\u001b[39m\n",
      "\u001b[1m\u001b[33mWARNING: \u001b[39m\u001b[22m\u001b[33mProblem status Error; solution may be inaccurate.\u001b[39m\n",
      "\u001b[1m\u001b[33mWARNING: \u001b[39m\u001b[22m\u001b[33mProblem status Error; solution may be inaccurate.\u001b[39m\n",
      "\u001b[1m\u001b[33mWARNING: \u001b[39m\u001b[22m\u001b[33mProblem status Error; solution may be inaccurate.\u001b[39m\n",
      "\u001b[1m\u001b[33mWARNING: \u001b[39m\u001b[22m\u001b[33mProblem status Error; solution may be inaccurate.\u001b[39m\n",
      "\u001b[1m\u001b[33mWARNING: \u001b[39m\u001b[22m\u001b[33mProblem status Error; solution may be inaccurate.\u001b[39m\n",
      "\u001b[1m\u001b[33mWARNING: \u001b[39m\u001b[22m\u001b[33mProblem status Error; solution may be inaccurate.\u001b[39m\n",
      "\u001b[1m\u001b[33mWARNING: \u001b[39m\u001b[22m\u001b[33mProblem status Error; solution may be inaccurate.\u001b[39m\n",
      "\u001b[1m\u001b[33mWARNING: \u001b[39m\u001b[22m\u001b[33mProblem status Error; solution may be inaccurate.\u001b[39m\n",
      "\u001b[1m\u001b[33mWARNING: \u001b[39m\u001b[22m\u001b[33mProblem status Error; solution may be inaccurate.\u001b[39m\n",
      "\u001b[1m\u001b[33mWARNING: \u001b[39m\u001b[22m\u001b[33mProblem status Error; solution may be inaccurate.\u001b[39m\n",
      "\u001b[1m\u001b[33mWARNING: \u001b[39m\u001b[22m\u001b[33mProblem status Error; solution may be inaccurate.\u001b[39m\n",
      "\u001b[1m\u001b[33mWARNING: \u001b[39m\u001b[22m\u001b[33mProblem status Error; solution may be inaccurate.\u001b[39m\n",
      "\u001b[1m\u001b[33mWARNING: \u001b[39m\u001b[22m\u001b[33mProblem status Error; solution may be inaccurate.\u001b[39m\n",
      "\u001b[1m\u001b[33mWARNING: \u001b[39m\u001b[22m\u001b[33mProblem status Error; solution may be inaccurate.\u001b[39m\n",
      "\u001b[1m\u001b[33mWARNING: \u001b[39m\u001b[22m\u001b[33mProblem status Error; solution may be inaccurate.\u001b[39m\n",
      "\u001b[1m\u001b[33mWARNING: \u001b[39m\u001b[22m\u001b[33mProblem status Error; solution may be inaccurate.\u001b[39m\n",
      "\u001b[1m\u001b[33mWARNING: \u001b[39m\u001b[22m\u001b[33mProblem status Error; solution may be inaccurate.\u001b[39m\n",
      "\u001b[1m\u001b[33mWARNING: \u001b[39m\u001b[22m\u001b[33mProblem status Infeasible; solution may be inaccurate.\u001b[39m\n",
      "\u001b[1m\u001b[33mWARNING: \u001b[39m\u001b[22m\u001b[33mProblem status Error; solution may be inaccurate.\u001b[39m\n",
      "\u001b[1m\u001b[33mWARNING: \u001b[39m\u001b[22m\u001b[33mProblem status Error; solution may be inaccurate.\u001b[39m\n",
      "\u001b[1m\u001b[33mWARNING: \u001b[39m\u001b[22m\u001b[33mProblem status Error; solution may be inaccurate.\u001b[39m\n",
      "\u001b[1m\u001b[33mWARNING: \u001b[39m\u001b[22m\u001b[33mProblem status Error; solution may be inaccurate.\u001b[39m\n",
      "\u001b[1m\u001b[33mWARNING: \u001b[39m\u001b[22m\u001b[33mProblem status Infeasible; solution may be inaccurate.\u001b[39m\n",
      "\u001b[1m\u001b[33mWARNING: \u001b[39m\u001b[22m\u001b[33mProblem status Error; solution may be inaccurate.\u001b[39m\n",
      "\u001b[1m\u001b[33mWARNING: \u001b[39m\u001b[22m\u001b[33mProblem status Infeasible; solution may be inaccurate.\u001b[39m\n",
      "\u001b[1m\u001b[33mWARNING: \u001b[39m\u001b[22m\u001b[33mProblem status Infeasible; solution may be inaccurate.\u001b[39m\n",
      "\u001b[1m\u001b[33mWARNING: \u001b[39m\u001b[22m\u001b[33mProblem status Infeasible; solution may be inaccurate.\u001b[39m\n",
      "\u001b[1m\u001b[33mWARNING: \u001b[39m\u001b[22m\u001b[33mProblem status Infeasible; solution may be inaccurate.\u001b[39m\n",
      "\u001b[1m\u001b[33mWARNING: \u001b[39m\u001b[22m\u001b[33mProblem status Infeasible; solution may be inaccurate.\u001b[39m\n",
      "\u001b[1m\u001b[33mWARNING: \u001b[39m\u001b[22m\u001b[33mProblem status Infeasible; solution may be inaccurate.\u001b[39m\n",
      "\u001b[1m\u001b[33mWARNING: \u001b[39m\u001b[22m\u001b[33mProblem status Infeasible; solution may be inaccurate.\u001b[39m\n",
      "\u001b[1m\u001b[33mWARNING: \u001b[39m\u001b[22m\u001b[33mProblem status Infeasible; solution may be inaccurate.\u001b[39m\n",
      "\u001b[1m\u001b[33mWARNING: \u001b[39m\u001b[22m\u001b[33mProblem status Infeasible; solution may be inaccurate.\u001b[39m\n",
      "\u001b[1m\u001b[33mWARNING: \u001b[39m\u001b[22m\u001b[33mProblem status Infeasible; solution may be inaccurate.\u001b[39m\n",
      "\u001b[1m\u001b[33mWARNING: \u001b[39m\u001b[22m"
     ]
    },
    {
     "data": {
      "image/png": "[encoded data removed]",
      "text/plain": [
       "PyPlot.Figure(PyObject <matplotlib.figure.Figure object at 0x1513af550>)"
      ]
     },
     "metadata": {},
     "output_type": "display_data"
    },
    {
     "name": "stderr",
     "output_type": "stream",
     "text": [
      "\u001b[33mProblem status Infeasible; solution may be inaccurate.\u001b[39m\n"
     ]
    },
    {
     "data": {
      "text/plain": [
       "1-element Array{PyCall.PyObject,1}:\n",
       " PyObject <matplotlib.lines.Line2D object at 0x1510c2810>"
      ]
     },
     "execution_count": 145,
     "metadata": {},
     "output_type": "execute_result"
    }
   ],
   "source": [
    "error = Float64[]\n",
    "λs = 0:.1:5\n",
    "for λ in λs\n",
    "    w = ridge_regression(X_train_2003,y_train_2003; λ=λ)\n",
    "    push!(error, sum((y_test_2003 - X_test_2003*w).^2))\n",
    "end\n",
    "plot(λs, error)"
   ]
  },
  {
   "cell_type": "code",
   "execution_count": 146,
   "metadata": {
    "collapsed": true
   },
   "outputs": [],
   "source": [
    "tap_train = readtable(\"TAP_train.csv\");"
   ]
  },
  {
   "cell_type": "code",
   "execution_count": 147,
   "metadata": {
    "collapsed": false
   },
   "outputs": [
    {
     "data": {
      "text/plain": [
       "(152771, 43)"
      ]
     },
     "execution_count": 147,
     "metadata": {},
     "output_type": "execute_result"
    }
   ],
   "source": [
    "size(tap_train)"
   ]
  },
  {
   "cell_type": "code",
   "execution_count": 148,
   "metadata": {
    "collapsed": true
   },
   "outputs": [],
   "source": [
    "X_train = convert(Array,tap_train[:,1:42]);\n",
    "y_train = convert(Array,tap_train[:,43]);"
   ]
  },
  {
   "cell_type": "code",
   "execution_count": 151,
   "metadata": {
    "collapsed": false,
    "scrolled": false
   },
   "outputs": [
    {
     "name": "stderr",
     "output_type": "stream",
     "text": [
      "\u001b[1m\u001b[33mWARNING: \u001b[39m\u001b[22m\u001b[33mArray{T}(::Type{T}, m::Int) is deprecated, use Array{T}(m) instead.\u001b[39m\n",
      "Stacktrace:\n",
      " [1] \u001b[1mdepwarn\u001b[22m\u001b[22m\u001b[1m(\u001b[22m\u001b[22m::String, ::Symbol\u001b[1m)\u001b[22m\u001b[22m at \u001b[1m./deprecated.jl:70\u001b[22m\u001b[22m\n",
      " [2] \u001b[1mArray\u001b[22m\u001b[22m\u001b[1m(\u001b[22m\u001b[22m::Type{Convex.ConicConstr}, ::Int64\u001b[1m)\u001b[22m\u001b[22m at \u001b[1m./deprecated.jl:57\u001b[22m\u001b[22m\n",
      " [3] \u001b[1mconic_form!\u001b[22m\u001b[22m\u001b[1m(\u001b[22m\u001b[22m::Convex.SOCElemConstraint, ::Convex.UniqueConicForms\u001b[1m)\u001b[22m\u001b[22m at \u001b[1m/Users/tiffanyshih/.julia/v0.6/Convex/src/constraints/soc_constraints.jl:50\u001b[22m\u001b[22m\n",
      " [4] \u001b[1mconic_form!\u001b[22m\u001b[22m\u001b[1m(\u001b[22m\u001b[22m::Convex.QolElemAtom, ::Convex.UniqueConicForms\u001b[1m)\u001b[22m\u001b[22m at \u001b[1m/Users/tiffanyshih/.julia/v0.6/Convex/src/atoms/second_order_cone/qol_elementwise.jl:41\u001b[22m\u001b[22m\n",
      " [5] \u001b[1mconic_form!\u001b[22m\u001b[22m\u001b[1m(\u001b[22m\u001b[22m::Convex.AdditionAtom, ::Convex.UniqueConicForms\u001b[1m)\u001b[22m\u001b[22m at \u001b[1m/Users/tiffanyshih/.julia/v0.6/Convex/src/atoms/affine/add_subtract.jl:108\u001b[22m\u001b[22m\n",
      " [6] \u001b[1mconic_form!\u001b[22m\u001b[22m\u001b[1m(\u001b[22m\u001b[22m::Convex.EqConstraint, ::Convex.UniqueConicForms\u001b[1m)\u001b[22m\u001b[22m at \u001b[1m/Users/tiffanyshih/.julia/v0.6/Convex/src/constraints/constraints.jl:43\u001b[22m\u001b[22m\n",
      " [7] \u001b[1mconic_form!\u001b[22m\u001b[22m\u001b[1m(\u001b[22m\u001b[22m::Convex.Problem, ::Convex.UniqueConicForms\u001b[1m)\u001b[22m\u001b[22m at \u001b[1m/Users/tiffanyshih/.julia/v0.6/Convex/src/problems.jl:99\u001b[22m\u001b[22m\n",
      " [8] \u001b[1mconic_problem\u001b[22m\u001b[22m\u001b[1m(\u001b[22m\u001b[22m::Convex.Problem\u001b[1m)\u001b[22m\u001b[22m at \u001b[1m/Users/tiffanyshih/.julia/v0.6/Convex/src/problems.jl:124\u001b[22m\u001b[22m\n",
      " [9] \u001b[1m#solve!#25\u001b[22m\u001b[22m\u001b[1m(\u001b[22m\u001b[22m::Bool, ::Bool, ::Bool, ::Function, ::Convex.Problem\u001b[1m)\u001b[22m\u001b[22m at \u001b[1m/Users/tiffanyshih/.julia/v0.6/Convex/src/solution.jl:25\u001b[22m\u001b[22m\n",
      " [10] \u001b[1m#ridge_regression#29\u001b[22m\u001b[22m\u001b[1m(\u001b[22m\u001b[22m::Int64, ::Function, ::Array{Real,2}, ::Array{Float64,1}\u001b[1m)\u001b[22m\u001b[22m at \u001b[1m./In[109]:5\u001b[22m\u001b[22m\n",
      " [11] \u001b[1m(::#kw##ridge_regression)\u001b[22m\u001b[22m\u001b[1m(\u001b[22m\u001b[22m::Array{Any,1}, ::#ridge_regression, ::Array{Real,2}, ::Array{Float64,1}\u001b[1m)\u001b[22m\u001b[22m at \u001b[1m./<missing>:0\u001b[22m\u001b[22m\n",
      " [12] \u001b[1minclude_string\u001b[22m\u001b[22m\u001b[1m(\u001b[22m\u001b[22m::String, ::String\u001b[1m)\u001b[22m\u001b[22m at \u001b[1m./loading.jl:515\u001b[22m\u001b[22m\n",
      " [13] \u001b[1minclude_string\u001b[22m\u001b[22m\u001b[1m(\u001b[22m\u001b[22m::Module, ::String, ::String\u001b[1m)\u001b[22m\u001b[22m at \u001b[1m/Users/tiffanyshih/.julia/v0.6/Compat/src/Compat.jl:478\u001b[22m\u001b[22m\n",
      " [14] \u001b[1mexecute_request\u001b[22m\u001b[22m\u001b[1m(\u001b[22m\u001b[22m::ZMQ.Socket, ::IJulia.Msg\u001b[1m)\u001b[22m\u001b[22m at \u001b[1m/Users/tiffanyshih/.julia/v0.6/IJulia/src/execute_request.jl:154\u001b[22m\u001b[22m\n",
      " [15] \u001b[1meventloop\u001b[22m\u001b[22m\u001b[1m(\u001b[22m\u001b[22m::ZMQ.Socket\u001b[1m)\u001b[22m\u001b[22m at \u001b[1m/Users/tiffanyshih/.julia/v0.6/IJulia/src/eventloop.jl:8\u001b[22m\u001b[22m\n",
      " [16] \u001b[1m(::IJulia.##14#17)\u001b[22m\u001b[22m\u001b[1m(\u001b[22m\u001b[22m\u001b[1m)\u001b[22m\u001b[22m at \u001b[1m./task.jl:335\u001b[22m\u001b[22m\n",
      "while loading In[151], in expression starting on line 1\n",
      "\u001b[1m\u001b[33mWARNING: \u001b[39m\u001b[22m\u001b[33mArray{T}(::Type{T}, m::Int) is deprecated, use Array{T}(m) instead.\u001b[39m\n",
      "Stacktrace:\n",
      " [1] \u001b[1mdepwarn\u001b[22m\u001b[22m\u001b[1m(\u001b[22m\u001b[22m::String, ::Symbol\u001b[1m)\u001b[22m\u001b[22m at \u001b[1m./deprecated.jl:70\u001b[22m\u001b[22m\n",
      " [2] \u001b[1mArray\u001b[22m\u001b[22m\u001b[1m(\u001b[22m\u001b[22m::Type{DataStructures.OrderedDict{UInt64,Tuple{Union{AbstractArray, Number},Union{AbstractArray, Number}}}}, ::Int64\u001b[1m)\u001b[22m\u001b[22m at \u001b[1m./deprecated.jl:57\u001b[22m\u001b[22m\n",
      " [3] \u001b[1mconic_form!\u001b[22m\u001b[22m\u001b[1m(\u001b[22m\u001b[22m::Convex.SOCElemConstraint, ::Convex.UniqueConicForms\u001b[1m)\u001b[22m\u001b[22m at \u001b[1m/Users/tiffanyshih/.julia/v0.6/Convex/src/constraints/soc_constraints.jl:51\u001b[22m\u001b[22m\n",
      " [4] \u001b[1mconic_form!\u001b[22m\u001b[22m\u001b[1m(\u001b[22m\u001b[22m::Convex.QolElemAtom, ::Convex.UniqueConicForms\u001b[1m)\u001b[22m\u001b[22m at \u001b[1m/Users/tiffanyshih/.julia/v0.6/Convex/src/atoms/second_order_cone/qol_elementwise.jl:41\u001b[22m\u001b[22m\n",
      " [5] \u001b[1mconic_form!\u001b[22m\u001b[22m\u001b[1m(\u001b[22m\u001b[22m::Convex.AdditionAtom, ::Convex.UniqueConicForms\u001b[1m)\u001b[22m\u001b[22m at \u001b[1m/Users/tiffanyshih/.julia/v0.6/Convex/src/atoms/affine/add_subtract.jl:108\u001b[22m\u001b[22m\n",
      " [6] \u001b[1mconic_form!\u001b[22m\u001b[22m\u001b[1m(\u001b[22m\u001b[22m::Convex.EqConstraint, ::Convex.UniqueConicForms\u001b[1m)\u001b[22m\u001b[22m at \u001b[1m/Users/tiffanyshih/.julia/v0.6/Convex/src/constraints/constraints.jl:43\u001b[22m\u001b[22m\n",
      " [7] \u001b[1mconic_form!\u001b[22m\u001b[22m\u001b[1m(\u001b[22m\u001b[22m::Convex.Problem, ::Convex.UniqueConicForms\u001b[1m)\u001b[22m\u001b[22m at \u001b[1m/Users/tiffanyshih/.julia/v0.6/Convex/src/problems.jl:99\u001b[22m\u001b[22m\n",
      " [8] \u001b[1mconic_problem\u001b[22m\u001b[22m\u001b[1m(\u001b[22m\u001b[22m::Convex.Problem\u001b[1m)\u001b[22m\u001b[22m at \u001b[1m/Users/tiffanyshih/.julia/v0.6/Convex/src/problems.jl:124\u001b[22m\u001b[22m\n",
      " [9] \u001b[1m#solve!#25\u001b[22m\u001b[22m\u001b[1m(\u001b[22m\u001b[22m::Bool, ::Bool, ::Bool, ::Function, ::Convex.Problem\u001b[1m)\u001b[22m\u001b[22m at \u001b[1m/Users/tiffanyshih/.julia/v0.6/Convex/src/solution.jl:25\u001b[22m\u001b[22m\n",
      " [10] \u001b[1m#ridge_regression#29\u001b[22m\u001b[22m\u001b[1m(\u001b[22m\u001b[22m::Int64, ::Function, ::Array{Real,2}, ::Array{Float64,1}\u001b[1m)\u001b[22m\u001b[22m at \u001b[1m./In[109]:5\u001b[22m\u001b[22m\n",
      " [11] \u001b[1m(::#kw##ridge_regression)\u001b[22m\u001b[22m\u001b[1m(\u001b[22m\u001b[22m::Array{Any,1}, ::#ridge_regression, ::Array{Real,2}, ::Array{Float64,1}\u001b[1m)\u001b[22m\u001b[22m at \u001b[1m./<missing>:0\u001b[22m\u001b[22m\n",
      " [12] \u001b[1minclude_string\u001b[22m\u001b[22m\u001b[1m(\u001b[22m\u001b[22m::String, ::String\u001b[1m)\u001b[22m\u001b[22m at \u001b[1m./loading.jl:515\u001b[22m\u001b[22m\n",
      " [13] \u001b[1minclude_string\u001b[22m\u001b[22m\u001b[1m(\u001b[22m\u001b[22m::Module, ::String, ::String\u001b[1m)\u001b[22m\u001b[22m at \u001b[1m/Users/tiffanyshih/.julia/v0.6/Compat/src/Compat.jl:478\u001b[22m\u001b[22m\n",
      " [14] \u001b[1mexecute_request\u001b[22m\u001b[22m\u001b[1m(\u001b[22m\u001b[22m::ZMQ.Socket, ::IJulia.Msg\u001b[1m)\u001b[22m\u001b[22m at \u001b[1m/Users/tiffanyshih/.julia/v0.6/IJulia/src/execute_request.jl:154\u001b[22m\u001b[22m\n",
      " [15] \u001b[1meventloop\u001b[22m\u001b[22m\u001b[1m(\u001b[22m\u001b[22m::ZMQ.Socket\u001b[1m)\u001b[22m\u001b[22m at \u001b[1m/Users/tiffanyshih/.julia/v0.6/IJulia/src/eventloop.jl:8\u001b[22m\u001b[22m\n",
      " [16] \u001b[1m(::IJulia.##14#17)\u001b[22m\u001b[22m\u001b[1m(\u001b[22m\u001b[22m\u001b[1m)\u001b[22m\u001b[22m at \u001b[1m./task.jl:335\u001b[22m\u001b[22m\n",
      "while loading In[151], in expression starting on line 1\n",
      "\u001b[1m\u001b[33mWARNING: \u001b[39m\u001b[22m\u001b[33mArray{T}(::Type{T}, m::Int) is deprecated, use Array{T}(m) instead.\u001b[39m\n",
      "Stacktrace:\n",
      " [1] \u001b[1mdepwarn\u001b[22m\u001b[22m\u001b[1m(\u001b[22m\u001b[22m::String, ::Symbol\u001b[1m)\u001b[22m\u001b[22m at \u001b[1m./deprecated.jl:70\u001b[22m\u001b[22m\n",
      " [2] \u001b[1mArray\u001b[22m\u001b[22m\u001b[1m(\u001b[22m\u001b[22m::Type{DataStructures.OrderedDict{UInt64,Tuple{Union{AbstractArray, Number},Union{AbstractArray, Number}}}}, ::Int64\u001b[1m)\u001b[22m\u001b[22m at \u001b[1m./deprecated.jl:57\u001b[22m\u001b[22m\n",
      " [3] \u001b[1mconic_form!\u001b[22m\u001b[22m\u001b[1m(\u001b[22m\u001b[22m::Convex.SOCConstraint, ::Convex.UniqueConicForms\u001b[1m)\u001b[22m\u001b[22m at \u001b[1m/Users/tiffanyshih/.julia/v0.6/Convex/src/constraints/soc_constraints.jl:21\u001b[22m\u001b[22m\n",
      " [4] \u001b[1mconic_form!\u001b[22m\u001b[22m\u001b[1m(\u001b[22m\u001b[22m::Convex.EucNormAtom, ::Convex.UniqueConicForms\u001b[1m)\u001b[22m\u001b[22m at \u001b[1m/Users/tiffanyshih/.julia/v0.6/Convex/src/atoms/second_order_cone/norm2.jl:47\u001b[22m\u001b[22m\n",
      " [5] \u001b[1mconic_form!\u001b[22m\u001b[22m\u001b[1m(\u001b[22m\u001b[22m::Convex.MultiplyAtom, ::Convex.UniqueConicForms\u001b[1m)\u001b[22m\u001b[22m at \u001b[1m/Users/tiffanyshih/.julia/v0.6/Convex/src/atoms/affine/multiply_divide.jl:71\u001b[22m\u001b[22m\n",
      " [6] \u001b[1mconic_form!\u001b[22m\u001b[22m\u001b[1m(\u001b[22m\u001b[22m::Convex.SOCElemConstraint, ::Convex.UniqueConicForms\u001b[1m)\u001b[22m\u001b[22m at \u001b[1m/Users/tiffanyshih/.julia/v0.6/Convex/src/constraints/soc_constraints.jl:53\u001b[22m\u001b[22m\n",
      " [7] \u001b[1mconic_form!\u001b[22m\u001b[22m\u001b[1m(\u001b[22m\u001b[22m::Convex.QolElemAtom, ::Convex.UniqueConicForms\u001b[1m)\u001b[22m\u001b[22m at \u001b[1m/Users/tiffanyshih/.julia/v0.6/Convex/src/atoms/second_order_cone/qol_elementwise.jl:41\u001b[22m\u001b[22m\n",
      " [8] \u001b[1mconic_form!\u001b[22m\u001b[22m\u001b[1m(\u001b[22m\u001b[22m::Convex.AdditionAtom, ::Convex.UniqueConicForms\u001b[1m)\u001b[22m\u001b[22m at \u001b[1m/Users/tiffanyshih/.julia/v0.6/Convex/src/atoms/affine/add_subtract.jl:108\u001b[22m\u001b[22m\n",
      " [9] \u001b[1mconic_form!\u001b[22m\u001b[22m\u001b[1m(\u001b[22m\u001b[22m::Convex.EqConstraint, ::Convex.UniqueConicForms\u001b[1m)\u001b[22m\u001b[22m at \u001b[1m/Users/tiffanyshih/.julia/v0.6/Convex/src/constraints/constraints.jl:43\u001b[22m\u001b[22m\n",
      " [10] \u001b[1mconic_form!\u001b[22m\u001b[22m\u001b[1m(\u001b[22m\u001b[22m::Convex.Problem, ::Convex.UniqueConicForms\u001b[1m)\u001b[22m\u001b[22m at \u001b[1m/Users/tiffanyshih/.julia/v0.6/Convex/src/problems.jl:99\u001b[22m\u001b[22m\n",
      " [11] \u001b[1mconic_problem\u001b[22m\u001b[22m\u001b[1m(\u001b[22m\u001b[22m::Convex.Problem\u001b[1m)\u001b[22m\u001b[22m at \u001b[1m/Users/tiffanyshih/.julia/v0.6/Convex/src/problems.jl:124\u001b[22m\u001b[22m\n",
      " [12] \u001b[1m#solve!#25\u001b[22m\u001b[22m\u001b[1m(\u001b[22m\u001b[22m::Bool, ::Bool, ::Bool, ::Function, ::Convex.Problem\u001b[1m)\u001b[22m\u001b[22m at \u001b[1m/Users/tiffanyshih/.julia/v0.6/Convex/src/solution.jl:25\u001b[22m\u001b[22m\n",
      " [13] \u001b[1m#ridge_regression#29\u001b[22m\u001b[22m\u001b[1m(\u001b[22m\u001b[22m::Int64, ::Function, ::Array{Real,2}, ::Array{Float64,1}\u001b[1m)\u001b[22m\u001b[22m at \u001b[1m./In[109]:5\u001b[22m\u001b[22m\n",
      " [14] \u001b[1m(::#kw##ridge_regression)\u001b[22m\u001b[22m\u001b[1m(\u001b[22m\u001b[22m::Array{Any,1}, ::#ridge_regression, ::Array{Real,2}, ::Array{Float64,1}\u001b[1m)\u001b[22m\u001b[22m at \u001b[1m./<missing>:0\u001b[22m\u001b[22m\n",
      " [15] \u001b[1minclude_string\u001b[22m\u001b[22m\u001b[1m(\u001b[22m\u001b[22m::String, ::String\u001b[1m)\u001b[22m\u001b[22m at \u001b[1m./loading.jl:515\u001b[22m\u001b[22m\n",
      " [16] \u001b[1minclude_string\u001b[22m\u001b[22m\u001b[1m(\u001b[22m\u001b[22m::Module, ::String, ::String\u001b[1m)\u001b[22m\u001b[22m at \u001b[1m/Users/tiffanyshih/.julia/v0.6/Compat/src/Compat.jl:478\u001b[22m\u001b[22m\n",
      " [17] \u001b[1mexecute_request\u001b[22m\u001b[22m\u001b[1m(\u001b[22m\u001b[22m::ZMQ.Socket, ::IJulia.Msg\u001b[1m)\u001b[22m\u001b[22m at \u001b[1m/Users/tiffanyshih/.julia/v0.6/IJulia/src/execute_request.jl:154\u001b[22m\u001b[22m\n",
      " [18] \u001b[1meventloop\u001b[22m\u001b[22m\u001b[1m(\u001b[22m\u001b[22m::ZMQ.Socket\u001b[1m)\u001b[22m\u001b[22m at \u001b[1m/Users/tiffanyshih/.julia/v0.6/IJulia/src/eventloop.jl:8\u001b[22m\u001b[22m\n",
      " [19] \u001b[1m(::IJulia.##14#17)\u001b[22m\u001b[22m\u001b[1m(\u001b[22m\u001b[22m\u001b[1m)\u001b[22m\u001b[22m at \u001b[1m./task.jl:335\u001b[22m\u001b[22m\n",
      "while loading In[151], in expression starting on line 1\n",
      "\u001b[1m\u001b[33mWARNING: \u001b[39m\u001b[22m\u001b[33misnan{T <: Number}(x::AbstractArray{T}) is deprecated, use isnan.(x) instead.\u001b[39m\n",
      "Stacktrace:\n",
      " [1] \u001b[1mdepwarn\u001b[22m\u001b[22m\u001b[1m(\u001b[22m\u001b[22m::String, ::Symbol\u001b[1m)\u001b[22m\u001b[22m at \u001b[1m./deprecated.jl:70\u001b[22m\u001b[22m\n",
      " [2] \u001b[1misnan\u001b[22m\u001b[22m\u001b[1m(\u001b[22m\u001b[22m::Array{Float64,1}\u001b[1m)\u001b[22m\u001b[22m at \u001b[1m./deprecated.jl:57\u001b[22m\u001b[22m\n",
      " [3] \u001b[1mpopulate_solution!\u001b[22m\u001b[22m\u001b[1m(\u001b[22m\u001b[22m::ECOS.ECOSMathProgModel, ::Convex.Problem, ::Dict{UInt64,Tuple{Int64,Int64}}, ::Array{Convex.ConicConstr,1}\u001b[1m)\u001b[22m\u001b[22m at \u001b[1m/Users/tiffanyshih/.julia/v0.6/Convex/src/solution.jl:118\u001b[22m\u001b[22m\n",
      " [4] \u001b[1m#solve!#25\u001b[22m\u001b[22m\u001b[1m(\u001b[22m\u001b[22m::Bool, ::Bool, ::Bool, ::Function, ::Convex.Problem\u001b[1m)\u001b[22m\u001b[22m at \u001b[1m/Users/tiffanyshih/.julia/v0.6/Convex/src/solution.jl:38\u001b[22m\u001b[22m\n",
      " [5] \u001b[1m#ridge_regression#29\u001b[22m\u001b[22m\u001b[1m(\u001b[22m\u001b[22m::Int64, ::Function, ::Array{Real,2}, ::Array{Float64,1}\u001b[1m)\u001b[22m\u001b[22m at \u001b[1m./In[109]:5\u001b[22m\u001b[22m\n",
      " [6] \u001b[1m(::#kw##ridge_regression)\u001b[22m\u001b[22m\u001b[1m(\u001b[22m\u001b[22m::Array{Any,1}, ::#ridge_regression, ::Array{Real,2}, ::Array{Float64,1}\u001b[1m)\u001b[22m\u001b[22m at \u001b[1m./<missing>:0\u001b[22m\u001b[22m\n",
      " [7] \u001b[1minclude_string\u001b[22m\u001b[22m\u001b[1m(\u001b[22m\u001b[22m::String, ::String\u001b[1m)\u001b[22m\u001b[22m at \u001b[1m./loading.jl:515\u001b[22m\u001b[22m\n",
      " [8] \u001b[1minclude_string\u001b[22m\u001b[22m\u001b[1m(\u001b[22m\u001b[22m::Module, ::String, ::String\u001b[1m)\u001b[22m\u001b[22m at \u001b[1m/Users/tiffanyshih/.julia/v0.6/Compat/src/Compat.jl:478\u001b[22m\u001b[22m\n",
      " [9] \u001b[1mexecute_request\u001b[22m\u001b[22m\u001b[1m(\u001b[22m\u001b[22m::ZMQ.Socket, ::IJulia.Msg\u001b[1m)\u001b[22m\u001b[22m at \u001b[1m/Users/tiffanyshih/.julia/v0.6/IJulia/src/execute_request.jl:154\u001b[22m\u001b[22m\n",
      " [10] \u001b[1meventloop\u001b[22m\u001b[22m\u001b[1m(\u001b[22m\u001b[22m::ZMQ.Socket\u001b[1m)\u001b[22m\u001b[22m at \u001b[1m/Users/tiffanyshih/.julia/v0.6/IJulia/src/eventloop.jl:8\u001b[22m\u001b[22m\n",
      " [11] \u001b[1m(::IJulia.##14#17)\u001b[22m\u001b[22m\u001b[1m(\u001b[22m\u001b[22m\u001b[1m)\u001b[22m\u001b[22m at \u001b[1m./task.jl:335\u001b[22m\u001b[22m\n",
      "while loading In[151], in expression starting on line 1\n",
      "\u001b[1m\u001b[33mWARNING: \u001b[39m\u001b[22m\u001b[33mProblem status Error; solution may be inaccurate.\u001b[39m\n"
     ]
    },
    {
     "data": {
      "text/plain": [
       "42×1 Array{Float64,2}:\n",
       "    -1.04552 \n",
       "  1685.95    \n",
       "  1562.68    \n",
       "   992.225   \n",
       "   113.615   \n",
       "    -0.111848\n",
       "   189.545   \n",
       "  1144.99    \n",
       "   375.34    \n",
       " -1692.71    \n",
       "   -25.8314  \n",
       "  -246.669   \n",
       "  -686.087   \n",
       "     ⋮       \n",
       "   142.988   \n",
       "  3956.65    \n",
       "    -6.73872 \n",
       "    -5.8524  \n",
       "   -87.7827  \n",
       "  -418.386   \n",
       "  -223.96    \n",
       "  -902.427   \n",
       "   -21.9047  \n",
       " -1327.98    \n",
       "  -366.635   \n",
       "    -8.66391 "
      ]
     },
     "execution_count": 151,
     "metadata": {},
     "output_type": "execute_result"
    }
   ],
   "source": [
    "w = ridge_regression(X_train,y_train; λ=0)"
   ]
  },
  {
   "cell_type": "code",
   "execution_count": 152,
   "metadata": {
    "collapsed": false
   },
   "outputs": [
    {
     "name": "stderr",
     "output_type": "stream",
     "text": [
      "\u001b[1m\u001b[33mWARNING: \u001b[39m\u001b[22m\u001b[33mabs{T <: Number}(x::AbstractArray{T}) is deprecated, use abs.(x) instead.\u001b[39m\n",
      "Stacktrace:\n",
      " [1] \u001b[1mdepwarn\u001b[22m\u001b[22m\u001b[1m(\u001b[22m\u001b[22m::String, ::Symbol\u001b[1m)\u001b[22m\u001b[22m at \u001b[1m./deprecated.jl:70\u001b[22m\u001b[22m\n",
      " [2] \u001b[1mabs\u001b[22m\u001b[22m\u001b[1m(\u001b[22m\u001b[22m::RowVector{Float64,Array{Float64,1}}\u001b[1m)\u001b[22m\u001b[22m at \u001b[1m./deprecated.jl:57\u001b[22m\u001b[22m\n",
      " [3] \u001b[1mmean_abs_err\u001b[22m\u001b[22m\u001b[1m(\u001b[22m\u001b[22m::Array{Real,2}, ::Array{Float64,1}, ::Array{Float64,2}\u001b[1m)\u001b[22m\u001b[22m at \u001b[1m./In[42]:5\u001b[22m\u001b[22m\n",
      " [4] \u001b[1minclude_string\u001b[22m\u001b[22m\u001b[1m(\u001b[22m\u001b[22m::String, ::String\u001b[1m)\u001b[22m\u001b[22m at \u001b[1m./loading.jl:515\u001b[22m\u001b[22m\n",
      " [5] \u001b[1minclude_string\u001b[22m\u001b[22m\u001b[1m(\u001b[22m\u001b[22m::Module, ::String, ::String\u001b[1m)\u001b[22m\u001b[22m at \u001b[1m/Users/tiffanyshih/.julia/v0.6/Compat/src/Compat.jl:478\u001b[22m\u001b[22m\n",
      " [6] \u001b[1mexecute_request\u001b[22m\u001b[22m\u001b[1m(\u001b[22m\u001b[22m::ZMQ.Socket, ::IJulia.Msg\u001b[1m)\u001b[22m\u001b[22m at \u001b[1m/Users/tiffanyshih/.julia/v0.6/IJulia/src/execute_request.jl:154\u001b[22m\u001b[22m\n",
      " [7] \u001b[1meventloop\u001b[22m\u001b[22m\u001b[1m(\u001b[22m\u001b[22m::ZMQ.Socket\u001b[1m)\u001b[22m\u001b[22m at \u001b[1m/Users/tiffanyshih/.julia/v0.6/IJulia/src/eventloop.jl:8\u001b[22m\u001b[22m\n",
      " [8] \u001b[1m(::IJulia.##14#17)\u001b[22m\u001b[22m\u001b[1m(\u001b[22m\u001b[22m\u001b[1m)\u001b[22m\u001b[22m at \u001b[1m./task.jl:335\u001b[22m\u001b[22m\n",
      "while loading In[152], in expression starting on line 1\n"
     ]
    },
    {
     "data": {
      "text/plain": [
       "1×1 RowVector{Float64,Array{Float64,1}}:\n",
       " 2420.69"
      ]
     },
     "execution_count": 152,
     "metadata": {},
     "output_type": "execute_result"
    }
   ],
   "source": [
    "MAE_train = mean_abs_err(X_train, y_train, w)"
   ]
  },
  {
   "cell_type": "code",
   "execution_count": null,
   "metadata": {
    "collapsed": true
   },
   "outputs": [],
   "source": []
  }
 ],
 "metadata": {
  "kernelspec": {
   "display_name": "Julia 0.6.0",
   "language": "julia",
   "name": "julia-0.6"
  },
  "language_info": {
   "file_extension": ".jl",
   "mimetype": "application/julia",
   "name": "julia",
   "version": "0.6.0"
  }
 },
 "nbformat": 4,
 "nbformat_minor": 2
}
