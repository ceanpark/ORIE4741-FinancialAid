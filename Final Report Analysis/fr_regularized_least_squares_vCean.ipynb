{
 "cells": [
  {
   "cell_type": "code",
   "execution_count": 42,
   "metadata": {
    "collapsed": false
   },
   "outputs": [
    {
     "ename": "LoadError",
     "evalue": "\u001b[91mArgumentError: Module MLDataUtils not found in current path.\nRun `Pkg.add(\"MLDataUtils\")` to install the MLDataUtils package.\u001b[39m",
     "output_type": "error",
     "traceback": [
      "\u001b[91mArgumentError: Module MLDataUtils not found in current path.\nRun `Pkg.add(\"MLDataUtils\")` to install the MLDataUtils package.\u001b[39m",
      "",
      "Stacktrace:",
      " [1] \u001b[1m_require\u001b[22m\u001b[22m\u001b[1m(\u001b[22m\u001b[22m::Symbol\u001b[1m)\u001b[22m\u001b[22m at \u001b[1m./loading.jl:428\u001b[22m\u001b[22m",
      " [2] \u001b[1mrequire\u001b[22m\u001b[22m\u001b[1m(\u001b[22m\u001b[22m::Symbol\u001b[1m)\u001b[22m\u001b[22m at \u001b[1m./loading.jl:398\u001b[22m\u001b[22m",
      " [3] \u001b[1minclude_string\u001b[22m\u001b[22m\u001b[1m(\u001b[22m\u001b[22m::String, ::String\u001b[1m)\u001b[22m\u001b[22m at \u001b[1m./loading.jl:515\u001b[22m\u001b[22m"
     ]
    }
   ],
   "source": [
    "using DataFrames, CSV\n",
    "using PyPlot\n",
    "using ScikitLearn\n",
    "using ScikitLearn.CrossValidation: train_test_split\n",
    "using MLDataUtils"
   ]
  },
  {
   "cell_type": "code",
   "execution_count": 43,
   "metadata": {
    "collapsed": false
   },
   "outputs": [
    {
     "data": {
      "text/plain": [
       "proxgrad_const (generic function with 1 method)"
      ]
     },
     "execution_count": 43,
     "metadata": {},
     "output_type": "execute_result"
    }
   ],
   "source": [
    "include(\"proxgrad.jl\")"
   ]
  },
  {
   "cell_type": "code",
   "execution_count": 44,
   "metadata": {
    "collapsed": false
   },
   "outputs": [
    {
     "data": {
      "text/plain": [
       "mean_abs_percent (generic function with 1 method)"
      ]
     },
     "execution_count": 44,
     "metadata": {},
     "output_type": "execute_result"
    }
   ],
   "source": [
    "# define error functions\n",
    "\n",
    "function mean_abs_err(y_output, y_true)\n",
    "    n = size(y_output,1)\n",
    "    sum = 0\n",
    "    for i=1:n\n",
    "        sum += abs.(y_output[i] - y_true[i])\n",
    "    end\n",
    "    return (sum+0.0)/n\n",
    "end\n",
    "\n",
    "function mean_abs_percent(y_output, y_true)\n",
    "    n = size(y_output,1)\n",
    "    sum = 0\n",
    "    for i=1:n\n",
    "        sum += abs.((y_output[i] - y_true[i])/y_true[i])\n",
    "    end\n",
    "    return 100*(sum+0.0)/n\n",
    "end"
   ]
  },
  {
   "cell_type": "code",
   "execution_count": 45,
   "metadata": {
    "collapsed": true
   },
   "outputs": [],
   "source": [
    "tap_train_2003 = readtable(\"TAP_train_2003.csv\");\n",
    "tap_train_2008 = readtable(\"TAP_train_2008.csv\");\n",
    "tap_train_2015 = readtable(\"TAP_train_2015.csv\");"
   ]
  },
  {
   "cell_type": "code",
   "execution_count": 46,
   "metadata": {
    "collapsed": true
   },
   "outputs": [],
   "source": [
    "X_nontest_2003 = convert(Array{Float64},tap_train_2003[:,2:42]);\n",
    "y_nontest_2003 = convert(Array,tap_train_2003[:,43]);\n",
    "\n",
    "X_nontest_2008 = convert(Array{Float64},tap_train_2008[:,2:42]);\n",
    "y_nontest_2008 = convert(Array,tap_train_2008[:,43]);\n",
    "\n",
    "X_nontest_2015 = convert(Array{Float64},tap_train_2015[:,2:42]);\n",
    "y_nontest_2015 = convert(Array,tap_train_2015[:,43]);"
   ]
  },
  {
   "cell_type": "code",
   "execution_count": 47,
   "metadata": {
    "collapsed": false
   },
   "outputs": [],
   "source": [
    "X_train_2003, X_validate_2003, y_train_2003, y_validate_2003 = train_test_split(X_nontest_2003, y_nontest_2003, test_size=0.25, random_state=42);\n",
    "X_train_2008, X_validate_2008, y_train_2008, y_validate_2008 = train_test_split(X_nontest_2008, y_nontest_2008, test_size=0.25, random_state=42);\n",
    "X_train_2015, X_validate_2015, y_train_2015, y_validate_2015 = train_test_split(X_nontest_2015, y_nontest_2015, test_size=0.25, random_state=42);"
   ]
  },
  {
   "cell_type": "markdown",
   "metadata": {},
   "source": [
    "# 2015 dataset analysis"
   ]
  },
  {
   "cell_type": "markdown",
   "metadata": {},
   "source": [
    "## model 1: linear regression with quadratic loss, no regularizer"
   ]
  },
  {
   "cell_type": "code",
   "execution_count": 48,
   "metadata": {
    "collapsed": false,
    "scrolled": true
   },
   "outputs": [
    {
     "name": "stderr",
     "output_type": "stream",
     "text": [
      "WARNING: redefining constant LinearRegression\n"
     ]
    }
   ],
   "source": [
    "@sk_import linear_model: LinearRegression\n",
    "\n",
    "regr_1 = LinearRegression();\n",
    "ScikitLearn.fit!(regr_1, X_train_2015, y_train_2015);\n",
    "output_regr1 = ScikitLearn.predict(regr_1, X_validate_2015);"
   ]
  },
  {
   "cell_type": "code",
   "execution_count": 49,
   "metadata": {
    "collapsed": false
   },
   "outputs": [
    {
     "data": {
      "text/plain": [
       "41-element Array{Float64,1}:\n",
       "    2.25308e-10\n",
       "  -62.5108     \n",
       "  -35.6786     \n",
       " 1159.62       \n",
       "  -79.798      \n",
       "   29.4902     \n",
       "   50.3078     \n",
       "   -4.83442e-9 \n",
       "   -2.70518e-9 \n",
       "   85.2391     \n",
       "    2.02077    \n",
       "   77.9031     \n",
       " -102.652      \n",
       "    ⋮          \n",
       " 1061.64       \n",
       "    0.0        \n",
       "    0.0        \n",
       " -975.208      \n",
       " -396.607      \n",
       " -149.875      \n",
       "   88.1529     \n",
       " -184.408      \n",
       "    0.0        \n",
       "    0.0        \n",
       "   -0.0721065  \n",
       "    0.0        "
      ]
     },
     "execution_count": 49,
     "metadata": {},
     "output_type": "execute_result"
    }
   ],
   "source": [
    "regr_1[:coef_]"
   ]
  },
  {
   "cell_type": "code",
   "execution_count": 50,
   "metadata": {
    "collapsed": false
   },
   "outputs": [
    {
     "name": "stdout",
     "output_type": "stream",
     "text": [
      "For model 1 on the validation set, the MAE is 429"
     ]
    }
   ],
   "source": [
    "# compute errors on validation set\n",
    "MAE_regr1 = mean_abs_err(output_regr1, y_validate_2015);\n",
    "MAPD_regr1 = mean_abs_percent(output_regr1, y_validate_2015);\n",
    "@printf \"For model 1 on the validation set, the MAE is %f and the MAPD is %f\" MAE_regr1 MAPD_regr1"
   ]
  },
  {
   "cell_type": "markdown",
   "metadata": {},
   "source": [
    "## model 2: linear regression with quadratic loss, l2 regularizer (ridge)"
   ]
  },
  {
   "cell_type": "code",
   "execution_count": 51,
   "metadata": {
    "collapsed": false
   },
   "outputs": [
    {
     "name": "stderr",
     "output_type": "stream",
     "text": [
      "WARNING: redefining constant Ridge\n"
     ]
    }
   ],
   "source": [
    "# ridge regression with lambda parameter = lambda\n",
    "lambda = 0.25\n",
    "@sk_import linear_model: Ridge\n",
    "\n",
    "regr_2 = Ridge(alpha = lambda)\n",
    "ScikitLearn.fit!(regr_2, X_train_2015, y_train_2015);\n",
    "output_regr2 = ScikitLearn.predict(regr_2, X_validate_2015);"
   ]
  },
  {
   "cell_type": "code",
   "execution_count": 52,
   "metadata": {
    "collapsed": false
   },
   "outputs": [
    {
     "data": {
      "text/plain": [
       "41-element Array{Float64,1}:\n",
       "    0.0      \n",
       "  -62.69     \n",
       "  -35.6353   \n",
       " 1147.33     \n",
       "  -79.852    \n",
       "   29.5066   \n",
       "   50.3455   \n",
       "    0.0      \n",
       "    0.0      \n",
       "   85.2515   \n",
       "    2.1024   \n",
       "   77.9058   \n",
       " -102.57     \n",
       "    ⋮        \n",
       " 1058.65     \n",
       "    0.0      \n",
       "    0.0      \n",
       " -965.137    \n",
       " -396.68     \n",
       " -150.258    \n",
       "   86.3379   \n",
       " -182.197    \n",
       "    0.0      \n",
       "    0.0      \n",
       "   -0.0721039\n",
       "    0.0      "
      ]
     },
     "execution_count": 52,
     "metadata": {},
     "output_type": "execute_result"
    }
   ],
   "source": [
    "regr_2[:coef_]"
   ]
  },
  {
   "cell_type": "code",
   "execution_count": 53,
   "metadata": {
    "collapsed": false
   },
   "outputs": [
    {
     "name": "stdout",
     "output_type": "stream",
     "text": [
      "For model 2 on the validation set, the MAE is 429.843886 and the MAPD is 45.661897"
     ]
    }
   ],
   "source": [
    "# compute errors on validation set\n",
    "MAE_regr2 = mean_abs_err(output_regr2, y_validate_2015);\n",
    "MAPD_regr2 = mean_abs_percent(output_regr2, y_validate_2015);\n",
    "@printf \"For model 2 on the validation set, the MAE is %f and the MAPD is %f\" MAE_regr2 MAPD_regr2"
   ]
  },
  {
   "cell_type": "markdown",
   "metadata": {},
   "source": [
    "## model 3: linear regression with quadratic loss, l1 regularizer (lasso)"
   ]
  },
  {
   "cell_type": "code",
   "execution_count": 54,
   "metadata": {
    "collapsed": false
   },
   "outputs": [
    {
     "name": "stderr",
     "output_type": "stream",
     "text": [
      "WARNING: redefining constant Lasso\n"
     ]
    }
   ],
   "source": [
    "# lasso regression with lambda parameter = lambda\n",
    "lambda = 0.5\n",
    "@sk_import linear_model: Lasso\n",
    "\n",
    "regr_3 = Lasso(alpha = lambda, max_iter = 5000)\n",
    "ScikitLearn.fit!(regr_3, X_train_2015, y_train_2015);\n",
    "output_regr3 = ScikitLearn.predict(regr_3, X_validate_2015);"
   ]
  },
  {
   "cell_type": "code",
   "execution_count": 55,
   "metadata": {
    "collapsed": false
   },
   "outputs": [
    {
     "data": {
      "text/plain": [
       "41-element Array{Float64,1}:\n",
       "    0.0      \n",
       "  -27.108    \n",
       "  -29.1549   \n",
       " 1303.99     \n",
       " -113.72     \n",
       "   -0.0      \n",
       "   15.7455   \n",
       "    0.0      \n",
       "    0.0      \n",
       "   77.1541   \n",
       "   -0.0      \n",
       "   70.1678   \n",
       " -102.086    \n",
       "    ⋮        \n",
       "  963.226    \n",
       "    0.0      \n",
       "    0.0      \n",
       " -629.766    \n",
       " -306.987    \n",
       "   -0.0      \n",
       "  123.829    \n",
       "   -0.0      \n",
       "    0.0      \n",
       "    0.0      \n",
       "   -0.0720725\n",
       "    0.0      "
      ]
     },
     "execution_count": 55,
     "metadata": {},
     "output_type": "execute_result"
    }
   ],
   "source": [
    "regr_3[:coef_]"
   ]
  },
  {
   "cell_type": "code",
   "execution_count": 56,
   "metadata": {
    "collapsed": false
   },
   "outputs": [
    {
     "name": "stdout",
     "output_type": "stream",
     "text": [
      "For model 3 on the validation set, the MAE is 430.453410 and the MAPD is 45.687219"
     ]
    }
   ],
   "source": [
    "# compute errors on validation set\n",
    "MAE_regr3 = mean_abs_err(output_regr3, y_validate_2015);\n",
    "MAPD_regr3 = mean_abs_percent(output_regr3, y_validate_2015);\n",
    "@printf \"For model 3 on the validation set, the MAE is %f and the MAPD is %f\" MAE_regr3 MAPD_regr3"
   ]
  },
  {
   "cell_type": "markdown",
   "metadata": {
    "collapsed": true
   },
   "source": [
    "# 2008 dataset analysis"
   ]
  },
  {
   "cell_type": "markdown",
   "metadata": {
    "collapsed": true
   },
   "source": [
    "## model 1: linear regression with quadratic loss, no regularizer"
   ]
  },
  {
   "cell_type": "code",
   "execution_count": 57,
   "metadata": {
    "collapsed": false
   },
   "outputs": [],
   "source": [
    "regr_1 = LinearRegression();\n",
    "ScikitLearn.fit!(regr_1, X_train_2008, y_train_2008);\n",
    "output_regr1 = ScikitLearn.predict(regr_1, X_validate_2008);"
   ]
  },
  {
   "cell_type": "code",
   "execution_count": 58,
   "metadata": {
    "collapsed": false
   },
   "outputs": [
    {
     "data": {
      "text/plain": [
       "41-element Array{Float64,1}:\n",
       "    2.02222e11\n",
       "  398.137     \n",
       "   23.1405    \n",
       "    1.06432e10\n",
       "   -2.66081e10\n",
       "   -2.66081e10\n",
       "   -2.66081e10\n",
       "    1.06432e11\n",
       "   -2.66081e10\n",
       "   32.0855    \n",
       " -625.097     \n",
       "  292.896     \n",
       " -100.144     \n",
       "    ⋮         \n",
       "   -1.59649e10\n",
       "    0.0       \n",
       "    0.0       \n",
       "   -5.32162e9 \n",
       "   -1.59649e10\n",
       "   -1.59649e10\n",
       "   -1.59649e10\n",
       "   -5.32162e9 \n",
       "    5.32162e10\n",
       "    5.32162e10\n",
       "   -0.0620518 \n",
       "    0.0       "
      ]
     },
     "execution_count": 58,
     "metadata": {},
     "output_type": "execute_result"
    }
   ],
   "source": [
    "regr_1[:coef_]"
   ]
  },
  {
   "cell_type": "code",
   "execution_count": 59,
   "metadata": {
    "collapsed": false
   },
   "outputs": [
    {
     "name": "stdout",
     "output_type": "stream",
     "text": [
      "For model 1 on the validation set, the MAE is 491.674109 and the MAPD is 65.539155"
     ]
    }
   ],
   "source": [
    "# compute errors on validation set\n",
    "MAE_regr1 = mean_abs_err(output_regr1, y_validate_2008);\n",
    "MAPD_regr1 = mean_abs_percent(output_regr1, y_validate_2008);\n",
    "@printf \"For model 1 on the validation set, the MAE is %f and the MAPD is %f\" MAE_regr1 MAPD_regr1"
   ]
  },
  {
   "cell_type": "markdown",
   "metadata": {},
   "source": [
    "## model 2: linear regression with quadratic loss, l2 regularizer (ridge)"
   ]
  },
  {
   "cell_type": "code",
   "execution_count": 60,
   "metadata": {
    "collapsed": true
   },
   "outputs": [],
   "source": [
    "regr_2 = Ridge(alpha = 0.25)\n",
    "ScikitLearn.fit!(regr_2, X_train_2008, y_train_2008);\n",
    "output_regr2 = ScikitLearn.predict(regr_2, X_validate_2008);"
   ]
  },
  {
   "cell_type": "code",
   "execution_count": 61,
   "metadata": {
    "collapsed": false
   },
   "outputs": [
    {
     "data": {
      "text/plain": [
       "41-element Array{Float64,1}:\n",
       "  677.619    \n",
       "  397.998    \n",
       "   23.0993   \n",
       " 1520.93     \n",
       "  509.707    \n",
       "  521.827    \n",
       "  592.804    \n",
       " -677.619    \n",
       " -946.719    \n",
       "   32.5536   \n",
       " -624.267    \n",
       "  293.244    \n",
       "  -99.5288   \n",
       "    ⋮        \n",
       " 1058.27     \n",
       "    0.0      \n",
       "    0.0      \n",
       " -947.721    \n",
       " -182.428    \n",
       "   35.0377   \n",
       "  314.375    \n",
       " -573.206    \n",
       " -621.153    \n",
       "  -56.4657   \n",
       "   -0.0620454\n",
       "    0.0      "
      ]
     },
     "execution_count": 61,
     "metadata": {},
     "output_type": "execute_result"
    }
   ],
   "source": [
    "regr_2[:coef_]"
   ]
  },
  {
   "cell_type": "code",
   "execution_count": 62,
   "metadata": {
    "collapsed": false
   },
   "outputs": [
    {
     "name": "stdout",
     "output_type": "stream",
     "text": [
      "For model 2 on the validation set, the MAE is 491.671215 and the MAPD is 65.525595"
     ]
    }
   ],
   "source": [
    "# compute errors on validation set\n",
    "MAE_regr2 = mean_abs_err(output_regr2, y_validate_2008);\n",
    "MAPD_regr2 = mean_abs_percent(output_regr2, y_validate_2008);\n",
    "@printf \"For model 2 on the validation set, the MAE is %f and the MAPD is %f\" MAE_regr2 MAPD_regr2"
   ]
  },
  {
   "cell_type": "markdown",
   "metadata": {},
   "source": [
    "## model 3: linear regression with quadratic loss, l1 regularizer (lasso)"
   ]
  },
  {
   "cell_type": "code",
   "execution_count": 63,
   "metadata": {
    "collapsed": true
   },
   "outputs": [],
   "source": [
    "regr_3 = Lasso(alpha = 0.5, max_iter = 5000)\n",
    "ScikitLearn.fit!(regr_3, X_train_2008, y_train_2008);\n",
    "output_regr3 = ScikitLearn.predict(regr_3, X_validate_2008);"
   ]
  },
  {
   "cell_type": "code",
   "execution_count": 64,
   "metadata": {
    "collapsed": false
   },
   "outputs": [
    {
     "data": {
      "text/plain": [
       "41-element Array{Float64,1}:\n",
       " 2136.6      \n",
       "  425.734    \n",
       "   17.8321   \n",
       " 2324.08     \n",
       "   -0.0      \n",
       "   13.6042   \n",
       "   78.4929   \n",
       "   -0.131895 \n",
       "   -0.0      \n",
       "   -0.0      \n",
       " -648.594    \n",
       "  258.396    \n",
       " -126.668    \n",
       "    ⋮        \n",
       "  736.627    \n",
       "    0.0      \n",
       "    0.0      \n",
       " -244.096    \n",
       " -364.211    \n",
       " -125.53     \n",
       "   91.9317   \n",
       "   -0.0      \n",
       " -655.492    \n",
       "    0.0      \n",
       "   -0.0619818\n",
       "    0.0      "
      ]
     },
     "execution_count": 64,
     "metadata": {},
     "output_type": "execute_result"
    }
   ],
   "source": [
    "regr_3[:coef_]"
   ]
  },
  {
   "cell_type": "code",
   "execution_count": 65,
   "metadata": {
    "collapsed": false
   },
   "outputs": [
    {
     "name": "stdout",
     "output_type": "stream",
     "text": [
      "For model 3 on the validation set, the MAE is 492.368404 and the MAPD is 65.333841"
     ]
    }
   ],
   "source": [
    "# compute errors on validation set\n",
    "MAE_regr3 = mean_abs_err(output_regr3, y_validate_2008);\n",
    "MAPD_regr3 = mean_abs_percent(output_regr3, y_validate_2008);\n",
    "@printf \"For model 3 on the validation set, the MAE is %f and the MAPD is %f\" MAE_regr3 MAPD_regr3"
   ]
  },
  {
   "cell_type": "markdown",
   "metadata": {},
   "source": [
    "# 2003 dataset analysis"
   ]
  },
  {
   "cell_type": "markdown",
   "metadata": {},
   "source": [
    "## model 1: linear regression with quadratic loss, no regularizer"
   ]
  },
  {
   "cell_type": "code",
   "execution_count": 66,
   "metadata": {
    "collapsed": true
   },
   "outputs": [],
   "source": [
    "regr_1 = LinearRegression();\n",
    "ScikitLearn.fit!(regr_1, X_train_2003, y_train_2003);\n",
    "output_regr1 = ScikitLearn.predict(regr_1, X_validate_2003);"
   ]
  },
  {
   "cell_type": "code",
   "execution_count": 67,
   "metadata": {
    "collapsed": false
   },
   "outputs": [
    {
     "data": {
      "text/plain": [
       "41-element Array{Float64,1}:\n",
       "  680.757   \n",
       "  419.397   \n",
       "    9.89856 \n",
       " 1897.24    \n",
       "  409.545   \n",
       "  460.22    \n",
       "  491.206   \n",
       " -680.757   \n",
       " -680.214   \n",
       "  146.837   \n",
       " -553.024   \n",
       "  279.131   \n",
       " -292.342   \n",
       "    ⋮       \n",
       " 1196.51    \n",
       "    0.0     \n",
       " -938.725   \n",
       " -664.874   \n",
       " -216.73    \n",
       "   45.7897  \n",
       "  269.64    \n",
       " -293.639   \n",
       " -521.401   \n",
       " -159.356   \n",
       "   -0.061139\n",
       "    0.0     "
      ]
     },
     "execution_count": 67,
     "metadata": {},
     "output_type": "execute_result"
    }
   ],
   "source": [
    "regr_1[:coef_]"
   ]
  },
  {
   "cell_type": "code",
   "execution_count": 69,
   "metadata": {
    "collapsed": false
   },
   "outputs": [
    {
     "name": "stdout",
     "output_type": "stream",
     "text": [
      "For model 1 on the validation set, the MAE is 481.456795 and the MAPD is 60.365368"
     ]
    }
   ],
   "source": [
    "# compute errors on validation set\n",
    "MAE_regr1 = mean_abs_err(output_regr1, y_validate_2003);\n",
    "MAPD_regr1 = mean_abs_percent(output_regr1, y_validate_2003);\n",
    "@printf \"For model 1 on the validation set, the MAE is %f and the MAPD is %f\" MAE_regr1 MAPD_regr1"
   ]
  },
  {
   "cell_type": "markdown",
   "metadata": {},
   "source": [
    "## model 2: linear regression with quadratic loss, l2 regularizer (ridge)"
   ]
  },
  {
   "cell_type": "code",
   "execution_count": 72,
   "metadata": {
    "collapsed": true
   },
   "outputs": [],
   "source": [
    "regr_2 = Ridge(alpha = 0.25)\n",
    "ScikitLearn.fit!(regr_2, X_train_2003, y_train_2003);\n",
    "output_regr2 = ScikitLearn.predict(regr_2, X_validate_2003);"
   ]
  },
  {
   "cell_type": "code",
   "execution_count": 73,
   "metadata": {
    "collapsed": false
   },
   "outputs": [
    {
     "data": {
      "text/plain": [
       "41-element Array{Float64,1}:\n",
       "  684.717    \n",
       "  418.937    \n",
       "    9.92364  \n",
       " 1830.46     \n",
       "  409.564    \n",
       "  460.304    \n",
       "  491.107    \n",
       " -684.717    \n",
       " -676.258    \n",
       "  146.867    \n",
       " -552.668    \n",
       "  279.048    \n",
       " -292.184    \n",
       "    ⋮        \n",
       " 1180.07     \n",
       "    0.0      \n",
       " -815.326    \n",
       " -725.219    \n",
       " -220.921    \n",
       "   41.1835   \n",
       "  264.951    \n",
       " -289.918    \n",
       " -529.27     \n",
       " -155.446    \n",
       "   -0.0611371\n",
       "    0.0      "
      ]
     },
     "execution_count": 73,
     "metadata": {},
     "output_type": "execute_result"
    }
   ],
   "source": [
    "regr_2[:coef_]"
   ]
  },
  {
   "cell_type": "code",
   "execution_count": 74,
   "metadata": {
    "collapsed": false
   },
   "outputs": [
    {
     "name": "stdout",
     "output_type": "stream",
     "text": [
      "For model 2 on the validation set, the MAE is 481.474333 and the MAPD is 60.361104"
     ]
    }
   ],
   "source": [
    "# compute errors on validation set\n",
    "MAE_regr2 = mean_abs_err(output_regr2, y_validate_2003);\n",
    "MAPD_regr2 = mean_abs_percent(output_regr2, y_validate_2003);\n",
    "@printf \"For model 2 on the validation set, the MAE is %f and the MAPD is %f\" MAE_regr2 MAPD_regr2"
   ]
  },
  {
   "cell_type": "markdown",
   "metadata": {},
   "source": [
    "## model 3: linear regression with quadratic loss, l1 regularizer (lasso)"
   ]
  },
  {
   "cell_type": "code",
   "execution_count": 75,
   "metadata": {
    "collapsed": true
   },
   "outputs": [],
   "source": [
    "regr_3 = Lasso(alpha = 0.5, max_iter = 5000)\n",
    "ScikitLearn.fit!(regr_3, X_train_2003, y_train_2003);\n",
    "output_regr3 = ScikitLearn.predict(regr_3, X_validate_2003);"
   ]
  },
  {
   "cell_type": "code",
   "execution_count": 76,
   "metadata": {
    "collapsed": false
   },
   "outputs": [
    {
     "data": {
      "text/plain": [
       "41-element Array{Float64,1}:\n",
       " 2098.14     \n",
       "  328.634    \n",
       "    8.50855  \n",
       " 2578.17     \n",
       "    0.0      \n",
       "   52.2971   \n",
       "   77.2108   \n",
       "   -7.73429  \n",
       " -986.888    \n",
       "    0.0      \n",
       " -690.819    \n",
       "  127.502    \n",
       " -434.147    \n",
       "    ⋮        \n",
       "  710.798    \n",
       "    0.0      \n",
       "   -0.0      \n",
       "   -0.0      \n",
       " -366.277    \n",
       "  -84.0116   \n",
       "   83.3538   \n",
       "    0.0      \n",
       " -652.858    \n",
       "   -0.0      \n",
       "   -0.0610943\n",
       "    0.0      "
      ]
     },
     "execution_count": 76,
     "metadata": {},
     "output_type": "execute_result"
    }
   ],
   "source": [
    "regr_3[:coef_]"
   ]
  },
  {
   "cell_type": "code",
   "execution_count": 77,
   "metadata": {
    "collapsed": false
   },
   "outputs": [
    {
     "name": "stdout",
     "output_type": "stream",
     "text": [
      "For model 3 on the validation set, the MAE is 482.459289 and the MAPD is 60.349483"
     ]
    }
   ],
   "source": [
    "# compute errors on validation set\n",
    "MAE_regr3 = mean_abs_err(output_regr3, y_validate_2003);\n",
    "MAPD_regr3 = mean_abs_percent(output_regr3, y_validate_2003);\n",
    "@printf \"For model 3 on the validation set, the MAE is %f and the MAPD is %f\" MAE_regr3 MAPD_regr3"
   ]
  },
  {
   "cell_type": "markdown",
   "metadata": {},
   "source": [
    "# 2000 - 2015 Dataset Analysis"
   ]
  },
  {
   "cell_type": "markdown",
   "metadata": {},
   "source": [
    "## model 1: linear regression with quadratic loss, no regularizer"
   ]
  },
  {
   "cell_type": "code",
   "execution_count": 78,
   "metadata": {
    "collapsed": true
   },
   "outputs": [],
   "source": [
    "tap_train = readtable(\"TAP_train.csv\");"
   ]
  },
  {
   "cell_type": "code",
   "execution_count": 79,
   "metadata": {
    "collapsed": true
   },
   "outputs": [],
   "source": [
    "X_nontest = convert(Array{Float64},tap_train[:,1:42]);\n",
    "y_nontest = convert(Array,tap_train[:,43]);"
   ]
  },
  {
   "cell_type": "code",
   "execution_count": 80,
   "metadata": {
    "collapsed": true
   },
   "outputs": [],
   "source": [
    "X_train, X_validate, y_train, y_validate = train_test_split(X_nontest, y_nontest, test_size=0.25, random_state=42);"
   ]
  },
  {
   "cell_type": "code",
   "execution_count": 81,
   "metadata": {
    "collapsed": true
   },
   "outputs": [],
   "source": [
    "regr_1 = LinearRegression();\n",
    "ScikitLearn.fit!(regr_1, X_train, y_train);\n",
    "output_regr1 = ScikitLearn.predict(regr_1, X_validate);"
   ]
  },
  {
   "cell_type": "code",
   "execution_count": 82,
   "metadata": {
    "collapsed": false
   },
   "outputs": [
    {
     "data": {
      "text/plain": [
       "42-element Array{Float64,1}:\n",
       "    31.2125   \n",
       "  1280.1      \n",
       "   340.463    \n",
       "     5.79992  \n",
       "  1780.41     \n",
       "    -0.0630094\n",
       "   253.482    \n",
       "   308.467    \n",
       "   357.934    \n",
       "   205.021    \n",
       " -1124.9      \n",
       "    74.956    \n",
       "  -409.045    \n",
       "     ⋮        \n",
       "   846.251    \n",
       "  1299.74     \n",
       "  -512.468    \n",
       "  -665.592    \n",
       "  -422.293    \n",
       "  -133.944    \n",
       "    32.081    \n",
       "   318.299    \n",
       "  -180.057    \n",
       "  -829.093    \n",
       "  -451.01     \n",
       "     0.0      "
      ]
     },
     "execution_count": 82,
     "metadata": {},
     "output_type": "execute_result"
    }
   ],
   "source": [
    "regr_1[:coef_]"
   ]
  },
  {
   "cell_type": "code",
   "execution_count": 83,
   "metadata": {
    "collapsed": false
   },
   "outputs": [
    {
     "name": "stdout",
     "output_type": "stream",
     "text": [
      "For model 1 on the validation set, the MAE is 510.644185 and the MAPD is 62.607305"
     ]
    }
   ],
   "source": [
    "# compute errors on validation set\n",
    "MAE_regr1 = mean_abs_err(output_regr1, y_validate);\n",
    "MAPD_regr1 = mean_abs_percent(output_regr1, y_validate);\n",
    "@printf \"For model 1 on the validation set, the MAE is %f and the MAPD is %f\" MAE_regr1 MAPD_regr1"
   ]
  },
  {
   "cell_type": "markdown",
   "metadata": {},
   "source": [
    "## model 2: linear regression with quadratic loss, l2 regularizer (ridge)"
   ]
  },
  {
   "cell_type": "code",
   "execution_count": 90,
   "metadata": {
    "collapsed": true
   },
   "outputs": [],
   "source": [
    "regr_2 = Ridge(alpha = 0.25)\n",
    "ScikitLearn.fit!(regr_2, X_train, y_train);\n",
    "output_regr2 = ScikitLearn.predict(regr_2, X_validate);"
   ]
  },
  {
   "cell_type": "code",
   "execution_count": 91,
   "metadata": {
    "collapsed": false
   },
   "outputs": [
    {
     "data": {
      "text/plain": [
       "42-element Array{Float64,1}:\n",
       "    31.2138   \n",
       "  1228.44     \n",
       "   340.434    \n",
       "     5.79988  \n",
       "  1781.89     \n",
       "    -0.0630091\n",
       "   270.116    \n",
       "   325.104    \n",
       "   374.565    \n",
       "   136.334    \n",
       " -1106.12     \n",
       "    74.9615   \n",
       "  -409.024    \n",
       "     ⋮        \n",
       "   837.655    \n",
       "  1291.14     \n",
       "  -507.895    \n",
       "  -660.747    \n",
       "  -428.663    \n",
       "  -141.01     \n",
       "    24.9893   \n",
       "   311.201    \n",
       "  -184.582    \n",
       "  -804.034    \n",
       "  -424.406    \n",
       "     0.0      "
      ]
     },
     "execution_count": 91,
     "metadata": {},
     "output_type": "execute_result"
    }
   ],
   "source": [
    "regr_2[:coef_]"
   ]
  },
  {
   "cell_type": "code",
   "execution_count": 92,
   "metadata": {
    "collapsed": false
   },
   "outputs": [
    {
     "name": "stdout",
     "output_type": "stream",
     "text": [
      "For model 2 on the validation set, the MAE is 510.645113 and the MAPD is 62.606834"
     ]
    }
   ],
   "source": [
    "# compute errors on validation set\n",
    "MAE_regr2 = mean_abs_err(output_regr2, y_validate);\n",
    "MAPD_regr2 = mean_abs_percent(output_regr2, y_validate);\n",
    "@printf \"For model 2 on the validation set, the MAE is %f and the MAPD is %f\" MAE_regr2 MAPD_regr2"
   ]
  },
  {
   "cell_type": "code",
   "execution_count": 106,
   "metadata": {
    "collapsed": false
   },
   "outputs": [
    {
     "data": {
      "image/png": "[encoded data removed]",
      "text/plain": [
       "PyPlot.Figure(PyObject <matplotlib.figure.Figure object at 0x131a56950>)"
      ]
     },
     "metadata": {},
     "output_type": "display_data"
    },
    {
     "data": {
      "text/plain": [
       "1-element Array{PyCall.PyObject,1}:\n",
       " PyObject <matplotlib.lines.Line2D object at 0x13203cfd0>"
      ]
     },
     "execution_count": 106,
     "metadata": {},
     "output_type": "execute_result"
    }
   ],
   "source": [
    "error = Float64[]\n",
    "λs = 0:.1:5\n",
    "for λ in λs\n",
    "    regr_2 = Ridge(alpha = λ)\n",
    "    ScikitLearn.fit!(regr_2, X_train, y_train)\n",
    "    output_regr2 = ScikitLearn.predict(regr_2, X_validate)\n",
    "    w = regr_2[:coef_]\n",
    "    push!(error, sum((y_validate - X_validate*w).^2))\n",
    "end\n",
    "plot(λs, error)"
   ]
  },
  {
   "cell_type": "markdown",
   "metadata": {},
   "source": [
    "## model 3: linear regression with quadratic loss, l1 regularizer (lasso)"
   ]
  },
  {
   "cell_type": "code",
   "execution_count": 94,
   "metadata": {
    "collapsed": false
   },
   "outputs": [],
   "source": [
    "regr_3 = Lasso(alpha = 0.5, max_iter = 8000)\n",
    "ScikitLearn.fit!(regr_3, X_train, y_train);\n",
    "output_regr3 = ScikitLearn.predict(regr_3, X_validate);"
   ]
  },
  {
   "cell_type": "code",
   "execution_count": 97,
   "metadata": {
    "collapsed": false,
    "scrolled": true
   },
   "outputs": [
    {
     "data": {
      "text/plain": [
       "15-element Array{Float64,1}:\n",
       "   31.3622  \n",
       " 2054.98    \n",
       "  313.331   \n",
       "    5.37362 \n",
       " 2236.69    \n",
       "   -0.062957\n",
       "   -0.0     \n",
       "   57.7729  \n",
       "  101.94    \n",
       "  -32.5509  \n",
       " -928.712   \n",
       "   -0.0     \n",
       " -475.12    \n",
       "  111.171   \n",
       " -265.439   "
      ]
     },
     "execution_count": 97,
     "metadata": {},
     "output_type": "execute_result"
    }
   ],
   "source": [
    "regr_3[:coef_][1:15]"
   ]
  },
  {
   "cell_type": "code",
   "execution_count": 98,
   "metadata": {
    "collapsed": false
   },
   "outputs": [
    {
     "data": {
      "text/plain": [
       "15-element Array{Float64,1}:\n",
       "    6.24246\n",
       "   -0.0    \n",
       "   99.0109 \n",
       "  -67.9825 \n",
       "    0.0    \n",
       "   20.716  \n",
       "   -0.0    \n",
       "   -4.36255\n",
       "   -0.0    \n",
       "   38.3471 \n",
       "  423.183  \n",
       " -315.077  \n",
       "    0.0    \n",
       "  258.515  \n",
       "    0.0    "
      ]
     },
     "execution_count": 98,
     "metadata": {},
     "output_type": "execute_result"
    }
   ],
   "source": [
    "regr_3[:coef_][16:30]"
   ]
  },
  {
   "cell_type": "code",
   "execution_count": 99,
   "metadata": {
    "collapsed": false
   },
   "outputs": [
    {
     "data": {
      "text/plain": [
       "12-element Array{Float64,1}:\n",
       "  516.756\n",
       "  971.968\n",
       "   -0.0  \n",
       "   -0.0  \n",
       "   -0.0  \n",
       " -416.492\n",
       " -229.673\n",
       "    0.0  \n",
       "    0.0  \n",
       " -371.629\n",
       "   -0.0  \n",
       "    0.0  "
      ]
     },
     "execution_count": 99,
     "metadata": {},
     "output_type": "execute_result"
    }
   ],
   "source": [
    "regr_3[:coef_][31:42]"
   ]
  },
  {
   "cell_type": "code",
   "execution_count": 96,
   "metadata": {
    "collapsed": false
   },
   "outputs": [
    {
     "name": "stdout",
     "output_type": "stream",
     "text": [
      "For model 3 on the validation set, the MAE is 511.389105 and the MAPD is 62.485278"
     ]
    }
   ],
   "source": [
    "# compute errors on validation set\n",
    "MAE_regr3 = mean_abs_err(output_regr3, y_validate);\n",
    "MAPD_regr3 = mean_abs_percent(output_regr3, y_validate);\n",
    "@printf \"For model 3 on the validation set, the MAE is %f and the MAPD is %f\" MAE_regr3 MAPD_regr3"
   ]
  },
  {
   "cell_type": "code",
   "execution_count": null,
   "metadata": {
    "collapsed": true
   },
   "outputs": [],
   "source": [
    "error = Float64[]\n",
    "λs = 0:.1:5\n",
    "for λ in λs\n",
    "    regr_2 = Lasso(alpha = λ, max_iter = 8000)\n",
    "    ScikitLearn.fit!(regr_2, X_train, y_train)\n",
    "    output_regr2 = ScikitLearn.predict(regr_2, X_validate)\n",
    "    w = regr_2[:coef_]\n",
    "    push!(error, sum((y_validate - X_validate*w).^2))\n",
    "end\n",
    "plot(λs, error)"
   ]
  },
  {
   "cell_type": "code",
   "execution_count": null,
   "metadata": {
    "collapsed": true
   },
   "outputs": [],
   "source": []
  }
 ],
 "metadata": {
  "kernelspec": {
   "display_name": "Julia 0.6.0",
   "language": "julia",
   "name": "julia-0.6"
  },
  "language_info": {
   "file_extension": ".jl",
   "mimetype": "application/julia",
   "name": "julia",
   "version": "0.6.0"
  }
 },
 "nbformat": 4,
 "nbformat_minor": 2
}
