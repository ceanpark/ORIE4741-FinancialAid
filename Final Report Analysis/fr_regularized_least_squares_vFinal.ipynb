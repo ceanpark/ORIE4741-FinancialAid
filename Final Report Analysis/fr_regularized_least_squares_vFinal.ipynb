{
 "cells": [
  {
   "cell_type": "code",
   "execution_count": 1,
   "metadata": {
    "collapsed": false
   },
   "outputs": [
    {
     "name": "stderr",
     "output_type": "stream",
     "text": [
      "WARNING: Method definition ==(Base.Nullable{S}, Base.Nullable{T}) in module Base at nullable.jl:238 overwritten in module NullableArrays at /Users/tiffanyshih/.julia/v0.6/NullableArrays/src/operators.jl:99.\n"
     ]
    }
   ],
   "source": [
    "using DataFrames, CSV\n",
    "using PyPlot\n",
    "using ScikitLearn\n",
    "using ScikitLearn.CrossValidation: train_test_split"
   ]
  },
  {
   "cell_type": "code",
   "execution_count": 91,
   "metadata": {
    "collapsed": false
   },
   "outputs": [
    {
     "data": {
      "text/plain": [
       "mean_abs_percent (generic function with 1 method)"
      ]
     },
     "execution_count": 91,
     "metadata": {},
     "output_type": "execute_result"
    }
   ],
   "source": [
    "# define error functions\n",
    "\n",
    "function mean_abs_err(y_output, y_true)\n",
    "    n = size(y_output,1)\n",
    "    sum = 0\n",
    "    for i=1:n\n",
    "        sum += abs.(y_output[i] - y_true[i])\n",
    "    end\n",
    "    return (sum+0.0)/n\n",
    "end\n",
    "\n",
    "function mean_abs_percent(y_output, y_true)\n",
    "    n = size(y_output,1)\n",
    "    sum = 0\n",
    "    for i=1:n\n",
    "        sum += abs.((y_output[i] - y_true[i])/y_true[i])\n",
    "    end\n",
    "    return 100*(sum+0.0)/n\n",
    "end"
   ]
  },
  {
   "cell_type": "code",
   "execution_count": 3,
   "metadata": {
    "collapsed": true
   },
   "outputs": [],
   "source": [
    "tap_train = readtable(\"TAP_train.csv\");"
   ]
  },
  {
   "cell_type": "code",
   "execution_count": 4,
   "metadata": {
    "collapsed": true
   },
   "outputs": [],
   "source": [
    "X_nontest = convert(Array{Float64},tap_train[:,1:42]);\n",
    "y_nontest = convert(Array,tap_train[:,43]);"
   ]
  },
  {
   "cell_type": "code",
   "execution_count": 5,
   "metadata": {
    "collapsed": false
   },
   "outputs": [
    {
     "name": "stderr",
     "output_type": "stream",
     "text": [
      "/Users/tiffanyshih/.julia/v0.6/Conda/deps/usr/lib/python2.7/site-packages/sklearn/cross_validation.py:41: DeprecationWarning: This module was deprecated in version 0.18 in favor of the model_selection module into which all the refactored classes and functions are moved. Also note that the interface of the new CV iterators are different from that of this module. This module will be removed in 0.20.\n",
      "  \"This module will be removed in 0.20.\", DeprecationWarning)\n"
     ]
    }
   ],
   "source": [
    "X_train, X_validate, y_train, y_validate = train_test_split(X_nontest, y_nontest, test_size=0.25, random_state=42);"
   ]
  },
  {
   "cell_type": "markdown",
   "metadata": {},
   "source": [
    "## model 1: linear regression with quadratic loss, no regularizer"
   ]
  },
  {
   "cell_type": "code",
   "execution_count": 7,
   "metadata": {
    "collapsed": false
   },
   "outputs": [],
   "source": [
    "@sk_import linear_model: LinearRegression\n",
    "\n",
    "regr_1 = LinearRegression();\n",
    "ScikitLearn.fit!(regr_1, X_train, y_train);\n",
    "output_regr1 = ScikitLearn.predict(regr_1, X_validate);"
   ]
  },
  {
   "cell_type": "code",
   "execution_count": 62,
   "metadata": {
    "collapsed": false
   },
   "outputs": [
    {
     "data": {
      "text/plain": [
       "15-element Array{Float64,1}:\n",
       "    31.2125   \n",
       "  1280.1      \n",
       "   340.463    \n",
       "     5.79992  \n",
       "  1780.41     \n",
       "    -0.0630094\n",
       "   253.482    \n",
       "   308.467    \n",
       "   357.934    \n",
       "   205.021    \n",
       " -1124.9      \n",
       "    74.956    \n",
       "  -409.045    \n",
       "   189.195    \n",
       "  -195.569    "
      ]
     },
     "execution_count": 62,
     "metadata": {},
     "output_type": "execute_result"
    }
   ],
   "source": [
    "regr_1[:coef_][1:15]"
   ]
  },
  {
   "cell_type": "code",
   "execution_count": 63,
   "metadata": {
    "collapsed": false
   },
   "outputs": [
    {
     "data": {
      "text/plain": [
       "15-element Array{Float64,1}:\n",
       "   57.9742\n",
       "   45.1896\n",
       "  183.083 \n",
       "  -40.6903\n",
       "   94.9061\n",
       "   11.2028\n",
       "  -11.3755\n",
       "  -17.2555\n",
       "  -13.5783\n",
       "   31.0065\n",
       "  308.607 \n",
       " -414.631 \n",
       "  106.024 \n",
       "  592.066 \n",
       "  106.024 "
      ]
     },
     "execution_count": 63,
     "metadata": {},
     "output_type": "execute_result"
    }
   ],
   "source": [
    "regr_1[:coef_][16:30]"
   ]
  },
  {
   "cell_type": "code",
   "execution_count": 64,
   "metadata": {
    "collapsed": false
   },
   "outputs": [
    {
     "data": {
      "text/plain": [
       "12-element Array{Float64,1}:\n",
       "  846.251\n",
       " 1299.74 \n",
       " -512.468\n",
       " -665.592\n",
       " -422.293\n",
       " -133.944\n",
       "   32.081\n",
       "  318.299\n",
       " -180.057\n",
       " -829.093\n",
       " -451.01 \n",
       "    0.0  "
      ]
     },
     "execution_count": 64,
     "metadata": {},
     "output_type": "execute_result"
    }
   ],
   "source": [
    "regr_1[:coef_][31:42]"
   ]
  },
  {
   "cell_type": "code",
   "execution_count": 9,
   "metadata": {
    "collapsed": false
   },
   "outputs": [
    {
     "name": "stdout",
     "output_type": "stream",
     "text": [
      "For model 1 on the validation set, the MAE is 510.644185 and the MAPD is 62.607305"
     ]
    }
   ],
   "source": [
    "# compute errors on validation set\n",
    "MAE_regr1 = mean_abs_err(output_regr1, y_validate);\n",
    "MAPD_regr1 = mean_abs_percent(output_regr1, y_validate);\n",
    "@printf \"For model 1 on the validation set, the MAE is %f and the MAPD is %f\" MAE_regr1 MAPD_regr1"
   ]
  },
  {
   "cell_type": "markdown",
   "metadata": {},
   "source": [
    "## model 2: linear regression with quadratic loss, l2 regularizer (ridge)"
   ]
  },
  {
   "cell_type": "code",
   "execution_count": 12,
   "metadata": {
    "collapsed": false
   },
   "outputs": [],
   "source": [
    "# ridge regression with lambda parameter = lambda\n",
    "lambda = 0.25\n",
    "@sk_import linear_model: Ridge\n",
    "\n",
    "regr_2 = Ridge(alpha = 0.25)\n",
    "ScikitLearn.fit!(regr_2, X_train, y_train);\n",
    "output_regr2 = ScikitLearn.predict(regr_2, X_validate);"
   ]
  },
  {
   "cell_type": "code",
   "execution_count": 13,
   "metadata": {
    "collapsed": false
   },
   "outputs": [
    {
     "data": {
      "text/plain": [
       "42-element Array{Float64,1}:\n",
       "    31.2138   \n",
       "  1228.44     \n",
       "   340.434    \n",
       "     5.79988  \n",
       "  1781.89     \n",
       "    -0.0630091\n",
       "   270.116    \n",
       "   325.104    \n",
       "   374.565    \n",
       "   136.334    \n",
       " -1106.12     \n",
       "    74.9615   \n",
       "  -409.024    \n",
       "     ⋮        \n",
       "   837.655    \n",
       "  1291.14     \n",
       "  -507.895    \n",
       "  -660.747    \n",
       "  -428.663    \n",
       "  -141.01     \n",
       "    24.9893   \n",
       "   311.201    \n",
       "  -184.582    \n",
       "  -804.034    \n",
       "  -424.406    \n",
       "     0.0      "
      ]
     },
     "execution_count": 13,
     "metadata": {},
     "output_type": "execute_result"
    }
   ],
   "source": [
    "regr_2[:coef_]"
   ]
  },
  {
   "cell_type": "code",
   "execution_count": 14,
   "metadata": {
    "collapsed": false
   },
   "outputs": [
    {
     "name": "stdout",
     "output_type": "stream",
     "text": [
      "For model 2 on the validation set, the MAE is 510.645113 and the MAPD is 62.606834"
     ]
    }
   ],
   "source": [
    "# compute errors on validation set\n",
    "MAE_regr2 = mean_abs_err(output_regr2, y_validate);\n",
    "MAPD_regr2 = mean_abs_percent(output_regr2, y_validate);\n",
    "@printf \"For model 2 on the validation set, the MAE is %f and the MAPD is %f\" MAE_regr2 MAPD_regr2"
   ]
  },
  {
   "cell_type": "markdown",
   "metadata": {},
   "source": [
    "## model 3: linear regression with quadratic loss, l1 regularizer (lasso)"
   ]
  },
  {
   "cell_type": "code",
   "execution_count": 15,
   "metadata": {
    "collapsed": false
   },
   "outputs": [
    {
     "data": {
      "text/plain": [
       "PyObject <class 'sklearn.linear_model.coordinate_descent.LassoCV'>"
      ]
     },
     "execution_count": 15,
     "metadata": {},
     "output_type": "execute_result"
    }
   ],
   "source": [
    "@sk_import linear_model: LassoCV"
   ]
  },
  {
   "cell_type": "code",
   "execution_count": 31,
   "metadata": {
    "collapsed": false
   },
   "outputs": [],
   "source": [
    "lasso_cv = ScikitLearn.fit!(LassoCV(normalize = true), X_train, y_train);\n",
    "output_lasso_cv = ScikitLearn.predict(lasso_cv, X_validate);"
   ]
  },
  {
   "cell_type": "code",
   "execution_count": 61,
   "metadata": {
    "collapsed": false
   },
   "outputs": [
    {
     "data": {
      "text/plain": [
       "0.003281307194525865"
      ]
     },
     "execution_count": 61,
     "metadata": {},
     "output_type": "execute_result"
    }
   ],
   "source": [
    "lambda = lasso_cv[:alpha_]"
   ]
  },
  {
   "cell_type": "code",
   "execution_count": 33,
   "metadata": {
    "collapsed": false
   },
   "outputs": [
    {
     "name": "stderr",
     "output_type": "stream",
     "text": [
      "WARNING: redefining constant Lasso\n"
     ]
    }
   ],
   "source": [
    "@sk_import linear_model: Lasso\n",
    "\n",
    "regr_3 = Lasso(alpha = lambda, max_iter = 8000)\n",
    "ScikitLearn.fit!(regr_3, X_train, y_train);\n",
    "output_regr3 = ScikitLearn.predict(regr_3, X_validate);"
   ]
  },
  {
   "cell_type": "code",
   "execution_count": 189,
   "metadata": {
    "collapsed": false
   },
   "outputs": [
    {
     "data": {
      "text/plain": [
       "15-element Array{Float64,1}:\n",
       "    31.2155   \n",
       "  1921.85     \n",
       "   371.811    \n",
       "     5.79522  \n",
       "  3004.04     \n",
       "    -0.0630092\n",
       "    -0.0      \n",
       "    55.008    \n",
       "   104.435    \n",
       "   -48.7011   \n",
       " -1375.44     \n",
       "    48.3283   \n",
       "  -435.588    \n",
       "   162.565    \n",
       "  -222.142    "
      ]
     },
     "execution_count": 189,
     "metadata": {},
     "output_type": "execute_result"
    }
   ],
   "source": [
    "regr_3[:coef_][1:15]"
   ]
  },
  {
   "cell_type": "code",
   "execution_count": 190,
   "metadata": {
    "collapsed": false
   },
   "outputs": [
    {
     "data": {
      "text/plain": [
       "15-element Array{Float64,1}:\n",
       "    0.0    \n",
       "  -12.7414 \n",
       "  124.893  \n",
       "  -98.5106 \n",
       "   36.4145 \n",
       "   22.5821 \n",
       "   -0.0    \n",
       "   -5.87228\n",
       "   -2.18208\n",
       "   42.3783 \n",
       "  995.251  \n",
       " -338.458  \n",
       "   60.8438 \n",
       " -209.477  \n",
       "   36.1935 "
      ]
     },
     "execution_count": 190,
     "metadata": {},
     "output_type": "execute_result"
    }
   ],
   "source": [
    "regr_3[:coef_][16:30]"
   ]
  },
  {
   "cell_type": "code",
   "execution_count": 191,
   "metadata": {
    "collapsed": false
   },
   "outputs": [
    {
     "data": {
      "text/plain": [
       "12-element Array{Float64,1}:\n",
       "   44.6745\n",
       "  498.175 \n",
       "  -56.0027\n",
       " -216.412 \n",
       "    0.0   \n",
       " -324.832 \n",
       " -158.669 \n",
       "  127.167 \n",
       "  845.048 \n",
       " -988.487 \n",
       "   -0.0   \n",
       "    0.0   "
      ]
     },
     "execution_count": 191,
     "metadata": {},
     "output_type": "execute_result"
    }
   ],
   "source": [
    "regr_3[:coef_][31:42] #7,16,22,35,41,42"
   ]
  },
  {
   "cell_type": "code",
   "execution_count": 35,
   "metadata": {
    "collapsed": false
   },
   "outputs": [
    {
     "name": "stdout",
     "output_type": "stream",
     "text": [
      "For model 3 on the validation set, the MAE is 510.649891 and the MAPD is 62.607691"
     ]
    }
   ],
   "source": [
    "# compute errors on validation set\n",
    "MAE_regr3 = mean_abs_err(output_regr3, y_validate);\n",
    "MAPD_regr3 = mean_abs_percent(output_regr3, y_validate);\n",
    "@printf \"For model 3 on the validation set, the MAE is %f and the MAPD is %f\" MAE_regr3 MAPD_regr3"
   ]
  },
  {
   "cell_type": "markdown",
   "metadata": {},
   "source": [
    "## model 4: polynomial"
   ]
  },
  {
   "cell_type": "code",
   "execution_count": 178,
   "metadata": {
    "collapsed": true
   },
   "outputs": [],
   "source": [
    "tap_train_poly = readtable(\"TAP_train_poly.csv\");"
   ]
  },
  {
   "cell_type": "code",
   "execution_count": 179,
   "metadata": {
    "collapsed": false
   },
   "outputs": [],
   "source": [
    "X_nontest_poly = convert(Array{Float64},tap_train_poly[:,1:43]);\n",
    "y_nontest_poly = convert(Array,tap_train_poly[:,44]);"
   ]
  },
  {
   "cell_type": "code",
   "execution_count": 180,
   "metadata": {
    "collapsed": true
   },
   "outputs": [],
   "source": [
    "X_train_poly, X_validate_poly, y_train_poly, y_validate_poly = train_test_split(X_nontest_poly, y_nontest_poly, test_size=0.25, random_state=42);"
   ]
  },
  {
   "cell_type": "code",
   "execution_count": 181,
   "metadata": {
    "collapsed": false
   },
   "outputs": [
    {
     "data": {
      "text/plain": [
       "43-element Array{Float64,1}:\n",
       "    0.937997  \n",
       "  835.496     \n",
       "  304.811     \n",
       "    3.70493   \n",
       "  239.491     \n",
       "   -0.120824  \n",
       "  200.976     \n",
       "  264.665     \n",
       "  269.311     \n",
       " -834.432     \n",
       "   96.785     \n",
       "   83.4556    \n",
       " -384.386     \n",
       "    ⋮         \n",
       " 1024.26      \n",
       "  -11.5503    \n",
       "  -14.5651    \n",
       " -192.545     \n",
       " -385.369     \n",
       " -596.487     \n",
       "  156.697     \n",
       "  -23.5264    \n",
       " -990.618     \n",
       "  152.426     \n",
       "    8.16142e-7\n",
       "   -2.69559   "
      ]
     },
     "execution_count": 181,
     "metadata": {},
     "output_type": "execute_result"
    }
   ],
   "source": [
    "w = X_train_poly\\y_train_poly"
   ]
  },
  {
   "cell_type": "code",
   "execution_count": 182,
   "metadata": {
    "collapsed": false
   },
   "outputs": [
    {
     "data": {
      "text/plain": [
       "mean_abs_err (generic function with 2 methods)"
      ]
     },
     "execution_count": 182,
     "metadata": {},
     "output_type": "execute_result"
    }
   ],
   "source": [
    "function mean_abs_err(X,y,w)\n",
    "    n = size(X,1)\n",
    "    sum = 0\n",
    "    for i=1:n\n",
    "        sum += abs.(y[i] - X[i,:]'*w)\n",
    "    end\n",
    "    return (sum+0.0)/n\n",
    "end"
   ]
  },
  {
   "cell_type": "code",
   "execution_count": 183,
   "metadata": {
    "collapsed": false
   },
   "outputs": [
    {
     "data": {
      "text/plain": [
       "mean_abs_percent (generic function with 2 methods)"
      ]
     },
     "execution_count": 183,
     "metadata": {},
     "output_type": "execute_result"
    }
   ],
   "source": [
    "function mean_abs_percent(X,y,w)\n",
    "    n = size(X,1)\n",
    "    sum = 0\n",
    "    for i=1:n\n",
    "        sum += abs.((y[i] - X[i,:]'*w)/y[i])\n",
    "    end\n",
    "    return 100*(sum+0.0)/n\n",
    "end"
   ]
  },
  {
   "cell_type": "code",
   "execution_count": 184,
   "metadata": {
    "collapsed": false
   },
   "outputs": [
    {
     "data": {
      "text/plain": [
       "426.52151358576197"
      ]
     },
     "execution_count": 184,
     "metadata": {},
     "output_type": "execute_result"
    }
   ],
   "source": [
    "MAE_train_poly = mean_abs_err(X_train_poly, y_train_poly, w)"
   ]
  },
  {
   "cell_type": "code",
   "execution_count": 185,
   "metadata": {
    "collapsed": false
   },
   "outputs": [
    {
     "data": {
      "text/plain": [
       "49.861689236013405"
      ]
     },
     "execution_count": 185,
     "metadata": {},
     "output_type": "execute_result"
    }
   ],
   "source": [
    "MAPD_train_poly = mean_abs_percent(X_train_poly, y_train_poly, w)"
   ]
  },
  {
   "cell_type": "code",
   "execution_count": 186,
   "metadata": {
    "collapsed": false
   },
   "outputs": [
    {
     "data": {
      "text/plain": [
       "425.5776193022963"
      ]
     },
     "execution_count": 186,
     "metadata": {},
     "output_type": "execute_result"
    }
   ],
   "source": [
    "MAE_validate_poly = mean_abs_err(X_validate_poly, y_validate_poly, w)"
   ]
  },
  {
   "cell_type": "code",
   "execution_count": 187,
   "metadata": {
    "collapsed": false
   },
   "outputs": [
    {
     "data": {
      "text/plain": [
       "49.32059919790348"
      ]
     },
     "execution_count": 187,
     "metadata": {},
     "output_type": "execute_result"
    }
   ],
   "source": [
    "MAPD_validate_poly = mean_abs_percent(X_validate_poly, y_validate_poly, w)"
   ]
  },
  {
   "cell_type": "code",
   "execution_count": null,
   "metadata": {
    "collapsed": true
   },
   "outputs": [],
   "source": []
  }
 ],
 "metadata": {
  "kernelspec": {
   "display_name": "Julia 0.6.0",
   "language": "julia",
   "name": "julia-0.6"
  },
  "language_info": {
   "file_extension": ".jl",
   "mimetype": "application/julia",
   "name": "julia",
   "version": "0.6.0"
  }
 },
 "nbformat": 4,
 "nbformat_minor": 2
}
