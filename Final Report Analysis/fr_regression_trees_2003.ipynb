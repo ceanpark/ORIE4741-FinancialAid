{
 "cells": [
  {
   "cell_type": "markdown",
   "metadata": {},
   "source": [
    "# Regression trees with 2003 dataset"
   ]
  },
  {
   "cell_type": "code",
   "execution_count": 1,
   "metadata": {},
   "outputs": [
    {
     "name": "stderr",
     "output_type": "stream",
     "text": [
      "WARNING: Method definition ==(Base.Nullable{S}, Base.Nullable{T}) in module Base at nullable.jl:238 overwritten in module NullableArrays at /Users/cean/.julia/v0.6/NullableArrays/src/operators.jl:99.\n"
     ]
    }
   ],
   "source": [
    "using DecisionTree, ScikitLearn, DataFrames, CSV, MLDataUtils"
   ]
  },
  {
   "cell_type": "code",
   "execution_count": 2,
   "metadata": {},
   "outputs": [
    {
     "data": {
      "text/plain": [
       "mean_abs_percent (generic function with 1 method)"
      ]
     },
     "execution_count": 2,
     "metadata": {},
     "output_type": "execute_result"
    }
   ],
   "source": [
    "# define error functions\n",
    "\n",
    "function mean_abs_err(y_output, y_true)\n",
    "    n = size(y_output,1)\n",
    "    sum = 0\n",
    "    for i=1:n\n",
    "        sum += abs.(y_output[i] - y_true[i])\n",
    "    end\n",
    "    return (sum+0.0)/n\n",
    "end\n",
    "\n",
    "function mean_abs_percent(y_output, y_true)\n",
    "    n = size(y_output,1)\n",
    "    sum = 0\n",
    "    for i=1:n\n",
    "        sum += abs.((y_output[i] - y_true[i])/y_true[i])\n",
    "    end\n",
    "    return 100*(sum+0.0)/n\n",
    "end"
   ]
  },
  {
   "cell_type": "code",
   "execution_count": 3,
   "metadata": {
    "collapsed": true
   },
   "outputs": [],
   "source": [
    "tap_train_2003 = readtable(\"TAP_train_2003.csv\");\n",
    "#tap_test_2003 = readtable(\"TAP_test_2003.csv\");"
   ]
  },
  {
   "cell_type": "code",
   "execution_count": 4,
   "metadata": {
    "collapsed": true
   },
   "outputs": [],
   "source": [
    "# convert training data into array and shuffle observations by row\n",
    "TAP_2003 = convert(Array, tap_train_2003);\n",
    "TAP_2003 = shuffleobs(TAP_2003, obsdim = 1);"
   ]
  },
  {
   "cell_type": "code",
   "execution_count": 5,
   "metadata": {
    "collapsed": true
   },
   "outputs": [],
   "source": [
    "# split into X and y\n",
    "X_data = TAP_2003[:,2:42];\n",
    "y_data = TAP_2003[:,43];"
   ]
  },
  {
   "cell_type": "code",
   "execution_count": 7,
   "metadata": {
    "collapsed": true
   },
   "outputs": [],
   "source": [
    "# split training sets (with 80%) of data into training and validation sets\n",
    "X_train_2003, X_val_2003 = splitobs(X_data, at=0.75, obsdim=1);\n",
    "y_train_2003, y_val_2003 = splitobs(y_data, at=0.75, obsdim=1);"
   ]
  },
  {
   "cell_type": "code",
   "execution_count": 11,
   "metadata": {},
   "outputs": [],
   "source": [
    "# convert arrays from real to Float64\n",
    "X_train_2003 = convert(Array{Float64}, X_train_2003);\n",
    "X_val_2003 = convert(Array{Float64}, X_val_2003);\n",
    "y_train_2003 = convert(Array{Float64}, y_train_2003);\n",
    "y_val_2003 = convert(Array{Float64}, y_val_2003);"
   ]
  },
  {
   "cell_type": "code",
   "execution_count": 12,
   "metadata": {
    "collapsed": true
   },
   "outputs": [],
   "source": [
    "# fit regr1: single regression tree with average of 10 nodes per leaf using build_tree\n",
    "regr1 = build_tree(y_train_2003, X_train_2003, 10);\n",
    "\n",
    "# test fit of model on validation set\n",
    "output_regr1 = apply_tree(regr1, X_val_2003);\n",
    "\n",
    "# compute errors on validation set\n",
    "MAE_regr1 = mean_abs_err(output_regr1, y_val_2003);\n",
    "MAPD_regr1 = mean_abs_percent(output_regr1, y_val_2003);"
   ]
  },
  {
   "cell_type": "code",
   "execution_count": 13,
   "metadata": {},
   "outputs": [
    {
     "data": {
      "text/plain": [
       "58.878993479009864"
      ]
     },
     "execution_count": 13,
     "metadata": {},
     "output_type": "execute_result"
    }
   ],
   "source": [
    "MAE_regr1"
   ]
  },
  {
   "cell_type": "code",
   "execution_count": 15,
   "metadata": {},
   "outputs": [
    {
     "data": {
      "text/plain": [
       "3.840747418696398"
      ]
     },
     "execution_count": 15,
     "metadata": {},
     "output_type": "execute_result"
    }
   ],
   "source": [
    "MAPD_regr1"
   ]
  },
  {
   "cell_type": "code",
   "execution_count": 16,
   "metadata": {},
   "outputs": [
    {
     "data": {
      "text/plain": [
       "DecisionTree.RandomForestRegressor(0, 5, 30, 0.7, -1, MersenneTwister(UInt32[0x11a7058f, 0x1cb622ba, 0x29d386e2, 0x3c7ee860], Base.dSFMT.DSFMT_state(Int32[2103179619, 1073161036, -2118814837, 1072943612, -2068753212, 1072791350, -815251381, 1073114271, -1567038479, 1073308193  …  -516135598, 1073413935, 1670056433, 1072929290, 1638151636, -996999553, -468722575, -1891921472, 382, 0]), [1.44612, 1.23877, 1.09356, 1.40152, 1.58646, 1.88811, 1.44411, 1.32428, 1.94316, 1.34846  …  1.27963, 1.14275, 1.86028, 1.51351, 1.48083, 1.74592, 1.9411, 1.70605, 1.6873, 1.22511], 270), Ensemble of Decision Trees\n",
       "Trees:      30\n",
       "Avg Leaves: 1977.5333333333333\n",
       "Avg Depth:  28.9)"
      ]
     },
     "execution_count": 16,
     "metadata": {},
     "output_type": "execute_result"
    }
   ],
   "source": [
    "# fit three more models using ScikitLearn package\n",
    "regr_2 = DecisionTreeRegressor()\n",
    "regr_3 = DecisionTreeRegressor(pruning_purity_threshold=0.05)\n",
    "regr_4 = RandomForestRegressor(ntrees=30)\n",
    "ScikitLearn.fit!(regr_2, X_train_2003, y_train_2003)\n",
    "ScikitLearn.fit!(regr_3, X_train_2003, y_train_2003)\n",
    "ScikitLearn.fit!(regr_4, X_train_2003, y_train_2003)"
   ]
  },
  {
   "cell_type": "code",
   "execution_count": 17,
   "metadata": {
    "collapsed": true
   },
   "outputs": [],
   "source": [
    "# compute errors on validation set\n",
    "output_regr2 = ScikitLearn.predict(regr_2, X_val_2003);\n",
    "output_regr3 = ScikitLearn.predict(regr_3, X_val_2003);\n",
    "output_regr4 = ScikitLearn.predict(regr_4, X_val_2003);\n",
    "\n",
    "# errors for regr2: DecisionTreeRegressor\n",
    "MAE_regr2 = mean_abs_err(output_regr2, y_val_2003);\n",
    "MAPD_regr2 = mean_abs_percent(output_regr2, y_val_2003);\n",
    "\n",
    "# errors for regr3: DecisionTreeRegressor with pruning purity threshold of 0.025\n",
    "MAE_regr3 = mean_abs_err(output_regr3, y_val_2003);\n",
    "MAPD_regr3 = mean_abs_percent(output_regr3, y_val_2003);\n",
    "\n",
    "# errors for regr4: Random Forest with n=30 trees\n",
    "MAE_regr4 = mean_abs_err(output_regr4, y_val_2003);\n",
    "MAPD_regr4 = mean_abs_percent(output_regr4, y_val_2003);"
   ]
  },
  {
   "cell_type": "markdown",
   "metadata": {},
   "source": [
    "Overview of models for 2003 data:\n",
    "* model 1: regression tree trained on training set using DecisionTrees.jl package, with average of 10 nodes/leaf\n",
    "* model 2: full regression tree trained on training set using ScikitLearn package\n",
    "* model 3: regression tree trained on training set using ScikitLearn and pruning purity threshold of 0.05\n",
    "* model 4: random forest trained on training set using ScikitLearn with n=30 trees"
   ]
  },
  {
   "cell_type": "code",
   "execution_count": 25,
   "metadata": {},
   "outputs": [
    {
     "name": "stdout",
     "output_type": "stream",
     "text": [
      "For model 1 on the validation set, the MAE is 58.878993 and the MAPD is 3.840747 \n",
      "For model 2 on the validation set, the MAE is 61.010784 and the MAPD is 3.909482 \n",
      "For model 3 on the validation set, the MAE is 84.209590 and the MAPD is 5.387782 \n",
      "For model 4 on the validation set, the MAE is 53.441672 and the MAPD is 3.370886 \n"
     ]
    }
   ],
   "source": [
    "@printf \"For model 1 on the validation set, the MAE is %f and the MAPD is %f \\n\" MAE_regr1 MAPD_regr1\n",
    "@printf \"For model 2 on the validation set, the MAE is %f and the MAPD is %f \\n\" MAE_regr2 MAPD_regr2\n",
    "@printf \"For model 3 on the validation set, the MAE is %f and the MAPD is %f \\n\" MAE_regr3 MAPD_regr3\n",
    "@printf \"For model 4 on the validation set, the MAE is %f and the MAPD is %f \\n\" MAE_regr4 MAPD_regr4"
   ]
  },
  {
   "cell_type": "code",
   "execution_count": null,
   "metadata": {
    "collapsed": true
   },
   "outputs": [],
   "source": []
  }
 ],
 "metadata": {
  "kernelspec": {
   "display_name": "Julia 0.6.0",
   "language": "julia",
   "name": "julia-0.6"
  },
  "language_info": {
   "file_extension": ".jl",
   "mimetype": "application/julia",
   "name": "julia",
   "version": "0.6.0"
  }
 },
 "nbformat": 4,
 "nbformat_minor": 2
}
