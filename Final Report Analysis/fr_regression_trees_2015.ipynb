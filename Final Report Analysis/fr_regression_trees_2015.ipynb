{
 "cells": [
  {
   "cell_type": "markdown",
   "metadata": {},
   "source": [
    "# Regression trees with 2015 dataset"
   ]
  },
  {
   "cell_type": "code",
   "execution_count": 90,
   "metadata": {
    "scrolled": true
   },
   "outputs": [],
   "source": [
    "using DecisionTree, ScikitLearn, DataFrames, CSV, MLDataUtils"
   ]
  },
  {
   "cell_type": "code",
   "execution_count": 131,
   "metadata": {},
   "outputs": [
    {
     "data": {
      "text/plain": [
       "mean_abs_percent (generic function with 1 method)"
      ]
     },
     "execution_count": 131,
     "metadata": {},
     "output_type": "execute_result"
    }
   ],
   "source": [
    "# define error functions\n",
    "\n",
    "function mean_abs_err(y_output, y_true)\n",
    "    n = size(y_output,1)\n",
    "    sum = 0\n",
    "    for i=1:n\n",
    "        sum += abs.(y_output[i] - y_true[i])\n",
    "    end\n",
    "    return (sum+0.0)/n\n",
    "end\n",
    "\n",
    "function mean_abs_percent(y_output, y_true)\n",
    "    n = size(y_output,1)\n",
    "    sum = 0\n",
    "    for i=1:n\n",
    "        sum += abs.((y_output[i] - y_true[i])/y_true[i])\n",
    "    end\n",
    "    return 100*(sum+0.0)/n\n",
    "end"
   ]
  },
  {
   "cell_type": "code",
   "execution_count": 91,
   "metadata": {},
   "outputs": [],
   "source": [
    "tap_train_2015 = readtable(\"TAP_train_2015.csv\");\n",
    "#tap_test_2015 = readtable(\"TAP_test_2015.csv\");"
   ]
  },
  {
   "cell_type": "code",
   "execution_count": 93,
   "metadata": {},
   "outputs": [],
   "source": [
    "# convert training data into array and shuffle observations by row\n",
    "TAP_2015 = convert(Array, tap_train_2015);\n",
    "TAP_2015 = shuffleobs(TAP_2015, obsdim = 1);"
   ]
  },
  {
   "cell_type": "code",
   "execution_count": 101,
   "metadata": {},
   "outputs": [],
   "source": [
    "# split into X and y\n",
    "X_data = TAP_2015[:,2:42];\n",
    "y_data = TAP_2015[:,43];"
   ]
  },
  {
   "cell_type": "code",
   "execution_count": 102,
   "metadata": {},
   "outputs": [],
   "source": [
    "# split training sets (with 80%) of data into training and validation sets\n",
    "X_train_2015, X_val_2015 = splitobs(X_data, at=0.75, obsdim=1);\n",
    "y_train_2015, y_val_2015 = splitobs(y_data, at=0.75, obsdim=1);"
   ]
  },
  {
   "cell_type": "code",
   "execution_count": 103,
   "metadata": {},
   "outputs": [
    {
     "data": {
      "text/plain": [
       "5957×41 SubArray{Real,2,Array{Real,2},Tuple{UnitRange{Int64},Base.Slice{Base.OneTo{Int64}}},false}:\n",
       " 1  0  1  1  0  1  0  0  0  0  0  0  1  …  0  0  0  0  0  0  0  0  22500.5  1\n",
       " 1  0  1  1  1  0  0  0  0  0  0  1  0     0  0  0  0  0  0  0  0  65500.5  1\n",
       " 1  0  0  1  1  0  0  0  0  1  0  0  0     0  0  0  0  1  0  0  0   5500.5  1\n",
       " 1  1  0  1  1  0  0  0  0  0  0  0  0     0  0  0  0  0  0  0  0  39500.5  1\n",
       " 1  0  0  1  0  1  0  0  0  1  0  0  0     0  0  0  0  0  0  0  0  31500.5  1\n",
       " 1  1  0  1  1  0  0  0  0  0  0  0  0  …  0  0  0  0  0  0  0  0   3500.5  1\n",
       " 1  1  1  1  1  0  0  0  0  0  0  0  0     0  0  0  0  0  0  0  0  70500.5  1\n",
       " 1  0  1  1  0  1  0  0  0  0  0  1  0     0  0  0  0  0  0  0  0  78500.5  1\n",
       " 1  0  0  1  1  0  0  0  0  1  0  0  0     0  0  0  0  1  0  0  0   7500.5  1\n",
       " 1  1  1  1  1  0  0  0  0  0  0  0  0     0  0  0  0  0  0  0  0  59500.5  1\n",
       " 1  0  1  1  0  0  1  0  0  0  0  1  0  …  0  0  0  0  0  0  0  0  24500.5  1\n",
       " 1  1  1  1  0  1  0  0  0  0  0  0  0     0  0  0  0  0  0  0  0   6500.5  1\n",
       " 1  1  0  1  0  1  0  0  0  0  0  0  0     0  0  0  0  0  0  0  0  62500.5  1\n",
       " ⋮              ⋮              ⋮        ⋱              ⋮                    ⋮\n",
       " 1  0  0  1  1  0  0  0  0  0  1  0  0  …  0  0  0  0  0  0  0  0  24500.5  1\n",
       " 1  0  1  1  0  1  0  0  0  1  0  0  0     0  0  0  0  0  0  0  0  49500.5  1\n",
       " 1  1  0  1  1  0  0  0  0  0  0  0  0     0  0  0  0  1  0  0  0   6500.5  1\n",
       " 1  1  0  1  0  1  0  0  0  0  0  0  0     0  0  0  0  1  0  0  0   3500.5  1\n",
       " 1  0  0  1  0  1  0  0  0  0  0  1  0     0  0  0  0  0  0  0  0  76500.5  1\n",
       " 1  0  1  1  0  1  0  0  0  0  0  1  0  …  0  0  0  0  0  0  0  0  39500.5  1\n",
       " 1  1  0  1  0  1  0  0  0  0  0  0  0     0  0  0  0  0  0  0  0   7500.5  1\n",
       " 1  1  0  1  1  0  0  0  0  0  0  0  0     0  0  0  0  0  0  0  0  18500.5  1\n",
       " 1  1  0  1  0  1  0  0  0  0  0  0  0     0  0  0  0  0  0  0  0  22500.5  1\n",
       " 1  0  0  1  1  0  0  0  0  0  0  0  1     0  0  0  0  0  0  0  0      0.0  1\n",
       " 1  1  1  1  1  0  0  0  0  0  0  0  0  …  0  0  0  0  0  0  0  0  26500.5  1\n",
       " 1  1  0  1  0  1  0  0  0  0  0  0  0     0  0  0  0  0  0  0  0  30500.5  1"
      ]
     },
     "execution_count": 103,
     "metadata": {},
     "output_type": "execute_result"
    }
   ],
   "source": [
    "X_train_2015"
   ]
  },
  {
   "cell_type": "code",
   "execution_count": 105,
   "metadata": {},
   "outputs": [],
   "source": [
    "# convert arrays from real to Float64\n",
    "X_train_2015 = convert(Array{Float64}, X_train_2015);\n",
    "X_val_2015 = convert(Array{Float64}, X_val_2015);\n",
    "y_train_2015 = convert(Array{Float64}, y_train_2015);\n",
    "y_val_2015 = convert(Array{Float64}, y_val_2015);"
   ]
  },
  {
   "cell_type": "code",
   "execution_count": 135,
   "metadata": {
    "scrolled": true
   },
   "outputs": [],
   "source": [
    "# fit single regression tree with average of 10 nodes per leaf using build_tree\n",
    "regr1 = build_tree(y_train_2015, X_train_2015, 10);\n",
    "\n",
    "# test fit of model on validation set\n",
    "output_regr1 = apply_tree(regr1, X_val_2015);\n",
    "\n",
    "# compute errors on validation set\n",
    "MAE_regr1 = mean_abs_err(output_regr1, y_val_2015);\n",
    "MAPD_regr1 = mean_abs_percent(output_regr1, y_val_2015);"
   ]
  },
  {
   "cell_type": "code",
   "execution_count": 153,
   "metadata": {},
   "outputs": [
    {
     "name": "stdout",
     "output_type": "stream",
     "text": [
      "For model 1 on the validation set, the MAE is 69.342213 and the MAPD is 3.497738"
     ]
    }
   ],
   "source": [
    "@printf \"For model 1 on the validation set, the MAE is %f and the MAPD is %f\" MAE_regr1 MAPD_regr1"
   ]
  },
  {
   "cell_type": "code",
   "execution_count": 149,
   "metadata": {},
   "outputs": [
    {
     "data": {
      "text/plain": [
       "DecisionTree.RandomForestRegressor(0, 5, 30, 0.7, -1, MersenneTwister(UInt32[0xa5acfa3e, 0xf52ad4e6, 0x72c9cc4d, 0xe31e7ecd], Base.dSFMT.DSFMT_state(Int32[751335842, 1073488004, 557103945, 1073425639, 222132640, 1072939513, -1492378665, 1073723113, 499479115, 1073436289  …  1094131347, 1073085658, 661725898, 1073459706, 1374341142, 1647895786, 1330651376, -677878687, 382, 0]), [1.75794, 1.69846, 1.23486, 1.98216, 1.70862, 1.10772, 1.01477, 1.6654, 1.62104, 1.51122  …  1.17767, 1.43478, 1.69752, 1.78802, 1.08077, 1.55432, 1.38774, 1.22249, 1.37423, 1.73095], 306), Ensemble of Decision Trees\n",
       "Trees:      30\n",
       "Avg Leaves: 1366.4333333333334\n",
       "Avg Depth:  25.1)"
      ]
     },
     "execution_count": 149,
     "metadata": {},
     "output_type": "execute_result"
    }
   ],
   "source": [
    "# fit three more models using ScikitLearn package\n",
    "regr_2 = DecisionTreeRegressor()\n",
    "regr_3 = DecisionTreeRegressor(pruning_purity_threshold=0.05)\n",
    "regr_4 = RandomForestRegressor(ntrees=30)\n",
    "ScikitLearn.fit!(regr_2, X_train_2015, y_train_2015)\n",
    "ScikitLearn.fit!(regr_3, X_train_2015, y_train_2015)\n",
    "ScikitLearn.fit!(regr_4, X_train_2015, y_train_2015)"
   ]
  },
  {
   "cell_type": "code",
   "execution_count": 150,
   "metadata": {},
   "outputs": [],
   "source": [
    "# compute errors on validation set\n",
    "output_regr2 = ScikitLearn.predict(regr_2, X_val_2015);\n",
    "output_regr3 = ScikitLearn.predict(regr_3, X_val_2015);\n",
    "output_regr4 = ScikitLearn.predict(regr_4, X_val_2015);\n",
    "\n",
    "# errors for regr2: DecisionTreeRegressor\n",
    "MAE_regr2 = mean_abs_err(output_regr2, y_val_2015);\n",
    "MAPD_regr2 = mean_abs_percent(output_regr2, y_val_2015);\n",
    "\n",
    "# errors for regr3: DecisionTreeRegressor with pruning purity threshold of 0.05\n",
    "MAE_regr3 = mean_abs_err(output_regr3, y_val_2015);\n",
    "MAPD_regr3 = mean_abs_percent(output_regr3, y_val_2015);\n",
    "\n",
    "# errors for regr4: Random Forest with n=30 trees\n",
    "MAE_regr4 = mean_abs_err(output_regr4, y_val_2015);\n",
    "MAPD_regr4 = mean_abs_percent(output_regr4, y_val_2015);"
   ]
  },
  {
   "cell_type": "markdown",
   "metadata": {},
   "source": [
    "Overview of models for 2015 data:\n",
    "* model 1: regression tree trained on training set using DecisionTrees.jl package, with average of 10 nodes/leaf\n",
    "* model 2: full regression tree trained on training set using ScikitLearn package\n",
    "* model 3: regression tree trained on training set using ScikitLearn and pruning purity threshold of 0.05\n",
    "* model 4: random forest trained on training set using ScikitLearn with n=30 trees"
   ]
  },
  {
   "cell_type": "code",
   "execution_count": 156,
   "metadata": {
    "scrolled": true
   },
   "outputs": [
    {
     "name": "stdout",
     "output_type": "stream",
     "text": [
      "For model 1 on the validation set, the MAE is 69.342213 and the MAPD is 3.497738 \n",
      "For model 2 on the validation set, the MAE is 70.966871 and the MAPD is 3.546807 \n",
      "For model 3 on the validation set, the MAE is 94.943151 and the MAPD is 4.488609 \n",
      "For model 4 on the validation set, the MAE is 64.523201 and the MAPD is 3.417253 \n"
     ]
    }
   ],
   "source": [
    "@printf \"For model 1 on the validation set, the MAE is %f and the MAPD is %f \\n\" MAE_regr1 MAPD_regr1\n",
    "@printf \"For model 2 on the validation set, the MAE is %f and the MAPD is %f \\n\" MAE_regr2 MAPD_regr2\n",
    "@printf \"For model 3 on the validation set, the MAE is %f and the MAPD is %f \\n\" MAE_regr3 MAPD_regr3\n",
    "@printf \"For model 4 on the validation set, the MAE is %f and the MAPD is %f \\n\" MAE_regr4 MAPD_regr4"
   ]
  },
  {
   "cell_type": "code",
   "execution_count": null,
   "metadata": {
    "collapsed": true
   },
   "outputs": [],
   "source": []
  }
 ],
 "metadata": {
  "kernelspec": {
   "display_name": "Julia 0.6.0",
   "language": "julia",
   "name": "julia-0.6"
  },
  "language_info": {
   "file_extension": ".jl",
   "mimetype": "application/julia",
   "name": "julia",
   "version": "0.6.0"
  }
 },
 "nbformat": 4,
 "nbformat_minor": 2
}
