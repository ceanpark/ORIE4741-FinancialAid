{
 "cells": [
  {
   "cell_type": "code",
   "execution_count": 1,
   "metadata": {},
   "outputs": [
    {
     "name": "stderr",
     "output_type": "stream",
     "text": [
      "WARNING: Method definition ==(Base.Nullable{S}, Base.Nullable{T}) in module Base at nullable.jl:238 overwritten in module NullableArrays at /Users/cean/.julia/v0.6/NullableArrays/src/operators.jl:99.\n"
     ]
    }
   ],
   "source": [
    "using DecisionTree, ScikitLearn, DataFrames, CSV, MLDataUtils"
   ]
  },
  {
   "cell_type": "code",
   "execution_count": 2,
   "metadata": {},
   "outputs": [
    {
     "data": {
      "text/plain": [
       "mean_abs_percent (generic function with 1 method)"
      ]
     },
     "execution_count": 2,
     "metadata": {},
     "output_type": "execute_result"
    }
   ],
   "source": [
    "# define error functions\n",
    "\n",
    "function mean_abs_err(y_output, y_true)\n",
    "    n = size(y_output,1)\n",
    "    sum = 0\n",
    "    for i=1:n\n",
    "        sum += abs.(y_output[i] - y_true[i])\n",
    "    end\n",
    "    return (sum+0.0)/n\n",
    "end\n",
    "\n",
    "function mean_abs_percent(y_output, y_true)\n",
    "    n = size(y_output,1)\n",
    "    sum = 0\n",
    "    for i=1:n\n",
    "        sum += abs.((y_output[i] - y_true[i])/y_true[i])\n",
    "    end\n",
    "    return 100*(sum+0.0)/n\n",
    "end"
   ]
  },
  {
   "cell_type": "code",
   "execution_count": 4,
   "metadata": {
    "collapsed": true
   },
   "outputs": [],
   "source": [
    "tap_train_2008 = readtable(\"TAP_train_2008.csv\");\n",
    "#tap_test_2008 = readtable(\"TAP_test_2008.csv\");"
   ]
  },
  {
   "cell_type": "code",
   "execution_count": 6,
   "metadata": {},
   "outputs": [],
   "source": [
    "# convert training data into array and shuffle observations by row\n",
    "TAP_2008 = convert(Array, tap_train_2008);\n",
    "TAP_2008 = shuffleobs(TAP_2008, obsdim = 1);"
   ]
  },
  {
   "cell_type": "code",
   "execution_count": 7,
   "metadata": {
    "collapsed": true
   },
   "outputs": [],
   "source": [
    "# split into X and y\n",
    "X_data = TAP_2008[:,2:42];\n",
    "y_data = TAP_2008[:,43];"
   ]
  },
  {
   "cell_type": "code",
   "execution_count": 8,
   "metadata": {
    "collapsed": true
   },
   "outputs": [],
   "source": [
    "# split training sets (with 80%) of data into training and validation sets\n",
    "X_train_2008, X_val_2008 = splitobs(X_data, at=0.75, obsdim=1);\n",
    "y_train_2008, y_val_2008 = splitobs(y_data, at=0.75, obsdim=1);"
   ]
  },
  {
   "cell_type": "code",
   "execution_count": 9,
   "metadata": {
    "collapsed": true
   },
   "outputs": [],
   "source": [
    "# convert arrays from real to Float64\n",
    "X_train_2008 = convert(Array{Float64}, X_train_2008);\n",
    "X_val_2008 = convert(Array{Float64}, X_val_2008);\n",
    "y_train_2008 = convert(Array{Float64}, y_train_2008);\n",
    "y_val_2008 = convert(Array{Float64}, y_val_2008);"
   ]
  },
  {
   "cell_type": "code",
   "execution_count": 17,
   "metadata": {
    "collapsed": true
   },
   "outputs": [],
   "source": [
    "# fit regr1: single regression tree with average of 10 nodes per leaf using build_tree\n",
    "regr1 = build_tree(y_train_2008, X_train_2008, 10);\n",
    "\n",
    "# test fit of model on validation set\n",
    "output_regr1 = apply_tree(regr1, X_val_2008);\n",
    "\n",
    "# compute errors on validation set\n",
    "MAE_regr1 = mean_abs_err(output_regr1, y_val_2008);\n",
    "MAPD_regr1 = mean_abs_percent(output_regr1, y_val_2008);"
   ]
  },
  {
   "cell_type": "code",
   "execution_count": 29,
   "metadata": {},
   "outputs": [
    {
     "name": "stdout",
     "output_type": "stream",
     "text": [
      "For model 1 on the validation set, the MAE is 54.357946 and the MAPD is 5.988706 \n"
     ]
    }
   ],
   "source": [
    "@printf \"For model 1 on the validation set, the MAE is %f and the MAPD is %f \\n\" MAE_regr1 MAPD_regr1"
   ]
  },
  {
   "cell_type": "code",
   "execution_count": 21,
   "metadata": {},
   "outputs": [
    {
     "data": {
      "text/plain": [
       "DecisionTree.RandomForestRegressor(0, 5, 30, 0.7, -1, MersenneTwister(UInt32[0xa901eadf, 0x32164e50, 0x65be517a, 0xe002e4cd], Base.dSFMT.DSFMT_state(Int32[1983848526, 1072904960, 1694229780, 1072856405, -1126120619, 1073075975, -154366880, 1073327574, -1898732663, 1073067629  …  -540267461, 1073181204, -801532078, 1072770697, -177991529, 639106035, -1058054999, 991139942, 382, 0]), [1.2019, 1.1556, 1.365, 1.60494, 1.35704, 1.79847, 1.09744, 1.46881, 1.13451, 1.79144  …  1.35891, 1.97986, 1.93977, 1.89717, 1.12271, 1.29836, 1.16754, 1.60741, 1.46535, 1.07386], 167), Ensemble of Decision Trees\n",
       "Trees:      30\n",
       "Avg Leaves: 1465.4333333333334\n",
       "Avg Depth:  26.533333333333335)"
      ]
     },
     "execution_count": 21,
     "metadata": {},
     "output_type": "execute_result"
    }
   ],
   "source": [
    "# fit three more models using ScikitLearn package\n",
    "regr_2 = DecisionTreeRegressor()\n",
    "regr_3 = DecisionTreeRegressor(pruning_purity_threshold=0.05)\n",
    "regr_4 = RandomForestRegressor(ntrees=30)\n",
    "ScikitLearn.fit!(regr_2, X_train_2008, y_train_2008)\n",
    "ScikitLearn.fit!(regr_3, X_train_2008, y_train_2008)\n",
    "ScikitLearn.fit!(regr_4, X_train_2008, y_train_2008)"
   ]
  },
  {
   "cell_type": "code",
   "execution_count": 22,
   "metadata": {
    "collapsed": true
   },
   "outputs": [],
   "source": [
    "# compute errors on validation set\n",
    "output_regr2 = ScikitLearn.predict(regr_2, X_val_2008);\n",
    "output_regr3 = ScikitLearn.predict(regr_3, X_val_2008);\n",
    "output_regr4 = ScikitLearn.predict(regr_4, X_val_2008);\n",
    "\n",
    "# errors for regr2: DecisionTreeRegressor\n",
    "MAE_regr2 = mean_abs_err(output_regr2, y_val_2008);\n",
    "MAPD_regr2 = mean_abs_percent(output_regr2, y_val_2008);\n",
    "\n",
    "# errors for regr3: DecisionTreeRegressor with pruning purity threshold of 0.025\n",
    "MAE_regr3 = mean_abs_err(output_regr3, y_val_2008);\n",
    "MAPD_regr3 = mean_abs_percent(output_regr3, y_val_2008);\n",
    "\n",
    "# errors for regr4: Random Forest with n=30 trees\n",
    "MAE_regr4 = mean_abs_err(output_regr4, y_val_2008);\n",
    "MAPD_regr4 = mean_abs_percent(output_regr4, y_val_2008);"
   ]
  },
  {
   "cell_type": "markdown",
   "metadata": {},
   "source": [
    "Overview of models for 2008 data:\n",
    "* model 1: regression tree trained on training set using DecisionTrees.jl package, with average of 10 nodes/leaf\n",
    "* model 2: full regression tree trained on training set using ScikitLearn package\n",
    "* model 3: regression tree trained on training set using ScikitLearn and pruning purity threshold of 0.05\n",
    "* model 4: random forest trained on training set using ScikitLearn with n=30 trees"
   ]
  },
  {
   "cell_type": "code",
   "execution_count": 28,
   "metadata": {},
   "outputs": [
    {
     "name": "stdout",
     "output_type": "stream",
     "text": [
      "For model 2 on the validation set, the MAE is 57.615052 and the MAPD is 6.158969 \n",
      "For model 3 on the validation set, the MAE is 89.264739 and the MAPD is 7.996839 \n",
      "For model 4 on the validation set, the MAE is 49.743548 and the MAPD is 6.069324 \n"
     ]
    }
   ],
   "source": [
    "@printf \"For model 1 on the validation set, the MAE is %f and the MAPD is %f \\n\" MAE_regr1 MAPD_regr1\n",
    "@printf \"For model 2 on the validation set, the MAE is %f and the MAPD is %f \\n\" MAE_regr2 MAPD_regr2\n",
    "@printf \"For model 3 on the validation set, the MAE is %f and the MAPD is %f \\n\" MAE_regr3 MAPD_regr3\n",
    "@printf \"For model 4 on the validation set, the MAE is %f and the MAPD is %f \\n\" MAE_regr4 MAPD_regr4"
   ]
  },
  {
   "cell_type": "code",
   "execution_count": null,
   "metadata": {
    "collapsed": true
   },
   "outputs": [],
   "source": []
  }
 ],
 "metadata": {
  "kernelspec": {
   "display_name": "Julia 0.6.0",
   "language": "julia",
   "name": "julia-0.6"
  },
  "language_info": {
   "file_extension": ".jl",
   "mimetype": "application/julia",
   "name": "julia",
   "version": "0.6.0"
  }
 },
 "nbformat": 4,
 "nbformat_minor": 2
}
