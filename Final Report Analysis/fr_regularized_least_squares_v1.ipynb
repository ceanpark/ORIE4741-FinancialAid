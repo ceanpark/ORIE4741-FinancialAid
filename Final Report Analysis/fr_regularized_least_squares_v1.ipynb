{
 "cells": [
  {
   "cell_type": "code",
   "execution_count": 2,
   "metadata": {
    "collapsed": false
   },
   "outputs": [
    {
     "name": "stderr",
     "output_type": "stream",
     "text": [
      "WARNING: Method definition ==(Base.Nullable{S}, Base.Nullable{T}) in module Base at nullable.jl:238 overwritten in module NullableArrays at /Users/tiffanyshih/.julia/v0.6/NullableArrays/src/operators.jl:99.\n"
     ]
    }
   ],
   "source": [
    "using DataFrames, CSV\n",
    "using ScikitLearn"
   ]
  },
  {
   "cell_type": "code",
   "execution_count": 12,
   "metadata": {
    "collapsed": false
   },
   "outputs": [],
   "source": [
    "tap_train = readtable(\"TAP_train.csv\");"
   ]
  },
  {
   "cell_type": "code",
   "execution_count": 13,
   "metadata": {
    "collapsed": false
   },
   "outputs": [
    {
     "data": {
      "text/plain": [
       "(152771, 43)"
      ]
     },
     "execution_count": 13,
     "metadata": {},
     "output_type": "execute_result"
    }
   ],
   "source": [
    "size(tap_train)"
   ]
  },
  {
   "cell_type": "code",
   "execution_count": 14,
   "metadata": {
    "collapsed": false
   },
   "outputs": [],
   "source": [
    "X_train = convert(Array,tap_train[:,1:42]);\n",
    "y_train = convert(Array,tap_train[:,43]);"
   ]
  },
  {
   "cell_type": "code",
   "execution_count": 15,
   "metadata": {
    "collapsed": false
   },
   "outputs": [
    {
     "data": {
      "text/plain": [
       "152771"
      ]
     },
     "execution_count": 15,
     "metadata": {},
     "output_type": "execute_result"
    }
   ],
   "source": [
    "n = size(X_train,1)"
   ]
  },
  {
   "cell_type": "code",
   "execution_count": 16,
   "metadata": {
    "collapsed": false
   },
   "outputs": [
    {
     "data": {
      "text/plain": [
       "prox_l1 (generic function with 4 methods)"
      ]
     },
     "execution_count": 16,
     "metadata": {},
     "output_type": "execute_result"
    }
   ],
   "source": [
    "function prox_l1(x::Number, alpha=1)\n",
    "    if x > alpha\n",
    "        return x-alpha\n",
    "    elseif x < -alpha\n",
    "        return x + alpha\n",
    "    else\n",
    "        return 0\n",
    "    end\n",
    "end\n",
    "function prox_l1(x::AbstractArray, alpha=1)\n",
    "    return reshape(Float64[prox_l1(xi, alpha) for xi in x], size(x))\n",
    "end"
   ]
  },
  {
   "cell_type": "code",
   "execution_count": 17,
   "metadata": {
    "collapsed": false
   },
   "outputs": [
    {
     "data": {
      "text/plain": [
       "proxgrad_quad_l1 (generic function with 1 method)"
      ]
     },
     "execution_count": 17,
     "metadata": {},
     "output_type": "execute_result"
    }
   ],
   "source": [
    "# proximal gradient method for quadratic loss and l1 regularizer\n",
    "function proxgrad_quad_l1(X, y; maxiters = 10, stepsize = 1/(2*norm(X))^2, λ = 1, w = zeros(size(X,2)))\n",
    "    objval = Float64[]\n",
    "    for i=1:maxiters\n",
    "        # gradient step\n",
    "        g = 2X'*(X*w-y) # compute quadratic gradient\n",
    "        w = w - stepsize*g\n",
    "        # prox step\n",
    "        w = prox_l1(w, stepsize*λ)\n",
    "        # record objective value\n",
    "        push!(objval, norm(X*w-y)^2 + norm(w,1))\n",
    "    end\n",
    "    return w, objval\n",
    "end"
   ]
  },
  {
   "cell_type": "code",
   "execution_count": 18,
   "metadata": {
    "collapsed": false
   },
   "outputs": [
    {
     "data": {
      "text/plain": [
       "stoch_proxgrad_quad_l1 (generic function with 1 method)"
      ]
     },
     "execution_count": 18,
     "metadata": {},
     "output_type": "execute_result"
    }
   ],
   "source": [
    "function stoch_proxgrad_quad_l1(X, y; maxiters = 50, stepsize = 1/(2*norm(X))^2, λ = 1, w = zeros(size(X,2)))\n",
    "    objval = Float64[]\n",
    "    for i=1:maxiters\n",
    "        # pick random example r\n",
    "        r = rand(1:n)\n",
    "        x_r = X[r,:]\n",
    "        # stochastic gradient step\n",
    "        g = n*(y[r] - dot(w,x_r))*x_r\n",
    "        w = w + stepsize*g\n",
    "        # prox step\n",
    "        w = prox_l1(w, stepsize*λ)\n",
    "        # record objective value\n",
    "        push!(objval, norm(X*w-y)^2 + norm(w,1))\n",
    "    end\n",
    "    return w, objval\n",
    "end"
   ]
  },
  {
   "cell_type": "code",
   "execution_count": 19,
   "metadata": {
    "collapsed": false
   },
   "outputs": [
    {
     "data": {
      "text/plain": [
       "([0.0255086, 1.27146e-5, 4.98684e-6, 3.91733e-6, 1.2715e-5, 0.0357014, 7.33175e-6, 4.27581e-6, 1.107e-6, 4.00504e-10  …  0.0, 0.0, 0.0, 4.22643e-7, 2.69556e-7, 7.96071e-7, 0.0, 0.0, 4.00504e-10, 1.2715e-5], [9.71581e11, 9.64283e11, 9.51891e11, 9.4665e11, 9.17855e11, 8.93083e11, 9.09004e11, 9.05683e11, 8.93078e11, 9.63356e11  …  8.80254e11, 9.48943e11, 8.82044e11, 8.8091e11, 8.85469e11, 9.11932e11, 9.69656e11, 9.20235e11, 8.74885e11, 8.95248e11])"
      ]
     },
     "execution_count": 19,
     "metadata": {},
     "output_type": "execute_result"
    }
   ],
   "source": [
    "w, obj = stoch_proxgrad_quad_l1(X_train,y_train; maxiters = 50, stepsize = 1/(2*norm(X))^2, λ = 0.01, w = zeros(size(X,2)))"
   ]
  },
  {
   "cell_type": "code",
   "execution_count": 20,
   "metadata": {
    "collapsed": false
   },
   "outputs": [
    {
     "data": {
      "text/plain": [
       "15-element Array{Float64,1}:\n",
       "  0.0255086  \n",
       "  1.27146e-5 \n",
       "  4.98684e-6 \n",
       "  3.91733e-6 \n",
       "  1.2715e-5  \n",
       "  0.0357014  \n",
       "  7.33175e-6 \n",
       "  4.27581e-6 \n",
       "  1.107e-6   \n",
       "  4.00504e-10\n",
       "  0.0        \n",
       "  2.95374e-6 \n",
       " -4.68984e-7 \n",
       "  3.65848e-6 \n",
       "  1.58489e-6 "
      ]
     },
     "execution_count": 20,
     "metadata": {},
     "output_type": "execute_result"
    }
   ],
   "source": [
    "w[1:15]"
   ]
  },
  {
   "cell_type": "code",
   "execution_count": 21,
   "metadata": {
    "collapsed": false
   },
   "outputs": [
    {
     "data": {
      "text/plain": [
       "15-element Array{Float64,1}:\n",
       " 7.15475e-7\n",
       " 1.65601e-6\n",
       " 5.05549e-7\n",
       " 2.1098e-6 \n",
       " 0.0       \n",
       " 2.7005e-6 \n",
       " 4.01188e-6\n",
       " 3.54149e-6\n",
       " 4.72974e-7\n",
       " 1.98812e-6\n",
       " 1.12263e-5\n",
       " 1.48867e-6\n",
       " 0.0       \n",
       " 2.02935e-6\n",
       " 0.0       "
      ]
     },
     "execution_count": 21,
     "metadata": {},
     "output_type": "execute_result"
    }
   ],
   "source": [
    "w[16:30]"
   ]
  },
  {
   "cell_type": "code",
   "execution_count": 22,
   "metadata": {
    "collapsed": false
   },
   "outputs": [
    {
     "data": {
      "text/plain": [
       "13-element Array{Float64,1}:\n",
       " 0.0        \n",
       " 3.80002e-6 \n",
       " 5.39692e-6 \n",
       " 0.0        \n",
       " 0.0        \n",
       " 0.0        \n",
       " 4.22643e-7 \n",
       " 2.69556e-7 \n",
       " 7.96071e-7 \n",
       " 0.0        \n",
       " 0.0        \n",
       " 4.00504e-10\n",
       " 1.2715e-5  "
      ]
     },
     "execution_count": 22,
     "metadata": {},
     "output_type": "execute_result"
    }
   ],
   "source": [
    "w[30:42]"
   ]
  },
  {
   "cell_type": "code",
   "execution_count": 23,
   "metadata": {
    "collapsed": false
   },
   "outputs": [
    {
     "data": {
      "text/plain": [
       "([0.0559128, 2.77842e-5, 1.46355e-5, 9.97279e-6, 2.78657e-5, 0.0269909, 1.87525e-5, 6.90473e-6, 2.12705e-6, 8.14243e-8  …  0.0, 0.0, 0.0, 7.56696e-7, 0.0, 2.81685e-6, 0.0, -3.18643e-8, 1.13289e-7, 2.78657e-5], [9.93714e11, 9.0402e11, 9.25984e11, 9.27685e11, 9.14728e11, 9.24556e11, 9.22419e11, 9.22283e11, 8.985e11, 9.01256e11  …  8.65461e11, 8.82343e11, 8.65438e11, 8.8105e11, 8.50487e11, 9.05411e11, 9.03756e11, 8.54123e11, 8.53871e11, 8.50011e11])"
      ]
     },
     "execution_count": 23,
     "metadata": {},
     "output_type": "execute_result"
    }
   ],
   "source": [
    "w1, obj1 = stoch_proxgrad_quad_l1(X,y; maxiters = 100, stepsize = 1/(2*norm(X))^2, λ = 0.01, w = zeros(size(X,2)))"
   ]
  },
  {
   "cell_type": "code",
   "execution_count": 24,
   "metadata": {
    "collapsed": false
   },
   "outputs": [
    {
     "data": {
      "text/plain": [
       "15-element Array{Float64,1}:\n",
       " 0.0559128 \n",
       " 2.77842e-5\n",
       " 1.46355e-5\n",
       " 9.97279e-6\n",
       " 2.78657e-5\n",
       " 0.0269909 \n",
       " 1.87525e-5\n",
       " 6.90473e-6\n",
       " 2.12705e-6\n",
       " 8.14243e-8\n",
       " 0.0       \n",
       " 5.8956e-6 \n",
       " 6.25276e-7\n",
       " 4.04904e-6\n",
       " 2.66028e-6"
      ]
     },
     "execution_count": 24,
     "metadata": {},
     "output_type": "execute_result"
    }
   ],
   "source": [
    "w1[1:15]"
   ]
  },
  {
   "cell_type": "code",
   "execution_count": 25,
   "metadata": {
    "collapsed": false,
    "scrolled": true
   },
   "outputs": [
    {
     "data": {
      "text/plain": [
       "15-element Array{Float64,1}:\n",
       " 4.70428e-6\n",
       " 4.91562e-6\n",
       " 3.03291e-6\n",
       " 1.98266e-6\n",
       " 0.0       \n",
       " 4.94378e-6\n",
       " 1.06434e-5\n",
       " 4.89165e-6\n",
       " 1.46148e-6\n",
       " 5.92538e-6\n",
       " 2.39027e-5\n",
       " 3.68684e-6\n",
       " 2.76095e-7\n",
       " 1.9512e-6 \n",
       " 2.76095e-7"
      ]
     },
     "execution_count": 25,
     "metadata": {},
     "output_type": "execute_result"
    }
   ],
   "source": [
    "w1[16:30]"
   ]
  },
  {
   "cell_type": "code",
   "execution_count": 26,
   "metadata": {
    "collapsed": false
   },
   "outputs": [
    {
     "data": {
      "text/plain": [
       "12-element Array{Float64,1}:\n",
       "  6.17335e-6\n",
       "  1.581e-5  \n",
       "  0.0       \n",
       "  0.0       \n",
       "  0.0       \n",
       "  7.56696e-7\n",
       "  0.0       \n",
       "  2.81685e-6\n",
       "  0.0       \n",
       " -3.18643e-8\n",
       "  1.13289e-7\n",
       "  2.78657e-5"
      ]
     },
     "execution_count": 26,
     "metadata": {},
     "output_type": "execute_result"
    }
   ],
   "source": [
    "w1[31:42]"
   ]
  },
  {
   "cell_type": "code",
   "execution_count": 28,
   "metadata": {
    "collapsed": true
   },
   "outputs": [],
   "source": [
    "tap_test = readtable(\"TAP_test.csv\");"
   ]
  },
  {
   "cell_type": "code",
   "execution_count": 37,
   "metadata": {
    "collapsed": false
   },
   "outputs": [
    {
     "data": {
      "text/plain": [
       "(38193, 43)"
      ]
     },
     "execution_count": 37,
     "metadata": {},
     "output_type": "execute_result"
    }
   ],
   "source": [
    "size(tap_test)"
   ]
  },
  {
   "cell_type": "code",
   "execution_count": 29,
   "metadata": {
    "collapsed": false
   },
   "outputs": [],
   "source": [
    "X_test = convert(Array,tap_test[:,1:42]);\n",
    "y_test = convert(Array,tap_test[:,43]);"
   ]
  },
  {
   "cell_type": "code",
   "execution_count": 30,
   "metadata": {
    "collapsed": false
   },
   "outputs": [
    {
     "data": {
      "text/plain": [
       "mean_abs_err (generic function with 1 method)"
      ]
     },
     "execution_count": 30,
     "metadata": {},
     "output_type": "execute_result"
    }
   ],
   "source": [
    "function mean_abs_err(X,y,w)\n",
    "    n = size(X,1)\n",
    "    sum = 0\n",
    "    for i=1:n\n",
    "        sum += abs(y[i] - X[i,:]'*w)\n",
    "    end\n",
    "    return (sum+0.0)/n\n",
    "end"
   ]
  },
  {
   "cell_type": "code",
   "execution_count": 31,
   "metadata": {
    "collapsed": false
   },
   "outputs": [
    {
     "data": {
      "text/plain": [
       "mean_abs_percent (generic function with 1 method)"
      ]
     },
     "execution_count": 31,
     "metadata": {},
     "output_type": "execute_result"
    }
   ],
   "source": [
    "function mean_abs_percent(X,y,w)\n",
    "    n = size(X,1)\n",
    "    sum = 0\n",
    "    for i=1:n\n",
    "        sum += abs((y[i] - X[i,:]'*w)/y[i])\n",
    "    end\n",
    "    return 100*(sum+0.0)/n\n",
    "end"
   ]
  },
  {
   "cell_type": "code",
   "execution_count": 44,
   "metadata": {
    "collapsed": false
   },
   "outputs": [
    {
     "data": {
      "text/plain": [
       "2066.9712337817136"
      ]
     },
     "execution_count": 44,
     "metadata": {},
     "output_type": "execute_result"
    }
   ],
   "source": [
    "MAE_train = mean_abs_err(X_train, y_train, w)"
   ]
  },
  {
   "cell_type": "code",
   "execution_count": 45,
   "metadata": {
    "collapsed": false
   },
   "outputs": [
    {
     "data": {
      "text/plain": [
       "2079.170881561422"
      ]
     },
     "execution_count": 45,
     "metadata": {},
     "output_type": "execute_result"
    }
   ],
   "source": [
    "MAE_test = mean_abs_err(X_test, y_test, w)"
   ]
  },
  {
   "cell_type": "code",
   "execution_count": 46,
   "metadata": {
    "collapsed": false
   },
   "outputs": [
    {
     "data": {
      "text/plain": [
       "160.06887151372942"
      ]
     },
     "execution_count": 46,
     "metadata": {},
     "output_type": "execute_result"
    }
   ],
   "source": [
    "MAPD_train = mean_abs_percent(X_train, y_train, w)"
   ]
  },
  {
   "cell_type": "code",
   "execution_count": 47,
   "metadata": {
    "collapsed": false
   },
   "outputs": [
    {
     "data": {
      "text/plain": [
       "159.9483263969161"
      ]
     },
     "execution_count": 47,
     "metadata": {},
     "output_type": "execute_result"
    }
   ],
   "source": [
    "MAPD_test = mean_abs_percent(X_test, y_test, w)"
   ]
  }
 ],
 "metadata": {
  "kernelspec": {
   "display_name": "Julia 0.6.0",
   "language": "julia",
   "name": "julia-0.6"
  },
  "language_info": {
   "file_extension": ".jl",
   "mimetype": "application/julia",
   "name": "julia",
   "version": "0.6.0"
  }
 },
 "nbformat": 4,
 "nbformat_minor": 2
}
