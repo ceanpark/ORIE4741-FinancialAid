{
 "cells": [
  {
   "cell_type": "markdown",
   "metadata": {},
   "source": [
    "# Regression Trees with entire dataset"
   ]
  },
  {
   "cell_type": "code",
   "execution_count": 1,
   "metadata": {},
   "outputs": [
    {
     "name": "stderr",
     "output_type": "stream",
     "text": [
      "WARNING: Method definition ==(Base.Nullable{S}, Base.Nullable{T}) in module Base at nullable.jl:238 overwritten in module NullableArrays at /Users/cean/.julia/v0.6/NullableArrays/src/operators.jl:99.\n"
     ]
    }
   ],
   "source": [
    "using DecisionTree, ScikitLearn, DataFrames, CSV, MLDataUtils"
   ]
  },
  {
   "cell_type": "code",
   "execution_count": 2,
   "metadata": {},
   "outputs": [
    {
     "data": {
      "text/plain": [
       "mean_abs_percent (generic function with 1 method)"
      ]
     },
     "execution_count": 2,
     "metadata": {},
     "output_type": "execute_result"
    }
   ],
   "source": [
    "# define error functions\n",
    "\n",
    "function mean_abs_err(y_output, y_true)\n",
    "    n = size(y_output,1)\n",
    "    sum = 0\n",
    "    for i=1:n\n",
    "        sum += abs.(y_output[i] - y_true[i])\n",
    "    end\n",
    "    return (sum+0.0)/n\n",
    "end\n",
    "\n",
    "function mean_abs_percent(y_output, y_true)\n",
    "    n = size(y_output,1)\n",
    "    sum = 0\n",
    "    for i=1:n\n",
    "        sum += abs.((y_output[i] - y_true[i])/y_true[i])\n",
    "    end\n",
    "    return 100*(sum+0.0)/n\n",
    "end"
   ]
  },
  {
   "cell_type": "code",
   "execution_count": 3,
   "metadata": {},
   "outputs": [],
   "source": [
    "tap_train = readtable(\"TAP_train.csv\");\n",
    "#tap_test = readtable(\"TAP_test.csv\");"
   ]
  },
  {
   "cell_type": "code",
   "execution_count": 10,
   "metadata": {
    "collapsed": true
   },
   "outputs": [],
   "source": [
    "# convert training data into array and shuffle observations by row\n",
    "TAP = convert(Array, tap_train);\n",
    "TAP = shuffleobs(TAP, obsdim = 1);"
   ]
  },
  {
   "cell_type": "code",
   "execution_count": 11,
   "metadata": {
    "collapsed": true
   },
   "outputs": [],
   "source": [
    "# split into X and y\n",
    "X_data = TAP[:,:];\n",
    "y_data = TAP[:,43];"
   ]
  },
  {
   "cell_type": "code",
   "execution_count": 12,
   "metadata": {
    "collapsed": true
   },
   "outputs": [],
   "source": [
    "# split training sets (with 80%) of data into training and validation sets\n",
    "X_train, X_val = splitobs(X_data, at=0.75, obsdim=1);\n",
    "y_train, y_val = splitobs(y_data, at=0.75, obsdim=1);"
   ]
  },
  {
   "cell_type": "code",
   "execution_count": 13,
   "metadata": {},
   "outputs": [
    {
     "data": {
      "text/plain": [
       "114578×43 SubArray{Real,2,Array{Real,2},Tuple{UnitRange{Int64},Base.Slice{Base.OneTo{Int64}}},false}:\n",
       " 2013  1  0  0  1  48500.5  0  1  0  …  0  0  0  0  0  0  0  0  1   500.0  \n",
       " 2005  1  0  0  1  13500.5  1  0  0     0  0  0  0  0  0  0  0  1  2263.46 \n",
       " 2006  1  1  0  1   6500.5  1  0  0     0  0  0  0  0  0  0  0  1  5014.75 \n",
       " 2004  1  0  0  1  73500.5  0  1  0     0  0  0  0  0  0  0  0  1   500.0  \n",
       " 2005  1  0  1  1   2500.5  0  1  0     0  0  0  0  0  0  0  0  1  3920.45 \n",
       " 2000  0  1  1  1   5500.5  0  0  0  …  0  0  0  0  0  0  1  0  1   277.812\n",
       " 2003  1  1  1  1  16500.5  1  0  0     0  0  0  0  0  0  0  0  1  3234.61 \n",
       " 2008  0  0  0  1   4500.5  0  0  0     0  0  0  0  0  0  0  1  1    75.0  \n",
       " 2013  1  0  1  1  61500.5  0  1  0     0  0  0  0  0  0  0  0  1   500.0  \n",
       " 2003  1  0  0  1  18500.5  1  0  0     0  0  0  0  0  0  0  0  1  1716.79 \n",
       " 2007  1  0  1  1  50500.5  1  0  0  …  0  0  0  0  0  0  0  0  1   500.0  \n",
       " 2002  1  1  1  1  18500.5  1  0  0     0  0  0  0  0  0  0  0  1  3956.41 \n",
       " 2004  0  0  0  1  10500.5  0  0  0     0  0  0  0  0  0  1  0  1    75.0  \n",
       "    ⋮                  ⋮             ⋱        ⋮              ⋮             \n",
       " 2002  1  1  1  1  24500.5  1  0  0     0  0  0  0  0  0  0  0  1  1758.0  \n",
       " 2002  1  0  0  1   1500.5  0  1  0     0  0  0  0  1  0  0  0  1  3006.82 \n",
       " 2015  1  1  0  1  26500.5  0  1  0     0  0  0  0  0  0  0  0  1  3072.86 \n",
       " 2013  1  0  0  1  52500.5  0  1  0     0  0  0  0  0  0  0  0  1   500.0  \n",
       " 2009  1  1  1  1   5500.5  0  0  1  …  0  0  0  0  0  0  0  0  1  4900.0  \n",
       " 2001  1  0  0  1  11500.5  0  1  0     0  0  0  0  0  0  0  0  1  2797.89 \n",
       " 2002  1  1  1  1  32500.5  1  0  0     0  0  0  0  0  0  0  0  1  1348.0  \n",
       " 2014  1  0  0  1  53500.5  1  0  0     0  0  0  0  0  0  0  0  1   500.0  \n",
       " 2002  1  0  1  1  28500.5  0  1  0     0  0  0  0  0  0  0  0  1  1105.0  \n",
       " 2010  1  0  0  1  21500.5  0  1  0  …  0  0  0  0  0  0  0  0  1  2556.23 \n",
       " 2001  1  0  1  1  70500.5  0  1  0     0  0  0  0  0  0  0  0  1   275.0  \n",
       " 2015  1  0  1  1  34500.5  0  1  0     0  0  0  0  0  0  0  0  1  2182.05 "
      ]
     },
     "execution_count": 13,
     "metadata": {},
     "output_type": "execute_result"
    }
   ],
   "source": [
    "X_train"
   ]
  },
  {
   "cell_type": "code",
   "execution_count": 14,
   "metadata": {},
   "outputs": [],
   "source": [
    "# convert arrays from real to Float64\n",
    "X_train = convert(Array{Float64}, X_train);\n",
    "X_val = convert(Array{Float64}, X_val);\n",
    "y_train = convert(Array{Float64}, y_train);\n",
    "y_val = convert(Array{Float64}, y_val);"
   ]
  },
  {
   "cell_type": "markdown",
   "metadata": {},
   "source": [
    "## model 1: full regression tree, with average nodes per leaf"
   ]
  },
  {
   "cell_type": "code",
   "execution_count": 15,
   "metadata": {
    "collapsed": true
   },
   "outputs": [],
   "source": [
    "# fit single regression tree with average of avg nodes per leaf using build_tree\n",
    "avg = 10\n",
    "regr1 = build_tree(y_train, X_train, avg);\n",
    "\n",
    "# test fit of model on validation set\n",
    "output_regr1 = apply_tree(regr1, X_val);\n",
    "\n",
    "# compute errors on validation set\n",
    "MAE_regr1 = mean_abs_err(output_regr1, y_val);\n",
    "MAPD_regr1 = mean_abs_percent(output_regr1, y_val);"
   ]
  },
  {
   "cell_type": "code",
   "execution_count": 17,
   "metadata": {},
   "outputs": [
    {
     "data": {
      "text/plain": [
       "Decision Tree\n",
       "Leaves: 21852\n",
       "Depth:  80"
      ]
     },
     "execution_count": 17,
     "metadata": {},
     "output_type": "execute_result"
    }
   ],
   "source": [
    "regr1"
   ]
  },
  {
   "cell_type": "code",
   "execution_count": 16,
   "metadata": {},
   "outputs": [
    {
     "name": "stdout",
     "output_type": "stream",
     "text": [
      "For model 1 on the validation set, the MAE is 0.091499 and the MAPD is 0.009618"
     ]
    }
   ],
   "source": [
    "@printf \"For model 1 on the validation set, the MAE is %f and the MAPD is %f\" MAE_regr1 MAPD_regr1"
   ]
  },
  {
   "cell_type": "markdown",
   "metadata": {},
   "source": [
    "## model 2: pruned tree"
   ]
  },
  {
   "cell_type": "code",
   "execution_count": 18,
   "metadata": {
    "collapsed": true
   },
   "outputs": [],
   "source": [
    "# prune tree with specified pruning threshold\n",
    "pruning_threshold = 0.05\n",
    "regr2 = prune_tree(regr1, 1-pruning_threshold)\n",
    "\n",
    "# test fit of model on validation set\n",
    "output_regr2 = apply_tree(regr2, X_val);\n",
    "\n",
    "# compute errors on validation set\n",
    "MAE_regr2 = mean_abs_err(output_regr2, y_val);\n",
    "MAPD_regr2 = mean_abs_percent(output_regr2, y_val);"
   ]
  },
  {
   "cell_type": "code",
   "execution_count": 24,
   "metadata": {},
   "outputs": [
    {
     "data": {
      "text/plain": [
       "Decision Tree\n",
       "Leaves: 12319\n",
       "Depth:  25"
      ]
     },
     "execution_count": 24,
     "metadata": {},
     "output_type": "execute_result"
    }
   ],
   "source": [
    "regr2"
   ]
  },
  {
   "cell_type": "code",
   "execution_count": 19,
   "metadata": {
    "scrolled": true
   },
   "outputs": [
    {
     "name": "stdout",
     "output_type": "stream",
     "text": [
      "For model 2 on the validation set, the MAE is 0.091934 and the MAPD is 0.009645 \n"
     ]
    }
   ],
   "source": [
    "@printf \"For model 2 on the validation set, the MAE is %f and the MAPD is %f \\n\" MAE_regr2 MAPD_regr2"
   ]
  },
  {
   "cell_type": "markdown",
   "metadata": {},
   "source": [
    "# model 3: random forest"
   ]
  },
  {
   "cell_type": "code",
   "execution_count": 20,
   "metadata": {
    "collapsed": true
   },
   "outputs": [],
   "source": [
    "# build random forest with specified number of trees\n",
    "numfeatures = 20\n",
    "numtrees = 30\n",
    "avg = 50\n",
    "portion_samples = 0.7\n",
    "regr3 = build_forest(y_train, X_train, numfeatures, numtrees, avg, portion_samples)\n",
    "\n",
    "# test fit of model on validation set\n",
    "output_regr3 = apply_forest(regr3, X_val);\n",
    "\n",
    "# compute errors on validation set\n",
    "MAE_regr3 = mean_abs_err(output_regr3, y_val);\n",
    "MAPD_regr3 = mean_abs_percent(output_regr3, y_val);"
   ]
  },
  {
   "cell_type": "code",
   "execution_count": 25,
   "metadata": {},
   "outputs": [
    {
     "data": {
      "text/plain": [
       "Ensemble of Decision Trees\n",
       "Trees:      30\n",
       "Avg Leaves: 3088.233333333333\n",
       "Avg Depth:  38.1"
      ]
     },
     "execution_count": 25,
     "metadata": {},
     "output_type": "execute_result"
    }
   ],
   "source": [
    "regr3"
   ]
  },
  {
   "cell_type": "code",
   "execution_count": 21,
   "metadata": {
    "scrolled": true
   },
   "outputs": [
    {
     "name": "stdout",
     "output_type": "stream",
     "text": [
      "For model 3 on the validation set, the MAE is 4.636779 and the MAPD is 0.438844 \n"
     ]
    }
   ],
   "source": [
    "@printf \"For model 3 on the validation set, the MAE is %f and the MAPD is %f \\n\" MAE_regr3 MAPD_regr3"
   ]
  },
  {
   "cell_type": "markdown",
   "metadata": {},
   "source": [
    "## overview of model errors"
   ]
  },
  {
   "cell_type": "code",
   "execution_count": 23,
   "metadata": {},
   "outputs": [
    {
     "name": "stdout",
     "output_type": "stream",
     "text": [
      "For model 1 on the validation set, the MAE is 0.091499 and the MAPD is 0.009618 \n",
      "For model 2 on the validation set, the MAE is 0.091934 and the MAPD is 0.009645 \n",
      "For model 3 on the validation set, the MAE is 4.636779 and the MAPD is 0.438844 \n"
     ]
    }
   ],
   "source": [
    "@printf \"For model 1 on the validation set, the MAE is %f and the MAPD is %f \\n\" MAE_regr1 MAPD_regr1\n",
    "@printf \"For model 2 on the validation set, the MAE is %f and the MAPD is %f \\n\" MAE_regr2 MAPD_regr2\n",
    "@printf \"For model 3 on the validation set, the MAE is %f and the MAPD is %f \\n\" MAE_regr3 MAPD_regr3"
   ]
  },
  {
   "cell_type": "code",
   "execution_count": null,
   "metadata": {
    "collapsed": true
   },
   "outputs": [],
   "source": []
  },
  {
   "cell_type": "code",
   "execution_count": null,
   "metadata": {
    "collapsed": true
   },
   "outputs": [],
   "source": []
  },
  {
   "cell_type": "markdown",
   "metadata": {},
   "source": [
    "## Test error"
   ]
  },
  {
   "cell_type": "code",
   "execution_count": 26,
   "metadata": {
    "collapsed": true
   },
   "outputs": [],
   "source": [
    "# import test set\n",
    "tap_test = readtable(\"TAP_test.csv\");\n",
    "tap_test = convert(Array, tap_test);"
   ]
  },
  {
   "cell_type": "code",
   "execution_count": 27,
   "metadata": {
    "collapsed": true
   },
   "outputs": [],
   "source": [
    "# split data and convert to correct type\n",
    "X_test = tap_test[:,:];\n",
    "y_test = tap_test[:,43];\n",
    "\n",
    "X_test = convert(Array{Float64}, X_test);\n",
    "y_test = convert(Array{Float64}, y_test);"
   ]
  },
  {
   "cell_type": "markdown",
   "metadata": {},
   "source": [
    "### model 1 on test set"
   ]
  },
  {
   "cell_type": "code",
   "execution_count": 28,
   "metadata": {
    "collapsed": true
   },
   "outputs": [],
   "source": [
    "# test fit of model on validation set\n",
    "output_test1 = apply_tree(regr1, X_test);\n",
    "\n",
    "# compute errors on validation set\n",
    "MAE_test1 = mean_abs_err(output_test1, y_test);\n",
    "MAPD_test1 = mean_abs_percent(output_test1, y_test);"
   ]
  },
  {
   "cell_type": "code",
   "execution_count": 29,
   "metadata": {},
   "outputs": [
    {
     "name": "stdout",
     "output_type": "stream",
     "text": [
      "For model 1 on the test set, the MAE is 0.088761 and the MAPD is 0.017228\n"
     ]
    }
   ],
   "source": [
    "@printf \"For model 1 on the test set, the MAE is %f and the MAPD is %f\\n\" MAE_test1 MAPD_test1"
   ]
  },
  {
   "cell_type": "markdown",
   "metadata": {},
   "source": [
    "### model 2 on test set"
   ]
  },
  {
   "cell_type": "code",
   "execution_count": 30,
   "metadata": {
    "collapsed": true
   },
   "outputs": [],
   "source": [
    "# test fit of model on validation set\n",
    "output_test2 = apply_tree(regr2, X_test);\n",
    "\n",
    "# compute errors on validation set\n",
    "MAE_test2 = mean_abs_err(output_test2, y_test);\n",
    "MAPD_test2 = mean_abs_percent(output_test2, y_test);"
   ]
  },
  {
   "cell_type": "code",
   "execution_count": 31,
   "metadata": {},
   "outputs": [
    {
     "name": "stdout",
     "output_type": "stream",
     "text": [
      "For model 2 on the test set, the MAE is 0.089073 and the MAPD is 0.017260\n"
     ]
    }
   ],
   "source": [
    "@printf \"For model 2 on the test set, the MAE is %f and the MAPD is %f\\n\" MAE_test2 MAPD_test2"
   ]
  },
  {
   "cell_type": "markdown",
   "metadata": {},
   "source": [
    "### model 3 on test set"
   ]
  },
  {
   "cell_type": "code",
   "execution_count": 34,
   "metadata": {},
   "outputs": [],
   "source": [
    "# test fit of model on validation set\n",
    "output_test3 = apply_forest(regr3, X_test);\n",
    "\n",
    "# compute errors on validation set\n",
    "MAE_test3 = mean_abs_err(output_test3, y_test);\n",
    "MAPD_test3 = mean_abs_percent(output_test3, y_test);"
   ]
  },
  {
   "cell_type": "code",
   "execution_count": 35,
   "metadata": {},
   "outputs": [
    {
     "name": "stdout",
     "output_type": "stream",
     "text": [
      "For model 3 on the test set, the MAE is 4.578450 and the MAPD is 0.472857\n"
     ]
    }
   ],
   "source": [
    "@printf \"For model 3 on the test set, the MAE is %f and the MAPD is %f\\n\" MAE_test3 MAPD_test3"
   ]
  },
  {
   "cell_type": "markdown",
   "metadata": {},
   "source": [
    "### overview of test errors"
   ]
  },
  {
   "cell_type": "code",
   "execution_count": 36,
   "metadata": {},
   "outputs": [
    {
     "name": "stdout",
     "output_type": "stream",
     "text": [
      "For model 1 on the test set, the MAE is 0.088761 and the MAPD is 0.017228\n",
      "For model 2 on the test set, the MAE is 0.089073 and the MAPD is 0.017260\n",
      "For model 3 on the test set, the MAE is 4.578450 and the MAPD is 0.472857\n"
     ]
    }
   ],
   "source": [
    "@printf \"For model 1 on the test set, the MAE is %f and the MAPD is %f\\n\" MAE_test1 MAPD_test1\n",
    "@printf \"For model 2 on the test set, the MAE is %f and the MAPD is %f\\n\" MAE_test2 MAPD_test2\n",
    "@printf \"For model 3 on the test set, the MAE is %f and the MAPD is %f\\n\" MAE_test3 MAPD_test3"
   ]
  },
  {
   "cell_type": "code",
   "execution_count": null,
   "metadata": {
    "collapsed": true
   },
   "outputs": [],
   "source": []
  },
  {
   "cell_type": "markdown",
   "metadata": {},
   "source": [
    "# IGNORE BELOW FOR NOW"
   ]
  },
  {
   "cell_type": "markdown",
   "metadata": {},
   "source": [
    "## models 2, 3, and 4: using scikitlearn"
   ]
  },
  {
   "cell_type": "code",
   "execution_count": null,
   "metadata": {
    "collapsed": true
   },
   "outputs": [],
   "source": [
    "# fit three more models using ScikitLearn package\n",
    "\n",
    "# initial parameters\n",
    "numtrees = 30\n",
    "pruning_threshold = 0.05\n",
    "\n",
    "regr_2 = DecisionTreeRegressor()\n",
    "#regr_3 = DecisionTreeRegressor(pruning_purity_threshold=pruning_threshold)\n",
    "regr_4 = RandomForestRegressor(ntrees=numtrees)\n",
    "ScikitLearn.fit!(regr_2, X_train, y_train)\n",
    "#ScikitLearn.fit!(regr_3, X_train, y_train)\n",
    "#ScikitLearn.fit!(regr_4, X_train, y_train)"
   ]
  },
  {
   "cell_type": "code",
   "execution_count": null,
   "metadata": {
    "collapsed": true
   },
   "outputs": [],
   "source": [
    "# compute errors on validation set\n",
    "output_regr2 = ScikitLearn.predict(regr_2, X_val);\n",
    "#output_regr3 = ScikitLearn.predict(regr_3, X_val);\n",
    "#output_regr4 = ScikitLearn.predict(regr_4, X_val);\n",
    "\n",
    "# errors for regr2: DecisionTreeRegressor\n",
    "MAE_regr2 = mean_abs_err(output_regr2, y_val);\n",
    "MAPD_regr2 = mean_abs_percent(output_regr2, y_val);\n",
    "\n",
    "# errors for regr3: DecisionTreeRegressor with pruning purity threshold of 0.05\n",
    "#MAE_regr3 = mean_abs_err(output_regr3, y_val);\n",
    "#MAPD_regr3 = mean_abs_percent(output_regr3, y_val);\n",
    "\n",
    "# errors for regr4: Random Forest with n=30 trees\n",
    "#MAE_regr4 = mean_abs_err(output_regr4, y_val);\n",
    "#MAPD_regr4 = mean_abs_percent(output_regr4, y_val);"
   ]
  },
  {
   "cell_type": "markdown",
   "metadata": {},
   "source": [
    "Overview of models all data:\n",
    "* model 1: regression tree trained on training set using DecisionTrees.jl package, with average of 10 nodes/leaf\n",
    "* model 2: full regression tree trained on training set using ScikitLearn package\n",
    "* model 3: regression tree trained on training set using ScikitLearn and pruning purity threshold of 0.05\n",
    "* model 4: random forest trained on training set using ScikitLearn with n=30 trees"
   ]
  },
  {
   "cell_type": "code",
   "execution_count": null,
   "metadata": {
    "collapsed": true
   },
   "outputs": [],
   "source": [
    "@printf \"For model 1 on the validation set, the MAE is %f and the MAPD is %f \\n\" MAE_regr1 MAPD_regr1\n",
    "@printf \"For model 2 on the validation set, the MAE is %f and the MAPD is %f \\n\" MAE_regr2 MAPD_regr2\n",
    "@printf \"For model 3 on the validation set, the MAE is %f and the MAPD is %f \\n\" MAE_regr3 MAPD_regr3\n",
    "@printf \"For model 4 on the validation set, the MAE is %f and the MAPD is %f \\n\" MAE_regr4 MAPD_regr4"
   ]
  },
  {
   "cell_type": "code",
   "execution_count": null,
   "metadata": {
    "collapsed": true
   },
   "outputs": [],
   "source": []
  }
 ],
 "metadata": {
  "kernelspec": {
   "display_name": "Julia 0.6.0",
   "language": "julia",
   "name": "julia-0.6"
  },
  "language_info": {
   "file_extension": ".jl",
   "mimetype": "application/julia",
   "name": "julia",
   "version": "0.6.0"
  }
 },
 "nbformat": 4,
 "nbformat_minor": 2
}
