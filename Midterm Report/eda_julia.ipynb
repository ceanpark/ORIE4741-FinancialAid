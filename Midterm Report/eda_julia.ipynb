{
 "cells": [
  {
   "cell_type": "markdown",
   "metadata": {},
   "source": [
    "# Exploratory data analysis, Julia 0.60"
   ]
  },
  {
   "cell_type": "code",
   "execution_count": 1,
   "metadata": {},
   "outputs": [
    {
     "name": "stderr",
     "output_type": "stream",
     "text": [
      "WARNING: Method definition count() in module IterTools at deprecated.jl:56 overwritten in module Iterators at deprecated.jl:56.\n",
      "WARNING: Method definition count(Number) in module IterTools at deprecated.jl:56 overwritten in module Iterators at deprecated.jl:56.\n",
      "WARNING: Method definition count(Number, Number) in module IterTools at deprecated.jl:56 overwritten in module Iterators at deprecated.jl:56.\n"
     ]
    }
   ],
   "source": [
    "# bring packages into main namespace\n",
    "using DataFrames, Gadfly, ScikitLearn"
   ]
  },
  {
   "cell_type": "code",
   "execution_count": 14,
   "metadata": {
    "scrolled": true
   },
   "outputs": [],
   "source": [
    "tap_raw = readtable(\"TAP_data.csv\");\n",
    "tap_clean = readtable(\"TAP_data_numeric.csv\");\n",
    "delete!(tap_clean, :x);"
   ]
  },
  {
   "cell_type": "code",
   "execution_count": 15,
   "metadata": {},
   "outputs": [
    {
     "data": {
      "text/plain": [
       "(190964, 17)"
      ]
     },
     "execution_count": 15,
     "metadata": {},
     "output_type": "execute_result"
    }
   ],
   "source": [
    "size(tap_raw)"
   ]
  },
  {
   "cell_type": "code",
   "execution_count": 16,
   "metadata": {
    "scrolled": true
   },
   "outputs": [
    {
     "data": {
      "text/plain": [
       "(190964, 45)"
      ]
     },
     "execution_count": 16,
     "metadata": {},
     "output_type": "execute_result"
    }
   ],
   "source": [
    "size(tap_clean)"
   ]
  },
  {
   "cell_type": "markdown",
   "metadata": {},
   "source": [
    "## Data visualization"
   ]
  },
  {
   "cell_type": "code",
   "execution_count": 25,
   "metadata": {},
   "outputs": [
    {
     "data": {
      "text/html": [
       "<table class=\"data-frame\"><thead><tr><th></th><th>Academic_Year</th><th>Level</th><th>TAP_Level_of_Study</th><th>Sector_Type</th><th>TAP_Sector_Group</th><th>Recipient_Age_Group</th><th>TAP_Financial_Status</th><th>TAP_Award_Schedule</th><th>TAP_Degree_or_NonDegree</th><th>TAP_Schedule_Letter</th><th>Income_by_1_000_Range</th><th>Income_by_5_000_Range</th><th>Income_by_10_000_Range</th><th>TAP_Recipient_Headcount</th><th>TAP_Recipient_FTEs</th><th>TAP_Recipient_Dollars</th><th>Award_per_FTE</th></tr></thead><tbody><tr><th>1</th><td>2008</td><td>U</td><td>2 yr Undergrad</td><td>PUBLIC</td><td>2-CUNY CC</td><td>age 36 - 50</td><td>Financial_Independent</td><td>Dependent_Schedule</td><td>Degree</td><td>A</td><td>$18,001 to $19,000</td><td>$15,001 to $20,000</td><td>$10,001 to $20,000</td><td>3</td><td>1.5</td><td>$2,412.00 </td><td> $1,608.00 </td></tr><tr><th>2</th><td>2011</td><td>U</td><td>4 yr Undergrad</td><td>PUBLIC</td><td>3-SUNY SO</td><td>under age 22</td><td>Financial_Independent</td><td>Married_No_Dependents</td><td>Degree</td><td>C</td><td>$15,001 to $16,000</td><td>$15,001 to $20,000</td><td>$10,001 to $20,000</td><td>1</td><td>0.5</td><td>$1,099.00 </td><td> $2,198.00 </td></tr><tr><th>3</th><td>2003</td><td>U</td><td>4 yr Undergrad</td><td>PUBLIC</td><td>3-SUNY SO</td><td>age 22 - 25</td><td>Financial_Dependent</td><td>Dependent_Schedule</td><td>Degree</td><td>D</td><td>$48,001 to $49,000</td><td>$45,001 to $50,000</td><td>$40,001 to $50,000</td><td>1</td><td>1.0</td><td>$500.00</td><td>$500.00</td></tr><tr><th>4</th><td>2009</td><td>U</td><td>5 yr Undergrad</td><td>PUBLIC</td><td>3-SUNY SO</td><td>age 22 - 25</td><td>Financial_Dependent</td><td>Dependent_Schedule</td><td>Degree</td><td>E</td><td>$ 1,001 to $ 2,000</td><td>$     1 to $ 5,000</td><td>$     0 to $10,000</td><td>9</td><td>7.25</td><td>$35,485.05 </td><td> $4,894.49 </td></tr><tr><th>5</th><td>2015</td><td>U</td><td>2 yr Undergrad</td><td>PUBLIC</td><td>2-CUNY CC</td><td>over age 50</td><td>Financial_Independent</td><td>Married_No_Dependents</td><td>Degree</td><td>C</td><td>$0</td><td>$0</td><td>$     0 to $10,000</td><td>9</td><td>7.01</td><td>$20,965.86 </td><td> $2,990.85 </td></tr><tr><th>6</th><td>2001</td><td>U</td><td>2 yr Undergrad</td><td>PRIVATE</td><td>5-INDEPENDENT</td><td>age 22 - 25</td><td>Financial_Independent</td><td>Dependent_Schedule</td><td>Degree</td><td>D</td><td>$11,001 to $12,000</td><td>$10,001 to $15,000</td><td>$10,001 to $20,000</td><td>2</td><td>1.0</td><td>$3,780.00 </td><td> $3,780.00 </td></tr><tr><th>7</th><td>2009</td><td>U</td><td>4 yr Undergrad</td><td>PUBLIC</td><td>3-SUNY SO</td><td>under age 22</td><td>Financial_Independent</td><td>Independent_Schedule</td><td>Degree</td><td>M</td><td>$ 1,001 to $ 2,000</td><td>$     1 to $ 5,000</td><td>$     0 to $10,000</td><td>26</td><td>25.0</td><td>$74,275.00 </td><td> $2,971.00 </td></tr><tr><th>8</th><td>2006</td><td>U</td><td>4 yr Undergrad</td><td>PUBLIC</td><td>3-SUNY SO</td><td>under age 22</td><td>Financial_Dependent</td><td>Dependent_Schedule</td><td>Degree</td><td>E</td><td>$ 3,001 to $ 4,000</td><td>$     1 to $ 5,000</td><td>$     0 to $10,000</td><td>37</td><td>31.5</td><td>$136,562.50 </td><td> $4,335.32 </td></tr><tr><th>9</th><td>2012</td><td>U</td><td>2 yr Undergrad</td><td>PRIVATE</td><td>5-INDEPENDENT</td><td>age 26 - 35</td><td>Financial_Independent</td><td>Dependent_Schedule</td><td>Degree</td><td>E</td><td>$45,001 to $46,000</td><td>$45,001 to $50,000</td><td>$40,001 to $50,000</td><td>3</td><td>2.83</td><td>$1,663.00 </td><td>$587.63</td></tr><tr><th>10</th><td>2009</td><td>U</td><td>4 yr Undergrad</td><td>PUBLIC</td><td>1-CUNY SR</td><td>age 36 - 50</td><td>Financial_Independent</td><td>Independent_Schedule</td><td>Degree</td><td>L</td><td>$0</td><td>$0</td><td>$     0 to $10,000</td><td>11</td><td>7.25</td><td>$16,852.25 </td><td> $2,324.45 </td></tr><tr><th>11</th><td>2004</td><td>U</td><td>2 yr Undergrad</td><td>PUBLIC</td><td>4-SUNY CC</td><td>age 22 - 25</td><td>Financial_Dependent</td><td>Dependent_Schedule</td><td>Degree</td><td>D</td><td>$63,001 to $64,000</td><td>$60,001 to $65,000</td><td>$60,001 to $70,000</td><td>3</td><td>1.5</td><td>$750.00</td><td>$500.00</td></tr><tr><th>12</th><td>2014</td><td>U</td><td>2 yr Undergrad</td><td>PUBLIC</td><td>4-SUNY CC</td><td>age 26 - 35</td><td>Financial_Dependent</td><td>Dependent_Schedule</td><td>Degree</td><td>E</td><td>$28,001 to $29,000</td><td>$25,001 to $30,000</td><td>$20,001 to $30,000</td><td>10</td><td>7.5</td><td>$14,505.00 </td><td> $1,934.00 </td></tr><tr><th>13</th><td>2001</td><td>U</td><td>2 yr Undergrad</td><td>PUBLIC</td><td>4-SUNY CC</td><td>age 22 - 25</td><td>Financial_Independent</td><td>Dependent_Schedule</td><td>Degree</td><td>D</td><td>$32,001 to $33,000</td><td>$30,001 to $35,000</td><td>$30,001 to $40,000</td><td>5</td><td>3.0</td><td>$1,275.00 </td><td>$425.00</td></tr><tr><th>14</th><td>2008</td><td>U</td><td>4 yr Undergrad</td><td>PRIVATE</td><td>6-BUS. DEGREE</td><td>age 26 - 35</td><td>Financial_Independent</td><td>Dependent_Schedule</td><td>Degree</td><td>E</td><td>$10,001 to $11,000</td><td>$10,001 to $15,000</td><td>$10,001 to $20,000</td><td>12</td><td>9.16</td><td>$42,946.16 </td><td> $4,688.45 </td></tr><tr><th>15</th><td>2001</td><td>U</td><td>4 yr Undergrad</td><td>PRIVATE</td><td>5-INDEPENDENT</td><td>age 22 - 25</td><td>Financial_Dependent</td><td>Dependent_Schedule</td><td>Degree</td><td>D</td><td>$56,001 to $57,000</td><td>$55,001 to $60,000</td><td>$50,001 to $60,000</td><td>20</td><td>15.73</td><td>$6,693.77 </td><td>$425.54</td></tr></tbody></table>"
      ],
      "text/plain": [
       "15×17 DataFrames.DataFrame\n",
       "│ Row │ Academic_Year │ Level │ TAP_Level_of_Study │ Sector_Type │\n",
       "├─────┼───────────────┼───────┼────────────────────┼─────────────┤\n",
       "│ 1   │ 2008          │ \"U\"   │ \"2 yr Undergrad\"   │ \"PUBLIC\"    │\n",
       "│ 2   │ 2011          │ \"U\"   │ \"4 yr Undergrad\"   │ \"PUBLIC\"    │\n",
       "│ 3   │ 2003          │ \"U\"   │ \"4 yr Undergrad\"   │ \"PUBLIC\"    │\n",
       "│ 4   │ 2009          │ \"U\"   │ \"5 yr Undergrad\"   │ \"PUBLIC\"    │\n",
       "│ 5   │ 2015          │ \"U\"   │ \"2 yr Undergrad\"   │ \"PUBLIC\"    │\n",
       "│ 6   │ 2001          │ \"U\"   │ \"2 yr Undergrad\"   │ \"PRIVATE\"   │\n",
       "│ 7   │ 2009          │ \"U\"   │ \"4 yr Undergrad\"   │ \"PUBLIC\"    │\n",
       "│ 8   │ 2006          │ \"U\"   │ \"4 yr Undergrad\"   │ \"PUBLIC\"    │\n",
       "│ 9   │ 2012          │ \"U\"   │ \"2 yr Undergrad\"   │ \"PRIVATE\"   │\n",
       "│ 10  │ 2009          │ \"U\"   │ \"4 yr Undergrad\"   │ \"PUBLIC\"    │\n",
       "│ 11  │ 2004          │ \"U\"   │ \"2 yr Undergrad\"   │ \"PUBLIC\"    │\n",
       "│ 12  │ 2014          │ \"U\"   │ \"2 yr Undergrad\"   │ \"PUBLIC\"    │\n",
       "│ 13  │ 2001          │ \"U\"   │ \"2 yr Undergrad\"   │ \"PUBLIC\"    │\n",
       "│ 14  │ 2008          │ \"U\"   │ \"4 yr Undergrad\"   │ \"PRIVATE\"   │\n",
       "│ 15  │ 2001          │ \"U\"   │ \"4 yr Undergrad\"   │ \"PRIVATE\"   │\n",
       "\n",
       "│ Row │ TAP_Sector_Group │ Recipient_Age_Group │ TAP_Financial_Status    │\n",
       "├─────┼──────────────────┼─────────────────────┼─────────────────────────┤\n",
       "│ 1   │ \"2-CUNY CC\"      │ \"age 36 - 50\"       │ \"Financial_Independent\" │\n",
       "│ 2   │ \"3-SUNY SO\"      │ \"under age 22\"      │ \"Financial_Independent\" │\n",
       "│ 3   │ \"3-SUNY SO\"      │ \"age 22 - 25\"       │ \"Financial_Dependent\"   │\n",
       "│ 4   │ \"3-SUNY SO\"      │ \"age 22 - 25\"       │ \"Financial_Dependent\"   │\n",
       "│ 5   │ \"2-CUNY CC\"      │ \"over age 50\"       │ \"Financial_Independent\" │\n",
       "│ 6   │ \"5-INDEPENDENT\"  │ \"age 22 - 25\"       │ \"Financial_Independent\" │\n",
       "│ 7   │ \"3-SUNY SO\"      │ \"under age 22\"      │ \"Financial_Independent\" │\n",
       "│ 8   │ \"3-SUNY SO\"      │ \"under age 22\"      │ \"Financial_Dependent\"   │\n",
       "│ 9   │ \"5-INDEPENDENT\"  │ \"age 26 - 35\"       │ \"Financial_Independent\" │\n",
       "│ 10  │ \"1-CUNY SR\"      │ \"age 36 - 50\"       │ \"Financial_Independent\" │\n",
       "│ 11  │ \"4-SUNY CC\"      │ \"age 22 - 25\"       │ \"Financial_Dependent\"   │\n",
       "│ 12  │ \"4-SUNY CC\"      │ \"age 26 - 35\"       │ \"Financial_Dependent\"   │\n",
       "│ 13  │ \"4-SUNY CC\"      │ \"age 22 - 25\"       │ \"Financial_Independent\" │\n",
       "│ 14  │ \"6-BUS. DEGREE\"  │ \"age 26 - 35\"       │ \"Financial_Independent\" │\n",
       "│ 15  │ \"5-INDEPENDENT\"  │ \"age 22 - 25\"       │ \"Financial_Dependent\"   │\n",
       "\n",
       "│ Row │ TAP_Award_Schedule      │ TAP_Degree_or_NonDegree │\n",
       "├─────┼─────────────────────────┼─────────────────────────┤\n",
       "│ 1   │ \"Dependent_Schedule\"    │ \"Degree\"                │\n",
       "│ 2   │ \"Married_No_Dependents\" │ \"Degree\"                │\n",
       "│ 3   │ \"Dependent_Schedule\"    │ \"Degree\"                │\n",
       "│ 4   │ \"Dependent_Schedule\"    │ \"Degree\"                │\n",
       "│ 5   │ \"Married_No_Dependents\" │ \"Degree\"                │\n",
       "│ 6   │ \"Dependent_Schedule\"    │ \"Degree\"                │\n",
       "│ 7   │ \"Independent_Schedule\"  │ \"Degree\"                │\n",
       "│ 8   │ \"Dependent_Schedule\"    │ \"Degree\"                │\n",
       "│ 9   │ \"Dependent_Schedule\"    │ \"Degree\"                │\n",
       "│ 10  │ \"Independent_Schedule\"  │ \"Degree\"                │\n",
       "│ 11  │ \"Dependent_Schedule\"    │ \"Degree\"                │\n",
       "│ 12  │ \"Dependent_Schedule\"    │ \"Degree\"                │\n",
       "│ 13  │ \"Dependent_Schedule\"    │ \"Degree\"                │\n",
       "│ 14  │ \"Dependent_Schedule\"    │ \"Degree\"                │\n",
       "│ 15  │ \"Dependent_Schedule\"    │ \"Degree\"                │\n",
       "\n",
       "│ Row │ TAP_Schedule_Letter │ Income_by_1_000_Range │ Income_by_5_000_Range │\n",
       "├─────┼─────────────────────┼───────────────────────┼───────────────────────┤\n",
       "│ 1   │ \"A\"                 │ \"\\$18,001 to \\$19,000\"  │ \"\\$15,001 to \\$20,000\"  │\n",
       "│ 2   │ \"C\"                 │ \"\\$15,001 to \\$16,000\"  │ \"\\$15,001 to \\$20,000\"  │\n",
       "│ 3   │ \"D\"                 │ \"\\$48,001 to \\$49,000\"  │ \"\\$45,001 to \\$50,000\"  │\n",
       "│ 4   │ \"E\"                 │ \"\\$ 1,001 to \\$ 2,000\"  │ \"\\$     1 to \\$ 5,000\"  │\n",
       "│ 5   │ \"C\"                 │ \"\\$0\"                  │ \"\\$0\"                  │\n",
       "│ 6   │ \"D\"                 │ \"\\$11,001 to \\$12,000\"  │ \"\\$10,001 to \\$15,000\"  │\n",
       "│ 7   │ \"M\"                 │ \"\\$ 1,001 to \\$ 2,000\"  │ \"\\$     1 to \\$ 5,000\"  │\n",
       "│ 8   │ \"E\"                 │ \"\\$ 3,001 to \\$ 4,000\"  │ \"\\$     1 to \\$ 5,000\"  │\n",
       "│ 9   │ \"E\"                 │ \"\\$45,001 to \\$46,000\"  │ \"\\$45,001 to \\$50,000\"  │\n",
       "│ 10  │ \"L\"                 │ \"\\$0\"                  │ \"\\$0\"                  │\n",
       "│ 11  │ \"D\"                 │ \"\\$63,001 to \\$64,000\"  │ \"\\$60,001 to \\$65,000\"  │\n",
       "│ 12  │ \"E\"                 │ \"\\$28,001 to \\$29,000\"  │ \"\\$25,001 to \\$30,000\"  │\n",
       "│ 13  │ \"D\"                 │ \"\\$32,001 to \\$33,000\"  │ \"\\$30,001 to \\$35,000\"  │\n",
       "│ 14  │ \"E\"                 │ \"\\$10,001 to \\$11,000\"  │ \"\\$10,001 to \\$15,000\"  │\n",
       "│ 15  │ \"D\"                 │ \"\\$56,001 to \\$57,000\"  │ \"\\$55,001 to \\$60,000\"  │\n",
       "\n",
       "│ Row │ Income_by_10_000_Range │ TAP_Recipient_Headcount │ TAP_Recipient_FTEs │\n",
       "├─────┼────────────────────────┼─────────────────────────┼────────────────────┤\n",
       "│ 1   │ \"\\$10,001 to \\$20,000\"   │ 3                       │ 1.5                │\n",
       "│ 2   │ \"\\$10,001 to \\$20,000\"   │ 1                       │ 0.5                │\n",
       "│ 3   │ \"\\$40,001 to \\$50,000\"   │ 1                       │ 1.0                │\n",
       "│ 4   │ \"\\$     0 to \\$10,000\"   │ 9                       │ 7.25               │\n",
       "│ 5   │ \"\\$     0 to \\$10,000\"   │ 9                       │ 7.01               │\n",
       "│ 6   │ \"\\$10,001 to \\$20,000\"   │ 2                       │ 1.0                │\n",
       "│ 7   │ \"\\$     0 to \\$10,000\"   │ 26                      │ 25.0               │\n",
       "│ 8   │ \"\\$     0 to \\$10,000\"   │ 37                      │ 31.5               │\n",
       "│ 9   │ \"\\$40,001 to \\$50,000\"   │ 3                       │ 2.83               │\n",
       "│ 10  │ \"\\$     0 to \\$10,000\"   │ 11                      │ 7.25               │\n",
       "│ 11  │ \"\\$60,001 to \\$70,000\"   │ 3                       │ 1.5                │\n",
       "│ 12  │ \"\\$20,001 to \\$30,000\"   │ 10                      │ 7.5                │\n",
       "│ 13  │ \"\\$30,001 to \\$40,000\"   │ 5                       │ 3.0                │\n",
       "│ 14  │ \"\\$10,001 to \\$20,000\"   │ 12                      │ 9.16               │\n",
       "│ 15  │ \"\\$50,001 to \\$60,000\"   │ 20                      │ 15.73              │\n",
       "\n",
       "│ Row │ TAP_Recipient_Dollars │ Award_per_FTE │\n",
       "├─────┼───────────────────────┼───────────────┤\n",
       "│ 1   │ \"\\$2,412.00 \"          │ \" \\$1,608.00 \" │\n",
       "│ 2   │ \"\\$1,099.00 \"          │ \" \\$2,198.00 \" │\n",
       "│ 3   │ \"\\$500.00\"             │ \"\\$500.00\"     │\n",
       "│ 4   │ \"\\$35,485.05 \"         │ \" \\$4,894.49 \" │\n",
       "│ 5   │ \"\\$20,965.86 \"         │ \" \\$2,990.85 \" │\n",
       "│ 6   │ \"\\$3,780.00 \"          │ \" \\$3,780.00 \" │\n",
       "│ 7   │ \"\\$74,275.00 \"         │ \" \\$2,971.00 \" │\n",
       "│ 8   │ \"\\$136,562.50 \"        │ \" \\$4,335.32 \" │\n",
       "│ 9   │ \"\\$1,663.00 \"          │ \"\\$587.63\"     │\n",
       "│ 10  │ \"\\$16,852.25 \"         │ \" \\$2,324.45 \" │\n",
       "│ 11  │ \"\\$750.00\"             │ \"\\$500.00\"     │\n",
       "│ 12  │ \"\\$14,505.00 \"         │ \" \\$1,934.00 \" │\n",
       "│ 13  │ \"\\$1,275.00 \"          │ \"\\$425.00\"     │\n",
       "│ 14  │ \"\\$42,946.16 \"         │ \" \\$4,688.45 \" │\n",
       "│ 15  │ \"\\$6,693.77 \"          │ \"\\$425.54\"     │"
      ]
     },
     "execution_count": 25,
     "metadata": {},
     "output_type": "execute_result"
    }
   ],
   "source": [
    "# use 10,000 randomly selected rows of data for visuailization purposes. stored in tap_trunc.\n",
    "n = 10000\n",
    "tap_trunc = tap_raw[randperm(size(tap_raw,1)),:][1:n,:];\n",
    "tap_trunc[1:15,:] # view first 15 rows of truncated raw data"
   ]
  },
  {
   "cell_type": "code",
   "execution_count": null,
   "metadata": {
    "collapsed": true
   },
   "outputs": [],
   "source": []
  }
 ],
 "metadata": {
  "kernelspec": {
   "display_name": "Julia 0.6.0",
   "language": "julia",
   "name": "julia-0.6"
  },
  "language_info": {
   "file_extension": ".jl",
   "mimetype": "application/julia",
   "name": "julia",
   "version": "0.6.0"
  }
 },
 "nbformat": 4,
 "nbformat_minor": 2
}
