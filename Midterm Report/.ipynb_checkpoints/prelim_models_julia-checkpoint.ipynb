{
 "cells": [
  {
   "cell_type": "markdown",
   "metadata": {},
   "source": [
    "# Preliminary Models, Julia 0.60"
   ]
  },
  {
   "cell_type": "code",
   "execution_count": 1,
   "metadata": {},
   "outputs": [
    {
     "name": "stderr",
     "output_type": "stream",
     "text": [
      "WARNING: Method definition count() in module IterTools at deprecated.jl:56 overwritten in module Iterators at deprecated.jl:56.\n",
      "WARNING: Method definition count(Number) in module IterTools at deprecated.jl:56 overwritten in module Iterators at deprecated.jl:56.\n",
      "WARNING: Method definition count(Number, Number) in module IterTools at deprecated.jl:56 overwritten in module Iterators at deprecated.jl:56.\n"
     ]
    }
   ],
   "source": [
    "# bring packages into main namespace\n",
    "using DataFrames, Gadfly\n",
    "using ScikitLearn\n",
    "using ScikitLearn.CrossValidation: train_test_split"
   ]
  },
  {
   "cell_type": "code",
   "execution_count": 52,
   "metadata": {
    "collapsed": true
   },
   "outputs": [],
   "source": [
    "tap_raw = readtable(\"TAP_data.csv\");\n",
    "tap_clean = readtable(\"TAP_data_numeric.csv\");\n",
    "delete!(tap_clean, :x);"
   ]
  },
  {
   "cell_type": "code",
   "execution_count": 53,
   "metadata": {},
   "outputs": [
    {
     "data": {
      "text/plain": [
       "(190964, 42)"
      ]
     },
     "execution_count": 53,
     "metadata": {},
     "output_type": "execute_result"
    }
   ],
   "source": [
    "size(tap_clean)"
   ]
  },
  {
   "cell_type": "code",
   "execution_count": 54,
   "metadata": {
    "collapsed": true
   },
   "outputs": [],
   "source": [
    "data = convert(Array, tap_clean[:,:]);"
   ]
  },
  {
   "cell_type": "code",
   "execution_count": 55,
   "metadata": {
    "collapsed": true
   },
   "outputs": [],
   "source": [
    "# switch columns so that last column, award per fte, is the output column y\n",
    "function swapCols!(X, i, j)\n",
    "    for k = 1:size(X,1)\n",
    "        X[k,i], X[k,j] = X[k,j], X[k,i]\n",
    "    end\n",
    "end\n",
    "\n",
    "swapCols!(data, 6, 42)"
   ]
  },
  {
   "cell_type": "code",
   "execution_count": 56,
   "metadata": {},
   "outputs": [],
   "source": [
    "X = data[:,1:41];\n",
    "X = [copy(X) ones(size(X,1))]\n",
    "y = data[:,42];"
   ]
  },
  {
   "cell_type": "code",
   "execution_count": 57,
   "metadata": {},
   "outputs": [],
   "source": [
    "# split data into training, validation, test sets\n",
    "X_nontest, X_test, y_nontest, y_test = train_test_split(X, y, test_size=0.20, random_state=24);\n",
    "X_train, X_validate, y_train, y_validate = train_test_split(X_nontest, y_nontest, test_size=0.25, random_state=42);"
   ]
  },
  {
   "cell_type": "markdown",
   "metadata": {},
   "source": [
    "## Linear model fitting"
   ]
  },
  {
   "cell_type": "code",
   "execution_count": 64,
   "metadata": {},
   "outputs": [],
   "source": [
    "w = X_train\\y_train;"
   ]
  },
  {
   "cell_type": "code",
   "execution_count": 95,
   "metadata": {},
   "outputs": [
    {
     "data": {
      "text/plain": [
       "mean_abs_err (generic function with 1 method)"
      ]
     },
     "execution_count": 95,
     "metadata": {},
     "output_type": "execute_result"
    }
   ],
   "source": [
    "function mean_abs_err(X,y,w)\n",
    "    n = size(X,1)\n",
    "    sum = 0\n",
    "    for i=1:n\n",
    "        sum += abs(y[i] - X[i,:]'*w)\n",
    "    end\n",
    "    return (sum+0.0)/n\n",
    "end"
   ]
  },
  {
   "cell_type": "code",
   "execution_count": 132,
   "metadata": {},
   "outputs": [
    {
     "data": {
      "text/plain": [
       "mean_abs_percent (generic function with 1 method)"
      ]
     },
     "execution_count": 132,
     "metadata": {},
     "output_type": "execute_result"
    }
   ],
   "source": [
    "function mean_abs_percent(X,y,w)\n",
    "    n = size(X,1)\n",
    "    sum = 0\n",
    "    for i=1:n\n",
    "        sum += abs((y[i] - X[i,:]'*w)/y[i])\n",
    "    end\n",
    "    return 100*(sum+0.0)/n\n",
    "end"
   ]
  },
  {
   "cell_type": "code",
   "execution_count": 115,
   "metadata": {},
   "outputs": [],
   "source": [
    "MAE_train = mean_abs_err(X_train, y_train, w);\n",
    "MAE_validate = mean_abs_err(X_validate, y_validate, w);\n",
    "MAE_test = mean_abs_err(X_test, y_test, w);"
   ]
  },
  {
   "cell_type": "code",
   "execution_count": 131,
   "metadata": {},
   "outputs": [
    {
     "name": "stdout",
     "output_type": "stream",
     "text": [
      "Training MAE: 510.8487592507097 \n",
      "Validation MAE: 510.64418530827277 \n",
      "Test MAE: 513.049488689495 \n"
     ]
    }
   ],
   "source": [
    "print(\"Training MAE: $MAE_train \\n\")\n",
    "print(\"Validation MAE: $MAE_validate \\n\")\n",
    "print(\"Test MAE: $MAE_test \\n\")"
   ]
  },
  {
   "cell_type": "code",
   "execution_count": 133,
   "metadata": {
    "collapsed": true
   },
   "outputs": [],
   "source": [
    "MAPD_train = mean_abs_percent(X_train, y_train, w);\n",
    "MAPD_validate = mean_abs_percent(X_validate, y_validate, w);\n",
    "MAPD_test = mean_abs_percent(X_test, y_test, w);"
   ]
  },
  {
   "cell_type": "code",
   "execution_count": 134,
   "metadata": {},
   "outputs": [
    {
     "name": "stdout",
     "output_type": "stream",
     "text": [
      "Training MAPD: 62.70902925577334 \n",
      "Validation MAPD: 62.607305105814014 \n",
      "Test MAPD: 62.17103944422087 \n"
     ]
    }
   ],
   "source": [
    "print(\"Training MAPD: $MAPD_train \\n\")\n",
    "print(\"Validation MAPD: $MAPD_validate \\n\")\n",
    "print(\"Test MAPD: $MAPD_test \\n\")"
   ]
  },
  {
   "cell_type": "code",
   "execution_count": 69,
   "metadata": {
    "scrolled": true
   },
   "outputs": [
    {
     "data": {
      "text/plain": [
       "387817.5053848939"
      ]
     },
     "execution_count": 69,
     "metadata": {},
     "output_type": "execute_result"
    }
   ],
   "source": [
    "train_err = (norm(y_train - X_train*w)^2)/size(y_train,1)"
   ]
  },
  {
   "cell_type": "code",
   "execution_count": 70,
   "metadata": {},
   "outputs": [
    {
     "data": {
      "text/plain": [
       "388896.69734040124"
      ]
     },
     "execution_count": 70,
     "metadata": {},
     "output_type": "execute_result"
    }
   ],
   "source": [
    "valid_err = (norm(y_validate - X_validate*w)^2)/size(y_validate,1)"
   ]
  },
  {
   "cell_type": "code",
   "execution_count": 118,
   "metadata": {
    "scrolled": true
   },
   "outputs": [
    {
     "data": {
      "text/plain": [
       "15-element Array{Float64,1}:\n",
       "    31.2125   \n",
       " -8189.49     \n",
       " -3857.88     \n",
       "     5.79992  \n",
       " -4983.59     \n",
       "    -0.0630094\n",
       " -4616.6      \n",
       " -4561.61     \n",
       " -4512.14     \n",
       " -4665.06     \n",
       " -5994.98     \n",
       " -4963.06     \n",
       " -5447.06     \n",
       " -4848.82     \n",
       " -5233.58     "
      ]
     },
     "execution_count": 118,
     "metadata": {},
     "output_type": "execute_result"
    }
   ],
   "source": [
    "w[1:15]"
   ]
  },
  {
   "cell_type": "code",
   "execution_count": 119,
   "metadata": {},
   "outputs": [
    {
     "data": {
      "text/plain": [
       "15-element Array{Float64,1}:\n",
       "   -781.694\n",
       "   -794.479\n",
       "   -656.586\n",
       "   -880.359\n",
       "   -744.762\n",
       "  -4858.87 \n",
       "  -4881.45 \n",
       "  -4887.33 \n",
       "  -4883.66 \n",
       "  -4839.07 \n",
       " -10513.8  \n",
       "  -9884.23 \n",
       "  -3952.37 \n",
       "   3297.66 \n",
       "  -3952.37 "
      ]
     },
     "execution_count": 119,
     "metadata": {},
     "output_type": "execute_result"
    }
   ],
   "source": [
    "w[16:30]"
   ]
  },
  {
   "cell_type": "code",
   "execution_count": 120,
   "metadata": {},
   "outputs": [
    {
     "data": {
      "text/plain": [
       "12-element Array{Float64,1}:\n",
       "   3551.85\n",
       "   4005.33\n",
       "  -4570.87\n",
       "  -4723.99\n",
       "  -4480.69\n",
       "   1218.85\n",
       "   1384.88\n",
       "   1671.1 \n",
       "  -5591.25\n",
       "  -7593.09\n",
       "  -8567.81\n",
       " -24350.4 "
      ]
     },
     "execution_count": 120,
     "metadata": {},
     "output_type": "execute_result"
    }
   ],
   "source": [
    "w[31:42]"
   ]
  },
  {
   "cell_type": "code",
   "execution_count": null,
   "metadata": {
    "collapsed": true
   },
   "outputs": [],
   "source": []
  },
  {
   "cell_type": "code",
   "execution_count": 21,
   "metadata": {
    "collapsed": true
   },
   "outputs": [],
   "source": [
    "@sk_import linear_model: LinearRegression;"
   ]
  },
  {
   "cell_type": "code",
   "execution_count": 33,
   "metadata": {},
   "outputs": [],
   "source": [
    "model = LinearRegression(fit_intercept=true)\n",
    "ScikitLearn.fit!(model, X_train, y_train);"
   ]
  },
  {
   "cell_type": "code",
   "execution_count": 30,
   "metadata": {},
   "outputs": [
    {
     "data": {
      "text/plain": [
       "PyObject LinearRegression(copy_X=True, fit_intercept=True, n_jobs=1, normalize=False)"
      ]
     },
     "execution_count": 30,
     "metadata": {},
     "output_type": "execute_result"
    }
   ],
   "source": []
  },
  {
   "cell_type": "code",
   "execution_count": null,
   "metadata": {
    "collapsed": true
   },
   "outputs": [],
   "source": []
  }
 ],
 "metadata": {
  "kernelspec": {
   "display_name": "Julia 0.6.0",
   "language": "julia",
   "name": "julia-0.6"
  },
  "language_info": {
   "file_extension": ".jl",
   "mimetype": "application/julia",
   "name": "julia",
   "version": "0.6.0"
  }
 },
 "nbformat": 4,
 "nbformat_minor": 2
}
