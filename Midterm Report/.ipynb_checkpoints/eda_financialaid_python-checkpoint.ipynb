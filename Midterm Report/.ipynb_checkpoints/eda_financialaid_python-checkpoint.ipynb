{
 "cells": [
  {
   "cell_type": "markdown",
   "metadata": {},
   "source": [
    "# Exploratory Data Analysis and Data Cleaning, Python 3"
   ]
  },
  {
   "cell_type": "code",
   "execution_count": 182,
   "metadata": {
    "collapsed": true
   },
   "outputs": [],
   "source": [
    "import numpy as np\n",
    "import pandas as pd\n",
    "import matplotlib.pyplot as plt\n",
    "%matplotlib inline"
   ]
  },
  {
   "cell_type": "code",
   "execution_count": 183,
   "metadata": {
    "scrolled": false
   },
   "outputs": [
    {
     "name": "stdout",
     "output_type": "stream",
     "text": [
      "(190964, 17)\n"
     ]
    }
   ],
   "source": [
    "# import data\n",
    "tap = pd.read_csv(\"TAP_data.csv\")\n",
    "print(tap.shape)\n",
    "nrows = tap.shape[0]\n",
    "ncols = tap.shape[1]"
   ]
  },
  {
   "cell_type": "markdown",
   "metadata": {},
   "source": [
    "From the above output, our dataset has 190,964 examples across 17 features."
   ]
  },
  {
   "cell_type": "code",
   "execution_count": 184,
   "metadata": {
    "scrolled": true
   },
   "outputs": [
    {
     "data": {
      "text/html": [
       "<div>\n",
       "<style>\n",
       "    .dataframe thead tr:only-child th {\n",
       "        text-align: right;\n",
       "    }\n",
       "\n",
       "    .dataframe thead th {\n",
       "        text-align: left;\n",
       "    }\n",
       "\n",
       "    .dataframe tbody tr th {\n",
       "        vertical-align: top;\n",
       "    }\n",
       "</style>\n",
       "<table border=\"1\" class=\"dataframe\">\n",
       "  <thead>\n",
       "    <tr style=\"text-align: right;\">\n",
       "      <th></th>\n",
       "      <th>Academic Year</th>\n",
       "      <th>Level</th>\n",
       "      <th>TAP Level of Study</th>\n",
       "      <th>Sector Type</th>\n",
       "      <th>TAP Sector Group</th>\n",
       "      <th>Recipient Age Group</th>\n",
       "      <th>TAP Financial Status</th>\n",
       "      <th>TAP Award Schedule</th>\n",
       "      <th>TAP Degree or NonDegree</th>\n",
       "      <th>TAP Schedule Letter</th>\n",
       "      <th>Income by $1,000 Range</th>\n",
       "      <th>Income by $5,000 Range</th>\n",
       "      <th>Income by $10,000 Range</th>\n",
       "      <th>TAP Recipient  Headcount</th>\n",
       "      <th>TAP Recipient FTEs</th>\n",
       "      <th>TAP Recipient Dollars</th>\n",
       "      <th>Award per FTE</th>\n",
       "    </tr>\n",
       "  </thead>\n",
       "  <tbody>\n",
       "    <tr>\n",
       "      <th>0</th>\n",
       "      <td>2015</td>\n",
       "      <td>U</td>\n",
       "      <td>4 yr Undergrad</td>\n",
       "      <td>PRIVATE</td>\n",
       "      <td>6-BUS. DEGREE</td>\n",
       "      <td>age 22 - 25</td>\n",
       "      <td>Financial_Dependent</td>\n",
       "      <td>Dependent_Schedule</td>\n",
       "      <td>Degree</td>\n",
       "      <td>E</td>\n",
       "      <td>$ 1,001 to $ 2,000</td>\n",
       "      <td>$     1 to $ 5,000</td>\n",
       "      <td>$     0 to $10,000</td>\n",
       "      <td>23</td>\n",
       "      <td>18.92</td>\n",
       "      <td>$96,170.20</td>\n",
       "      <td>$5,082.99</td>\n",
       "    </tr>\n",
       "    <tr>\n",
       "      <th>1</th>\n",
       "      <td>2015</td>\n",
       "      <td>U</td>\n",
       "      <td>2 yr Undergrad</td>\n",
       "      <td>PRIVATE</td>\n",
       "      <td>5-INDEPENDENT</td>\n",
       "      <td>age 26 - 35</td>\n",
       "      <td>Financial_Independent</td>\n",
       "      <td>Independent_Schedule</td>\n",
       "      <td>Degree</td>\n",
       "      <td>M</td>\n",
       "      <td>$ 6,001 to $ 7,000</td>\n",
       "      <td>$ 5,001 to $10,000</td>\n",
       "      <td>$     0 to $10,000</td>\n",
       "      <td>10</td>\n",
       "      <td>6.20</td>\n",
       "      <td>$11,802.47</td>\n",
       "      <td>$1,903.62</td>\n",
       "    </tr>\n",
       "    <tr>\n",
       "      <th>2</th>\n",
       "      <td>2015</td>\n",
       "      <td>U</td>\n",
       "      <td>4 yr Undergrad</td>\n",
       "      <td>PRIVATE</td>\n",
       "      <td>6-BUS. DEGREE</td>\n",
       "      <td>age 26 - 35</td>\n",
       "      <td>Financial_Dependent</td>\n",
       "      <td>Dependent_Schedule</td>\n",
       "      <td>Degree</td>\n",
       "      <td>E</td>\n",
       "      <td>$ 2,001 to $ 3,000</td>\n",
       "      <td>$     1 to $ 5,000</td>\n",
       "      <td>$     0 to $10,000</td>\n",
       "      <td>1</td>\n",
       "      <td>0.17</td>\n",
       "      <td>$847.96</td>\n",
       "      <td>$4,988.00</td>\n",
       "    </tr>\n",
       "    <tr>\n",
       "      <th>3</th>\n",
       "      <td>2015</td>\n",
       "      <td>U</td>\n",
       "      <td>2 yr Undergrad</td>\n",
       "      <td>PRIVATE</td>\n",
       "      <td>5-INDEPENDENT</td>\n",
       "      <td>under age 22</td>\n",
       "      <td>Financial_Dependent</td>\n",
       "      <td>Dependent_Schedule</td>\n",
       "      <td>Degree</td>\n",
       "      <td>E</td>\n",
       "      <td>$12,001 to $13,000</td>\n",
       "      <td>$10,001 to $15,000</td>\n",
       "      <td>$10,001 to $20,000</td>\n",
       "      <td>12</td>\n",
       "      <td>10.30</td>\n",
       "      <td>$48,704.45</td>\n",
       "      <td>$4,728.59</td>\n",
       "    </tr>\n",
       "    <tr>\n",
       "      <th>4</th>\n",
       "      <td>2015</td>\n",
       "      <td>U</td>\n",
       "      <td>2 yr Undergrad</td>\n",
       "      <td>PRIVATE</td>\n",
       "      <td>5-INDEPENDENT</td>\n",
       "      <td>age 26 - 35</td>\n",
       "      <td>Financial_Independent</td>\n",
       "      <td>Dependent_Schedule</td>\n",
       "      <td>Degree</td>\n",
       "      <td>E</td>\n",
       "      <td>$25,001 to $26,000</td>\n",
       "      <td>$25,001 to $30,000</td>\n",
       "      <td>$20,001 to $30,000</td>\n",
       "      <td>2</td>\n",
       "      <td>1.51</td>\n",
       "      <td>$4,951.94</td>\n",
       "      <td>$3,279.43</td>\n",
       "    </tr>\n",
       "  </tbody>\n",
       "</table>\n",
       "</div>"
      ],
      "text/plain": [
       "   Academic Year Level TAP Level of Study Sector Type TAP Sector Group  \\\n",
       "0           2015     U     4 yr Undergrad     PRIVATE    6-BUS. DEGREE   \n",
       "1           2015     U     2 yr Undergrad     PRIVATE    5-INDEPENDENT   \n",
       "2           2015     U     4 yr Undergrad     PRIVATE    6-BUS. DEGREE   \n",
       "3           2015     U     2 yr Undergrad     PRIVATE    5-INDEPENDENT   \n",
       "4           2015     U     2 yr Undergrad     PRIVATE    5-INDEPENDENT   \n",
       "\n",
       "  Recipient Age Group   TAP Financial Status    TAP Award Schedule  \\\n",
       "0         age 22 - 25    Financial_Dependent    Dependent_Schedule   \n",
       "1         age 26 - 35  Financial_Independent  Independent_Schedule   \n",
       "2         age 26 - 35    Financial_Dependent    Dependent_Schedule   \n",
       "3        under age 22    Financial_Dependent    Dependent_Schedule   \n",
       "4         age 26 - 35  Financial_Independent    Dependent_Schedule   \n",
       "\n",
       "  TAP Degree or NonDegree TAP Schedule Letter Income by $1,000 Range  \\\n",
       "0                  Degree                   E     $ 1,001 to $ 2,000   \n",
       "1                  Degree                   M     $ 6,001 to $ 7,000   \n",
       "2                  Degree                   E     $ 2,001 to $ 3,000   \n",
       "3                  Degree                   E     $12,001 to $13,000   \n",
       "4                  Degree                   E     $25,001 to $26,000   \n",
       "\n",
       "  Income by $5,000 Range Income by $10,000 Range  TAP Recipient  Headcount  \\\n",
       "0     $     1 to $ 5,000      $     0 to $10,000                        23   \n",
       "1     $ 5,001 to $10,000      $     0 to $10,000                        10   \n",
       "2     $     1 to $ 5,000      $     0 to $10,000                         1   \n",
       "3     $10,001 to $15,000      $10,001 to $20,000                        12   \n",
       "4     $25,001 to $30,000      $20,001 to $30,000                         2   \n",
       "\n",
       "   TAP Recipient FTEs TAP Recipient Dollars Award per FTE  \n",
       "0               18.92           $96,170.20     $5,082.99   \n",
       "1                6.20           $11,802.47     $1,903.62   \n",
       "2                0.17              $847.96     $4,988.00   \n",
       "3               10.30           $48,704.45     $4,728.59   \n",
       "4                1.51            $4,951.94     $3,279.43   "
      ]
     },
     "execution_count": 184,
     "metadata": {},
     "output_type": "execute_result"
    }
   ],
   "source": [
    "tap.head()"
   ]
  },
  {
   "cell_type": "markdown",
   "metadata": {},
   "source": [
    "We rename the columns for easier manipulation:"
   ]
  },
  {
   "cell_type": "code",
   "execution_count": 185,
   "metadata": {
    "scrolled": true
   },
   "outputs": [
    {
     "name": "stdout",
     "output_type": "stream",
     "text": [
      "['Academic Year', 'Level', 'TAP Level of Study', 'Sector Type', 'TAP Sector Group', 'Recipient Age Group', 'TAP Financial Status', 'TAP Award Schedule', 'TAP Degree or NonDegree', 'TAP Schedule Letter', 'Income by $1,000 Range', 'Income by $5,000 Range', 'Income by $10,000 Range', 'TAP Recipient  Headcount', 'TAP Recipient FTEs', 'TAP Recipient Dollars', 'Award per FTE']\n"
     ]
    }
   ],
   "source": [
    "features = list(tap.columns.values)\n",
    "print(features)"
   ]
  },
  {
   "cell_type": "code",
   "execution_count": 186,
   "metadata": {},
   "outputs": [],
   "source": [
    "tap_renamed = tap.rename(columns={'Academic Year': 'year', 'Level': 'undergrad', 'TAP Level of Study' : 'level', 'Sector Type' : 'type', 'TAP Sector Group' : 'group', 'Recipient Age Group' : 'age' , 'TAP Financial Status' : 'dependent', 'TAP Award Schedule' : 'schedule', 'TAP Degree or NonDegree' : 'degree', 'TAP Schedule Letter' : 'schedule letter' , 'Income by $1,000 Range': 'income_1', 'Income by $5,000 Range' : 'income_5', 'Income by $10,000 Range' : 'income_10', 'TAP Recipient  Headcount' : 'headcount', 'TAP Recipient FTEs' : 'fte', 'TAP Recipient Dollars' : 'dollars', 'Award per FTE': 'award_per_fte' })"
   ]
  },
  {
   "cell_type": "code",
   "execution_count": 187,
   "metadata": {
    "scrolled": true
   },
   "outputs": [
    {
     "name": "stdout",
     "output_type": "stream",
     "text": [
      "['year', 'undergrad', 'level', 'type', 'group', 'age', 'dependent', 'schedule', 'degree', 'schedule letter', 'income_1', 'income_5', 'income_10', 'headcount', 'fte', 'dollars', 'award_per_fte']\n"
     ]
    }
   ],
   "source": [
    "renamed_features = list(tap_renamed.columns.values)\n",
    "print(renamed_features)"
   ]
  },
  {
   "cell_type": "markdown",
   "metadata": {},
   "source": [
    "Look at data types:"
   ]
  },
  {
   "cell_type": "code",
   "execution_count": 188,
   "metadata": {
    "scrolled": true
   },
   "outputs": [
    {
     "data": {
      "text/plain": [
       "Academic Year                 int64\n",
       "Level                        object\n",
       "TAP Level of Study           object\n",
       "Sector Type                  object\n",
       "TAP Sector Group             object\n",
       "Recipient Age Group          object\n",
       "TAP Financial Status         object\n",
       "TAP Award Schedule           object\n",
       "TAP Degree or NonDegree      object\n",
       "TAP Schedule Letter          object\n",
       "Income by $1,000 Range       object\n",
       "Income by $5,000 Range       object\n",
       "Income by $10,000 Range      object\n",
       "TAP Recipient  Headcount      int64\n",
       "TAP Recipient FTEs          float64\n",
       "TAP Recipient Dollars        object\n",
       "Award per FTE                object\n",
       "dtype: object"
      ]
     },
     "execution_count": 188,
     "metadata": {},
     "output_type": "execute_result"
    }
   ],
   "source": [
    "tap.dtypes"
   ]
  },
  {
   "cell_type": "markdown",
   "metadata": {},
   "source": [
    "Observe unique values in each feature:"
   ]
  },
  {
   "cell_type": "code",
   "execution_count": 189,
   "metadata": {},
   "outputs": [
    {
     "name": "stdout",
     "output_type": "stream",
     "text": [
      "Level\n",
      "['U' 'G']\n",
      "TAP Level of Study\n",
      "['4 yr Undergrad' '2 yr Undergrad' '5 yr Undergrad' 'STAP' 'Grad']\n",
      "Sector Type\n",
      "['PRIVATE' 'PUBLIC']\n",
      "TAP Sector Group\n",
      "['6-BUS. DEGREE' '5-INDEPENDENT' '3-SUNY SO' '8-OTHER' '7-BUS. NON-DEG'\n",
      " '4-SUNY CC' '1-CUNY SR' '2-CUNY CC' '9-CHAPTER XXII']\n",
      "Recipient Age Group\n",
      "['age 22 - 25' 'age 26 - 35' 'under age 22' 'age 36 - 50' 'over age 50']\n",
      "TAP Financial Status\n",
      "['Financial_Dependent' 'Financial_Independent']\n",
      "TAP Award Schedule\n",
      "['Dependent_Schedule' 'Independent_Schedule' 'Married_No_Dependents']\n",
      "TAP Degree or NonDegree\n",
      "['Degree' 'Non_Degree']\n",
      "TAP Schedule Letter\n",
      "['E' 'M' 'C' 'A' 'D' 'K' 'L' 'H' 'P' 'G' 'F' 'V' 'U']\n"
     ]
    }
   ],
   "source": [
    "for j in list(tap.columns.values):\n",
    "    if tap[j].dtypes == \"object\" and j != \"TAP Recipient Dollars\" and j != \"Award per FTE\" and j != \"Income by $1,000 Range\" and j != \"Income by $5,000 Range\" and j != \"Income by $10,000 Range\":\n",
    "        print(j)\n",
    "        print(tap[j].unique())"
   ]
  },
  {
   "cell_type": "markdown",
   "metadata": {},
   "source": [
    "## Transforming data"
   ]
  },
  {
   "cell_type": "code",
   "execution_count": 190,
   "metadata": {
    "collapsed": true
   },
   "outputs": [],
   "source": [
    "tap_clean = tap_renamed"
   ]
  },
  {
   "cell_type": "markdown",
   "metadata": {},
   "source": [
    "### Binary feature encoding"
   ]
  },
  {
   "cell_type": "markdown",
   "metadata": {},
   "source": [
    "We first want to modify the Level feature, which indicates whether the application was from an undergraduate ('U') or graduate ('T'). We set the value to 1 if undergraduate, 0 otherwise.\n",
    "\n",
    "We do the same for the other binary features:\n",
    "* sector type: 1 for Private and 0 for Public\n",
    "* dependent: 1 for Dependent, 0 for Independent\n",
    "* degree: 1 for Degree, 0 for NonDegree"
   ]
  },
  {
   "cell_type": "code",
   "execution_count": 191,
   "metadata": {},
   "outputs": [],
   "source": [
    "tap_clean['undergrad'] = tap_clean['undergrad'].str.strip()\n",
    "tap_clean['undergrad'] = tap_clean['undergrad'].apply(lambda x: 1 if x == 'U' else 0)\n",
    "\n",
    "tap_clean['type'] = tap_clean['type'].str.strip()\n",
    "tap_clean['type'] = tap_clean['type'].apply(lambda x: 1 if x == 'PRIVATE' else 0)\n",
    "\n",
    "tap_clean['dependent'] = tap_clean['dependent'].str.strip()\n",
    "tap_clean['dependent'] = tap_clean['dependent'].apply(lambda x: 1 if x == 'Financial_Dependent' else 0)\n",
    "\n",
    "tap_clean['degree'] = tap_clean['degree'].str.strip()\n",
    "tap_clean['degree'] = tap_clean['degree'].apply(lambda x: 1 if x == 'Degree' else 0)"
   ]
  },
  {
   "cell_type": "code",
   "execution_count": 192,
   "metadata": {
    "scrolled": true
   },
   "outputs": [
    {
     "data": {
      "text/html": [
       "<div>\n",
       "<style>\n",
       "    .dataframe thead tr:only-child th {\n",
       "        text-align: right;\n",
       "    }\n",
       "\n",
       "    .dataframe thead th {\n",
       "        text-align: left;\n",
       "    }\n",
       "\n",
       "    .dataframe tbody tr th {\n",
       "        vertical-align: top;\n",
       "    }\n",
       "</style>\n",
       "<table border=\"1\" class=\"dataframe\">\n",
       "  <thead>\n",
       "    <tr style=\"text-align: right;\">\n",
       "      <th></th>\n",
       "      <th>year</th>\n",
       "      <th>undergrad</th>\n",
       "      <th>level</th>\n",
       "      <th>type</th>\n",
       "      <th>group</th>\n",
       "      <th>age</th>\n",
       "      <th>dependent</th>\n",
       "      <th>schedule</th>\n",
       "      <th>degree</th>\n",
       "      <th>schedule letter</th>\n",
       "      <th>income_1</th>\n",
       "      <th>income_5</th>\n",
       "      <th>income_10</th>\n",
       "      <th>headcount</th>\n",
       "      <th>fte</th>\n",
       "      <th>dollars</th>\n",
       "      <th>award_per_fte</th>\n",
       "    </tr>\n",
       "  </thead>\n",
       "  <tbody>\n",
       "    <tr>\n",
       "      <th>0</th>\n",
       "      <td>2015</td>\n",
       "      <td>1</td>\n",
       "      <td>4 yr Undergrad</td>\n",
       "      <td>1</td>\n",
       "      <td>6-BUS. DEGREE</td>\n",
       "      <td>age 22 - 25</td>\n",
       "      <td>1</td>\n",
       "      <td>Dependent_Schedule</td>\n",
       "      <td>1</td>\n",
       "      <td>E</td>\n",
       "      <td>$ 1,001 to $ 2,000</td>\n",
       "      <td>$     1 to $ 5,000</td>\n",
       "      <td>$     0 to $10,000</td>\n",
       "      <td>23</td>\n",
       "      <td>18.92</td>\n",
       "      <td>$96,170.20</td>\n",
       "      <td>$5,082.99</td>\n",
       "    </tr>\n",
       "    <tr>\n",
       "      <th>1</th>\n",
       "      <td>2015</td>\n",
       "      <td>1</td>\n",
       "      <td>2 yr Undergrad</td>\n",
       "      <td>1</td>\n",
       "      <td>5-INDEPENDENT</td>\n",
       "      <td>age 26 - 35</td>\n",
       "      <td>0</td>\n",
       "      <td>Independent_Schedule</td>\n",
       "      <td>1</td>\n",
       "      <td>M</td>\n",
       "      <td>$ 6,001 to $ 7,000</td>\n",
       "      <td>$ 5,001 to $10,000</td>\n",
       "      <td>$     0 to $10,000</td>\n",
       "      <td>10</td>\n",
       "      <td>6.20</td>\n",
       "      <td>$11,802.47</td>\n",
       "      <td>$1,903.62</td>\n",
       "    </tr>\n",
       "    <tr>\n",
       "      <th>2</th>\n",
       "      <td>2015</td>\n",
       "      <td>1</td>\n",
       "      <td>4 yr Undergrad</td>\n",
       "      <td>1</td>\n",
       "      <td>6-BUS. DEGREE</td>\n",
       "      <td>age 26 - 35</td>\n",
       "      <td>1</td>\n",
       "      <td>Dependent_Schedule</td>\n",
       "      <td>1</td>\n",
       "      <td>E</td>\n",
       "      <td>$ 2,001 to $ 3,000</td>\n",
       "      <td>$     1 to $ 5,000</td>\n",
       "      <td>$     0 to $10,000</td>\n",
       "      <td>1</td>\n",
       "      <td>0.17</td>\n",
       "      <td>$847.96</td>\n",
       "      <td>$4,988.00</td>\n",
       "    </tr>\n",
       "    <tr>\n",
       "      <th>3</th>\n",
       "      <td>2015</td>\n",
       "      <td>1</td>\n",
       "      <td>2 yr Undergrad</td>\n",
       "      <td>1</td>\n",
       "      <td>5-INDEPENDENT</td>\n",
       "      <td>under age 22</td>\n",
       "      <td>1</td>\n",
       "      <td>Dependent_Schedule</td>\n",
       "      <td>1</td>\n",
       "      <td>E</td>\n",
       "      <td>$12,001 to $13,000</td>\n",
       "      <td>$10,001 to $15,000</td>\n",
       "      <td>$10,001 to $20,000</td>\n",
       "      <td>12</td>\n",
       "      <td>10.30</td>\n",
       "      <td>$48,704.45</td>\n",
       "      <td>$4,728.59</td>\n",
       "    </tr>\n",
       "    <tr>\n",
       "      <th>4</th>\n",
       "      <td>2015</td>\n",
       "      <td>1</td>\n",
       "      <td>2 yr Undergrad</td>\n",
       "      <td>1</td>\n",
       "      <td>5-INDEPENDENT</td>\n",
       "      <td>age 26 - 35</td>\n",
       "      <td>0</td>\n",
       "      <td>Dependent_Schedule</td>\n",
       "      <td>1</td>\n",
       "      <td>E</td>\n",
       "      <td>$25,001 to $26,000</td>\n",
       "      <td>$25,001 to $30,000</td>\n",
       "      <td>$20,001 to $30,000</td>\n",
       "      <td>2</td>\n",
       "      <td>1.51</td>\n",
       "      <td>$4,951.94</td>\n",
       "      <td>$3,279.43</td>\n",
       "    </tr>\n",
       "  </tbody>\n",
       "</table>\n",
       "</div>"
      ],
      "text/plain": [
       "   year  undergrad           level  type          group           age  \\\n",
       "0  2015          1  4 yr Undergrad     1  6-BUS. DEGREE   age 22 - 25   \n",
       "1  2015          1  2 yr Undergrad     1  5-INDEPENDENT   age 26 - 35   \n",
       "2  2015          1  4 yr Undergrad     1  6-BUS. DEGREE   age 26 - 35   \n",
       "3  2015          1  2 yr Undergrad     1  5-INDEPENDENT  under age 22   \n",
       "4  2015          1  2 yr Undergrad     1  5-INDEPENDENT   age 26 - 35   \n",
       "\n",
       "   dependent              schedule  degree schedule letter  \\\n",
       "0          1    Dependent_Schedule       1               E   \n",
       "1          0  Independent_Schedule       1               M   \n",
       "2          1    Dependent_Schedule       1               E   \n",
       "3          1    Dependent_Schedule       1               E   \n",
       "4          0    Dependent_Schedule       1               E   \n",
       "\n",
       "             income_1            income_5           income_10  headcount  \\\n",
       "0  $ 1,001 to $ 2,000  $     1 to $ 5,000  $     0 to $10,000         23   \n",
       "1  $ 6,001 to $ 7,000  $ 5,001 to $10,000  $     0 to $10,000         10   \n",
       "2  $ 2,001 to $ 3,000  $     1 to $ 5,000  $     0 to $10,000          1   \n",
       "3  $12,001 to $13,000  $10,001 to $15,000  $10,001 to $20,000         12   \n",
       "4  $25,001 to $26,000  $25,001 to $30,000  $20,001 to $30,000          2   \n",
       "\n",
       "     fte      dollars award_per_fte  \n",
       "0  18.92  $96,170.20     $5,082.99   \n",
       "1   6.20  $11,802.47     $1,903.62   \n",
       "2   0.17     $847.96     $4,988.00   \n",
       "3  10.30  $48,704.45     $4,728.59   \n",
       "4   1.51   $4,951.94     $3,279.43   "
      ]
     },
     "execution_count": 192,
     "metadata": {},
     "output_type": "execute_result"
    }
   ],
   "source": [
    "tap_clean.head()"
   ]
  },
  {
   "cell_type": "markdown",
   "metadata": {},
   "source": [
    "### Categorial feature transformation via one-hot encoding"
   ]
  },
  {
   "cell_type": "markdown",
   "metadata": {},
   "source": [
    "**TAP Level of Study**"
   ]
  },
  {
   "cell_type": "markdown",
   "metadata": {},
   "source": [
    "The TAP Level of Study feature indicates the applicant's current level of academic studies: 2 year undergrad, 4 year undergrad, 5 year undergrad, graduate school, or STAP (Supplemental Tuition Assistance Program), which is a form of authorized aid for remedial courses.\n",
    "\n",
    "We clean the data via one-hot encoding below."
   ]
  },
  {
   "cell_type": "code",
   "execution_count": 193,
   "metadata": {},
   "outputs": [
    {
     "name": "stdout",
     "output_type": "stream",
     "text": [
      "level\n",
      "2 yr Undergrad    93450\n",
      "4 yr Undergrad    80888\n",
      "5 yr Undergrad    10733\n",
      "Grad               5690\n",
      "STAP                203\n",
      "dtype: int64\n",
      "190964\n"
     ]
    }
   ],
   "source": [
    "# clean the level column and transform with one-hot encoding\n",
    "print(tap_clean.groupby('level').size())\n",
    "print(np.sum(tap_clean.groupby('level').size()))"
   ]
  },
  {
   "cell_type": "code",
   "execution_count": 194,
   "metadata": {},
   "outputs": [
    {
     "data": {
      "text/plain": [
       "190964"
      ]
     },
     "execution_count": 194,
     "metadata": {},
     "output_type": "execute_result"
    }
   ],
   "source": [
    "# one-hot encode for TAP level of study\n",
    "tap_clean['level'] = tap_clean['level'].str.strip()\n",
    "\n",
    "tap_clean['level_2'] = tap_clean['level'].apply(lambda x: 1 if x == '2 yr Undergrad' else 0) # for 2 year undergrad\n",
    "tap_clean['level_4'] = tap_clean['level'].apply(lambda x: 1 if x == '4 yr Undergrad' else 0) # for 4 year undergrad\n",
    "tap_clean['level_5'] = tap_clean['level'].apply(lambda x: 1 if x == '5 yr Undergrad' else 0) # for 5 year undergrad\n",
    "tap_clean['level_g'] = tap_clean['level'].apply(lambda x: 1 if x == 'Grad' else 0) # for graduate\n",
    "tap_clean['level_s'] = tap_clean['level'].apply(lambda x: 1 if x == 'STAP' else 0) # for STAP\n",
    "\n",
    "np.sum(tap_clean['level_2']==1) + np.sum(tap_clean['level_4']==1) + np.sum(tap_clean['level_5']==1) + np.sum(tap_clean['level_g']==1) + np.sum(tap_clean['level_s']==1)"
   ]
  },
  {
   "cell_type": "markdown",
   "metadata": {},
   "source": [
    "**TAP Sector Group**\n",
    "\n",
    "The TAP Sector Group feature encodes for the type of institution within New York state that the application is for: \n",
    "* 1-CUNY SR = CUNY Senior Colleges \n",
    "* 2-CUNY CC = CUNY Community Colleges \n",
    "* 3-SUNY SO = SUNY State Operated \n",
    "* 4-SUNY CC = SUNY Community Colleges \n",
    "* 5-INDEPENDENT = Independent Colleges \n",
    "* 6-BUS. DEGREE = Business Degree Granting Institutions \n",
    "* 7-BUS. NON-DEG = Non-Degree Business Schools \n",
    "* 8-OTHER = All Other Institutions \n",
    "* 9-CHAPTER XXII = Chapter XXII TAP Schools\n",
    "\n",
    "Again, like above, we one-hot encode for the sector group."
   ]
  },
  {
   "cell_type": "code",
   "execution_count": 195,
   "metadata": {},
   "outputs": [
    {
     "name": "stdout",
     "output_type": "stream",
     "text": [
      "group\n",
      "1-CUNY SR         28477\n",
      "2-CUNY CC         13686\n",
      "3-SUNY SO         40899\n",
      "4-SUNY CC         22744\n",
      "5-INDEPENDENT     42618\n",
      "6-BUS. DEGREE     30544\n",
      "7-BUS. NON-DEG     5353\n",
      "8-OTHER            5414\n",
      "9-CHAPTER XXII     1229\n",
      "dtype: int64\n",
      "190964\n"
     ]
    }
   ],
   "source": [
    "# clean the level column and transform with one-hot encoding\n",
    "print(tap_clean.groupby('group').size())\n",
    "print(np.sum(tap_clean.groupby('group').size()))"
   ]
  },
  {
   "cell_type": "code",
   "execution_count": 196,
   "metadata": {
    "scrolled": true
   },
   "outputs": [
    {
     "data": {
      "text/plain": [
       "190964"
      ]
     },
     "execution_count": 196,
     "metadata": {},
     "output_type": "execute_result"
    }
   ],
   "source": [
    "# one-hot encode for TAP sector group\n",
    "tap_clean['group'] = tap_clean['group'].str.strip()\n",
    "\n",
    "tap_clean['group_1'] = tap_clean['group'].apply(lambda x: 1 if x == '1-CUNY SR' else 0)\n",
    "tap_clean['group_2'] = tap_clean['group'].apply(lambda x: 1 if x == '2-CUNY CC' else 0)\n",
    "tap_clean['group_3'] = tap_clean['group'].apply(lambda x: 1 if x == '3-SUNY SO' else 0)\n",
    "tap_clean['group_4'] = tap_clean['group'].apply(lambda x: 1 if x == '4-SUNY CC' else 0)\n",
    "tap_clean['group_5'] = tap_clean['group'].apply(lambda x: 1 if x == '5-INDEPENDENT' else 0)\n",
    "tap_clean['group_6'] = tap_clean['group'].apply(lambda x: 1 if x == '6-BUS. DEGREE' else 0)\n",
    "tap_clean['group_7'] = tap_clean['group'].apply(lambda x: 1 if x == '7-BUS. NON-DEG' else 0)\n",
    "tap_clean['group_8'] = tap_clean['group'].apply(lambda x: 1 if x == '8-OTHER' else 0)\n",
    "tap_clean['group_9'] = tap_clean['group'].apply(lambda x: 1 if x == '9-CHAPTER XXII' else 0)\n",
    "\n",
    "np.sum(tap_clean['group_1']==1) + np.sum(tap_clean['group_2']==1) + np.sum(tap_clean['group_3']==1) + np.sum(tap_clean['group_4']==1) + np.sum(tap_clean['group_5']==1) + np.sum(tap_clean['group_6']==1) + np.sum(tap_clean['group_7']==1) + np.sum(tap_clean['group_8']==1) + np.sum(tap_clean['group_9']==1) "
   ]
  },
  {
   "cell_type": "markdown",
   "metadata": {},
   "source": [
    "**Recipient Age Group**\n",
    "\n",
    "The Recipient Age Group feature encodes for the age group of the applicant: \n",
    "* age 22 - 25\n",
    "* age 26 - 35\n",
    "* under age 22\n",
    "* age 36 - 50\n",
    "* over age 50\n",
    "\n",
    "Again, like above, we one-hot encode for the age group."
   ]
  },
  {
   "cell_type": "code",
   "execution_count": 197,
   "metadata": {},
   "outputs": [
    {
     "name": "stdout",
     "output_type": "stream",
     "text": [
      "age\n",
      "age 22 - 25     46902\n",
      "age 26 - 35     52913\n",
      "age 36 - 50     36267\n",
      "over age 50     15338\n",
      "under age 22    39544\n",
      "dtype: int64\n",
      "190964\n"
     ]
    }
   ],
   "source": [
    "# clean the age group and transform with one-hot encoding\n",
    "print(tap_clean.groupby('age').size())\n",
    "print(np.sum(tap_clean.groupby('age').size()))"
   ]
  },
  {
   "cell_type": "code",
   "execution_count": 198,
   "metadata": {},
   "outputs": [
    {
     "data": {
      "text/plain": [
       "190964"
      ]
     },
     "execution_count": 198,
     "metadata": {},
     "output_type": "execute_result"
    }
   ],
   "source": [
    "# one-hot encode for age group\n",
    "tap_clean['age'] = tap_clean['age'].str.strip()\n",
    "\n",
    "tap_clean['age_22'] = tap_clean['age'].apply(lambda x: 1 if x == 'age 22 - 25' else 0)\n",
    "tap_clean['age_26'] = tap_clean['age'].apply(lambda x: 1 if x == 'age 26 - 35' else 0)\n",
    "tap_clean['age_36'] = tap_clean['age'].apply(lambda x: 1 if x == 'age 36 - 50' else 0)\n",
    "tap_clean['age_o50'] = tap_clean['age'].apply(lambda x: 1 if x == 'over age 50' else 0)\n",
    "tap_clean['age_u22'] = tap_clean['age'].apply(lambda x: 1 if x == 'under age 22' else 0)\n",
    "\n",
    "np.sum(tap_clean['age_22']==1) + np.sum(tap_clean['age_26']==1) + np.sum(tap_clean['age_36']==1) + np.sum(tap_clean['age_o50']==1) + np.sum(tap_clean['age_u22']==1)"
   ]
  },
  {
   "cell_type": "markdown",
   "metadata": {},
   "source": [
    "**TAP Award Schedule**\n",
    "\n",
    "There are 3 award schedules: Dependent Schedule, Independent Schedule, or Married No Dependents Schedule\n",
    "The TAP Award Schedule feature describes the type (out of 3) of award schedule the applicant is applying for:\n",
    "* Dependent Schedule\n",
    "* Independent Schedule\n",
    "* Married No Dependents Schedule\n",
    "\n",
    "Again, like above, we one-hot encode for the award schedule. "
   ]
  },
  {
   "cell_type": "code",
   "execution_count": 199,
   "metadata": {},
   "outputs": [
    {
     "name": "stdout",
     "output_type": "stream",
     "text": [
      "schedule\n",
      "Dependent_Schedule       164602\n",
      "Independent_Schedule      18675\n",
      "Married_No_Dependents      7687\n",
      "dtype: int64\n",
      "190964\n"
     ]
    }
   ],
   "source": [
    "# clean the award schedule column and transform with one-hot encoding\n",
    "print(tap_clean.groupby('schedule').size())\n",
    "print(np.sum(tap_clean.groupby('schedule').size()))"
   ]
  },
  {
   "cell_type": "code",
   "execution_count": 200,
   "metadata": {},
   "outputs": [
    {
     "data": {
      "text/plain": [
       "190964"
      ]
     },
     "execution_count": 200,
     "metadata": {},
     "output_type": "execute_result"
    }
   ],
   "source": [
    "# one-hot encode for award schedule\n",
    "tap_clean['schedule'] = tap_clean['schedule'].str.strip()\n",
    "\n",
    "tap_clean['sched_dep'] = tap_clean['schedule'].apply(lambda x: 1 if x == 'Dependent_Schedule' else 0)\n",
    "tap_clean['sched_ind'] = tap_clean['schedule'].apply(lambda x: 1 if x == 'Independent_Schedule' else 0)\n",
    "tap_clean['sched_mar'] = tap_clean['schedule'].apply(lambda x: 1 if x == 'Married_No_Dependents' else 0)\n",
    "\n",
    "sum(tap_clean['sched_dep']==1) + sum(tap_clean['sched_ind']==1) + sum(tap_clean['sched_mar']==1)"
   ]
  },
  {
   "cell_type": "markdown",
   "metadata": {},
   "source": [
    "**TAP Schedule Letter**\n",
    "\n",
    "The TAP Schedule Letter feature defines the type of schedule the applicant is applying for, as defined by the TAP additional documentation.\n",
    "* A, C, D, E, F, G, H, K, L, M, P, U, V\n",
    "\n",
    "Again, like above, we one-hot encode for the schedule letter. "
   ]
  },
  {
   "cell_type": "code",
   "execution_count": 201,
   "metadata": {},
   "outputs": [
    {
     "name": "stdout",
     "output_type": "stream",
     "text": [
      "schedule letter\n",
      "A     21080\n",
      "C      7687\n",
      "D     37241\n",
      "E    101419\n",
      "F        27\n",
      "G        16\n",
      "H       305\n",
      "K      3086\n",
      "L      1870\n",
      "M     12461\n",
      "P        77\n",
      "U      4514\n",
      "V      1181\n",
      "dtype: int64\n",
      "190964\n"
     ]
    }
   ],
   "source": [
    "# clean the award schedule column and transform with one-hot encoding\n",
    "print(tap_clean.groupby('schedule letter').size())\n",
    "print(np.sum(tap_clean.groupby('schedule letter').size()))"
   ]
  },
  {
   "cell_type": "code",
   "execution_count": 202,
   "metadata": {},
   "outputs": [
    {
     "data": {
      "text/plain": [
       "190964"
      ]
     },
     "execution_count": 202,
     "metadata": {},
     "output_type": "execute_result"
    }
   ],
   "source": [
    "# one-hot encode for award schedule letter\n",
    "tap_clean['schedule letter'] = tap_clean['schedule letter'].str.strip()\n",
    "\n",
    "tap_clean['letter_A'] = tap_clean['schedule letter'].apply(lambda x: 1 if x == 'A' else 0)\n",
    "tap_clean['letter_C'] = tap_clean['schedule letter'].apply(lambda x: 1 if x == 'C' else 0)\n",
    "tap_clean['letter_D'] = tap_clean['schedule letter'].apply(lambda x: 1 if x == 'D' else 0)\n",
    "tap_clean['letter_E'] = tap_clean['schedule letter'].apply(lambda x: 1 if x == 'E' else 0)\n",
    "tap_clean['letter_F'] = tap_clean['schedule letter'].apply(lambda x: 1 if x == 'F' else 0)\n",
    "tap_clean['letter_G'] = tap_clean['schedule letter'].apply(lambda x: 1 if x == 'G' else 0)\n",
    "tap_clean['letter_H'] = tap_clean['schedule letter'].apply(lambda x: 1 if x == 'H' else 0)\n",
    "tap_clean['letter_K'] = tap_clean['schedule letter'].apply(lambda x: 1 if x == 'K' else 0)\n",
    "tap_clean['letter_L'] = tap_clean['schedule letter'].apply(lambda x: 1 if x == 'L' else 0)\n",
    "tap_clean['letter_M'] = tap_clean['schedule letter'].apply(lambda x: 1 if x == 'M' else 0)\n",
    "tap_clean['letter_P'] = tap_clean['schedule letter'].apply(lambda x: 1 if x == 'P' else 0)\n",
    "tap_clean['letter_U'] = tap_clean['schedule letter'].apply(lambda x: 1 if x == 'U' else 0)\n",
    "tap_clean['letter_V'] = tap_clean['schedule letter'].apply(lambda x: 1 if x == 'V' else 0)\n",
    "\n",
    "\n",
    "sum(tap_clean['letter_A']==1) + sum(tap_clean['letter_C']==1) + sum(tap_clean['letter_D']==1) + sum(tap_clean['letter_E']==1) + sum(tap_clean['letter_F']==1) + sum(tap_clean['letter_G']==1) + sum(tap_clean['letter_H']==1) +sum(tap_clean['letter_K']==1) + sum(tap_clean['letter_L']==1) + sum(tap_clean['letter_M']==1) + sum(tap_clean['letter_P']==1) + sum(tap_clean['letter_U']==1) + sum(tap_clean['letter_V']==1)  "
   ]
  },
  {
   "cell_type": "code",
   "execution_count": 203,
   "metadata": {},
   "outputs": [],
   "source": [
    "# delete columns that were one-hot-encoded for\n",
    "tap_clean.drop('level', axis=1, inplace=True)\n",
    "tap_clean.drop('group', axis=1, inplace=True)\n",
    "tap_clean.drop('age', axis=1, inplace=True)\n",
    "tap_clean.drop('schedule', axis=1, inplace=True)\n",
    "tap_clean.drop('schedule letter', axis=1, inplace=True)"
   ]
  },
  {
   "cell_type": "code",
   "execution_count": null,
   "metadata": {
    "collapsed": true
   },
   "outputs": [],
   "source": []
  },
  {
   "cell_type": "markdown",
   "metadata": {},
   "source": [
    "**Income by $1,000 Range**"
   ]
  },
  {
   "cell_type": "markdown",
   "metadata": {},
   "source": [
    "The Income by \\$1,000 feature is the most granular feature in the income dataset, returning the applicant's income to the nearest \\$1,000."
   ]
  },
  {
   "cell_type": "code",
   "execution_count": 204,
   "metadata": {
    "collapsed": true
   },
   "outputs": [],
   "source": [
    "def avg_income(str):\n",
    "    if str==\"0\":\n",
    "        return 0\n",
    "    elif str.find(\"to\") == -1:\n",
    "        return 0\n",
    "    else:\n",
    "        str = str.replace(',', '')\n",
    "        str = str.replace('$', '')\n",
    "        i = str.find(\"to\")\n",
    "        num1 = int(str[0:i].strip())\n",
    "        num2 = int(str[i+2:len(str)].strip())\n",
    "        return (num1 + num2)/2.0"
   ]
  },
  {
   "cell_type": "code",
   "execution_count": 205,
   "metadata": {
    "scrolled": true
   },
   "outputs": [],
   "source": [
    "tap_clean['income_1'] = tap_clean['income_1'].str.strip()\n",
    "tap_clean['avg_income'] = tap_clean['income_1'].apply(avg_income)"
   ]
  },
  {
   "cell_type": "code",
   "execution_count": null,
   "metadata": {
    "collapsed": true
   },
   "outputs": [],
   "source": []
  },
  {
   "cell_type": "markdown",
   "metadata": {},
   "source": [
    "**TAP Recipient FTE**\n",
    "\n",
    "There exist two empty data for this feature, both corresponding to headcounts of 1, so we replace the empty values with 0.75 (since 1 headcount can only be equal to either 0.5 or 1 FTE.)"
   ]
  },
  {
   "cell_type": "code",
   "execution_count": 216,
   "metadata": {},
   "outputs": [],
   "source": [
    "mean_fte = 0.75\n",
    "tap_clean['fte'] = tap_clean['fte'].apply(lambda x: 0.75 if x == np.nan else x)"
   ]
  },
  {
   "cell_type": "code",
   "execution_count": 226,
   "metadata": {},
   "outputs": [],
   "source": [
    "tap_clean['dollars'] = tap_clean['dollars'].str.replace('$','')\n",
    "tap_clean['dollars'] = tap_clean['dollars'].str.replace(',','')\n",
    "tap_clean['dollars'] = tap_clean['dollars'].str.strip()\n",
    "tap_clean['dollars'] = tap_clean['dollars'].astype(np.float64)"
   ]
  },
  {
   "cell_type": "markdown",
   "metadata": {},
   "source": [
    "**TAP Award per FTE**"
   ]
  },
  {
   "cell_type": "code",
   "execution_count": 228,
   "metadata": {
    "collapsed": true
   },
   "outputs": [],
   "source": [
    "tap_clean['award_per_fte'] = tap_clean['dollars']/tap_clean['fte']"
   ]
  },
  {
   "cell_type": "code",
   "execution_count": 229,
   "metadata": {},
   "outputs": [
    {
     "data": {
      "text/plain": [
       "year               int64\n",
       "undergrad          int64\n",
       "type               int64\n",
       "dependent          int64\n",
       "degree             int64\n",
       "income_1          object\n",
       "income_5          object\n",
       "income_10         object\n",
       "headcount          int64\n",
       "fte              float64\n",
       "dollars          float64\n",
       "award_per_fte    float64\n",
       "level_2            int64\n",
       "level_4            int64\n",
       "level_5            int64\n",
       "level_g            int64\n",
       "level_s            int64\n",
       "group_1            int64\n",
       "group_2            int64\n",
       "group_3            int64\n",
       "group_4            int64\n",
       "group_5            int64\n",
       "group_6            int64\n",
       "group_7            int64\n",
       "group_8            int64\n",
       "group_9            int64\n",
       "age_22             int64\n",
       "age_26             int64\n",
       "age_36             int64\n",
       "age_o50            int64\n",
       "age_u22            int64\n",
       "sched_dep          int64\n",
       "sched_ind          int64\n",
       "sched_mar          int64\n",
       "letter_A           int64\n",
       "letter_C           int64\n",
       "letter_D           int64\n",
       "letter_E           int64\n",
       "letter_F           int64\n",
       "letter_G           int64\n",
       "letter_H           int64\n",
       "letter_K           int64\n",
       "letter_L           int64\n",
       "letter_M           int64\n",
       "letter_P           int64\n",
       "letter_U           int64\n",
       "letter_V           int64\n",
       "avg_income       float64\n",
       "dtype: object"
      ]
     },
     "execution_count": 229,
     "metadata": {},
     "output_type": "execute_result"
    }
   ],
   "source": [
    "tap_clean.dtypes"
   ]
  },
  {
   "cell_type": "code",
   "execution_count": null,
   "metadata": {
    "collapsed": true
   },
   "outputs": [],
   "source": []
  },
  {
   "cell_type": "code",
   "execution_count": null,
   "metadata": {
    "collapsed": true
   },
   "outputs": [],
   "source": []
  },
  {
   "cell_type": "code",
   "execution_count": null,
   "metadata": {
    "collapsed": true
   },
   "outputs": [],
   "source": []
  }
 ],
 "metadata": {
  "kernelspec": {
   "display_name": "Python 3",
   "language": "python",
   "name": "python3"
  },
  "language_info": {
   "codemirror_mode": {
    "name": "ipython",
    "version": 2
   },
   "file_extension": ".py",
   "mimetype": "text/x-python",
   "name": "python",
   "nbconvert_exporter": "python",
   "pygments_lexer": "ipython2",
   "version": "2.7.13"
  }
 },
 "nbformat": 4,
 "nbformat_minor": 2
}
