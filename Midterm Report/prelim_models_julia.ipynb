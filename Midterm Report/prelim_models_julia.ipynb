{
 "cells": [
  {
   "cell_type": "markdown",
   "metadata": {},
   "source": [
    "# Preliminary Models, Julia 0.60"
   ]
  },
  {
   "cell_type": "code",
   "execution_count": 1,
   "metadata": {},
   "outputs": [
    {
     "name": "stderr",
     "output_type": "stream",
     "text": [
      "WARNING: Method definition count() in module IterTools at deprecated.jl:56 overwritten in module Iterators at deprecated.jl:56.\n",
      "WARNING: Method definition count(Number) in module IterTools at deprecated.jl:56 overwritten in module Iterators at deprecated.jl:56.\n",
      "WARNING: Method definition count(Number, Number) in module IterTools at deprecated.jl:56 overwritten in module Iterators at deprecated.jl:56.\n"
     ]
    }
   ],
   "source": [
    "# bring packages into main namespace\n",
    "using DataFrames, Gadfly\n",
    "using ScikitLearn\n",
    "using ScikitLearn.CrossValidation: train_test_split"
   ]
  },
  {
   "cell_type": "code",
   "execution_count": 52,
   "metadata": {
    "collapsed": true
   },
   "outputs": [],
   "source": [
    "tap_raw = readtable(\"TAP_data.csv\");\n",
    "tap_clean = readtable(\"TAP_data_numeric.csv\");\n",
    "delete!(tap_clean, :x);"
   ]
  },
  {
   "cell_type": "code",
   "execution_count": 53,
   "metadata": {},
   "outputs": [
    {
     "data": {
      "text/plain": [
       "(190964, 42)"
      ]
     },
     "execution_count": 53,
     "metadata": {},
     "output_type": "execute_result"
    }
   ],
   "source": [
    "size(tap_clean)"
   ]
  },
  {
   "cell_type": "code",
   "execution_count": 54,
   "metadata": {
    "collapsed": true
   },
   "outputs": [],
   "source": [
    "data = convert(Array, tap_clean[:,:]);"
   ]
  },
  {
   "cell_type": "code",
   "execution_count": 55,
   "metadata": {
    "collapsed": true
   },
   "outputs": [],
   "source": [
    "# switch columns so that last column, award per fte, is the output column y\n",
    "function swapCols!(X, i, j)\n",
    "    for k = 1:size(X,1)\n",
    "        X[k,i], X[k,j] = X[k,j], X[k,i]\n",
    "    end\n",
    "end\n",
    "\n",
    "swapCols!(data, 6, 42)"
   ]
  },
  {
   "cell_type": "code",
   "execution_count": 56,
   "metadata": {},
   "outputs": [],
   "source": [
    "X = data[:,1:41];\n",
    "X = [copy(X) ones(size(X,1))]\n",
    "y = data[:,42];"
   ]
  },
  {
   "cell_type": "code",
   "execution_count": 57,
   "metadata": {},
   "outputs": [],
   "source": [
    "# split data into training, validation, test sets\n",
    "X_nontest, X_test, y_nontest, y_test = train_test_split(X, y, test_size=0.20, random_state=24);\n",
    "X_train, X_validate, y_train, y_validate = train_test_split(X_nontest, y_nontest, test_size=0.25, random_state=42);"
   ]
  },
  {
   "cell_type": "markdown",
   "metadata": {},
   "source": [
    "## Linear model fitting"
   ]
  },
  {
   "cell_type": "code",
   "execution_count": 64,
   "metadata": {},
   "outputs": [],
   "source": [
    "w = X_train\\y_train;"
   ]
  },
  {
   "cell_type": "code",
   "execution_count": 83,
   "metadata": {},
   "outputs": [
    {
     "data": {
      "text/plain": [
       "510.8487592507097"
      ]
     },
     "execution_count": 83,
     "metadata": {},
     "output_type": "execute_result"
    }
   ],
   "source": [
    "sum = 0\n",
    "for i=1:size(X_train,1)\n",
    "    sum += abs(y_train[i] - X_train[i,:]'*w)\n",
    "end\n",
    "\n",
    "abs_train_err = (sum +0.0)/size(X_train,1)"
   ]
  },
  {
   "cell_type": "code",
   "execution_count": 80,
   "metadata": {},
   "outputs": [
    {
     "data": {
      "text/plain": [
       "646.0824382681822"
      ]
     },
     "execution_count": 80,
     "metadata": {},
     "output_type": "execute_result"
    }
   ],
   "source": [
    "X_train[3333,:]'*w"
   ]
  },
  {
   "cell_type": "code",
   "execution_count": 81,
   "metadata": {},
   "outputs": [
    {
     "data": {
      "text/plain": [
       "547.5"
      ]
     },
     "execution_count": 81,
     "metadata": {},
     "output_type": "execute_result"
    }
   ],
   "source": [
    "y_train[3333]"
   ]
  },
  {
   "cell_type": "code",
   "execution_count": 69,
   "metadata": {
    "scrolled": true
   },
   "outputs": [
    {
     "data": {
      "text/plain": [
       "387817.5053848939"
      ]
     },
     "execution_count": 69,
     "metadata": {},
     "output_type": "execute_result"
    }
   ],
   "source": [
    "train_err = (norm(y_train - X_train*w)^2)/size(y_train,1)"
   ]
  },
  {
   "cell_type": "code",
   "execution_count": 70,
   "metadata": {},
   "outputs": [
    {
     "data": {
      "text/plain": [
       "388896.69734040124"
      ]
     },
     "execution_count": 70,
     "metadata": {},
     "output_type": "execute_result"
    }
   ],
   "source": [
    "valid_err = (norm(y_validate - X_validate*w)^2)/size(y_validate,1)"
   ]
  },
  {
   "cell_type": "code",
   "execution_count": 60,
   "metadata": {
    "scrolled": true
   },
   "outputs": [
    {
     "data": {
      "text/plain": [
       "15-element Array{Float64,1}:\n",
       "    31.2125   \n",
       " -8189.49     \n",
       " -3857.88     \n",
       "     5.79992  \n",
       " -4983.59     \n",
       "    -0.0630094\n",
       " -4616.6      \n",
       " -4561.61     \n",
       " -4512.14     \n",
       " -4665.06     \n",
       " -5994.98     \n",
       " -4963.06     \n",
       " -5447.06     \n",
       " -4848.82     \n",
       " -5233.58     "
      ]
     },
     "execution_count": 60,
     "metadata": {},
     "output_type": "execute_result"
    }
   ],
   "source": [
    "w[1:15]"
   ]
  },
  {
   "cell_type": "code",
   "execution_count": 61,
   "metadata": {},
   "outputs": [
    {
     "data": {
      "text/plain": [
       "15-element Array{Float64,1}:\n",
       "   -781.694\n",
       "   -794.479\n",
       "   -656.586\n",
       "   -880.359\n",
       "   -744.762\n",
       "  -4858.87 \n",
       "  -4881.45 \n",
       "  -4887.33 \n",
       "  -4883.66 \n",
       "  -4839.07 \n",
       " -10513.8  \n",
       "  -9884.23 \n",
       "  -3952.37 \n",
       "   3297.66 \n",
       "  -3952.37 "
      ]
     },
     "execution_count": 61,
     "metadata": {},
     "output_type": "execute_result"
    }
   ],
   "source": [
    "w[16:30]"
   ]
  },
  {
   "cell_type": "code",
   "execution_count": 63,
   "metadata": {},
   "outputs": [
    {
     "data": {
      "text/plain": [
       "12-element Array{Float64,1}:\n",
       "   3551.85\n",
       "   4005.33\n",
       "  -4570.87\n",
       "  -4723.99\n",
       "  -4480.69\n",
       "   1218.85\n",
       "   1384.88\n",
       "   1671.1 \n",
       "  -5591.25\n",
       "  -7593.09\n",
       "  -8567.81\n",
       " -24350.4 "
      ]
     },
     "execution_count": 63,
     "metadata": {},
     "output_type": "execute_result"
    }
   ],
   "source": [
    "w[31:42]"
   ]
  },
  {
   "cell_type": "code",
   "execution_count": null,
   "metadata": {
    "collapsed": true
   },
   "outputs": [],
   "source": []
  },
  {
   "cell_type": "code",
   "execution_count": 21,
   "metadata": {
    "collapsed": true
   },
   "outputs": [],
   "source": [
    "@sk_import linear_model: LinearRegression;"
   ]
  },
  {
   "cell_type": "code",
   "execution_count": 33,
   "metadata": {},
   "outputs": [],
   "source": [
    "model = LinearRegression(fit_intercept=true)\n",
    "ScikitLearn.fit!(model, X_train, y_train);"
   ]
  },
  {
   "cell_type": "code",
   "execution_count": 30,
   "metadata": {},
   "outputs": [
    {
     "data": {
      "text/plain": [
       "PyObject LinearRegression(copy_X=True, fit_intercept=True, n_jobs=1, normalize=False)"
      ]
     },
     "execution_count": 30,
     "metadata": {},
     "output_type": "execute_result"
    }
   ],
   "source": []
  },
  {
   "cell_type": "code",
   "execution_count": null,
   "metadata": {
    "collapsed": true
   },
   "outputs": [],
   "source": []
  }
 ],
 "metadata": {
  "kernelspec": {
   "display_name": "Julia 0.6.0",
   "language": "julia",
   "name": "julia-0.6"
  },
  "language_info": {
   "file_extension": ".jl",
   "mimetype": "application/julia",
   "name": "julia",
   "version": "0.6.0"
  }
 },
 "nbformat": 4,
 "nbformat_minor": 2
}
